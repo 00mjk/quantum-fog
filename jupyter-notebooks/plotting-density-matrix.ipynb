{
 "cells": [
  {
   "cell_type": "markdown",
   "metadata": {},
   "source": [
    "## Tests of code for plotting probability distributions and density matrices"
   ]
  },
  {
   "cell_type": "code",
   "execution_count": 3,
   "metadata": {
    "collapsed": true
   },
   "outputs": [],
   "source": [
    "import pandas as pd\n",
    "import numpy as np\n",
    "import matplotlib.pyplot as plt"
   ]
  },
  {
   "cell_type": "markdown",
   "metadata": {
    "collapsed": true
   },
   "source": [
    "Define pandas dataframe for a probability distribution"
   ]
  },
  {
   "cell_type": "code",
   "execution_count": 4,
   "metadata": {
    "collapsed": false
   },
   "outputs": [
    {
     "data": {
      "text/html": [
       "<div>\n",
       "<table border=\"1\" class=\"dataframe\">\n",
       "  <thead>\n",
       "    <tr style=\"text-align: right;\">\n",
       "      <th></th>\n",
       "      <th>0</th>\n",
       "    </tr>\n",
       "  </thead>\n",
       "  <tbody>\n",
       "    <tr>\n",
       "      <th>Apple</th>\n",
       "      <td>0.1</td>\n",
       "    </tr>\n",
       "    <tr>\n",
       "      <th>Strawberry</th>\n",
       "      <td>0.3</td>\n",
       "    </tr>\n",
       "    <tr>\n",
       "      <th>Coconut</th>\n",
       "      <td>0.6</td>\n",
       "    </tr>\n",
       "  </tbody>\n",
       "</table>\n",
       "</div>"
      ],
      "text/plain": [
       "              0\n",
       "Apple       0.1\n",
       "Strawberry  0.3\n",
       "Coconut     0.6"
      ]
     },
     "execution_count": 4,
     "metadata": {},
     "output_type": "execute_result"
    }
   ],
   "source": [
    "states = ['Apple', 'Strawberry','Coconut']\n",
    "pd_df = pd.DataFrame(np.array([.1, .3, .6]), index = states)\n",
    "pd_df"
   ]
  },
  {
   "cell_type": "markdown",
   "metadata": {},
   "source": [
    "Define pandas dataframe for a density matrix"
   ]
  },
  {
   "cell_type": "code",
   "execution_count": 5,
   "metadata": {
    "collapsed": false
   },
   "outputs": [
    {
     "data": {
      "text/plain": [
       "array([[ 0.2+0.j ,  2.0+1.j ,  0.3-0.2j],\n",
       "       [ 2.0-1.j ,  0.3+0.j ,  0.4+0.7j],\n",
       "       [ 0.3+0.2j,  0.4-0.7j,  0.5+0.j ]])"
      ]
     },
     "execution_count": 5,
     "metadata": {},
     "output_type": "execute_result"
    }
   ],
   "source": [
    "z01 = 2+1j*1\n",
    "z02 = .3-1j*.2\n",
    "z12 = .4+1j*.7\n",
    "z01c, z02c, z12c = np.conjugate([z01, z02, z12])\n",
    "rho_arr = np.array([[.2, z01, z02],\n",
    "                    [z01c, .3, z12],\n",
    "                    [z02c, z12c, .5]])\n",
    "rho_arr"
   ]
  },
  {
   "cell_type": "code",
   "execution_count": 6,
   "metadata": {
    "collapsed": false
   },
   "outputs": [
    {
     "data": {
      "text/html": [
       "<div>\n",
       "<table border=\"1\" class=\"dataframe\">\n",
       "  <thead>\n",
       "    <tr style=\"text-align: right;\">\n",
       "      <th></th>\n",
       "      <th>Apple</th>\n",
       "      <th>Strawberry</th>\n",
       "      <th>Coconut</th>\n",
       "    </tr>\n",
       "  </thead>\n",
       "  <tbody>\n",
       "    <tr>\n",
       "      <th>Apple</th>\n",
       "      <td>(0.2+0j)</td>\n",
       "      <td>(2+1j)</td>\n",
       "      <td>(0.3-0.2j)</td>\n",
       "    </tr>\n",
       "    <tr>\n",
       "      <th>Strawberry</th>\n",
       "      <td>(2-1j)</td>\n",
       "      <td>(0.3+0j)</td>\n",
       "      <td>(0.4+0.7j)</td>\n",
       "    </tr>\n",
       "    <tr>\n",
       "      <th>Coconut</th>\n",
       "      <td>(0.3+0.2j)</td>\n",
       "      <td>(0.4-0.7j)</td>\n",
       "      <td>(0.5+0j)</td>\n",
       "    </tr>\n",
       "  </tbody>\n",
       "</table>\n",
       "</div>"
      ],
      "text/plain": [
       "                 Apple  Strawberry     Coconut\n",
       "Apple         (0.2+0j)      (2+1j)  (0.3-0.2j)\n",
       "Strawberry      (2-1j)    (0.3+0j)  (0.4+0.7j)\n",
       "Coconut     (0.3+0.2j)  (0.4-0.7j)    (0.5+0j)"
      ]
     },
     "execution_count": 6,
     "metadata": {},
     "output_type": "execute_result"
    }
   ],
   "source": [
    "states = ['Apple', 'Strawberry','Coconut']\n",
    "rho_df = pd.DataFrame(rho_arr, columns = states, index = states)\n",
    "rho_df"
   ]
  },
  {
   "cell_type": "markdown",
   "metadata": {},
   "source": [
    "Plot multiple probability distributions"
   ]
  },
  {
   "cell_type": "code",
   "execution_count": 9,
   "metadata": {
    "collapsed": false
   },
   "outputs": [
    {
     "data": {
      "image/png": "[encoded data removed]",
      "text/plain": [
       "<matplotlib.figure.Figure at 0x7f8967ca8d50>"
      ]
     },
     "metadata": {},
     "output_type": "display_data"
    }
   ],
   "source": [
    "node_names = ['Day1', 'Day2']\n",
    "num_nodes = len(node_names)\n",
    "pd_df_list = [pd_df, pd_df]\n",
    "\n",
    "def single_pd(ax, node_name, pd_df):\n",
    "        y_pos = np.arange(len(pd_df.index)) +.5\n",
    "        plt.sca(ax)\n",
    "        plt.yticks(y_pos, pd_df.index)\n",
    "        ax.invert_yaxis()\n",
    "        \n",
    "        ax.set_xticks([0, .25, .5, .75, 1])\n",
    "        ax.set_xlim(0, 1)\n",
    "        \n",
    "        ax.grid(True)\n",
    "        ax.set_title(node_name)\n",
    "        ax.barh(y_pos, pd_df.values, align='center')\n",
    "plt.close('all')\n",
    "fig, ax_list = plt.subplots(nrows=num_nodes, ncols=1)\n",
    "for k, vtx in enumerate(node_names):\n",
    "    single_pd(ax_list[k], vtx, pd_df_list[k])\n",
    "plt.tight_layout()"
   ]
  },
  {
   "cell_type": "markdown",
   "metadata": {},
   "source": [
    "Plot multiple density matrices"
   ]
  },
  {
   "cell_type": "code",
   "execution_count": 8,
   "metadata": {
    "collapsed": false
   },
   "outputs": [
    {
     "name": "stdout",
     "output_type": "stream",
     "text": [
      "[[ 0.  1.  2.]\n",
      " [ 0.  1.  2.]\n",
      " [ 0.  1.  2.]]\n",
      "[[ 0.  0.  0.]\n",
      " [ 1.  1.  1.]\n",
      " [ 2.  2.  2.]]\n",
      "[[ 0.  1.  2.]\n",
      " [ 0.  1.  2.]\n",
      " [ 0.  1.  2.]]\n",
      "[[ 0.  0.  0.]\n",
      " [ 1.  1.  1.]\n",
      " [ 2.  2.  2.]]\n"
     ]
    },
    {
     "data": {
      "image/png": "[encoded data removed]",
      "text/plain": [
       "<matplotlib.figure.Figure at 0x7f8967c45590>"
      ]
     },
     "metadata": {},
     "output_type": "display_data"
    }
   ],
   "source": [
    "node_names = ['Day1', 'Day2']\n",
    "num_nodes = len(node_names)\n",
    "rho_df_list = [rho_df, rho_df]\n",
    "\n",
    "def single_rho(ax, node_name, rho_df):\n",
    "    states = rho_df.index\n",
    "    num_sts = len(states)\n",
    "    x = np.linspace(0, num_sts-1, num_sts)\n",
    "    y = x\n",
    "    xx, yy = np.meshgrid(x, y)\n",
    "    print(xx)\n",
    "    print(yy)\n",
    "    \n",
    "    ax.set_xlim(-1, num_sts)\n",
    "    ax.set_xticks(np.arange(-1, num_sts+1))\n",
    "    ax.xaxis.tick_top()\n",
    "    \n",
    "    ax.set_ylim(-1, num_sts)\n",
    "    ax.set_yticks(np.arange(-1, num_sts+1))\n",
    "    ax.invert_yaxis()\n",
    "    \n",
    "    ax.set_aspect('equal', adjustable='box')\n",
    "    ax.set_title(node_name, y=1.2)\n",
    "\n",
    "    for k, nom in enumerate(states):\n",
    "        ax.annotate(str(k) + ': ' + nom, xy=(num_sts+.25, k), annotation_clip=False)\n",
    "    \n",
    "    ax.quiver(xx, yy, rho_df.values.real, rho_df.values.imag, scale=1, units='x')\n",
    "    \n",
    "plt.close('all')\n",
    "fig, ax_list = plt.subplots(nrows=num_nodes, ncols=1)\n",
    "for k, vtx in enumerate(node_names):\n",
    "    single_rho(ax_list[k], vtx, rho_df_list[k])\n",
    "plt.tight_layout()"
   ]
  }
 ],
 "metadata": {
  "kernelspec": {
   "display_name": "Python 2 (SageMath)",
   "language": "python",
   "name": "python2"
  },
  "language_info": {
   "codemirror_mode": {
    "name": "ipython",
    "version": 2
   },
   "file_extension": ".py",
   "mimetype": "text/x-python",
   "name": "python",
   "nbconvert_exporter": "python",
   "pygments_lexer": "ipython2",
   "version": "2.7.10"
  }
 },
 "nbformat": 4,
 "nbformat_minor": 0
}
