{
 "cells": [
  {
   "cell_type": "markdown",
   "metadata": {},
   "source": [
    "## Tests of code for plotting probability distributions and density matrices"
   ]
  },
  {
   "cell_type": "code",
   "execution_count": 1,
   "metadata": {
    "collapsed": true
   },
   "outputs": [],
   "source": [
    "import pandas as pd\n",
    "import numpy as np\n",
    "import matplotlib.pyplot as plt"
   ]
  },
  {
   "cell_type": "markdown",
   "metadata": {},
   "source": [
    "Define pandas dataframe for a probability distribution"
   ]
  },
  {
   "cell_type": "code",
   "execution_count": 2,
   "metadata": {},
   "outputs": [
    {
     "data": {
      "text/html": [
       "<div>\n",
       "<table border=\"1\" class=\"dataframe\">\n",
       "  <thead>\n",
       "    <tr style=\"text-align: right;\">\n",
       "      <th></th>\n",
       "      <th>0</th>\n",
       "    </tr>\n",
       "  </thead>\n",
       "  <tbody>\n",
       "    <tr>\n",
       "      <th>Apple</th>\n",
       "      <td>0.1</td>\n",
       "    </tr>\n",
       "    <tr>\n",
       "      <th>Strawberry</th>\n",
       "      <td>0.3</td>\n",
       "    </tr>\n",
       "    <tr>\n",
       "      <th>Coconut</th>\n",
       "      <td>0.6</td>\n",
       "    </tr>\n",
       "  </tbody>\n",
       "</table>\n",
       "</div>"
      ],
      "text/plain": [
       "              0\n",
       "Apple       0.1\n",
       "Strawberry  0.3\n",
       "Coconut     0.6"
      ]
     },
     "execution_count": 2,
     "metadata": {},
     "output_type": "execute_result"
    }
   ],
   "source": [
    "states = ['Apple', 'Strawberry','Coconut']\n",
    "pd_df = pd.DataFrame(np.array([.1, .3, .6]), index = states)\n",
    "pd_df"
   ]
  },
  {
   "cell_type": "markdown",
   "metadata": {},
   "source": [
    "Define pandas dataframe for a density matrix"
   ]
  },
  {
   "cell_type": "code",
   "execution_count": 3,
   "metadata": {},
   "outputs": [
    {
     "data": {
      "text/plain": [
       "array([[ 0.2+0.j ,  2.0+1.j ,  0.3-0.2j],\n",
       "       [ 2.0-1.j ,  0.3+0.j ,  0.4+0.7j],\n",
       "       [ 0.3+0.2j,  0.4-0.7j,  0.5+0.j ]])"
      ]
     },
     "execution_count": 3,
     "metadata": {},
     "output_type": "execute_result"
    }
   ],
   "source": [
    "z01 = 2+1j*1\n",
    "z02 = .3-1j*.2\n",
    "z12 = .4+1j*.7\n",
    "z01c, z02c, z12c = np.conjugate([z01, z02, z12])\n",
    "rho_arr = np.array([[.2, z01, z02],\n",
    "                    [z01c, .3, z12],\n",
    "                    [z02c, z12c, .5]])\n",
    "rho_arr"
   ]
  },
  {
   "cell_type": "code",
   "execution_count": 4,
   "metadata": {},
   "outputs": [
    {
     "data": {
      "text/html": [
       "<div>\n",
       "<table border=\"1\" class=\"dataframe\">\n",
       "  <thead>\n",
       "    <tr style=\"text-align: right;\">\n",
       "      <th></th>\n",
       "      <th>Apple</th>\n",
       "      <th>Strawberry</th>\n",
       "      <th>Coconut</th>\n",
       "    </tr>\n",
       "  </thead>\n",
       "  <tbody>\n",
       "    <tr>\n",
       "      <th>Apple</th>\n",
       "      <td>(0.2+0j)</td>\n",
       "      <td>(2+1j)</td>\n",
       "      <td>(0.3-0.2j)</td>\n",
       "    </tr>\n",
       "    <tr>\n",
       "      <th>Strawberry</th>\n",
       "      <td>(2-1j)</td>\n",
       "      <td>(0.3+0j)</td>\n",
       "      <td>(0.4+0.7j)</td>\n",
       "    </tr>\n",
       "    <tr>\n",
       "      <th>Coconut</th>\n",
       "      <td>(0.3+0.2j)</td>\n",
       "      <td>(0.4-0.7j)</td>\n",
       "      <td>(0.5+0j)</td>\n",
       "    </tr>\n",
       "  </tbody>\n",
       "</table>\n",
       "</div>"
      ],
      "text/plain": [
       "                 Apple  Strawberry     Coconut\n",
       "Apple         (0.2+0j)      (2+1j)  (0.3-0.2j)\n",
       "Strawberry      (2-1j)    (0.3+0j)  (0.4+0.7j)\n",
       "Coconut     (0.3+0.2j)  (0.4-0.7j)    (0.5+0j)"
      ]
     },
     "execution_count": 4,
     "metadata": {},
     "output_type": "execute_result"
    }
   ],
   "source": [
    "states = ['Apple', 'Strawberry','Coconut']\n",
    "rho_df = pd.DataFrame(rho_arr, columns = states, index = states)\n",
    "rho_df"
   ]
  },
  {
   "cell_type": "markdown",
   "metadata": {},
   "source": [
    "Plot multiple probability distributions"
   ]
  },
  {
   "cell_type": "code",
   "execution_count": 5,
   "metadata": {},
   "outputs": [
    {
     "data": {
      "image/png": "[encoded data removed]",
      "text/plain": [
       "<matplotlib.figure.Figure at 0x7fb240a68f60>"
      ]
     },
     "metadata": {},
     "output_type": "display_data"
    }
   ],
   "source": [
    "node_names = ['Day1', 'Day2']\n",
    "num_nodes = len(node_names)\n",
    "pd_df_list = [pd_df, pd_df]\n",
    "\n",
    "def single_pd(ax, node_name, pd_df):\n",
    "        y_pos = np.arange(len(pd_df.index)) +.5\n",
    "        plt.sca(ax)\n",
    "        plt.yticks(y_pos, pd_df.index)\n",
    "        ax.invert_yaxis()\n",
    "        \n",
    "        ax.set_xticks([0, .25, .5, .75, 1])\n",
    "        ax.set_xlim(0, 1)\n",
    "        \n",
    "        ax.grid(True)\n",
    "        ax.set_title(node_name)\n",
    "        width = list(itertools.chain.from_iterable(pd_df.values))\n",
    "        ax.barh(y_pos, width, align='center')\n",
    "plt.close('all')\n",
    "fig, ax_list = plt.subplots(nrows=num_nodes, ncols=1)\n",
    "for k, vtx in enumerate(node_names):\n",
    "    single_pd(ax_list[k], vtx, pd_df_list[k])\n",
    "plt.tight_layout()\n",
    "plt.show()"
   ]
  },
  {
   "cell_type": "markdown",
   "metadata": {},
   "source": [
    "Plot multiple density matrices"
   ]
  },
  {
   "cell_type": "code",
   "execution_count": 6,
   "metadata": {},
   "outputs": [
    {
     "name": "stdout",
     "output_type": "stream",
     "text": [
      "[[ 0.  1.  2.]\n",
      " [ 0.  1.  2.]\n",
      " [ 0.  1.  2.]]\n",
      "[[ 0.  0.  0.]\n",
      " [ 1.  1.  1.]\n",
      " [ 2.  2.  2.]]\n",
      "[[ 0.  1.  2.]\n",
      " [ 0.  1.  2.]\n",
      " [ 0.  1.  2.]]\n",
      "[[ 0.  0.  0.]\n",
      " [ 1.  1.  1.]\n",
      " [ 2.  2.  2.]]\n"
     ]
    },
    {
     "data": {
      "image/png": "[encoded data removed]",
      "text/plain": [
       "<matplotlib.figure.Figure at 0x7fb23d385748>"
      ]
     },
     "metadata": {},
     "output_type": "display_data"
    }
   ],
   "source": [
    "node_names = ['Day1', 'Day2']\n",
    "num_nodes = len(node_names)\n",
    "rho_df_list = [rho_df, rho_df]\n",
    "\n",
    "def single_rho(ax, node_name, rho_df):\n",
    "    states = rho_df.index\n",
    "    num_sts = len(states)\n",
    "    x = np.linspace(0, num_sts-1, num_sts)\n",
    "    y = x\n",
    "    xx, yy = np.meshgrid(x, y)\n",
    "    print(xx)\n",
    "    print(yy)\n",
    "    \n",
    "    ax.set_xlim(-1, num_sts)\n",
    "    ax.set_xticks(np.arange(0, num_sts))\n",
    "    ax.xaxis.tick_top()\n",
    "    \n",
    "    ax.set_ylim(-1, num_sts)\n",
    "    ax.set_yticks(np.arange(0, num_sts))\n",
    "    ax.invert_yaxis()\n",
    "    \n",
    "    ax.set_aspect('equal', adjustable='box')\n",
    "    ax.set_title(node_name, y=1.35)\n",
    "\n",
    "    for k, nom in enumerate(states):\n",
    "        ax.annotate(str(k) + ': ' + nom, xy=(num_sts+.25, k), annotation_clip=False)\n",
    "    \n",
    "    max_mag = np.max(np.absolute(rho_df.values))\n",
    "    q = ax.quiver(xx, yy, rho_df.values.real, rho_df.values.imag, scale=max_mag, units='x')\n",
    "    qk = plt.quiverkey(q, 0, -2.2 , max_mag, \n",
    "                       '= {:.2e}'.format(max_mag), labelpos='E', coordinates='data')\n",
    "    \n",
    "plt.close('all')\n",
    "fig, ax_list = plt.subplots(nrows=num_nodes, ncols=1)\n",
    "for k, vtx in enumerate(node_names):\n",
    "    single_rho(ax_list[k], vtx, rho_df_list[k])\n",
    "plt.tight_layout(pad=1)\n",
    "plt.show()"
   ]
  },
  {
   "cell_type": "code",
   "execution_count": null,
   "metadata": {
    "collapsed": true
   },
   "outputs": [],
   "source": []
  }
 ],
 "metadata": {
  "anaconda-cloud": {},
  "kernelspec": {
   "display_name": "Python 3",
   "language": "python",
   "name": "python3"
  },
  "language_info": {
   "codemirror_mode": {
    "name": "ipython",
    "version": 3
   },
   "file_extension": ".py",
   "mimetype": "text/x-python",
   "name": "python",
   "nbconvert_exporter": "python",
   "pygments_lexer": "ipython3",
   "version": "3.6.0"
  },
  "toc": {
   "colors": {
    "hover_highlight": "#DAA520",
    "running_highlight": "#FF0000",
    "selected_highlight": "#FFD700"
   },
   "moveMenuLeft": true,
   "nav_menu": {
    "height": "51px",
    "width": "252px"
   },
   "navigate_menu": true,
   "number_sections": true,
   "sideBar": true,
   "threshold": 4,
   "toc_cell": false,
   "toc_section_display": "block",
   "toc_window_display": false,
   "widenNotebook": false
  }
 },
 "nbformat": 4,
 "nbformat_minor": 1
}
