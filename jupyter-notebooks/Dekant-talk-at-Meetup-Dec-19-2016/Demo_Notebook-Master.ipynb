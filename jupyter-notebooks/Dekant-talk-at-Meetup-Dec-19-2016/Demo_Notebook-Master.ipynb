{
 "cells": [
  {
   "cell_type": "markdown",
   "metadata": {},
   "source": [
    "### First some house keeping, let's check for the system's Python path:"
   ]
  },
  {
   "cell_type": "code",
   "execution_count": 1,
   "metadata": {
    "collapsed": false
   },
   "outputs": [
    {
     "name": "stdout",
     "output_type": "stream",
     "text": [
      "/local/usr/anaconda3/bin/python\n"
     ]
    }
   ],
   "source": [
    "import sys;\n",
    "print(sys.executable)"
   ]
  },
  {
   "cell_type": "code",
   "execution_count": 2,
   "metadata": {
    "collapsed": false
   },
   "outputs": [
    {
     "name": "stdout",
     "output_type": "stream",
     "text": [
      "/home/rrtucci/Notebooks/quantum-fog\n"
     ]
    }
   ],
   "source": [
    "import os\n",
    "os.chdir('../..')\n",
    "qfog_sys_path=os.getcwd()\n",
    "print(qfog_sys_path)"
   ]
  },
  {
   "cell_type": "markdown",
   "metadata": {},
   "source": [
    "In order to be able to load local Quantum Fog python modules we need to add the current project path:"
   ]
  },
  {
   "cell_type": "code",
   "execution_count": 3,
   "metadata": {
    "collapsed": false
   },
   "outputs": [
    {
     "name": "stdout",
     "output_type": "stream",
     "text": [
      "['/home/rrtucci/Notebooks/quantum-fog', '/home/rrtucci/Notebooks/qubiter', '', '/local/usr/anaconda3/lib/python35.zip', '/local/usr/anaconda3/lib/python3.5', '/local/usr/anaconda3/lib/python3.5/plat-linux', '/local/usr/anaconda3/lib/python3.5/lib-dynload', '/local/usr/anaconda3/lib/python3.5/site-packages', '/local/usr/anaconda3/lib/python3.5/site-packages/Sphinx-1.4.6-py3.5.egg', '/local/usr/anaconda3/lib/python3.5/site-packages/setuptools-27.2.0-py3.5.egg', '/local/usr/anaconda3/lib/python3.5/site-packages/IPython/extensions', '/home/rrtucci/.ipython']\n"
     ]
    }
   ],
   "source": [
    "sys.path.insert(0,qfog_sys_path)\n",
    "print(sys.path)"
   ]
  },
  {
   "cell_type": "markdown",
   "metadata": {},
   "source": [
    "We need to import display module components that will allow us to produce richly formated output, and specify that we want our math plots as inline SVG."
   ]
  },
  {
   "cell_type": "code",
   "execution_count": 4,
   "metadata": {
    "collapsed": false
   },
   "outputs": [],
   "source": [
    "from IPython.display import (\n",
    "    display_pretty, display_html, display_jpeg, Image, SVG,\n",
    "    display_png, display_json, display_latex, display_svg, HTML, display\n",
    ")\n",
    "import matplotlib.pyplot as plt\n",
    "%matplotlib inline\n",
    "%config InlineBackend.figure_format = 'svg'"
   ]
  },
  {
   "cell_type": "markdown",
   "metadata": {},
   "source": [
    "Graphviz is an OS independent standard to define and render graphs, this module makes it accessible in Python."
   ]
  },
  {
   "cell_type": "code",
   "execution_count": null,
   "metadata": {
    "collapsed": true
   },
   "outputs": [],
   "source": [
    "from graphviz import Digraph, Source"
   ]
  },
  {
   "cell_type": "markdown",
   "metadata": {},
   "source": [
    "# Why Jupyter?"
   ]
  },
  {
   "cell_type": "markdown",
   "metadata": {},
   "source": [
    "This little demo is just to give an impression why Jupyter is awesome and catching on like fire."
   ]
  },
  {
   "cell_type": "code",
   "execution_count": null,
   "metadata": {
    "collapsed": false,
    "scrolled": true
   },
   "outputs": [],
   "source": [
    "import warnings\n",
    "warnings.filterwarnings(\"ignore\", module=\"matplotlib\")\n",
    "\n",
    "from __future__ import division\n",
    "\n",
    "import os, sys\n",
    "import numpy as np\n",
    "import pandas as pd\n",
    "import datetime as dt\n",
    "import random as rd\n",
    "\n",
    "from IPython.display import display\n",
    "from math import sin, cos, pi, sqrt\n",
    "\n",
    "import ezvis3d as v3d\n",
    "\n",
    "def z(x, y):\n",
    "    return 50+ sin(x/50) * cos(y/50) * 50\n",
    "\n",
    "x_min = 0\n",
    "x_max = 314\n",
    "x_num = 50\n",
    "\n",
    "x_rng = np.linspace(x_min, x_max, x_num)\n",
    "y_rng = x_rng\n",
    "li_data = [{'x': x, 'y': y, 'z': z(x, y)}\n",
    "            for y in y_rng\n",
    "            for x in x_rng]\n",
    "df_data = pd.DataFrame(li_data)\n",
    "\n",
    "g = v3d.Vis3d()\n",
    "g.width = '600px'\n",
    "g.height = '600px'\n",
    "g.style = 'surface'\n",
    "g.showPerspective = True\n",
    "g.showGrid = True\n",
    "g.showShadow = False\n",
    "g.keepAspectRatio = True\n",
    "g.verticalRatio = 0.7\n",
    "g.cameraPosition = {'horizontal' : 0.9,\n",
    "                    'vertical': 0.4,\n",
    "                    'distance': 1.5\n",
    "                   }\n",
    "\n",
    "g.plot(df_data, save=True)"
   ]
  },
  {
   "cell_type": "markdown",
   "metadata": {},
   "source": [
    "# On to Bayesian Networks!"
   ]
  },
  {
   "cell_type": "markdown",
   "metadata": {},
   "source": [
    "Now let's get into Bayesian Networks!<br><br>\n",
    "One of the simplest networks can be used to illustrate a puzzle that is almost as ubiquous in pop culture as Schrödinger's cat.\n",
    "\n",
    "The Monty Hall problem illustrates perfectly how difficult it is for humans to properly reason under uncertainty."
   ]
  },
  {
   "cell_type": "code",
   "execution_count": null,
   "metadata": {
    "collapsed": false
   },
   "outputs": [],
   "source": [
    "MH=Image(\"jupyter-notebooks/Dekant-talk-at-Meetup-Dec-19-2016/X-Mess_Monty_Hall.png\")\n",
    "display(MH)"
   ]
  },
  {
   "cell_type": "code",
   "execution_count": null,
   "metadata": {
    "collapsed": false
   },
   "outputs": [],
   "source": [
    "from graphs.BayesNet import *\n",
    "path_bif = './examples_cbnets/Monty_Hall.bif'\n",
    "bnet = BayesNet.read_bif(path_bif, False) # The flag value False indicates that this is a classical B-net\n",
    "path_dot = './examples_cbnets/Monty_Hall.dot'\n",
    "bnet.write_dot(path_dot)\n",
    "file = open(path_dot, 'r')#READING DOT FILE\n",
    "MHdot=file.read()\n",
    "Source(MHdot)"
   ]
  },
  {
   "cell_type": "code",
   "execution_count": null,
   "metadata": {
    "collapsed": false
   },
   "outputs": [],
   "source": [
    "import types\n",
    "for node in bnet.nodes:\n",
    "    print(\"name: \", node.name)\n",
    "    print(\"parents: \", [x.name for x in node.parents])\n",
    "    print(\"children: \", [x.name for x in node.children])\n",
    "    print(\"pot_arr: \\n\", node.potential.pot_arr)\n",
    "   \n",
    "    if isinstance(node.potential.pot_arr[0], float):\n",
    "        print(\"pot_arr: \\n\", [\"{:.1%}\".format(p) for p in node.potential.pot_arr])\n",
    "    else:\n",
    "        print(\"pot_arr: \\n\")\n",
    "        [print([[\"{:.0%}\".format(p) for p in b] for b in a]) for a in node.potential.pot_arr]\n",
    "    print(\"\\n\")"
   ]
  },
  {
   "cell_type": "markdown",
   "metadata": {},
   "source": [
    "To perform some inference on this B-Net we will need the list of the network's nodes:"
   ]
  },
  {
   "cell_type": "code",
   "execution_count": null,
   "metadata": {
    "collapsed": false
   },
   "outputs": [],
   "source": [
    "id_nums = sorted([node.id_num for node in bnet.nodes])\n",
    "node_list = [bnet.get_node_with_id_num(k) for k in id_nums]\n",
    "print(node_list)"
   ]
  },
  {
   "cell_type": "markdown",
   "metadata": {},
   "source": [
    "Now we can instantiate an Inference Engine. For small networks we can always brute force it. For larger ones Quantum Fog provides an MCMC (Markov Chain Monte Carlo) inference engine."
   ]
  },
  {
   "cell_type": "code",
   "execution_count": null,
   "metadata": {
    "collapsed": false
   },
   "outputs": [],
   "source": [
    "brute_eng = EnumerationEngine(bnet,verbose=True,print_format='HTML')"
   ]
  },
  {
   "cell_type": "markdown",
   "metadata": {},
   "source": [
    "Now we can enumerate the probabilities for all random variable combinations i.e. a full joint probability table."
   ]
  },
  {
   "cell_type": "code",
   "execution_count": null,
   "metadata": {
    "collapsed": false
   },
   "outputs": [],
   "source": [
    "brute_pot_list = brute_eng.get_unipot_list(node_list, null_events='None', number_format='Fraction')\n",
    "Source(MHdot)"
   ]
  },
  {
   "cell_type": "markdown",
   "metadata": {},
   "source": [
    "We can introduce evidence by hard-wiring the states of nodes. Since this reinitialized the graph we need to enumerate over the nodes again to get the current node list, used for marginalizing the probability distribution."
   ]
  },
  {
   "cell_type": "code",
   "execution_count": null,
   "metadata": {
    "collapsed": false
   },
   "outputs": [],
   "source": [
    "bnet.get_node_named(\"1st_Choice\").active_states = [1]\n",
    "bnet.get_node_named(\"Monty_Opens\").active_states = [0]\n",
    "bnet.get_node_named(\"Prize\").active_states = [0,1,2]\n",
    "brute_eng = EnumerationEngine(bnet,verbose=True,print_format='HTML')\n",
    "id_nums = sorted([node.id_num for node in bnet.nodes])\n",
    "node_list = [bnet.get_node_with_id_num(k) for k in id_nums]\n",
    "pot_list = brute_eng.get_unipot_list(node_list, null_events='None', number_format='Fraction', normalize=True)"
   ]
  },
  {
   "cell_type": "code",
   "execution_count": null,
   "metadata": {
    "collapsed": false
   },
   "outputs": [],
   "source": [
    "df=[p.pot_arr.tolist() for p in pot_list if p.focus_node.name == 'Prize']\n",
    "pd_df=pd.DataFrame(np.array(df[0]), index = [0,1,2])\n",
    "plt.figure(figsize=(5,2))\n",
    "ax_list = plt.gca()\n",
    "EnumerationEngine.single_pd(ax_list, 'Chance of Winning After Selecting Door 1 ', pd_df)\n",
    "plt.show()"
   ]
  },
  {
   "cell_type": "code",
   "execution_count": null,
   "metadata": {
    "collapsed": false
   },
   "outputs": [],
   "source": [
    "path_bif = './examples_cbnets/student.bif'\n",
    "bnet = BayesNet.read_bif(path_bif, False)\n",
    "path1 = './examples_cbnets/student.dot'\n",
    "file = open(path1, 'r')#READING DOT FILE\n",
    "text=file.read()\n",
    "Source(text)"
   ]
  },
  {
   "cell_type": "code",
   "execution_count": null,
   "metadata": {
    "collapsed": false
   },
   "outputs": [],
   "source": [
    "id_nums = sorted([node.id_num for node in bnet.nodes])\n",
    "node_list = [bnet.get_node_with_id_num(k) for k in id_nums]\n",
    "print(node_list)"
   ]
  },
  {
   "cell_type": "code",
   "execution_count": null,
   "metadata": {
    "collapsed": false
   },
   "outputs": [],
   "source": [
    "brute_eng = EnumerationEngine(bnet,verbose=True,print_format='HTML')\n",
    "id_nums = sorted([node.id_num for node in bnet.nodes])\n",
    "node_list = [bnet.get_node_with_id_num(k) for k in id_nums]\n",
    "pot_list = brute_eng.get_unipot_list(node_list, number_format='Percentage') # {:.2%}')\n",
    "Source(text)"
   ]
  },
  {
   "cell_type": "code",
   "execution_count": null,
   "metadata": {
    "collapsed": false
   },
   "outputs": [],
   "source": [
    "bnet.get_node_named(\"Letter\").active_states = [1]\n",
    "brute_eng = EnumerationEngine(bnet,verbose=True,print_format='HTML')\n",
    "id_nums = sorted([node.id_num for node in bnet.nodes])\n",
    "node_list = [bnet.get_node_with_id_num(k) for k in id_nums]\n",
    "pot_list = brute_eng.get_unipot_list(node_list, number_format='Percentage',normalize=True)\n",
    "Source(text)"
   ]
  },
  {
   "cell_type": "code",
   "execution_count": null,
   "metadata": {
    "collapsed": false
   },
   "outputs": [],
   "source": [
    "bnet.get_node_named(\"Grade\").active_states = [2]\n",
    "brute_eng = EnumerationEngine(bnet,verbose=True,print_format='HTML')\n",
    "id_nums = sorted([node.id_num for node in bnet.nodes])\n",
    "node_list = [bnet.get_node_with_id_num(k) for k in id_nums]\n",
    "pot_list = brute_eng.get_unipot_list(node_list, number_format='Percentage',normalize=True)\n",
    "Source(text)"
   ]
  },
  {
   "cell_type": "code",
   "execution_count": null,
   "metadata": {
    "collapsed": false
   },
   "outputs": [],
   "source": [
    "bnet.get_node_named(\"Intelligence\").active_states = [1]\n",
    "bnet.get_node_named(\"Grade\").active_states = [0]\n",
    "bnet.get_node_named(\"Grade\").active_states = [0]\n",
    "brute_eng = EnumerationEngine(bnet,verbose=True,print_format='HTML')\n",
    "id_nums = sorted([node.id_num for node in bnet.nodes])\n",
    "node_list = [bnet.get_node_with_id_num(k) for k in id_nums]\n",
    "pot_list = brute_eng.get_unipot_list(node_list, number_format='Percentage',normalize=True)\n",
    "Source(text)"
   ]
  },
  {
   "cell_type": "code",
   "execution_count": null,
   "metadata": {
    "collapsed": false
   },
   "outputs": [],
   "source": [
    "from graphs.BayesNet import *\n",
    "path_bif = './examples_cbnets/asia.bif'\n",
    "bnet = BayesNet.read_bif(path_bif, False) # The flag value False indicates that this is a classical B-net\n",
    "path_dot = './examples_cbnets/asia.dot'\n",
    "bnet.write_dot(path_dot)\n",
    "file = open(path_dot, 'r')#READING DOT FILE\n",
    "dot=file.read()\n",
    "Source(dot)"
   ]
  },
  {
   "cell_type": "code",
   "execution_count": null,
   "metadata": {
    "collapsed": false
   },
   "outputs": [],
   "source": [
    "from graphs.BayesNet import *\n",
    "path_bif = './examples_cbnets/earthquake.bif'\n",
    "bnet = BayesNet.read_bif(path_bif, False) # The flag value False indicates that this is a classical B-net\n",
    "path_dot = './examples_cbnets/earthquake.dot'\n",
    "bnet.write_dot(path_dot)\n",
    "file = open(path_dot, 'r')#READING DOT FILE\n",
    "dot=file.read()\n",
    "Source(dot)"
   ]
  },
  {
   "cell_type": "markdown",
   "metadata": {},
   "source": [
    "# Hamilton Principle And Feynman Path Integrals"
   ]
  },
  {
   "cell_type": "code",
   "execution_count": null,
   "metadata": {
    "collapsed": false
   },
   "outputs": [],
   "source": [
    "LA=SVG(\"jupyter-notebooks/Dekant-talk-at-Meetup-Dec-19-2016/Least_action_principle.svg\")\n",
    "display(LA)"
   ]
  },
  {
   "cell_type": "markdown",
   "metadata": {},
   "source": [
    "Action functional over generalized coordinates:\n",
    "$$ \\mathcal{S}[\\mathbf{q}] \\ \\stackrel{\\mathrm{def}}{=}\\  \n",
    "\\int_{t_1}^{t_2} L(\\mathbf{q}(t),\\dot{\\mathbf{q}}(t),t)\\, dt $$\n",
    "Variational Principle:\n",
    "$$ \\frac{\\delta \\mathcal{S}}{\\delta \\mathbf{q}(t)}=0 $$\n",
    "\n",
    "For a particle in a smooth potential, the path integral is approximated by zigzag paths, which in one dimension is a product of ordinary integrals. For the motion of the particle from position x<sub>a</sub> at time t<sub>a</sub> to x<sub>b</sub> at time t<sub>b</sub>, the time sequence\n",
    "\n",
    "$$ t_a=t_0<t_1<\\ldots<t_{n-1}<t_n<t_{n+1}=t_b $$\n",
    "\n",
    "can be divided up into n + 1 smaller segments t<sub>j</sub> − t<sub>j − 1</sub>, where j = 1,...,n + 1, of fixed duration\n",
    "\n",
    "$$ \\epsilon = \\Delta t=\\frac{t_b-t_a}{n+1}\\,. $$\n",
    "\n",
    "This process is called time-slicing.\n",
    "\n",
    "An approximation for the path integral can be computed as proportional to\n",
    "\n",
    "$$ \\int\\limits_{-\\infty}^{+\\infty}\\,\\ldots \\int\\limits_{-\\infty}^{+\\infty}\\,\n",
    "\\ \\exp \\left(\\frac{i}{\\hbar}\\int_{t_a}^{t_b} L\\big(x(t),v(t), t\\big)\\,dt\\right)\\,dx_0 \\, \\ldots \\, dx_n $$\n",
    "\n",
    "where L(x,v,t) is the Lagrangian of the one-dimensional system with position variable x(t) and velocity |v = ẋ(t) considered (see below), and dx<sub>j</sub> corresponds to the position at the j-th time step, if the time integral is approximated by a sum of n terms.<ref>For a simplified, step by step, derivation of the above relation see <a href=http://www.quantumfieldtheory.info/website_Chap18.pdf> Path Integrals in Quantum Theories: A Pedagogic 1st Step</a>."
   ]
  },
  {
   "cell_type": "code",
   "execution_count": null,
   "metadata": {
    "collapsed": false
   },
   "outputs": [],
   "source": [
    "DSS=SVG(\"jupyter-notebooks/Dekant-talk-at-Meetup-Dec-19-2016/Two-Slit_Experiment_Approximation.svg\")\n",
    "display(DSS)"
   ]
  },
  {
   "cell_type": "code",
   "execution_count": null,
   "metadata": {
    "collapsed": false
   },
   "outputs": [],
   "source": [
    "DS=Image(\"jupyter-notebooks/Dekant-talk-at-Meetup-Dec-19-2016/still_interference_dots_smear_boxes.jpg\")\n",
    "display(DS)"
   ]
  },
  {
   "cell_type": "markdown",
   "metadata": {},
   "source": [
    "Light has properties associated with a wave (e.g. interference and diffraction) and properties associated with particles (local interactions, quantised properties). For many of us, 'photon' connotes particles. So, thinking about a particular photon that gave rise to one of the clicks we heard, we may ask: which slit did it go through? And, if it went through a slit, why is there interference? How did it 'know' about the other slit?\n",
    "\n",
    "The difference between single and double slit patterns is readily explained using the wave model for light\n",
    "\n",
    "At a point of destructive interference (e.g. yellow rectangle at left), the electric field components from the two slits are 180° out of phase, so they cancel out, which gives zero intensity. And zero intensity means zero photons."
   ]
  },
  {
   "cell_type": "code",
   "execution_count": null,
   "metadata": {
    "collapsed": false
   },
   "outputs": [],
   "source": [
    "from graphs.BayesNet import *\n",
    "path_bif = './examples_qbnets/YoungDoubleSlit.bif'\n",
    "qbnet = BayesNet.read_bif(path_bif, True) # The flag value False indicates that this is a classical B-net\n",
    "path_dot = './examples_qbnets/YoungDoubleSlit.dot'\n",
    "qbnet.write_dot(path_dot)\n",
    "file = open(path_dot, 'r')#READING DOT FILE\n",
    "dot=file.read()\n",
    "Source(dot)"
   ]
  },
  {
   "cell_type": "markdown",
   "metadata": {},
   "source": [
    "This simple QB-Network can capture the seaming paradox of Young's double slit experiment. When we don't measure what path a photon takes than we don't condition on the nodes NL or NR (couter N for Left or Right slit)."
   ]
  },
  {
   "cell_type": "code",
   "execution_count": null,
   "metadata": {
    "collapsed": false
   },
   "outputs": [],
   "source": [
    "pd_df_list=[None] * 2\n",
    "id_nums = sorted([node.id_num for node in qbnet.nodes])\n",
    "node_list = [qbnet.get_node_with_id_num(k) for k in id_nums]\n",
    "\n",
    "# this is simpler but erratic\n",
    "# node_list = list(bnet.nodes)\n",
    "\n",
    "brute_eng = EnumerationEngine(qbnet, is_quantum=True, verbose=True,print_format='HTML')\n",
    "brute_pot_list = brute_eng.get_unipot_list(node_list)\n",
    "df=[p.pot_arr.tolist() for p in brute_pot_list if p.focus_node.name == 'Screen']\n",
    "pd_df_list[0]=pd.DataFrame(np.array(df[0]), index = ['Spot','Other'])\n",
    "[print(p) for p in brute_pot_list]"
   ]
  },
  {
   "cell_type": "markdown",
   "metadata": {},
   "source": [
    "We chose a Spot in the area of destructive interference (e.g. yellow rectangle at left in above photo). When no measurement i.e. conditioning on any of the slits is performed this means we have zero probability to find a photon in this area of the screen.\n",
    "\n",
    "Note we are now dealing with complex probability potentials, in the unconditioned case this means the total complex amplitude has to square to 1. Diviations form one give us an indication of the numerical stability of the QB-net inference."
   ]
  },
  {
   "cell_type": "code",
   "execution_count": null,
   "metadata": {
    "collapsed": false
   },
   "outputs": [],
   "source": [
    "0.710672061737**2+0.703526440298**2"
   ]
  },
  {
   "cell_type": "markdown",
   "metadata": {},
   "source": [
    "Now we restrict the possible Feynman paths by measuring if a photon goes through the left slit, i.e. setting the active state space of the NL node to 1 only."
   ]
  },
  {
   "cell_type": "code",
   "execution_count": null,
   "metadata": {
    "collapsed": false
   },
   "outputs": [],
   "source": [
    "qbnet.get_node_named(\"NL\").active_states = [1]\n",
    "id_nums = sorted([node.id_num for node in qbnet.nodes])\n",
    "node_list = [qbnet.get_node_with_id_num(k) for k in id_nums]\n",
    "\n",
    "# this is simpler but erratic\n",
    "# node_list = list(bnet.nodes)\n",
    "\n",
    "brute_eng = EnumerationEngine(qbnet, is_quantum=True, verbose=True,print_format='HTML')\n",
    "brute_pot_list = brute_eng.get_unipot_list(node_list)\n",
    "df=[p.pot_arr.tolist() for p in brute_pot_list if p.focus_node.name == 'Screen']\n",
    "pd_df_list[1]=pd.DataFrame(np.array(df[0]), index = ['Spot','Other'])\n",
    "[print(p) for p in brute_pot_list]\n",
    "print(pd_df_list[1])"
   ]
  },
  {
   "cell_type": "code",
   "execution_count": null,
   "metadata": {
    "collapsed": false
   },
   "outputs": [],
   "source": [
    "scenarios = ['No Measurement', 'Measurement on Left Screen']\n",
    "fig, ax_list = plt.subplots(nrows=2, ncols=1)\n",
    "for k, vtx in enumerate(scenarios):\n",
    "    EnumerationEngine.single_pd(ax_list[k], vtx, pd_df_list[k])\n",
    "plt.tight_layout()\n",
    "plt.show()"
   ]
  },
  {
   "cell_type": "code",
   "execution_count": null,
   "metadata": {
    "collapsed": false,
    "scrolled": true
   },
   "outputs": [],
   "source": [
    "RF=Image(\"jupyter-notebooks/Dekant-talk-at-Meetup-Dec-19-2016/Richard-Feynman.jpg\")\n",
    "display(RF)"
   ]
  },
  {
   "cell_type": "markdown",
   "metadata": {
    "collapsed": true
   },
   "source": [
    "To finish with an obligatory Feynman quote:\n",
    "\n",
    "<blockquote><i>“In two slit interference, quantum mechanics cannot determine which slit the electron went through.”</i></blockquote>\n",
    "<blockquote>\n",
    "This statement reflects not the poverty of quantum mechanics, but its richness.\n",
    "In classical mechanics, an electron must have a position — it must pass through one slit or the other.\n",
    "In quantum mechanics an electron might have a position, but there is an infinitely rich variety of other possibilities as well.\n",
    "<br>\n",
    "It is no failure of our instruments that they cannot measure what does not exist.</blockquote>\n",
    " "
   ]
  }
 ],
 "metadata": {
  "anaconda-cloud": {},
  "kernelspec": {
   "display_name": "Python [default]",
   "language": "python",
   "name": "python3"
  },
  "language_info": {
   "codemirror_mode": {
    "name": "ipython",
    "version": 3
   },
   "file_extension": ".py",
   "mimetype": "text/x-python",
   "name": "python",
   "nbconvert_exporter": "python",
   "pygments_lexer": "ipython3",
   "version": "3.5.2"
  }
 },
 "nbformat": 4,
 "nbformat_minor": 0
}
