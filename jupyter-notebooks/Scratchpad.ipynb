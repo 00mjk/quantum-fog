{
 "cells": [
  {
   "cell_type": "code",
   "execution_count": 2,
   "metadata": {
    "collapsed": true
   },
   "outputs": [],
   "source": [
    "import pandas as pd\n",
    "import numpy as np\n",
    "import matplotlib.pyplot as plt"
   ]
  },
  {
   "cell_type": "code",
   "execution_count": null,
   "metadata": {
    "collapsed": false
   },
   "outputs": [],
   "source": [
    "import math\n",
    "math.sqrt(.99)*(1/math.sqrt(2))"
   ]
  },
  {
   "cell_type": "markdown",
   "metadata": {},
   "source": [
    "Some values for the amplitudes of the Young Double Slit QB-Net."
   ]
  },
  {
   "cell_type": "markdown",
   "metadata": {},
   "source": [
    "This is the (1,0) amplitude for  $\\Theta$ = 180"
   ]
  },
  {
   "cell_type": "code",
   "execution_count": 2,
   "metadata": {
    "collapsed": false
   },
   "outputs": [
    {
     "data": {
      "text/plain": [
       "0.07071067811865475"
      ]
     },
     "execution_count": 2,
     "metadata": {},
     "output_type": "execute_result"
    }
   ],
   "source": [
    "-0.1*(1/math.sqrt(2))"
   ]
  },
  {
   "cell_type": "code",
   "execution_count": 8,
   "metadata": {
    "collapsed": false
   },
   "outputs": [],
   "source": [
    "pd_df=pd.DataFrame(np.array([0., 0.33333333,  0.66666667]), index = [0,1,2])"
   ]
  },
  {
   "cell_type": "code",
   "execution_count": 9,
   "metadata": {
    "collapsed": false
   },
   "outputs": [
    {
     "data": {
      "image/png": "[encoded data removed]",
      "text/plain": [
       "<matplotlib.figure.Figure at 0x7f3a137f9c50>"
      ]
     },
     "metadata": {},
     "output_type": "display_data"
    }
   ],
   "source": [
    "node_names = ['Day1', 'Day2']\n",
    "num_nodes = len(node_names)\n",
    "pd_df_list = [pd_df, pd_df]\n",
    "\n",
    "def single_pd(ax, node_name, pd_df):\n",
    "        y_pos = np.arange(len(pd_df.index)) +.5\n",
    "        plt.sca(ax)\n",
    "        plt.yticks(y_pos, pd_df.index)\n",
    "        ax.invert_yaxis()\n",
    "        \n",
    "        ax.set_xticks([0, .25, .5, .75, 1])\n",
    "        ax.set_xlim(0, 1)\n",
    "        \n",
    "        ax.grid(True)\n",
    "        ax.set_title(node_name)\n",
    "        ax.barh(y_pos, pd_df.values, align='center')\n",
    "plt.close('all')\n",
    "fig, ax_list = plt.subplots(nrows=num_nodes, ncols=1)\n",
    "for k, vtx in enumerate(node_names):\n",
    "    single_pd(ax_list[k], vtx, pd_df_list[k])\n",
    "plt.tight_layout()\n",
    "plt.show()"
   ]
  },
  {
   "cell_type": "code",
   "execution_count": null,
   "metadata": {
    "collapsed": true
   },
   "outputs": [],
   "source": []
  }
 ],
 "metadata": {
  "anaconda-cloud": {},
  "kernelspec": {
   "display_name": "Python 3",
   "language": "python",
   "name": "python3"
  },
  "language_info": {
   "codemirror_mode": {
    "name": "ipython",
    "version": 3
   },
   "file_extension": ".py",
   "mimetype": "text/x-python",
   "name": "python",
   "nbconvert_exporter": "python",
   "pygments_lexer": "ipython3",
   "version": "3.5.2"
  }
 },
 "nbformat": 4,
 "nbformat_minor": 0
}
