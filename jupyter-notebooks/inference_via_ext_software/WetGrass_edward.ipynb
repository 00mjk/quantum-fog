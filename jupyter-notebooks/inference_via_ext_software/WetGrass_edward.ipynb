{
 "cells": [
  {
   "cell_type": "markdown",
   "metadata": {},
   "source": [
    "# WetGrass analyzed using Edward"
   ]
  },
  {
   "cell_type": "code",
   "execution_count": 1,
   "metadata": {},
   "outputs": [],
   "source": [
    "import numpy as np\n",
    "import tensorflow as tf\n",
    "\n",
    "import edward as ed\n",
    "import edward.models as edm\n",
    "import edward.inferences as edi\n",
    "\n",
    "import matplotlib.pyplot as plt\n",
    "%matplotlib inline\n",
    "plt.style.use('ggplot')"
   ]
  },
  {
   "cell_type": "code",
   "execution_count": 2,
   "metadata": {},
   "outputs": [
    {
     "name": "stdout",
     "output_type": "stream",
     "text": [
      "/home/bob/Notebooks/Quantum/quantum-fog/jupyter-notebooks/inference_via_ext_software\n",
      "/home/bob/Notebooks/Quantum/quantum-fog\n"
     ]
    }
   ],
   "source": [
    "import os\n",
    "import sys\n",
    "cur_dir_path = os.getcwd()\n",
    "print(cur_dir_path)\n",
    "os.chdir('../../')\n",
    "qfog_path = os.getcwd()\n",
    "print(qfog_path)\n",
    "sys.path.insert(0,qfog_path)"
   ]
  },
  {
   "cell_type": "code",
   "execution_count": 3,
   "metadata": {},
   "outputs": [],
   "source": [
    "# build BayesNet object bnet from bif file\n",
    "import importlib\n",
    "mm = importlib.import_module(\"jupyter-notebooks.inference_via_ext_software.ModelMaker\")\n",
    "from graphs.BayesNet import *\n",
    "in_path = \"examples_cbnets/WetGrass.bif\"\n",
    "bnet = BayesNet.read_bif(in_path, False)"
   ]
  },
  {
   "cell_type": "code",
   "execution_count": 4,
   "metadata": {},
   "outputs": [],
   "source": [
    "# build no_placeholders=True model from bnet\n",
    "file_prefix = \"examples_cbnets/WetGrass_no_phs\"\n",
    "mm.ModelMaker.write_edward_model(file_prefix, bnet, vtx_to_data=None, no_placeholders=True)"
   ]
  },
  {
   "cell_type": "markdown",
   "metadata": {},
   "source": [
    ".py file with model can be found here\n",
    "\n",
    "<a href=../../examples_cbnets/WetGrass_no_phs_edward.py>\n",
    "../../examples_cbnets/WetGrass_no_phs_edward.py</a>"
   ]
  },
  {
   "cell_type": "code",
   "execution_count": 5,
   "metadata": {},
   "outputs": [],
   "source": [
    "# -i option allows it to access notebook's namespace\n",
    "%run -i examples_cbnets/WetGrass_no_phs_edward.py"
   ]
  },
  {
   "cell_type": "code",
   "execution_count": 6,
   "metadata": {},
   "outputs": [],
   "source": [
    "# data\n",
    "Cloudy_data = tf.constant(0, dtype=tf.int32)\n",
    "WetGrass_data = tf.constant(1, dtype=tf.int32)"
   ]
  },
  {
   "cell_type": "code",
   "execution_count": 13,
   "metadata": {},
   "outputs": [
    {
     "name": "stdout",
     "output_type": "stream",
     "text": [
      "1000/1000 [100%] ██████████████████████████████ Elapsed: 2s | Loss: 1.014\n"
     ]
    }
   ],
   "source": [
    "# run\n",
    "q_dict = {Rain: Rain_q, Sprinkler: Sprinkler_q}\n",
    "data_dict = {Cloudy: Cloudy_data, WetGrass: WetGrass_data}\n",
    "inf = edi.KLqp(q_dict, data=data_dict)\n",
    "inf.run(n_samples = 5, n_iter=1000)"
   ]
  },
  {
   "cell_type": "code",
   "execution_count": 14,
   "metadata": {},
   "outputs": [
    {
     "name": "stdout",
     "output_type": "stream",
     "text": [
      "\n",
      "Rain\n",
      "[ 0.40000001  0.60000002]\n",
      "\n",
      "Sprinkler\n",
      "[ 0.2         0.80000001]\n"
     ]
    }
   ],
   "source": [
    "# print final prob distributions\n",
    "\n",
    "print('\\nRain')\n",
    "print(Rain.probs.eval())\n",
    "\n",
    "print('\\nSprinkler')\n",
    "print(Sprinkler.probs.eval())"
   ]
  },
  {
   "cell_type": "markdown",
   "metadata": {},
   "source": [
    "## Exact results using junction tree algorithm"
   ]
  },
  {
   "cell_type": "code",
   "execution_count": 15,
   "metadata": {},
   "outputs": [
    {
     "name": "stdout",
     "output_type": "stream",
     "text": [
      "['Cloudy']\n",
      "[ 1.  0.]\n",
      "\n",
      "['Rain']\n",
      "[ 0.34839842  0.65160158]\n",
      "\n",
      "['Sprinkler']\n",
      "[ 0.13119789  0.86880211]\n",
      "\n",
      "['WetGrass']\n",
      "[ 0.  1.]\n",
      "\n"
     ]
    }
   ],
   "source": [
    "from inference.JoinTreeEngine import *\n",
    "jtree_eng = JoinTreeEngine(bnet)\n",
    "\n",
    "# introduce some evidence\n",
    "bnet.get_node_named(\"Cloudy\").active_states = [0]\n",
    "bnet.get_node_named(\"WetGrass\").active_states = [1]\n",
    "\n",
    "#print node distributiona\n",
    "node_list = jtree_eng.bnet_ord_nodes\n",
    "jtree_pot_list = jtree_eng.get_unipot_list(node_list)\n",
    "for k in range(len(node_list)):\n",
    "    print(jtree_pot_list[k])\n",
    "    print('')"
   ]
  },
  {
   "cell_type": "code",
   "execution_count": null,
   "metadata": {},
   "outputs": [],
   "source": []
  }
 ],
 "metadata": {
  "kernelspec": {
   "display_name": "Python 3",
   "language": "python",
   "name": "python3"
  },
  "language_info": {
   "codemirror_mode": {
    "name": "ipython",
    "version": 3
   },
   "file_extension": ".py",
   "mimetype": "text/x-python",
   "name": "python",
   "nbconvert_exporter": "python",
   "pygments_lexer": "ipython3",
   "version": "3.6.3"
  }
 },
 "nbformat": 4,
 "nbformat_minor": 2
}
