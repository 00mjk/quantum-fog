{
 "cells": [
  {
   "cell_type": "markdown",
   "metadata": {},
   "source": [
    "# WetGrass analyzed using Edward. Inferring prob of some nodes conditioned on other nodes having given states."
   ]
  },
  {
   "cell_type": "markdown",
   "metadata": {},
   "source": [
    "References\n",
    "* https://discourse.edwardlib.org/t/simple-bayesian-network-sprinkler-example/258"
   ]
  },
  {
   "cell_type": "code",
   "execution_count": 1,
   "metadata": {},
   "outputs": [],
   "source": [
    "import numpy as np\n",
    "import tensorflow as tf\n",
    "\n",
    "import edward as ed\n",
    "import edward.models as edm\n",
    "import edward.inferences as edi\n",
    "\n",
    "import matplotlib.pyplot as plt\n",
    "%matplotlib inline\n",
    "plt.style.use('ggplot')"
   ]
  },
  {
   "cell_type": "code",
   "execution_count": 2,
   "metadata": {},
   "outputs": [
    {
     "name": "stdout",
     "output_type": "stream",
     "text": [
      "/home/bob/Notebooks/Quantum/quantum-fog/jupyter-notebooks/inference_via_ext_software\n",
      "/home/bob/Notebooks/Quantum/quantum-fog\n"
     ]
    }
   ],
   "source": [
    "import os\n",
    "import sys\n",
    "cur_dir_path = os.getcwd()\n",
    "print(cur_dir_path)\n",
    "os.chdir('../../')\n",
    "qfog_path = os.getcwd()\n",
    "print(qfog_path)\n",
    "sys.path.insert(0,qfog_path)"
   ]
  },
  {
   "cell_type": "code",
   "execution_count": 3,
   "metadata": {},
   "outputs": [],
   "source": [
    "# build BayesNet object bnet from bif file\n",
    "import importlib\n",
    "mm = importlib.import_module(\"jupyter-notebooks.inference_via_ext_software.ModelMaker\")\n",
    "from graphs.BayesNet import *\n",
    "in_path = \"examples_cbnets/WetGrass.bif\"\n",
    "bnet = BayesNet.read_bif(in_path, False)"
   ]
  },
  {
   "cell_type": "code",
   "execution_count": 4,
   "metadata": {},
   "outputs": [],
   "source": [
    "# build model (with no observed nodes) from bnet\n",
    "file_prefix = \"examples_cbnets/WetGrass_obs_none\"\n",
    "mm.ModelMaker.write_edward_model_for_inf(file_prefix, bnet)"
   ]
  },
  {
   "cell_type": "markdown",
   "metadata": {},
   "source": [
    ".py file with model can be found here\n",
    "\n",
    "<a href=\"../../examples_cbnets/WetGrass_obs_none_edward.py\">\n",
    "../../examples_cbnets/WetGrass_obs_none_edward.py</a>"
   ]
  },
  {
   "cell_type": "code",
   "execution_count": 5,
   "metadata": {},
   "outputs": [],
   "source": [
    "# -i option allows it to access notebook's namespace\n",
    "%run -i examples_cbnets/WetGrass_obs_none_edward.py"
   ]
  },
  {
   "cell_type": "code",
   "execution_count": 6,
   "metadata": {},
   "outputs": [],
   "source": [
    "# data\n",
    "Cloudy_data = tf.constant(0, dtype=tf.int32)\n",
    "WetGrass_data = tf.constant(1, dtype=tf.int32)"
   ]
  },
  {
   "cell_type": "code",
   "execution_count": 7,
   "metadata": {},
   "outputs": [
    {
     "name": "stdout",
     "output_type": "stream",
     "text": [
      "1000/1000 [100%] ██████████████████████████████ Elapsed: 2s | Loss: 1.096\n"
     ]
    }
   ],
   "source": [
    "# run\n",
    "q_dict = {Rain: Rain_q, Sprinkler: Sprinkler_q}\n",
    "data_dict = {Cloudy: Cloudy_data, WetGrass: WetGrass_data}\n",
    "inf = edi.KLqp(q_dict, data=data_dict)\n",
    "inf.run(n_samples = 5, n_iter=1000)"
   ]
  },
  {
   "cell_type": "code",
   "execution_count": 8,
   "metadata": {},
   "outputs": [
    {
     "name": "stdout",
     "output_type": "stream",
     "text": [
      "\n",
      "Rain\n",
      "[ 0.27310392  0.72689611]\n",
      "\n",
      "Sprinkler\n",
      "[ 0.02310836  0.9768917 ]\n"
     ]
    }
   ],
   "source": [
    "# print final prob distributions\n",
    "\n",
    "print('\\nRain')\n",
    "print(Rain_q.probs.eval())\n",
    "\n",
    "print('\\nSprinkler')\n",
    "print(Sprinkler_q.probs.eval())"
   ]
  },
  {
   "cell_type": "markdown",
   "metadata": {},
   "source": [
    "## Exact results using brute force (enumeration) and junction tree algorithms"
   ]
  },
  {
   "cell_type": "code",
   "execution_count": 9,
   "metadata": {},
   "outputs": [
    {
     "name": "stdout",
     "output_type": "stream",
     "text": [
      "brute: ['Cloudy']\n",
      "[ 1.  0.]\n",
      "jtree: ['Cloudy']\n",
      "[ 1.  0.]\n",
      "\n",
      "brute: ['Rain']\n",
      "[ 0.34839842  0.65160158]\n",
      "jtree: ['Rain']\n",
      "[ 0.34839842  0.65160158]\n",
      "\n",
      "brute: ['Sprinkler']\n",
      "[ 0.13119789  0.86880211]\n",
      "jtree: ['Sprinkler']\n",
      "[ 0.13119789  0.86880211]\n",
      "\n",
      "brute: ['WetGrass']\n",
      "[ 0.  1.]\n",
      "jtree: ['WetGrass']\n",
      "[ 0.  1.]\n",
      "\n"
     ]
    }
   ],
   "source": [
    "from inference.JoinTreeEngine import *\n",
    "from inference.EnumerationEngine import *\n",
    "jtree_eng = JoinTreeEngine(bnet)\n",
    "brute_eng = EnumerationEngine(bnet)\n",
    "\n",
    "# introduce some evidence\n",
    "bnet.get_node_named(\"Cloudy\").active_states = [0]\n",
    "bnet.get_node_named(\"WetGrass\").active_states = [1]\n",
    "\n",
    "#print node distributiona\n",
    "node_list = jtree_eng.bnet_ord_nodes\n",
    "jtree_pot_list = jtree_eng.get_unipot_list(node_list)\n",
    "brute_pot_list = brute_eng.get_unipot_list(node_list)\n",
    "for k in range(len(node_list)):\n",
    "    print(\"brute:\", brute_pot_list[k])\n",
    "    print(\"jtree:\", jtree_pot_list[k])\n",
    "    print('')"
   ]
  }
 ],
 "metadata": {
  "kernelspec": {
   "display_name": "Python 3",
   "language": "python",
   "name": "python3"
  },
  "language_info": {
   "codemirror_mode": {
    "name": "ipython",
    "version": 3.0
   },
   "file_extension": ".py",
   "mimetype": "text/x-python",
   "name": "python",
   "nbconvert_exporter": "python",
   "pygments_lexer": "ipython3",
   "version": "3.6.3"
  }
 },
 "nbformat": 4,
 "nbformat_minor": 2
}