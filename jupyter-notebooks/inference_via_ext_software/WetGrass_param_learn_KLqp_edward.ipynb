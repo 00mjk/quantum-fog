{
 "cells": [
  {
   "cell_type": "markdown",
   "metadata": {},
   "source": [
    "# WetGrass analyzed using Edward. Learning parameters (transition prob matrices of latent nodes) using KLqp and  batch training."
   ]
  },
  {
   "cell_type": "markdown",
   "metadata": {},
   "source": [
    "References\n",
    "* https://discourse.edwardlib.org/t/simple-bayesian-network-sprinkler-example/258\n",
    "* http://edwardlib.org/tutorials/batch-training\n",
    "* https://discourse.edwardlib.org/t/parameter-learning-with-simple-bayesian-network-pymc3-vs-edward-edward-posteriors-not-converging-around-correct-parameter-values/653"
   ]
  },
  {
   "cell_type": "code",
   "execution_count": 1,
   "metadata": {},
   "outputs": [],
   "source": [
    "import numpy as np\n",
    "import tensorflow as tf\n",
    "\n",
    "import edward as ed\n",
    "import edward.models as edm\n",
    "import edward.inferences as edi\n",
    "\n",
    "import matplotlib.pyplot as plt\n",
    "%matplotlib inline\n",
    "plt.style.use('ggplot')"
   ]
  },
  {
   "cell_type": "code",
   "execution_count": 2,
   "metadata": {},
   "outputs": [
    {
     "name": "stdout",
     "output_type": "stream",
     "text": [
      "/home/bob/Notebooks/Quantum/quantum-fog/jupyter-notebooks/inference_via_ext_software\n",
      "/home/bob/Notebooks/Quantum/quantum-fog\n"
     ]
    }
   ],
   "source": [
    "import os\n",
    "import sys\n",
    "cur_dir_path = os.getcwd()\n",
    "print(cur_dir_path)\n",
    "os.chdir('../../')\n",
    "qfog_path = os.getcwd()\n",
    "print(qfog_path)\n",
    "sys.path.insert(0,qfog_path)"
   ]
  },
  {
   "cell_type": "code",
   "execution_count": 3,
   "metadata": {},
   "outputs": [],
   "source": [
    "import importlib\n",
    "mm = importlib.import_module(\"jupyter-notebooks.inference_via_ext_software.ModelMaker\")\n",
    "mme = importlib.import_module(\"jupyter-notebooks.inference_via_ext_software.ModelMaker_Edward\")\n",
    "from graphs.BayesNet import *"
   ]
  },
  {
   "cell_type": "code",
   "execution_count": 4,
   "metadata": {},
   "outputs": [],
   "source": [
    "# build BayesNet object bnet from bif file\n",
    "in_path = \"examples_cbnets/WetGrass.bif\"\n",
    "bnet = BayesNet.read_bif(in_path, False)"
   ]
  },
  {
   "cell_type": "code",
   "execution_count": 5,
   "metadata": {},
   "outputs": [],
   "source": [
    "# build model (with no observed nodes) from bnet\n",
    "prefix0 = \"jupyter-notebooks/\" +\\\n",
    "        \"inference_via_ext_software/model_examples_c/\"\n",
    "file_prefix = prefix0 + \"WetGrass_inf_obs_none\"\n",
    "mod_file = mme.ModelMaker_Edward.write_model_for_inf(file_prefix, bnet)"
   ]
  },
  {
   "cell_type": "markdown",
   "metadata": {},
   "source": [
    ".py file with model can be found here\n",
    "\n",
    "<a href=\"model_examples_c/WetGrass_inf_obs_none_edward.py\">\n",
    "model_examples_c/WetGrass_inf_obs_none_edward.py</a>"
   ]
  },
  {
   "cell_type": "code",
   "execution_count": 6,
   "metadata": {},
   "outputs": [],
   "source": [
    "# -i option allows it to access notebook's namespace\n",
    "%run -i $mod_file"
   ]
  },
  {
   "cell_type": "code",
   "execution_count": 7,
   "metadata": {},
   "outputs": [
    {
     "name": "stdout",
     "output_type": "stream",
     "text": [
      "data[0:5, :]\n",
      " [[0 0 1 1]\n",
      " [1 0 1 1]\n",
      " [1 0 0 0]\n",
      " [0 1 1 1]\n",
      " [0 1 1 1]]\n",
      "data[0:5, 0]\n",
      " [0 1 1 0 0]\n"
     ]
    }
   ],
   "source": [
    "# Generate data using Edward model. Quantum Fog has its \n",
    "# own function to generate random probs from a graph\n",
    "# directly from bnet. Here we let Edward do it instead.\n",
    "\n",
    "data_size = 2000\n",
    "\n",
    "data = np.zeros([data_size, 4], dtype=int)\n",
    "with tf.Session() as sess:\n",
    "    for i in range(data_size):\n",
    "        # data[:, i] doesn't work \n",
    "        data[i, :] = sess.run([Cloudy, Rain, Sprinkler, WetGrass])\n",
    "print('data[0:5, :]\\n', data[0:5, :])\n",
    "print(\"data[0:5, 0]\\n\", data[0:5, 0])"
   ]
  },
  {
   "cell_type": "code",
   "execution_count": 8,
   "metadata": {},
   "outputs": [],
   "source": [
    "# del previous graph before we create a new one for parameter learning\n",
    "tf.reset_default_graph()"
   ]
  },
  {
   "cell_type": "code",
   "execution_count": 9,
   "metadata": {},
   "outputs": [],
   "source": [
    "# build model (with observed Cloudy and WetGrass) from bnet\n",
    "prefix0 = \"jupyter-notebooks/\" +\\\n",
    "        \"inference_via_ext_software/model_examples_c/\"\n",
    "file_prefix = prefix0 + \"WetGrass_par_VA_obs_CW\"\n",
    "obs_vertices = ['Cloudy', \"WetGrass\"]\n",
    "mod_file = mme.ModelMaker_Edward.write_model_for_param_learning(file_prefix, bnet, obs_vertices)"
   ]
  },
  {
   "cell_type": "markdown",
   "metadata": {},
   "source": [
    ".py file with model can be found here\n",
    "\n",
    "<a href=\"model_examples_c/WetGrass_par_VA_obs_CW_edward.py\">\n",
    "model_examples_c/WetGrass_par_VA_obs_CW_edward.py</a>"
   ]
  },
  {
   "cell_type": "code",
   "execution_count": 10,
   "metadata": {},
   "outputs": [],
   "source": [
    "batch_size = 40"
   ]
  },
  {
   "cell_type": "code",
   "execution_count": 11,
   "metadata": {},
   "outputs": [],
   "source": [
    "# -i option allows it to access notebook's namespace\n",
    "\n",
    "# The variable 'sam_size' (sample size of observed nodes) is used\n",
    "# without value in the .py file and must be set to an int before\n",
    "# running the .py file.\n",
    "\n",
    "sam_size = batch_size\n",
    "%run -i $mod_file"
   ]
  },
  {
   "cell_type": "code",
   "execution_count": 12,
   "metadata": {},
   "outputs": [],
   "source": [
    "num_epochs = 2  # number of full passes, cycles, over data\n",
    "num_batches = data_size//batch_size  # number of batches in one epoch\n",
    "assert batch_size*num_batches == data_size "
   ]
  },
  {
   "cell_type": "code",
   "execution_count": 13,
   "metadata": {},
   "outputs": [
    {
     "name": "stdout",
     "output_type": "stream",
     "text": [
      "100/100 [100%] ██████████████████████████████ Elapsed: 5s | Loss: 2572.847\n"
     ]
    }
   ],
   "source": [
    "q_dict = {probs_Rain: probs_Rain_q, \n",
    "          probs_Sprinkler: probs_Sprinkler_q}\n",
    "data_dict = {WetGrass: WetGrass_ph}\n",
    "inf = edi.KLqp(q_dict, data=data_dict)\n",
    "n_iter = num_batches*num_epochs # number of batches in all epochs\n",
    "scale = {Cloudy:num_batches, WetGrass:num_batches}\n",
    "inf.initialize(n_iter=n_iter, n_samples=5, scale=scale)\n",
    "\n",
    "tf.global_variables_initializer().run()\n",
    "\n",
    "bgen = mm.ModelMaker.batch_gen([data[:, 0], data[:, 3]], batch_size)\n",
    "for i in range(inf.n_iter):\n",
    "    Cloudy_bat, WetGrass_bat = next(bgen)\n",
    "    info_dict = inf.update({Cloudy: Cloudy_bat, WetGrass_ph: WetGrass_bat})\n",
    "    inf.print_progress(info_dict)\n",
    "# inf.finalize()"
   ]
  },
  {
   "cell_type": "code",
   "execution_count": 14,
   "metadata": {},
   "outputs": [
    {
     "name": "stdout",
     "output_type": "stream",
     "text": [
      "\n",
      "Rain\n",
      "concentration:\n",
      "[[ 0.20081396  0.85744417]\n",
      " [ 1.24493313  0.40282616]]\n",
      "estimate:\n",
      "[[ 0.18975896  0.81024098]\n",
      " [ 0.75553095  0.24446905]]\n",
      "true:\n",
      "[[ 0.4  0.6]\n",
      " [ 0.5  0.5]]\n",
      "\n",
      "Sprinkler\n",
      "concentration:\n",
      "[[ 0.07028798  0.62330669]\n",
      " [ 0.72268617  0.15767747]]\n",
      "estimate:\n",
      "[[ 0.10133869  0.89866126]\n",
      " [ 0.82089508  0.17910494]]\n",
      "true:\n",
      "[[ 0.2  0.8]\n",
      " [ 0.7  0.3]]\n"
     ]
    }
   ],
   "source": [
    "# print prob distributions, estimate and true\n",
    "# Concentration = 1 means uniform distribution, so \n",
    "# the bigger than 1, the better for concentrations, \n",
    "# less than 1 not good.\n",
    "sess = ed.get_session()\n",
    "rc, rm, sc, sm = sess.run([probs_Rain_q.concentration,\n",
    "                           probs_Rain_q.mean(),\n",
    "                           probs_Sprinkler_q.concentration,\n",
    "                           probs_Sprinkler_q.mean()])\n",
    "\n",
    "print('\\nRain')\n",
    "print('concentration:')\n",
    "print(rc)\n",
    "print('estimate:')\n",
    "print(rm)\n",
    "print('true:')\n",
    "print(bnet.get_node_named('Rain').potential.pot_arr)\n",
    "\n",
    "print('\\nSprinkler')\n",
    "print('concentration:')\n",
    "print(sc)\n",
    "print('estimate:')\n",
    "print(sm)\n",
    "print('true:')\n",
    "print(bnet.get_node_named('Sprinkler').potential.pot_arr)"
   ]
  },
  {
   "cell_type": "code",
   "execution_count": null,
   "metadata": {},
   "outputs": [],
   "source": []
  }
 ],
 "metadata": {
  "kernelspec": {
   "display_name": "Python 3",
   "language": "python",
   "name": "python3"
  },
  "language_info": {
   "codemirror_mode": {
    "name": "ipython",
    "version": 3
   },
   "file_extension": ".py",
   "mimetype": "text/x-python",
   "name": "python",
   "nbconvert_exporter": "python",
   "pygments_lexer": "ipython3",
   "version": "3.6.3"
  }
 },
 "nbformat": 4,
 "nbformat_minor": 2
}
