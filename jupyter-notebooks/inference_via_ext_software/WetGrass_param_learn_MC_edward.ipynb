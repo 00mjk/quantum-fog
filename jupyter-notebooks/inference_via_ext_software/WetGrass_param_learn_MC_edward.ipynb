{
 "cells": [
  {
   "cell_type": "markdown",
   "metadata": {},
   "source": [
    "# WetGrass analyzed using Edward. Learning parameters (transition prob matrices of latent nodes) using MetropolisHastings and HamiltonianMC"
   ]
  },
  {
   "cell_type": "markdown",
   "metadata": {},
   "source": [
    "References\n",
    "* https://discourse.edwardlib.org/t/simple-bayesian-network-sprinkler-example/258\n",
    "* http://edwardlib.org/tutorials/batch-training\n",
    "* https://discourse.edwardlib.org/t/parameter-learning-with-simple-bayesian-network-pymc3-vs-edward-edward-posteriors-not-converging-around-correct-parameter-values/653"
   ]
  },
  {
   "cell_type": "code",
   "execution_count": 1,
   "metadata": {},
   "outputs": [],
   "source": [
    "import numpy as np\n",
    "import tensorflow as tf\n",
    "\n",
    "import edward as ed\n",
    "import edward.models as edm\n",
    "import edward.inferences as edi\n",
    "\n",
    "import matplotlib.pyplot as plt\n",
    "%matplotlib inline\n",
    "plt.style.use('ggplot')"
   ]
  },
  {
   "cell_type": "code",
   "execution_count": 2,
   "metadata": {},
   "outputs": [
    {
     "name": "stdout",
     "output_type": "stream",
     "text": [
      "/home/bob/Notebooks/Quantum/quantum-fog/jupyter-notebooks/inference_via_ext_software\n",
      "/home/bob/Notebooks/Quantum/quantum-fog\n"
     ]
    }
   ],
   "source": [
    "import os\n",
    "import sys\n",
    "cur_dir_path = os.getcwd()\n",
    "print(cur_dir_path)\n",
    "os.chdir('../../')\n",
    "qfog_path = os.getcwd()\n",
    "print(qfog_path)\n",
    "sys.path.insert(0,qfog_path)"
   ]
  },
  {
   "cell_type": "code",
   "execution_count": 3,
   "metadata": {},
   "outputs": [],
   "source": [
    "# build BayesNet object bnet from bif file\n",
    "import importlib\n",
    "mm = importlib.import_module(\"jupyter-notebooks.inference_via_ext_software.ModelMaker\")\n",
    "from graphs.BayesNet import *\n",
    "in_path = \"examples_cbnets/WetGrass.bif\"\n",
    "bnet = BayesNet.read_bif(in_path, False)"
   ]
  },
  {
   "cell_type": "code",
   "execution_count": 4,
   "metadata": {},
   "outputs": [],
   "source": [
    "# build model (with no observed nodes) from bnet\n",
    "file_prefix = \"examples_cbnets/WetGrass_obs_none\"\n",
    "mm.ModelMaker.write_edward_model_for_inf(file_prefix, bnet)"
   ]
  },
  {
   "cell_type": "markdown",
   "metadata": {},
   "source": [
    ".py file with model can be found here\n",
    "\n",
    "<a href=\"../../examples_cbnets/WetGrass_obs_none_edward.py\">\n",
    "../../examples_cbnets/WetGrass_obs_none_edward.py</a>"
   ]
  },
  {
   "cell_type": "code",
   "execution_count": 5,
   "metadata": {},
   "outputs": [],
   "source": [
    "# -i option allows it to access notebook's namespace\n",
    "%run -i examples_cbnets/WetGrass_obs_none_edward.py"
   ]
  },
  {
   "cell_type": "code",
   "execution_count": 6,
   "metadata": {},
   "outputs": [
    {
     "name": "stdout",
     "output_type": "stream",
     "text": [
      "data[0:5, :]\n",
      " [[0 1 1 1]\n",
      " [1 0 0 0]\n",
      " [0 0 1 1]\n",
      " [1 0 1 1]\n",
      " [0 0 1 1]]\n",
      "data[0:5, 0]\n",
      " [0 1 0 1 0]\n"
     ]
    }
   ],
   "source": [
    "# Generate data using edward model. Quantum Fog has its \n",
    "# own function to generate random probs from a graph\n",
    "# directly from bnet. Here we let edward do it instead.\n",
    "\n",
    "data_size = 1000\n",
    "\n",
    "data = np.zeros([data_size, 4], dtype=int)\n",
    "with tf.Session() as sess:\n",
    "    for i in range(data_size):\n",
    "        # data[:, i] doesn't work \n",
    "        data[i, :] = sess.run([Cloudy, Rain, Sprinkler, WetGrass])\n",
    "print('data[0:5, :]\\n', data[0:5, :])\n",
    "print(\"data[0:5, 0]\\n\", data[0:5, 0])"
   ]
  },
  {
   "cell_type": "code",
   "execution_count": 7,
   "metadata": {},
   "outputs": [],
   "source": [
    "# del previous graph before we create a new one for parameter learning\n",
    "tf.reset_default_graph()"
   ]
  },
  {
   "cell_type": "code",
   "execution_count": 8,
   "metadata": {},
   "outputs": [],
   "source": [
    "# build model (with observed Cloudy and WetGrass) from bnet\n",
    "\n",
    "file_prefix = \"examples_cbnets/WetGrass_obs_CW_MC\"\n",
    "obs_vertices = {'Cloudy', \"WetGrass\"}\n",
    "# Will go out of bounds if propo_scale too big.\n",
    "# Chain of probabilities in [0, 1] so choose propo_scale << 1\n",
    "mm.ModelMaker.write_edward_model_for_param_learning(file_prefix, bnet, obs_vertices, \n",
    "                                                    inf_method='MC', propo_scale=.05)"
   ]
  },
  {
   "cell_type": "markdown",
   "metadata": {},
   "source": [
    ".py file with model can be found here\n",
    "\n",
    "<a href=\"../../examples_cbnets/WetGrass_obs_CW_MC_edward.py\">\n",
    "../../examples_cbnets/WetGrass_obs_CW_MC.edward.py</a>"
   ]
  },
  {
   "cell_type": "code",
   "execution_count": 9,
   "metadata": {},
   "outputs": [],
   "source": [
    "# -i option allows it to access notebook's namespace\n",
    "\n",
    "# The variable 'sam_size' (sample size of observed nodes) is used\n",
    "# without value in the .py file and must be set to an int before\n",
    "# running the .py file.\n",
    "\n",
    "sam_size = data_size\n",
    "%run -i examples_cbnets/WetGrass_obs_CW_MC_edward.py"
   ]
  },
  {
   "cell_type": "code",
   "execution_count": 10,
   "metadata": {},
   "outputs": [],
   "source": [
    "def plot_hist(vtx, num_pts):\n",
    "    print('true:')\n",
    "    print(bnet.get_node_named(vtx).potential.pot_arr)\n",
    "    fig, ax = plt.subplots(2, 2, figsize = (8, 8), sharex=True, sharey=True)\n",
    "    plt.xlim(0,1)\n",
    "    for j1 in range(0, 2):\n",
    "        for j2 in range(0, 2):\n",
    "            arr_str = 'emp_probs_' + vtx + '_q'\n",
    "            ax[j1, j2].hist(eval(arr_str).params.eval()[\n",
    "                data_size - num_pts : data_size][j1, j2], \n",
    "                bins=25, alpha=0.5, normed=True)\n",
    "            ax[j1, j2].set_title('emp_probs_' + vtx + '_q(' +\n",
    "                                 str(j1) + ', ' + str(j2) + ')')\n",
    "    plt.show()"
   ]
  },
  {
   "cell_type": "code",
   "execution_count": 11,
   "metadata": {},
   "outputs": [],
   "source": [
    "q_dict = {probs_Rain: emp_probs_Rain_q, \n",
    "          probs_Sprinkler: emp_probs_Sprinkler_q}\n",
    "data_dict = {Cloudy:data[:, 0], WetGrass:data[:, 3]}"
   ]
  },
  {
   "cell_type": "markdown",
   "metadata": {},
   "source": [
    "## Metropolis Hastings"
   ]
  },
  {
   "cell_type": "code",
   "execution_count": 12,
   "metadata": {
    "scrolled": false
   },
   "outputs": [
    {
     "name": "stdout",
     "output_type": "stream",
     "text": [
      "1000/1000 [100%] ██████████████████████████████ Elapsed: 101s | Acceptance Rate: 0.139\n"
     ]
    }
   ],
   "source": [
    "propo_dict = {probs_Rain: propo_Rain_q, \n",
    "              probs_Sprinkler: propo_Sprinkler_q}\n",
    "inf = edi.MetropolisHastings(q_dict, propo_dict, data=data_dict)\n",
    "inf.run()"
   ]
  },
  {
   "cell_type": "code",
   "execution_count": 13,
   "metadata": {},
   "outputs": [
    {
     "name": "stdout",
     "output_type": "stream",
     "text": [
      "true:\n",
      "[[ 0.4  0.6]\n",
      " [ 0.5  0.5]]\n"
     ]
    },
    {
     "data": {
      "image/png": "[encoded data removed]",
      "text/plain": [
       "<matplotlib.figure.Figure at 0x7f7dead40198>"
      ]
     },
     "metadata": {},
     "output_type": "display_data"
    }
   ],
   "source": [
    "plot_hist('Rain', 100)"
   ]
  },
  {
   "cell_type": "code",
   "execution_count": 14,
   "metadata": {},
   "outputs": [
    {
     "name": "stdout",
     "output_type": "stream",
     "text": [
      "true:\n",
      "[[ 0.2  0.8]\n",
      " [ 0.7  0.3]]\n"
     ]
    },
    {
     "data": {
      "image/png": "[encoded data removed]",
      "text/plain": [
       "<matplotlib.figure.Figure at 0x7f7db93997b8>"
      ]
     },
     "metadata": {},
     "output_type": "display_data"
    }
   ],
   "source": [
    "plot_hist('Sprinkler', 100)"
   ]
  },
  {
   "cell_type": "markdown",
   "metadata": {},
   "source": [
    "## Hamiltonian MonteCarlo"
   ]
  },
  {
   "cell_type": "code",
   "execution_count": 18,
   "metadata": {},
   "outputs": [],
   "source": [
    "# Doesn't work\n",
    "# inf = edi.HMC(q_dict, data=data_dict)\n",
    "# inf.run()"
   ]
  },
  {
   "cell_type": "code",
   "execution_count": null,
   "metadata": {},
   "outputs": [],
   "source": []
  }
 ],
 "metadata": {
  "kernelspec": {
   "display_name": "Python 3",
   "language": "python",
   "name": "python3"
  },
  "language_info": {
   "codemirror_mode": {
    "name": "ipython",
    "version": 3
   },
   "file_extension": ".py",
   "mimetype": "text/x-python",
   "name": "python",
   "nbconvert_exporter": "python",
   "pygments_lexer": "ipython3",
   "version": "3.6.3"
  }
 },
 "nbformat": 4,
 "nbformat_minor": 2
}
