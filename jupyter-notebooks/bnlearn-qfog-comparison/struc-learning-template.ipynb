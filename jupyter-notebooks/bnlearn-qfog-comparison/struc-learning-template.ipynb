{
 "cells": [
  {
   "cell_type": "code",
   "execution_count": 1,
   "metadata": {
    "collapsed": true
   },
   "outputs": [],
   "source": [
    "# default values of file paths, assuming quantum_fog is working dir\n",
    "in_bif = 'examples_cbnets/earthquake.bif'\n",
    "in_dot = 'examples_cbnets/earthquake.dot'\n",
    "in_csv = 'learning/training_data_c/earthquake.csv'"
   ]
  },
  {
   "cell_type": "code",
   "execution_count": 2,
   "metadata": {
    "collapsed": true
   },
   "outputs": [],
   "source": [
    "learned_dot = 'examples_cbnets/tempo.dot'  # for storing learned network"
   ]
  },
  {
   "cell_type": "markdown",
   "metadata": {},
   "source": [
    "**Structure Learning Template**"
   ]
  },
  {
   "cell_type": "markdown",
   "metadata": {
    "toc": "true"
   },
   "source": [
    "# Table of Contents\n",
    " <p><div class=\"lev1 toc-item\"><a href=\"#True-Network-Structure\" data-toc-modified-id=\"True-Network-Structure-1\"><span class=\"toc-item-num\">1&nbsp;&nbsp;</span>True Network Structure</a></div><div class=\"lev1 toc-item\"><a href=\"#Learned-Network-Structures\" data-toc-modified-id=\"Learned-Network-Structures-2\"><span class=\"toc-item-num\">2&nbsp;&nbsp;</span>Learned Network Structures</a></div><div class=\"lev2 toc-item\"><a href=\"#MB-based-learning\" data-toc-modified-id=\"MB-based-learning-21\"><span class=\"toc-item-num\">2.1&nbsp;&nbsp;</span>MB based learning</a></div><div class=\"lev3 toc-item\"><a href=\"#Grow-Shink\" data-toc-modified-id=\"Grow-Shink-211\"><span class=\"toc-item-num\">2.1.1&nbsp;&nbsp;</span>Grow Shink</a></div><div class=\"lev3 toc-item\"><a href=\"#IAMB\" data-toc-modified-id=\"IAMB-212\"><span class=\"toc-item-num\">2.1.2&nbsp;&nbsp;</span>IAMB</a></div><div class=\"lev2 toc-item\"><a href=\"#Score-based-learning\" data-toc-modified-id=\"Score-based-learning-22\"><span class=\"toc-item-num\">2.2&nbsp;&nbsp;</span>Score based learning</a></div><div class=\"lev3 toc-item\"><a href=\"#Hiil-Climbing-with-BIC-score\" data-toc-modified-id=\"Hiil-Climbing-with-BIC-score-221\"><span class=\"toc-item-num\">2.2.1&nbsp;&nbsp;</span>Hiil Climbing with BIC score</a></div><div class=\"lev2 toc-item\"><a href=\"#Summary-of-Running-Times\" data-toc-modified-id=\"Summary-of-Running-Times-23\"><span class=\"toc-item-num\">2.3&nbsp;&nbsp;</span>Summary of Running Times</a></div>"
   ]
  },
  {
   "cell_type": "code",
   "execution_count": 3,
   "metadata": {
    "collapsed": false
   },
   "outputs": [],
   "source": [
    "import pandas as pd\n",
    "import numpy as np\n",
    "from graphviz import Digraph, Source\n",
    "\n",
    "import warnings\n",
    "warnings.filterwarnings(\"ignore\", module=\"rpy2\")\n",
    "\n",
    "import rpy2\n",
    "%load_ext rpy2.ipython\n",
    "%R library(\"bnlearn\");\n",
    "%R library(\"Rgraphviz\");"
   ]
  },
  {
   "cell_type": "code",
   "execution_count": 4,
   "metadata": {
    "collapsed": true
   },
   "outputs": [],
   "source": [
    "# make this the absolute path of quantum-fog folder\n",
    "qfog_path = '/home/jupyter/Notebooks/quantum-fog'"
   ]
  },
  {
   "cell_type": "code",
   "execution_count": 5,
   "metadata": {
    "collapsed": true
   },
   "outputs": [],
   "source": [
    "import os\n",
    "import sys\n",
    "if qfog_path != os.getcwd():\n",
    "    os.chdir('../../')\n",
    "    sys.path.insert(0,os.getcwd())\n",
    "from learning.NaiveBayesLner import *\n",
    "from learning.MB_GrowShrinkLner import *\n",
    "from learning.MB_IAMB_Lner import *\n",
    "from learning.HillClimbingLner import *"
   ]
  },
  {
   "cell_type": "markdown",
   "metadata": {},
   "source": [
    "Read in_csv, create Pandas Dataframe with it, push dataframe into R"
   ]
  },
  {
   "cell_type": "code",
   "execution_count": 6,
   "metadata": {
    "collapsed": false
   },
   "outputs": [
    {
     "data": {
      "text/html": [
       "<div>\n",
       "<table border=\"1\" class=\"dataframe\">\n",
       "  <thead>\n",
       "    <tr style=\"text-align: right;\">\n",
       "      <th></th>\n",
       "      <th>Burglary</th>\n",
       "      <th>Earthquake</th>\n",
       "      <th>Alarm</th>\n",
       "      <th>MaryCalls</th>\n",
       "      <th>JohnCalls</th>\n",
       "    </tr>\n",
       "  </thead>\n",
       "  <tbody>\n",
       "    <tr>\n",
       "      <th>0</th>\n",
       "      <td>1</td>\n",
       "      <td>1</td>\n",
       "      <td>1</td>\n",
       "      <td>1</td>\n",
       "      <td>1</td>\n",
       "    </tr>\n",
       "    <tr>\n",
       "      <th>1</th>\n",
       "      <td>1</td>\n",
       "      <td>1</td>\n",
       "      <td>1</td>\n",
       "      <td>1</td>\n",
       "      <td>1</td>\n",
       "    </tr>\n",
       "    <tr>\n",
       "      <th>2</th>\n",
       "      <td>1</td>\n",
       "      <td>1</td>\n",
       "      <td>1</td>\n",
       "      <td>1</td>\n",
       "      <td>1</td>\n",
       "    </tr>\n",
       "    <tr>\n",
       "      <th>3</th>\n",
       "      <td>1</td>\n",
       "      <td>1</td>\n",
       "      <td>1</td>\n",
       "      <td>1</td>\n",
       "      <td>1</td>\n",
       "    </tr>\n",
       "    <tr>\n",
       "      <th>4</th>\n",
       "      <td>1</td>\n",
       "      <td>1</td>\n",
       "      <td>1</td>\n",
       "      <td>1</td>\n",
       "      <td>1</td>\n",
       "    </tr>\n",
       "  </tbody>\n",
       "</table>\n",
       "</div>"
      ],
      "text/plain": [
       "   Burglary  Earthquake  Alarm  MaryCalls  JohnCalls\n",
       "0         1           1      1          1          1\n",
       "1         1           1      1          1          1\n",
       "2         1           1      1          1          1\n",
       "3         1           1      1          1          1\n",
       "4         1           1      1          1          1"
      ]
     },
     "execution_count": 6,
     "metadata": {},
     "output_type": "execute_result"
    }
   ],
   "source": [
    "states_df = pd.read_csv(in_csv)\n",
    "states_df.head()"
   ]
  },
  {
   "cell_type": "code",
   "execution_count": 7,
   "metadata": {
    "collapsed": false
   },
   "outputs": [
    {
     "data": {
      "text/html": [
       "<div>\n",
       "<table border=\"1\" class=\"dataframe\">\n",
       "  <thead>\n",
       "    <tr style=\"text-align: right;\">\n",
       "      <th></th>\n",
       "      <th>Burglary</th>\n",
       "      <th>Earthquake</th>\n",
       "      <th>Alarm</th>\n",
       "      <th>MaryCalls</th>\n",
       "      <th>JohnCalls</th>\n",
       "    </tr>\n",
       "  </thead>\n",
       "  <tbody>\n",
       "    <tr>\n",
       "      <th>195</th>\n",
       "      <td>1</td>\n",
       "      <td>1</td>\n",
       "      <td>1</td>\n",
       "      <td>1</td>\n",
       "      <td>1</td>\n",
       "    </tr>\n",
       "    <tr>\n",
       "      <th>196</th>\n",
       "      <td>1</td>\n",
       "      <td>1</td>\n",
       "      <td>1</td>\n",
       "      <td>1</td>\n",
       "      <td>1</td>\n",
       "    </tr>\n",
       "    <tr>\n",
       "      <th>197</th>\n",
       "      <td>1</td>\n",
       "      <td>1</td>\n",
       "      <td>1</td>\n",
       "      <td>1</td>\n",
       "      <td>1</td>\n",
       "    </tr>\n",
       "    <tr>\n",
       "      <th>198</th>\n",
       "      <td>1</td>\n",
       "      <td>1</td>\n",
       "      <td>1</td>\n",
       "      <td>1</td>\n",
       "      <td>1</td>\n",
       "    </tr>\n",
       "    <tr>\n",
       "      <th>199</th>\n",
       "      <td>1</td>\n",
       "      <td>1</td>\n",
       "      <td>1</td>\n",
       "      <td>1</td>\n",
       "      <td>1</td>\n",
       "    </tr>\n",
       "  </tbody>\n",
       "</table>\n",
       "</div>"
      ],
      "text/plain": [
       "     Burglary  Earthquake  Alarm  MaryCalls  JohnCalls\n",
       "195         1           1      1          1          1\n",
       "196         1           1      1          1          1\n",
       "197         1           1      1          1          1\n",
       "198         1           1      1          1          1\n",
       "199         1           1      1          1          1"
      ]
     },
     "execution_count": 7,
     "metadata": {},
     "output_type": "execute_result"
    }
   ],
   "source": [
    "states_df.tail()"
   ]
  },
  {
   "cell_type": "code",
   "execution_count": 8,
   "metadata": {
    "collapsed": false
   },
   "outputs": [
    {
     "data": {
      "text/plain": [
       "'data.frame':\t200 obs. of  5 variables:\n",
       " $ Burglary  : int  1 1 1 1 1 1 1 1 1 1 ...\n",
       " $ Earthquake: int  1 1 1 1 1 1 1 1 1 1 ...\n",
       " $ Alarm     : int  1 1 1 1 1 1 1 1 1 1 ...\n",
       " $ MaryCalls : int  1 1 1 1 1 1 1 1 1 1 ...\n",
       " $ JohnCalls : int  1 1 1 1 1 1 1 1 0 1 ...\n"
      ]
     },
     "metadata": {},
     "output_type": "display_data"
    }
   ],
   "source": [
    "%Rpush states_df\n",
    "%R str(states_df)"
   ]
  },
  {
   "cell_type": "markdown",
   "metadata": {},
   "source": [
    "For bnlearn, data.frame columns cannot be int type, must be changed to factor.\n",
    "data.frame is a list so can use lapply"
   ]
  },
  {
   "cell_type": "code",
   "execution_count": 9,
   "metadata": {
    "collapsed": false
   },
   "outputs": [
    {
     "data": {
      "text/plain": [
       "'data.frame':\t200 obs. of  5 variables:\n",
       " $ Burglary  : Factor w/ 2 levels \"0\",\"1\": 2 2 2 2 2 2 2 2 2 2 ...\n",
       " $ Earthquake: Factor w/ 2 levels \"0\",\"1\": 2 2 2 2 2 2 2 2 2 2 ...\n",
       " $ Alarm     : Factor w/ 2 levels \"0\",\"1\": 2 2 2 2 2 2 2 2 2 2 ...\n",
       " $ MaryCalls : Factor w/ 2 levels \"0\",\"1\": 2 2 2 2 2 2 2 2 2 2 ...\n",
       " $ JohnCalls : Factor w/ 2 levels \"0\",\"1\": 2 2 2 2 2 2 2 2 1 2 ...\n"
      ]
     },
     "metadata": {},
     "output_type": "display_data"
    }
   ],
   "source": [
    "%R states_df[] <- lapply(states_df, factor)\n",
    "%R str(states_df)"
   ]
  },
  {
   "cell_type": "markdown",
   "metadata": {},
   "source": [
    "# True Network Structure"
   ]
  },
  {
   "cell_type": "code",
   "execution_count": 30,
   "metadata": {
    "collapsed": false
   },
   "outputs": [
    {
     "data": {
      "image/svg+xml": [
       "<?xml version=\"1.0\" encoding=\"UTF-8\" standalone=\"no\"?>\n",
       "<!DOCTYPE svg PUBLIC \"-//W3C//DTD SVG 1.1//EN\"\n",
       " \"http://www.w3.org/Graphics/SVG/1.1/DTD/svg11.dtd\">\n",
       "<!-- Generated by graphviz version 2.38.0 (20140413.2041)\n",
       " -->\n",
       "<!-- Pages: 1 -->\n",
       "<svg width=\"215pt\" height=\"188pt\"\n",
       " viewBox=\"0.00 0.00 215.19 188.00\" xmlns=\"http://www.w3.org/2000/svg\" xmlns:xlink=\"http://www.w3.org/1999/xlink\">\n",
       "<g id=\"graph0\" class=\"graph\" transform=\"scale(1 1) rotate(0) translate(4 184)\">\n",
       "<polygon fill=\"white\" stroke=\"none\" points=\"-4,4 -4,-184 211.191,-184 211.191,4 -4,4\"/>\n",
       "<!-- Earthquake -->\n",
       "<g id=\"node1\" class=\"node\"><title>Earthquake</title>\n",
       "<ellipse fill=\"none\" stroke=\"black\" cx=\"50.6955\" cy=\"-162\" rx=\"50.8918\" ry=\"18\"/>\n",
       "<text text-anchor=\"middle\" x=\"50.6955\" y=\"-158.3\" font-family=\"Times,serif\" font-size=\"14.00\">Earthquake</text>\n",
       "</g>\n",
       "<!-- Alarm -->\n",
       "<g id=\"node5\" class=\"node\"><title>Alarm</title>\n",
       "<ellipse fill=\"none\" stroke=\"black\" cx=\"105.696\" cy=\"-90\" rx=\"33.5952\" ry=\"18\"/>\n",
       "<text text-anchor=\"middle\" x=\"105.696\" y=\"-86.3\" font-family=\"Times,serif\" font-size=\"14.00\">Alarm</text>\n",
       "</g>\n",
       "<!-- Earthquake&#45;&gt;Alarm -->\n",
       "<g id=\"edge1\" class=\"edge\"><title>Earthquake&#45;&gt;Alarm</title>\n",
       "<path fill=\"none\" stroke=\"black\" d=\"M63.7297,-144.411C70.6091,-135.655 79.1768,-124.751 86.7739,-115.082\"/>\n",
       "<polygon fill=\"black\" stroke=\"black\" points=\"89.7073,-117.014 93.1334,-106.988 84.203,-112.689 89.7073,-117.014\"/>\n",
       "</g>\n",
       "<!-- Burglary -->\n",
       "<g id=\"node2\" class=\"node\"><title>Burglary</title>\n",
       "<ellipse fill=\"none\" stroke=\"black\" cx=\"161.696\" cy=\"-162\" rx=\"42.4939\" ry=\"18\"/>\n",
       "<text text-anchor=\"middle\" x=\"161.696\" y=\"-158.3\" font-family=\"Times,serif\" font-size=\"14.00\">Burglary</text>\n",
       "</g>\n",
       "<!-- Burglary&#45;&gt;Alarm -->\n",
       "<g id=\"edge2\" class=\"edge\"><title>Burglary&#45;&gt;Alarm</title>\n",
       "<path fill=\"none\" stroke=\"black\" d=\"M148.707,-144.765C141.639,-135.93 132.76,-124.83 124.906,-115.014\"/>\n",
       "<polygon fill=\"black\" stroke=\"black\" points=\"127.593,-112.77 118.613,-107.147 122.127,-117.142 127.593,-112.77\"/>\n",
       "</g>\n",
       "<!-- MaryCalls -->\n",
       "<g id=\"node3\" class=\"node\"><title>MaryCalls</title>\n",
       "<ellipse fill=\"none\" stroke=\"black\" cx=\"49.6955\" cy=\"-18\" rx=\"48.1917\" ry=\"18\"/>\n",
       "<text text-anchor=\"middle\" x=\"49.6955\" y=\"-14.3\" font-family=\"Times,serif\" font-size=\"14.00\">MaryCalls</text>\n",
       "</g>\n",
       "<!-- JohnCalls -->\n",
       "<g id=\"node4\" class=\"node\"><title>JohnCalls</title>\n",
       "<ellipse fill=\"none\" stroke=\"black\" cx=\"161.696\" cy=\"-18\" rx=\"45.4919\" ry=\"18\"/>\n",
       "<text text-anchor=\"middle\" x=\"161.696\" y=\"-14.3\" font-family=\"Times,serif\" font-size=\"14.00\">JohnCalls</text>\n",
       "</g>\n",
       "<!-- Alarm&#45;&gt;MaryCalls -->\n",
       "<g id=\"edge3\" class=\"edge\"><title>Alarm&#45;&gt;MaryCalls</title>\n",
       "<path fill=\"none\" stroke=\"black\" d=\"M92.9882,-73.1159C86.03,-64.4181 77.2541,-53.4483 69.4257,-43.6627\"/>\n",
       "<polygon fill=\"black\" stroke=\"black\" points=\"72.1134,-41.4196 63.1334,-35.7973 66.6473,-45.7925 72.1134,-41.4196\"/>\n",
       "</g>\n",
       "<!-- Alarm&#45;&gt;JohnCalls -->\n",
       "<g id=\"edge4\" class=\"edge\"><title>Alarm&#45;&gt;JohnCalls</title>\n",
       "<path fill=\"none\" stroke=\"black\" d=\"M118.403,-73.1159C125.462,-64.292 134.392,-53.1298 142.305,-43.238\"/>\n",
       "<polygon fill=\"black\" stroke=\"black\" points=\"145.136,-45.3022 148.65,-35.307 139.67,-40.9293 145.136,-45.3022\"/>\n",
       "</g>\n",
       "</g>\n",
       "</svg>\n"
      ],
      "text/plain": [
       "<graphviz.files.Source at 0x7f322f5dfa20>"
      ]
     },
     "execution_count": 30,
     "metadata": {},
     "output_type": "execute_result"
    }
   ],
   "source": [
    "Source(open(in_dot).read())"
   ]
  },
  {
   "cell_type": "markdown",
   "metadata": {},
   "source": [
    "# Learned Network Structures\n",
    "## MB based learning\n",
    "### Grow Shink\n",
    "#### Qfog"
   ]
  },
  {
   "cell_type": "code",
   "execution_count": 11,
   "metadata": {
    "collapsed": false
   },
   "outputs": [],
   "source": [
    "%%capture qfog_gs_time\n",
    "alpha = 8/len(states_df.index)\n",
    "%time lnr = MB_GrowShrinkLner(states_df, alpha, verbose=False)"
   ]
  },
  {
   "cell_type": "code",
   "execution_count": 12,
   "metadata": {
    "collapsed": false
   },
   "outputs": [
    {
     "name": "stdout",
     "output_type": "stream",
     "text": [
      "CPU times: user 166 ms, sys: 2 us, total: 166 ms\n",
      "Wall time: 166 ms\n",
      "\n"
     ]
    }
   ],
   "source": [
    "print(qfog_gs_time)"
   ]
  },
  {
   "cell_type": "code",
   "execution_count": 13,
   "metadata": {
    "collapsed": false
   },
   "outputs": [
    {
     "data": {
      "image/svg+xml": [
       "<?xml version=\"1.0\" encoding=\"UTF-8\" standalone=\"no\"?>\n",
       "<!DOCTYPE svg PUBLIC \"-//W3C//DTD SVG 1.1//EN\"\n",
       " \"http://www.w3.org/Graphics/SVG/1.1/DTD/svg11.dtd\">\n",
       "<!-- Generated by graphviz version 2.38.0 (20140413.2041)\n",
       " -->\n",
       "<!-- Pages: 1 -->\n",
       "<svg width=\"436pt\" height=\"116pt\"\n",
       " viewBox=\"0.00 0.00 435.94 116.00\" xmlns=\"http://www.w3.org/2000/svg\" xmlns:xlink=\"http://www.w3.org/1999/xlink\">\n",
       "<g id=\"graph0\" class=\"graph\" transform=\"scale(1 1) rotate(0) translate(4 112)\">\n",
       "<polygon fill=\"white\" stroke=\"none\" points=\"-4,4 -4,-112 431.942,-112 431.942,4 -4,4\"/>\n",
       "<!-- Alarm -->\n",
       "<g id=\"node1\" class=\"node\"><title>Alarm</title>\n",
       "<ellipse fill=\"none\" stroke=\"black\" cx=\"50.6955\" cy=\"-18\" rx=\"33.5952\" ry=\"18\"/>\n",
       "<text text-anchor=\"middle\" x=\"50.6955\" y=\"-14.3\" font-family=\"Times,serif\" font-size=\"14.00\">Alarm</text>\n",
       "</g>\n",
       "<!-- MaryCalls -->\n",
       "<g id=\"node2\" class=\"node\"><title>MaryCalls</title>\n",
       "<ellipse fill=\"none\" stroke=\"black\" cx=\"167.696\" cy=\"-90\" rx=\"48.1917\" ry=\"18\"/>\n",
       "<text text-anchor=\"middle\" x=\"167.696\" y=\"-86.3\" font-family=\"Times,serif\" font-size=\"14.00\">MaryCalls</text>\n",
       "</g>\n",
       "<!-- JohnCalls -->\n",
       "<g id=\"node3\" class=\"node\"><title>JohnCalls</title>\n",
       "<ellipse fill=\"none\" stroke=\"black\" cx=\"279.696\" cy=\"-90\" rx=\"45.4919\" ry=\"18\"/>\n",
       "<text text-anchor=\"middle\" x=\"279.696\" y=\"-86.3\" font-family=\"Times,serif\" font-size=\"14.00\">JohnCalls</text>\n",
       "</g>\n",
       "<!-- Burglary -->\n",
       "<g id=\"node4\" class=\"node\"><title>Burglary</title>\n",
       "<ellipse fill=\"none\" stroke=\"black\" cx=\"385.696\" cy=\"-90\" rx=\"42.4939\" ry=\"18\"/>\n",
       "<text text-anchor=\"middle\" x=\"385.696\" y=\"-86.3\" font-family=\"Times,serif\" font-size=\"14.00\">Burglary</text>\n",
       "</g>\n",
       "<!-- Earthquake -->\n",
       "<g id=\"node5\" class=\"node\"><title>Earthquake</title>\n",
       "<ellipse fill=\"none\" stroke=\"black\" cx=\"50.6955\" cy=\"-90\" rx=\"50.8918\" ry=\"18\"/>\n",
       "<text text-anchor=\"middle\" x=\"50.6955\" y=\"-86.3\" font-family=\"Times,serif\" font-size=\"14.00\">Earthquake</text>\n",
       "</g>\n",
       "<!-- Earthquake&#45;&gt;Alarm -->\n",
       "<g id=\"edge1\" class=\"edge\"><title>Earthquake&#45;&gt;Alarm</title>\n",
       "<path fill=\"none\" stroke=\"black\" d=\"M50.6955,-71.6966C50.6955,-63.9827 50.6955,-54.7125 50.6955,-46.1124\"/>\n",
       "<polygon fill=\"black\" stroke=\"black\" points=\"54.1956,-46.1043 50.6955,-36.1043 47.1956,-46.1044 54.1956,-46.1043\"/>\n",
       "</g>\n",
       "</g>\n",
       "</svg>\n"
      ],
      "text/plain": [
       "<graphviz.files.Source at 0x7f322f6c1b00>"
      ]
     },
     "execution_count": 13,
     "metadata": {},
     "output_type": "execute_result"
    }
   ],
   "source": [
    "lnr.bnet.write_dot(learned_dot) # write BNet to .dot file\n",
    "Source(open(learned_dot).read())"
   ]
  },
  {
   "cell_type": "markdown",
   "metadata": {},
   "source": [
    "#### bnlearn"
   ]
  },
  {
   "cell_type": "code",
   "execution_count": 14,
   "metadata": {
    "collapsed": false,
    "scrolled": false
   },
   "outputs": [],
   "source": [
    "%%capture bnlearn_gs_time\n",
    "%time %R bn <- gs(states_df);"
   ]
  },
  {
   "cell_type": "code",
   "execution_count": 15,
   "metadata": {
    "collapsed": false
   },
   "outputs": [
    {
     "name": "stdout",
     "output_type": "stream",
     "text": [
      "CPU times: user 11.8 ms, sys: 0 ns, total: 11.8 ms\n",
      "Wall time: 11.9 ms\n",
      "\n"
     ]
    }
   ],
   "source": [
    "print(bnlearn_gs_time)"
   ]
  },
  {
   "cell_type": "code",
   "execution_count": 16,
   "metadata": {
    "collapsed": false
   },
   "outputs": [
    {
     "data": {
      "image/png": "[encoded data removed]"
     },
     "metadata": {},
     "output_type": "display_data"
    }
   ],
   "source": [
    "%R par(mfrow = c(1,1))\n",
    "%R graphviz.plot(bn, shape = \"ellipse\", main = \"Grow-Shrink (GS)\");"
   ]
  },
  {
   "cell_type": "markdown",
   "metadata": {},
   "source": [
    "### IAMB\n",
    "#### QFog"
   ]
  },
  {
   "cell_type": "code",
   "execution_count": 17,
   "metadata": {
    "collapsed": false,
    "scrolled": false
   },
   "outputs": [],
   "source": [
    "%%capture qfog_iamb_time\n",
    "alpha = 8/len(states_df.index)\n",
    "%time lnr = MB_IAMB_Lner(states_df, alpha, verbose=False)"
   ]
  },
  {
   "cell_type": "code",
   "execution_count": 18,
   "metadata": {
    "collapsed": false
   },
   "outputs": [
    {
     "name": "stdout",
     "output_type": "stream",
     "text": [
      "CPU times: user 153 ms, sys: 136 us, total: 153 ms\n",
      "Wall time: 153 ms\n",
      "\n"
     ]
    }
   ],
   "source": [
    "print(qfog_iamb_time)"
   ]
  },
  {
   "cell_type": "code",
   "execution_count": 19,
   "metadata": {
    "collapsed": false
   },
   "outputs": [
    {
     "data": {
      "image/svg+xml": [
       "<?xml version=\"1.0\" encoding=\"UTF-8\" standalone=\"no\"?>\n",
       "<!DOCTYPE svg PUBLIC \"-//W3C//DTD SVG 1.1//EN\"\n",
       " \"http://www.w3.org/Graphics/SVG/1.1/DTD/svg11.dtd\">\n",
       "<!-- Generated by graphviz version 2.38.0 (20140413.2041)\n",
       " -->\n",
       "<!-- Pages: 1 -->\n",
       "<svg width=\"436pt\" height=\"116pt\"\n",
       " viewBox=\"0.00 0.00 435.94 116.00\" xmlns=\"http://www.w3.org/2000/svg\" xmlns:xlink=\"http://www.w3.org/1999/xlink\">\n",
       "<g id=\"graph0\" class=\"graph\" transform=\"scale(1 1) rotate(0) translate(4 112)\">\n",
       "<polygon fill=\"white\" stroke=\"none\" points=\"-4,4 -4,-112 431.942,-112 431.942,4 -4,4\"/>\n",
       "<!-- Earthquake -->\n",
       "<g id=\"node1\" class=\"node\"><title>Earthquake</title>\n",
       "<ellipse fill=\"none\" stroke=\"black\" cx=\"50.6955\" cy=\"-90\" rx=\"50.8918\" ry=\"18\"/>\n",
       "<text text-anchor=\"middle\" x=\"50.6955\" y=\"-86.3\" font-family=\"Times,serif\" font-size=\"14.00\">Earthquake</text>\n",
       "</g>\n",
       "<!-- Alarm -->\n",
       "<g id=\"node2\" class=\"node\"><title>Alarm</title>\n",
       "<ellipse fill=\"none\" stroke=\"black\" cx=\"50.6955\" cy=\"-18\" rx=\"33.5952\" ry=\"18\"/>\n",
       "<text text-anchor=\"middle\" x=\"50.6955\" y=\"-14.3\" font-family=\"Times,serif\" font-size=\"14.00\">Alarm</text>\n",
       "</g>\n",
       "<!-- Earthquake&#45;&gt;Alarm -->\n",
       "<g id=\"edge1\" class=\"edge\"><title>Earthquake&#45;&gt;Alarm</title>\n",
       "<path fill=\"none\" stroke=\"black\" d=\"M50.6955,-71.6966C50.6955,-63.9827 50.6955,-54.7125 50.6955,-46.1124\"/>\n",
       "<polygon fill=\"black\" stroke=\"black\" points=\"54.1956,-46.1043 50.6955,-36.1043 47.1956,-46.1044 54.1956,-46.1043\"/>\n",
       "</g>\n",
       "<!-- MaryCalls -->\n",
       "<g id=\"node3\" class=\"node\"><title>MaryCalls</title>\n",
       "<ellipse fill=\"none\" stroke=\"black\" cx=\"167.696\" cy=\"-90\" rx=\"48.1917\" ry=\"18\"/>\n",
       "<text text-anchor=\"middle\" x=\"167.696\" y=\"-86.3\" font-family=\"Times,serif\" font-size=\"14.00\">MaryCalls</text>\n",
       "</g>\n",
       "<!-- JohnCalls -->\n",
       "<g id=\"node4\" class=\"node\"><title>JohnCalls</title>\n",
       "<ellipse fill=\"none\" stroke=\"black\" cx=\"279.696\" cy=\"-90\" rx=\"45.4919\" ry=\"18\"/>\n",
       "<text text-anchor=\"middle\" x=\"279.696\" y=\"-86.3\" font-family=\"Times,serif\" font-size=\"14.00\">JohnCalls</text>\n",
       "</g>\n",
       "<!-- Burglary -->\n",
       "<g id=\"node5\" class=\"node\"><title>Burglary</title>\n",
       "<ellipse fill=\"none\" stroke=\"black\" cx=\"385.696\" cy=\"-90\" rx=\"42.4939\" ry=\"18\"/>\n",
       "<text text-anchor=\"middle\" x=\"385.696\" y=\"-86.3\" font-family=\"Times,serif\" font-size=\"14.00\">Burglary</text>\n",
       "</g>\n",
       "</g>\n",
       "</svg>\n"
      ],
      "text/plain": [
       "<graphviz.files.Source at 0x7f322f5e80f0>"
      ]
     },
     "execution_count": 19,
     "metadata": {},
     "output_type": "execute_result"
    }
   ],
   "source": [
    "lnr.bnet.write_dot(learned_dot) # write BNet to .dot file\n",
    "Source(open(learned_dot).read())"
   ]
  },
  {
   "cell_type": "markdown",
   "metadata": {},
   "source": [
    "Results are sensitive to \"alpha\""
   ]
  },
  {
   "cell_type": "markdown",
   "metadata": {},
   "source": [
    "#### bnlearn"
   ]
  },
  {
   "cell_type": "code",
   "execution_count": 20,
   "metadata": {
    "collapsed": false
   },
   "outputs": [],
   "source": [
    "%%capture  bnlearn_iamb_time\n",
    "%time %R bn <- iamb(states_df);"
   ]
  },
  {
   "cell_type": "code",
   "execution_count": 21,
   "metadata": {
    "collapsed": false
   },
   "outputs": [
    {
     "name": "stdout",
     "output_type": "stream",
     "text": [
      "CPU times: user 9.05 ms, sys: 76 us, total: 9.13 ms\n",
      "Wall time: 9.18 ms\n",
      "\n"
     ]
    }
   ],
   "source": [
    "print(bnlearn_iamb_time)"
   ]
  },
  {
   "cell_type": "code",
   "execution_count": 22,
   "metadata": {
    "collapsed": false
   },
   "outputs": [
    {
     "data": {
      "image/png": "[encoded data removed]"
     },
     "metadata": {},
     "output_type": "display_data"
    }
   ],
   "source": [
    "%R par(mfrow = c(1,1))\n",
    "%R graphviz.plot(bn, shape = \"ellipse\", main = \"Incremental Association Markov Blanket(IAMB)\");"
   ]
  },
  {
   "cell_type": "markdown",
   "metadata": {},
   "source": [
    "## Score based learning\n",
    "### Hiil Climbing with BIC score\n",
    "#### QFog"
   ]
  },
  {
   "cell_type": "code",
   "execution_count": 23,
   "metadata": {
    "collapsed": false
   },
   "outputs": [],
   "source": [
    "%%capture qfog_hc_bic_time\n",
    "score_type = 'BIC'\n",
    "max_num_mtries = 30\n",
    "ess = 1.0 \n",
    "%time lnr = HillClimbingLner(states_df, score_type, max_num_mtries, ess)"
   ]
  },
  {
   "cell_type": "code",
   "execution_count": 24,
   "metadata": {
    "collapsed": false
   },
   "outputs": [
    {
     "name": "stdout",
     "output_type": "stream",
     "text": [
      "CPU times: user 287 ms, sys: 202 us, total: 288 ms\n",
      "Wall time: 288 ms\n",
      "\n"
     ]
    }
   ],
   "source": [
    "print(qfog_hc_bic_time)"
   ]
  },
  {
   "cell_type": "code",
   "execution_count": 25,
   "metadata": {
    "collapsed": false
   },
   "outputs": [
    {
     "data": {
      "image/svg+xml": [
       "<?xml version=\"1.0\" encoding=\"UTF-8\" standalone=\"no\"?>\n",
       "<!DOCTYPE svg PUBLIC \"-//W3C//DTD SVG 1.1//EN\"\n",
       " \"http://www.w3.org/Graphics/SVG/1.1/DTD/svg11.dtd\">\n",
       "<!-- Generated by graphviz version 2.38.0 (20140413.2041)\n",
       " -->\n",
       "<!-- Pages: 1 -->\n",
       "<svg width=\"209pt\" height=\"260pt\"\n",
       " viewBox=\"0.00 0.00 208.94 260.00\" xmlns=\"http://www.w3.org/2000/svg\" xmlns:xlink=\"http://www.w3.org/1999/xlink\">\n",
       "<g id=\"graph0\" class=\"graph\" transform=\"scale(1 1) rotate(0) translate(4 256)\">\n",
       "<polygon fill=\"white\" stroke=\"none\" points=\"-4,4 -4,-256 204.942,-256 204.942,4 -4,4\"/>\n",
       "<!-- MaryCalls -->\n",
       "<g id=\"node1\" class=\"node\"><title>MaryCalls</title>\n",
       "<ellipse fill=\"none\" stroke=\"black\" cx=\"50.6955\" cy=\"-234\" rx=\"48.1917\" ry=\"18\"/>\n",
       "<text text-anchor=\"middle\" x=\"50.6955\" y=\"-230.3\" font-family=\"Times,serif\" font-size=\"14.00\">MaryCalls</text>\n",
       "</g>\n",
       "<!-- Alarm -->\n",
       "<g id=\"node2\" class=\"node\"><title>Alarm</title>\n",
       "<ellipse fill=\"none\" stroke=\"black\" cx=\"50.6955\" cy=\"-162\" rx=\"33.5952\" ry=\"18\"/>\n",
       "<text text-anchor=\"middle\" x=\"50.6955\" y=\"-158.3\" font-family=\"Times,serif\" font-size=\"14.00\">Alarm</text>\n",
       "</g>\n",
       "<!-- MaryCalls&#45;&gt;Alarm -->\n",
       "<g id=\"edge1\" class=\"edge\"><title>MaryCalls&#45;&gt;Alarm</title>\n",
       "<path fill=\"none\" stroke=\"black\" d=\"M50.6955,-215.697C50.6955,-207.983 50.6955,-198.712 50.6955,-190.112\"/>\n",
       "<polygon fill=\"black\" stroke=\"black\" points=\"54.1956,-190.104 50.6955,-180.104 47.1956,-190.104 54.1956,-190.104\"/>\n",
       "</g>\n",
       "<!-- Earthquake -->\n",
       "<g id=\"node5\" class=\"node\"><title>Earthquake</title>\n",
       "<ellipse fill=\"none\" stroke=\"black\" cx=\"50.6955\" cy=\"-90\" rx=\"50.8918\" ry=\"18\"/>\n",
       "<text text-anchor=\"middle\" x=\"50.6955\" y=\"-86.3\" font-family=\"Times,serif\" font-size=\"14.00\">Earthquake</text>\n",
       "</g>\n",
       "<!-- Alarm&#45;&gt;Earthquake -->\n",
       "<g id=\"edge2\" class=\"edge\"><title>Alarm&#45;&gt;Earthquake</title>\n",
       "<path fill=\"none\" stroke=\"black\" d=\"M50.6955,-143.697C50.6955,-135.983 50.6955,-126.712 50.6955,-118.112\"/>\n",
       "<polygon fill=\"black\" stroke=\"black\" points=\"54.1956,-118.104 50.6955,-108.104 47.1956,-118.104 54.1956,-118.104\"/>\n",
       "</g>\n",
       "<!-- JohnCalls -->\n",
       "<g id=\"node3\" class=\"node\"><title>JohnCalls</title>\n",
       "<ellipse fill=\"none\" stroke=\"black\" cx=\"50.6955\" cy=\"-18\" rx=\"45.4919\" ry=\"18\"/>\n",
       "<text text-anchor=\"middle\" x=\"50.6955\" y=\"-14.3\" font-family=\"Times,serif\" font-size=\"14.00\">JohnCalls</text>\n",
       "</g>\n",
       "<!-- Burglary -->\n",
       "<g id=\"node4\" class=\"node\"><title>Burglary</title>\n",
       "<ellipse fill=\"none\" stroke=\"black\" cx=\"158.696\" cy=\"-234\" rx=\"42.4939\" ry=\"18\"/>\n",
       "<text text-anchor=\"middle\" x=\"158.696\" y=\"-230.3\" font-family=\"Times,serif\" font-size=\"14.00\">Burglary</text>\n",
       "</g>\n",
       "<!-- Earthquake&#45;&gt;JohnCalls -->\n",
       "<g id=\"edge3\" class=\"edge\"><title>Earthquake&#45;&gt;JohnCalls</title>\n",
       "<path fill=\"none\" stroke=\"black\" d=\"M50.6955,-71.6966C50.6955,-63.9827 50.6955,-54.7125 50.6955,-46.1124\"/>\n",
       "<polygon fill=\"black\" stroke=\"black\" points=\"54.1956,-46.1043 50.6955,-36.1043 47.1956,-46.1044 54.1956,-46.1043\"/>\n",
       "</g>\n",
       "</g>\n",
       "</svg>\n"
      ],
      "text/plain": [
       "<graphviz.files.Source at 0x7f322f6c1978>"
      ]
     },
     "execution_count": 25,
     "metadata": {},
     "output_type": "execute_result"
    }
   ],
   "source": [
    "lnr.bnet.write_dot(learned_dot) # write BNet to .dot file\n",
    "Source(open(learned_dot).read())"
   ]
  },
  {
   "cell_type": "markdown",
   "metadata": {},
   "source": [
    "#### bnlearn"
   ]
  },
  {
   "cell_type": "markdown",
   "metadata": {},
   "source": [
    "In bnlearn, the default score is **BIC** (Bayesian Information Criterion) for both discrete and continuous data sets"
   ]
  },
  {
   "cell_type": "code",
   "execution_count": 26,
   "metadata": {
    "collapsed": false
   },
   "outputs": [],
   "source": [
    "%%capture bnlearn_hc_bic_time\n",
    "%time %R bn <- hc(states_df);"
   ]
  },
  {
   "cell_type": "code",
   "execution_count": 27,
   "metadata": {
    "collapsed": false
   },
   "outputs": [
    {
     "name": "stdout",
     "output_type": "stream",
     "text": [
      "CPU times: user 12.1 ms, sys: 17 us, total: 12.1 ms\n",
      "Wall time: 12.3 ms\n",
      "\n"
     ]
    }
   ],
   "source": [
    "print(bnlearn_hc_bic_time)"
   ]
  },
  {
   "cell_type": "code",
   "execution_count": 28,
   "metadata": {
    "collapsed": false
   },
   "outputs": [
    {
     "data": {
      "image/png": "[encoded data removed]"
     },
     "metadata": {},
     "output_type": "display_data"
    }
   ],
   "source": [
    "%R par(mfrow = c(1,1))\n",
    "%R graphviz.plot(bn, shape = \"ellipse\", main = \"Hill-Climbing-BIC\");"
   ]
  },
  {
   "cell_type": "markdown",
   "metadata": {},
   "source": [
    "## Summary of Running Times"
   ]
  },
  {
   "cell_type": "code",
   "execution_count": 29,
   "metadata": {
    "collapsed": false
   },
   "outputs": [
    {
     "name": "stdout",
     "output_type": "stream",
     "text": [
      "-------------Grow-Shrink:\n",
      "QFog: CPU times: user 166 ms, sys: 2 us, total: 166 ms\n",
      "Wall time: 166 ms\n",
      "\n",
      "bnlearn: CPU times: user 11.8 ms, sys: 0 ns, total: 11.8 ms\n",
      "Wall time: 11.9 ms\n",
      "\n",
      "-------------IAMB\n",
      "QFog: CPU times: user 153 ms, sys: 136 us, total: 153 ms\n",
      "Wall time: 153 ms\n",
      "\n",
      "bnlearn: CPU times: user 9.05 ms, sys: 76 us, total: 9.13 ms\n",
      "Wall time: 9.18 ms\n",
      "\n",
      "-------------Hill Climbing with BIC score:\n",
      "QFog: CPU times: user 287 ms, sys: 202 us, total: 288 ms\n",
      "Wall time: 288 ms\n",
      "\n",
      "bnlearn: CPU times: user 12.1 ms, sys: 17 us, total: 12.1 ms\n",
      "Wall time: 12.3 ms\n",
      "\n"
     ]
    }
   ],
   "source": [
    "print(\"-------------Grow-Shrink:\")\n",
    "print(\"QFog:\", qfog_gs_time)\n",
    "print(\"bnlearn:\", bnlearn_gs_time)\n",
    "\n",
    "print(\"-------------IAMB\")\n",
    "print(\"QFog:\", qfog_iamb_time)\n",
    "print(\"bnlearn:\", bnlearn_iamb_time)\n",
    "\n",
    "print(\"-------------Hill Climbing with BIC score:\")\n",
    "print(\"QFog:\", qfog_hc_bic_time)\n",
    "print(\"bnlearn:\", bnlearn_hc_bic_time)"
   ]
  },
  {
   "cell_type": "code",
   "execution_count": null,
   "metadata": {
    "collapsed": true
   },
   "outputs": [],
   "source": []
  }
 ],
 "metadata": {
  "anaconda-cloud": {},
  "kernelspec": {
   "display_name": "Python 3",
   "language": "python",
   "name": "python3"
  },
  "language_info": {
   "codemirror_mode": {
    "name": "ipython",
    "version": 3
   },
   "file_extension": ".py",
   "mimetype": "text/x-python",
   "name": "python",
   "nbconvert_exporter": "python",
   "pygments_lexer": "ipython3",
   "version": "3.6.0"
  },
  "toc": {
   "colors": {
    "hover_highlight": "#DAA520",
    "running_highlight": "#FF0000",
    "selected_highlight": "#FFD700"
   },
   "moveMenuLeft": true,
   "nav_menu": {
    "height": "210px",
    "width": "252px"
   },
   "navigate_menu": true,
   "number_sections": true,
   "sideBar": false,
   "threshold": "3",
   "toc_cell": true,
   "toc_position": {
    "height": "283px",
    "left": "1px",
    "right": "20px",
    "top": "107px",
    "width": "212px"
   },
   "toc_section_display": "none",
   "toc_window_display": true
  }
 },
 "nbformat": 4,
 "nbformat_minor": 1
}
