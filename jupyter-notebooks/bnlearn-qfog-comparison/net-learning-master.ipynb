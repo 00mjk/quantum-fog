{
 "cells": [
  {
   "cell_type": "markdown",
   "metadata": {},
   "source": [
    "**Net Learning Master**\n",
    "\n",
    "This notebook runs \n",
    "* struc-learning-template.ipynb \n",
    "* param-learning-template.ipynb \n",
    "\n",
    "for different networks.\n",
    "\n",
    "See nbrun-example folder for an example of how to use nbrun (nbrun=notebook run)"
   ]
  },
  {
   "cell_type": "markdown",
   "metadata": {},
   "source": [
    "Change working directory to quantum-fog and add it to path environment variable."
   ]
  },
  {
   "cell_type": "code",
   "execution_count": 1,
   "metadata": {
    "collapsed": false
   },
   "outputs": [
    {
     "name": "stdout",
     "output_type": "stream",
     "text": [
      "/home/jupyter/Notebooks/quantum-fog/jupyter-notebooks/bnlearn-qfog-comparison\n",
      "/home/jupyter/Notebooks/quantum-fog\n"
     ]
    }
   ],
   "source": [
    "import os\n",
    "import sys\n",
    "print(os.getcwd())\n",
    "os.chdir('../../')\n",
    "print(os.getcwd())\n",
    "sys.path.insert(0,os.getcwd())"
   ]
  },
  {
   "cell_type": "markdown",
   "metadata": {},
   "source": [
    "import nbrun.py"
   ]
  },
  {
   "cell_type": "code",
   "execution_count": 2,
   "metadata": {
    "collapsed": true
   },
   "outputs": [],
   "source": [
    "# this doesn't work because of hyphen:\n",
    "# from jupyter-notebooks.nbrun import run_notebook\n",
    "\n",
    "import importlib\n",
    "mod = importlib.import_module(\"jupyter-notebooks.nbrun\")"
   ]
  },
  {
   "cell_type": "markdown",
   "metadata": {},
   "source": [
    "import qfog modules"
   ]
  },
  {
   "cell_type": "code",
   "execution_count": 3,
   "metadata": {
    "collapsed": false
   },
   "outputs": [],
   "source": [
    "from learning.RandGen_NetParams import *\n",
    "from graphs.BayesNet import *"
   ]
  },
  {
   "cell_type": "code",
   "execution_count": 4,
   "metadata": {
    "collapsed": false
   },
   "outputs": [],
   "source": [
    "# if use_tempo_csv=True (False, resp.) will write training data \n",
    "# into a tempo.csv (<bnet_name>.csv, resp.) file\n",
    "\n",
    "# nb_type is either 'struc' or 'param'\n",
    "\n",
    "def do_nb(nb_type, use_tempo_csv=True):\n",
    "    assert nb_type in ['struc', 'param']\n",
    "    \n",
    "    # write paths\n",
    "    in_bif = 'examples_cbnets/' + bnet_name + '.bif'\n",
    "    in_dot = 'examples_cbnets/' + bnet_name + '.dot'\n",
    "    in_csv = 'learning/training_data_c/'\n",
    "    if not generate_training_data:\n",
    "        in_csv +=  bnet_name + '.csv'\n",
    "        assert os.path.exists(in_csv), \"no training data for this net in training_data_c folder\"\n",
    "    else:        \n",
    "        if use_tempo_csv:\n",
    "            in_csv += 'tempo.csv'\n",
    "        else:\n",
    "            in_csv += bnet_name + '.csv'\n",
    "    \n",
    "        # write csv file\n",
    "        is_quantum = False\n",
    "        use_int_sts = True\n",
    "        bnet = BayesNet.read_bif(in_bif, is_quantum)\n",
    "        gen = RandGen_NetParams(is_quantum, bnet, num_samples, use_int_sts)    \n",
    "        gen.write_csv(in_csv)\n",
    "    \n",
    "    # run notebook\n",
    "    template_name = 'jupyter-notebooks/bnlearn-qfog-comparison/' + nb_type + '-learning-template'\n",
    "    nb_kwargs = {'in_bif': in_bif, 'in_dot': in_dot, 'in_csv': in_csv}\n",
    "    mod.run_notebook(template_name, nb_suffix='-' + bnet_name, nb_kwargs=nb_kwargs)       "
   ]
  },
  {
   "cell_type": "code",
   "execution_count": 5,
   "metadata": {
    "collapsed": true
   },
   "outputs": [],
   "source": [
    "in_bif = ''\n",
    "in_dot = ''\n",
    "in_csv = ''"
   ]
  },
  {
   "cell_type": "markdown",
   "metadata": {},
   "source": [
    "# earthquake"
   ]
  },
  {
   "cell_type": "code",
   "execution_count": 6,
   "metadata": {
    "collapsed": false
   },
   "outputs": [
    {
     "data": {
      "text/html": [
       "<a href='jupyter-notebooks/bnlearn-qfog-comparison/struc-learning-template.ipynb' target='_blank'>jupyter-notebooks/bnlearn-qfog-comparison/struc-learning-template.ipynb</a><br>"
      ],
      "text/plain": [
       "/home/jupyter/Notebooks/quantum-fog/jupyter-notebooks/bnlearn-qfog-comparison/struc-learning-template.ipynb"
      ]
     },
     "metadata": {},
     "output_type": "display_data"
    },
    {
     "data": {
      "text/html": [
       "<a href='./jupyter-notebooks/bnlearn-qfog-comparison/struc-learning-template-earthquake.ipynb' target='_blank'>./jupyter-notebooks/bnlearn-qfog-comparison/struc-learning-template-earthquake.ipynb</a><br>"
      ],
      "text/plain": [
       "/home/jupyter/Notebooks/quantum-fog/jupyter-notebooks/bnlearn-qfog-comparison/struc-learning-template-earthquake.ipynb"
      ]
     },
     "metadata": {},
     "output_type": "display_data"
    },
    {
     "data": {
      "text/html": [
       "<a href='jupyter-notebooks/bnlearn-qfog-comparison/param-learning-template.ipynb' target='_blank'>jupyter-notebooks/bnlearn-qfog-comparison/param-learning-template.ipynb</a><br>"
      ],
      "text/plain": [
       "/home/jupyter/Notebooks/quantum-fog/jupyter-notebooks/bnlearn-qfog-comparison/param-learning-template.ipynb"
      ]
     },
     "metadata": {},
     "output_type": "display_data"
    },
    {
     "data": {
      "text/html": [
       "<a href='./jupyter-notebooks/bnlearn-qfog-comparison/param-learning-template-earthquake.ipynb' target='_blank'>./jupyter-notebooks/bnlearn-qfog-comparison/param-learning-template-earthquake.ipynb</a><br>"
      ],
      "text/plain": [
       "/home/jupyter/Notebooks/quantum-fog/jupyter-notebooks/bnlearn-qfog-comparison/param-learning-template-earthquake.ipynb"
      ]
     },
     "metadata": {},
     "output_type": "display_data"
    }
   ],
   "source": [
    "bnet_name = 'earthquake'\n",
    "generate_training_data = False  # use False if training data already exists\n",
    "num_samples = 5000\n",
    "\n",
    "do_nb('struc')\n",
    "do_nb('param')"
   ]
  },
  {
   "cell_type": "markdown",
   "metadata": {},
   "source": [
    "# WetGrass"
   ]
  },
  {
   "cell_type": "code",
   "execution_count": 7,
   "metadata": {
    "collapsed": false
   },
   "outputs": [
    {
     "data": {
      "text/html": [
       "<a href='jupyter-notebooks/bnlearn-qfog-comparison/struc-learning-template.ipynb' target='_blank'>jupyter-notebooks/bnlearn-qfog-comparison/struc-learning-template.ipynb</a><br>"
      ],
      "text/plain": [
       "/home/jupyter/Notebooks/quantum-fog/jupyter-notebooks/bnlearn-qfog-comparison/struc-learning-template.ipynb"
      ]
     },
     "metadata": {},
     "output_type": "display_data"
    },
    {
     "data": {
      "text/html": [
       "<a href='./jupyter-notebooks/bnlearn-qfog-comparison/struc-learning-template-WetGrass.ipynb' target='_blank'>./jupyter-notebooks/bnlearn-qfog-comparison/struc-learning-template-WetGrass.ipynb</a><br>"
      ],
      "text/plain": [
       "/home/jupyter/Notebooks/quantum-fog/jupyter-notebooks/bnlearn-qfog-comparison/struc-learning-template-WetGrass.ipynb"
      ]
     },
     "metadata": {},
     "output_type": "display_data"
    },
    {
     "data": {
      "text/html": [
       "<a href='jupyter-notebooks/bnlearn-qfog-comparison/param-learning-template.ipynb' target='_blank'>jupyter-notebooks/bnlearn-qfog-comparison/param-learning-template.ipynb</a><br>"
      ],
      "text/plain": [
       "/home/jupyter/Notebooks/quantum-fog/jupyter-notebooks/bnlearn-qfog-comparison/param-learning-template.ipynb"
      ]
     },
     "metadata": {},
     "output_type": "display_data"
    },
    {
     "data": {
      "text/html": [
       "<a href='./jupyter-notebooks/bnlearn-qfog-comparison/param-learning-template-WetGrass.ipynb' target='_blank'>./jupyter-notebooks/bnlearn-qfog-comparison/param-learning-template-WetGrass.ipynb</a><br>"
      ],
      "text/plain": [
       "/home/jupyter/Notebooks/quantum-fog/jupyter-notebooks/bnlearn-qfog-comparison/param-learning-template-WetGrass.ipynb"
      ]
     },
     "metadata": {},
     "output_type": "display_data"
    }
   ],
   "source": [
    "bnet_name = 'WetGrass'\n",
    "generate_training_data = False  # use False if training data already exists\n",
    "num_samples = 2000\n",
    "\n",
    "do_nb('struc')\n",
    "do_nb('param') "
   ]
  },
  {
   "cell_type": "markdown",
   "metadata": {},
   "source": [
    "# asia"
   ]
  },
  {
   "cell_type": "code",
   "execution_count": 8,
   "metadata": {
    "collapsed": false
   },
   "outputs": [
    {
     "data": {
      "text/html": [
       "<a href='jupyter-notebooks/bnlearn-qfog-comparison/struc-learning-template.ipynb' target='_blank'>jupyter-notebooks/bnlearn-qfog-comparison/struc-learning-template.ipynb</a><br>"
      ],
      "text/plain": [
       "/home/jupyter/Notebooks/quantum-fog/jupyter-notebooks/bnlearn-qfog-comparison/struc-learning-template.ipynb"
      ]
     },
     "metadata": {},
     "output_type": "display_data"
    },
    {
     "data": {
      "text/html": [
       "<a href='./jupyter-notebooks/bnlearn-qfog-comparison/struc-learning-template-asia.ipynb' target='_blank'>./jupyter-notebooks/bnlearn-qfog-comparison/struc-learning-template-asia.ipynb</a><br>"
      ],
      "text/plain": [
       "/home/jupyter/Notebooks/quantum-fog/jupyter-notebooks/bnlearn-qfog-comparison/struc-learning-template-asia.ipynb"
      ]
     },
     "metadata": {},
     "output_type": "display_data"
    },
    {
     "data": {
      "text/html": [
       "<a href='jupyter-notebooks/bnlearn-qfog-comparison/param-learning-template.ipynb' target='_blank'>jupyter-notebooks/bnlearn-qfog-comparison/param-learning-template.ipynb</a><br>"
      ],
      "text/plain": [
       "/home/jupyter/Notebooks/quantum-fog/jupyter-notebooks/bnlearn-qfog-comparison/param-learning-template.ipynb"
      ]
     },
     "metadata": {},
     "output_type": "display_data"
    },
    {
     "data": {
      "text/html": [
       "<a href='./jupyter-notebooks/bnlearn-qfog-comparison/param-learning-template-asia.ipynb' target='_blank'>./jupyter-notebooks/bnlearn-qfog-comparison/param-learning-template-asia.ipynb</a><br>"
      ],
      "text/plain": [
       "/home/jupyter/Notebooks/quantum-fog/jupyter-notebooks/bnlearn-qfog-comparison/param-learning-template-asia.ipynb"
      ]
     },
     "metadata": {},
     "output_type": "display_data"
    }
   ],
   "source": [
    "bnet_name = 'asia'\n",
    "generate_training_data = True  # use False if training data already exists\n",
    "num_samples = 2000\n",
    "\n",
    "do_nb('struc')\n",
    "do_nb('param')   "
   ]
  },
  {
   "cell_type": "code",
   "execution_count": 9,
   "metadata": {
    "collapsed": true
   },
   "outputs": [],
   "source": [
    "%%bash\n",
    "rm -f learning/training_data_c/tempo.csv"
   ]
  }
 ],
 "metadata": {
  "kernelspec": {
   "display_name": "Python 3",
   "language": "python",
   "name": "python3"
  },
  "language_info": {
   "codemirror_mode": {
    "name": "ipython",
    "version": 3
   },
   "file_extension": ".py",
   "mimetype": "text/x-python",
   "name": "python",
   "nbconvert_exporter": "python",
   "pygments_lexer": "ipython3",
   "version": "3.6.0"
  },
  "toc": {
   "colors": {
    "hover_highlight": "#DAA520",
    "running_highlight": "#FF0000",
    "selected_highlight": "#FFD700"
   },
   "moveMenuLeft": true,
   "nav_menu": {
    "height": "12px",
    "width": "252px"
   },
   "navigate_menu": true,
   "number_sections": true,
   "sideBar": true,
   "threshold": 4,
   "toc_cell": false,
   "toc_section_display": "block",
   "toc_window_display": false
  }
 },
 "nbformat": 4,
 "nbformat_minor": 2
}
