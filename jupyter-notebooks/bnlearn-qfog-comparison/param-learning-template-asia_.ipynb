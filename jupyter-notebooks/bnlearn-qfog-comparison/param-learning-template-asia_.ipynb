{
 "cells": [
  {
   "cell_type": "markdown",
   "metadata": {},
   "source": [
    "**Executed:** Tue Feb 21 16:16:40 2017\n",
    "\n",
    "**Duration:** 4 seconds."
   ]
  },
  {
   "cell_type": "code",
   "execution_count": 1,
   "metadata": {
    "collapsed": true
   },
   "outputs": [],
   "source": [
    "# default values of file paths, assuming quantum_fog is working dir\n",
    "in_bif = 'examples_cbnets/earthquake.bif'\n",
    "in_dot = 'examples_cbnets/earthquake.dot'\n",
    "in_csv = 'learning/training_data_c/earthquake.csv'"
   ]
  },
  {
   "cell_type": "code",
   "execution_count": 2,
   "metadata": {
    "collapsed": true
   },
   "outputs": [],
   "source": [
    "# Cell inserted during automated execution.\n",
    "in_bif = 'examples_cbnets/asia_.bif'\n",
    "in_dot = 'examples_cbnets/asia_.dot'\n",
    "in_csv = 'learning/training_data_c/tempo.csv'"
   ]
  },
  {
   "cell_type": "markdown",
   "metadata": {},
   "source": [
    "**Parameter Learning Template**"
   ]
  },
  {
   "cell_type": "markdown",
   "metadata": {
    "toc": "true"
   },
   "source": [
    "# Table of Contents\n",
    " <p><div class=\"lev1 toc-item\"><a href=\"#Learned-Network-Parameters\" data-toc-modified-id=\"Learned-Network-Parameters-1\"><span class=\"toc-item-num\">1&nbsp;&nbsp;</span>Learned Network Parameters</a></div><div class=\"lev2 toc-item\"><a href=\"#QFog\" data-toc-modified-id=\"QFog-11\"><span class=\"toc-item-num\">1.1&nbsp;&nbsp;</span>QFog</a></div><div class=\"lev2 toc-item\"><a href=\"#bnlearn\" data-toc-modified-id=\"bnlearn-12\"><span class=\"toc-item-num\">1.2&nbsp;&nbsp;</span>bnlearn</a></div><div class=\"lev2 toc-item\"><a href=\"#Summary-of-Running-Times\" data-toc-modified-id=\"Summary-of-Running-Times-13\"><span class=\"toc-item-num\">1.3&nbsp;&nbsp;</span>Summary of Running Times</a></div>"
   ]
  },
  {
   "cell_type": "code",
   "execution_count": 3,
   "metadata": {
    "collapsed": false
   },
   "outputs": [],
   "source": [
    "import pandas as pd\n",
    "import numpy as np\n",
    "from graphviz import Source\n",
    "\n",
    "import warnings\n",
    "warnings.filterwarnings(\"ignore\", module=\"rpy2\")\n",
    "\n",
    "import rpy2\n",
    "%load_ext rpy2.ipython\n",
    "%R library(\"bnlearn\");\n",
    "%R library(\"Rgraphviz\");"
   ]
  },
  {
   "cell_type": "code",
   "execution_count": 4,
   "metadata": {
    "collapsed": true
   },
   "outputs": [],
   "source": [
    "# make this the absolute path of quantum-fog folder\n",
    "qfog_path = '/home/jupyter/Notebooks/quantum-fog'"
   ]
  },
  {
   "cell_type": "code",
   "execution_count": 5,
   "metadata": {
    "collapsed": true
   },
   "outputs": [],
   "source": [
    "import os\n",
    "import sys\n",
    "if qfog_path != os.getcwd():\n",
    "    os.chdir('../../')\n",
    "    sys.path.insert(0,os.getcwd())\n",
    "from learning.NetParamsLner import *"
   ]
  },
  {
   "cell_type": "markdown",
   "metadata": {},
   "source": [
    "Read in_csv, create Pandas Dataframe with it, push dataframe into R"
   ]
  },
  {
   "cell_type": "code",
   "execution_count": 6,
   "metadata": {
    "collapsed": false
   },
   "outputs": [
    {
     "data": {
      "text/html": [
       "<div>\n",
       "<table border=\"1\" class=\"dataframe\">\n",
       "  <thead>\n",
       "    <tr style=\"text-align: right;\">\n",
       "      <th></th>\n",
       "      <th>Smoke</th>\n",
       "      <th>Bronchitis</th>\n",
       "      <th>LungCancer</th>\n",
       "      <th>Visited_AsianTBHRA</th>\n",
       "      <th>Tuberculosis</th>\n",
       "      <th>Either</th>\n",
       "      <th>Dyspnea</th>\n",
       "      <th>XRay</th>\n",
       "    </tr>\n",
       "  </thead>\n",
       "  <tbody>\n",
       "    <tr>\n",
       "      <th>0</th>\n",
       "      <td>0</td>\n",
       "      <td>0</td>\n",
       "      <td>1</td>\n",
       "      <td>1</td>\n",
       "      <td>1</td>\n",
       "      <td>1</td>\n",
       "      <td>0</td>\n",
       "      <td>1</td>\n",
       "    </tr>\n",
       "    <tr>\n",
       "      <th>1</th>\n",
       "      <td>1</td>\n",
       "      <td>0</td>\n",
       "      <td>1</td>\n",
       "      <td>1</td>\n",
       "      <td>1</td>\n",
       "      <td>1</td>\n",
       "      <td>0</td>\n",
       "      <td>1</td>\n",
       "    </tr>\n",
       "    <tr>\n",
       "      <th>2</th>\n",
       "      <td>1</td>\n",
       "      <td>0</td>\n",
       "      <td>1</td>\n",
       "      <td>1</td>\n",
       "      <td>1</td>\n",
       "      <td>1</td>\n",
       "      <td>0</td>\n",
       "      <td>1</td>\n",
       "    </tr>\n",
       "    <tr>\n",
       "      <th>3</th>\n",
       "      <td>0</td>\n",
       "      <td>0</td>\n",
       "      <td>1</td>\n",
       "      <td>1</td>\n",
       "      <td>1</td>\n",
       "      <td>1</td>\n",
       "      <td>0</td>\n",
       "      <td>1</td>\n",
       "    </tr>\n",
       "    <tr>\n",
       "      <th>4</th>\n",
       "      <td>0</td>\n",
       "      <td>0</td>\n",
       "      <td>1</td>\n",
       "      <td>1</td>\n",
       "      <td>1</td>\n",
       "      <td>1</td>\n",
       "      <td>0</td>\n",
       "      <td>1</td>\n",
       "    </tr>\n",
       "  </tbody>\n",
       "</table>\n",
       "</div>"
      ],
      "text/plain": [
       "   Smoke  Bronchitis  LungCancer  Visited_AsianTBHRA  Tuberculosis  Either  \\\n",
       "0      0           0           1                   1             1       1   \n",
       "1      1           0           1                   1             1       1   \n",
       "2      1           0           1                   1             1       1   \n",
       "3      0           0           1                   1             1       1   \n",
       "4      0           0           1                   1             1       1   \n",
       "\n",
       "   Dyspnea  XRay  \n",
       "0        0     1  \n",
       "1        0     1  \n",
       "2        0     1  \n",
       "3        0     1  \n",
       "4        0     1  "
      ]
     },
     "execution_count": 6,
     "metadata": {},
     "output_type": "execute_result"
    }
   ],
   "source": [
    "states_df = pd.read_csv(in_csv)\n",
    "states_df.head()"
   ]
  },
  {
   "cell_type": "code",
   "execution_count": 7,
   "metadata": {
    "collapsed": false
   },
   "outputs": [
    {
     "data": {
      "text/html": [
       "<div>\n",
       "<table border=\"1\" class=\"dataframe\">\n",
       "  <thead>\n",
       "    <tr style=\"text-align: right;\">\n",
       "      <th></th>\n",
       "      <th>Smoke</th>\n",
       "      <th>Bronchitis</th>\n",
       "      <th>LungCancer</th>\n",
       "      <th>Visited_AsianTBHRA</th>\n",
       "      <th>Tuberculosis</th>\n",
       "      <th>Either</th>\n",
       "      <th>Dyspnea</th>\n",
       "      <th>XRay</th>\n",
       "    </tr>\n",
       "  </thead>\n",
       "  <tbody>\n",
       "    <tr>\n",
       "      <th>1995</th>\n",
       "      <td>0</td>\n",
       "      <td>0</td>\n",
       "      <td>1</td>\n",
       "      <td>1</td>\n",
       "      <td>1</td>\n",
       "      <td>1</td>\n",
       "      <td>0</td>\n",
       "      <td>1</td>\n",
       "    </tr>\n",
       "    <tr>\n",
       "      <th>1996</th>\n",
       "      <td>0</td>\n",
       "      <td>1</td>\n",
       "      <td>1</td>\n",
       "      <td>1</td>\n",
       "      <td>1</td>\n",
       "      <td>1</td>\n",
       "      <td>1</td>\n",
       "      <td>1</td>\n",
       "    </tr>\n",
       "    <tr>\n",
       "      <th>1997</th>\n",
       "      <td>0</td>\n",
       "      <td>0</td>\n",
       "      <td>1</td>\n",
       "      <td>1</td>\n",
       "      <td>1</td>\n",
       "      <td>1</td>\n",
       "      <td>0</td>\n",
       "      <td>1</td>\n",
       "    </tr>\n",
       "    <tr>\n",
       "      <th>1998</th>\n",
       "      <td>1</td>\n",
       "      <td>1</td>\n",
       "      <td>1</td>\n",
       "      <td>1</td>\n",
       "      <td>1</td>\n",
       "      <td>1</td>\n",
       "      <td>1</td>\n",
       "      <td>1</td>\n",
       "    </tr>\n",
       "    <tr>\n",
       "      <th>1999</th>\n",
       "      <td>1</td>\n",
       "      <td>0</td>\n",
       "      <td>1</td>\n",
       "      <td>1</td>\n",
       "      <td>1</td>\n",
       "      <td>1</td>\n",
       "      <td>0</td>\n",
       "      <td>1</td>\n",
       "    </tr>\n",
       "  </tbody>\n",
       "</table>\n",
       "</div>"
      ],
      "text/plain": [
       "      Smoke  Bronchitis  LungCancer  Visited_AsianTBHRA  Tuberculosis  Either  \\\n",
       "1995      0           0           1                   1             1       1   \n",
       "1996      0           1           1                   1             1       1   \n",
       "1997      0           0           1                   1             1       1   \n",
       "1998      1           1           1                   1             1       1   \n",
       "1999      1           0           1                   1             1       1   \n",
       "\n",
       "      Dyspnea  XRay  \n",
       "1995        0     1  \n",
       "1996        1     1  \n",
       "1997        0     1  \n",
       "1998        1     1  \n",
       "1999        0     1  "
      ]
     },
     "execution_count": 7,
     "metadata": {},
     "output_type": "execute_result"
    }
   ],
   "source": [
    "states_df.tail()"
   ]
  },
  {
   "cell_type": "code",
   "execution_count": 8,
   "metadata": {
    "collapsed": false
   },
   "outputs": [
    {
     "data": {
      "text/plain": [
       "'data.frame':\t2000 obs. of  8 variables:\n",
       " $ Smoke             : int  0 1 1 0 0 0 0 0 1 0 ...\n",
       " $ Bronchitis        : int  0 0 0 0 0 0 0 0 1 0 ...\n",
       " $ LungCancer        : int  1 1 1 1 1 1 1 1 1 1 ...\n",
       " $ Visited_AsianTBHRA: int  1 1 1 1 1 1 1 1 1 1 ...\n",
       " $ Tuberculosis      : int  1 1 1 1 1 1 1 1 1 1 ...\n",
       " $ Either            : int  1 1 1 1 1 1 1 1 1 1 ...\n",
       " $ Dyspnea           : int  0 0 0 0 0 0 0 0 1 0 ...\n",
       " $ XRay              : int  1 1 1 1 1 1 1 1 1 1 ...\n"
      ]
     },
     "metadata": {},
     "output_type": "display_data"
    }
   ],
   "source": [
    "%Rpush states_df\n",
    "%R str(states_df)"
   ]
  },
  {
   "cell_type": "markdown",
   "metadata": {},
   "source": [
    "For bnlearn, data.frame columns cannot be int type, must be changed to factor.\n",
    "data.frame is a list so can use lapply"
   ]
  },
  {
   "cell_type": "code",
   "execution_count": 9,
   "metadata": {
    "collapsed": false
   },
   "outputs": [
    {
     "data": {
      "text/plain": [
       "'data.frame':\t2000 obs. of  8 variables:\n",
       " $ Smoke             : Factor w/ 2 levels \"0\",\"1\": 1 2 2 1 1 1 1 1 2 1 ...\n",
       " $ Bronchitis        : Factor w/ 2 levels \"0\",\"1\": 1 1 1 1 1 1 1 1 2 1 ...\n",
       " $ LungCancer        : Factor w/ 2 levels \"0\",\"1\": 2 2 2 2 2 2 2 2 2 2 ...\n",
       " $ Visited_AsianTBHRA: Factor w/ 2 levels \"0\",\"1\": 2 2 2 2 2 2 2 2 2 2 ...\n",
       " $ Tuberculosis      : Factor w/ 2 levels \"0\",\"1\": 2 2 2 2 2 2 2 2 2 2 ...\n",
       " $ Either            : Factor w/ 2 levels \"0\",\"1\": 2 2 2 2 2 2 2 2 2 2 ...\n",
       " $ Dyspnea           : Factor w/ 2 levels \"0\",\"1\": 1 1 1 1 1 1 1 1 2 1 ...\n",
       " $ XRay              : Factor w/ 2 levels \"0\",\"1\": 2 2 2 2 2 2 2 2 2 2 ...\n"
      ]
     },
     "metadata": {},
     "output_type": "display_data"
    }
   ],
   "source": [
    "%R states_df[] <- lapply(states_df, factor)\n",
    "%R str(states_df)"
   ]
  },
  {
   "cell_type": "markdown",
   "metadata": {
    "collapsed": true
   },
   "source": [
    "# Learned Network Parameters"
   ]
  },
  {
   "cell_type": "markdown",
   "metadata": {
    "collapsed": true
   },
   "source": [
    "## QFog"
   ]
  },
  {
   "cell_type": "code",
   "execution_count": 10,
   "metadata": {
    "collapsed": false
   },
   "outputs": [],
   "source": [
    "# emp = empirical, learned\n",
    "is_quantum = False\n",
    "bnet = BayesNet.read_bif(in_bif, is_quantum)\n",
    "bnet_emp = BayesNet.read_dot(in_dot)\n",
    "vtx_to_states = bnet.get_vtx_to_state_names()\n",
    "bnet_emp.import_nd_state_names(vtx_to_states)\n",
    "\n",
    "\n",
    "lnr = NetParamsLner(is_quantum, bnet_emp, states_df)"
   ]
  },
  {
   "cell_type": "code",
   "execution_count": 11,
   "metadata": {
    "collapsed": false
   },
   "outputs": [
    {
     "data": {
      "text/plain": [
       "<graphs.BayesNet.BayesNet at 0x7f659fa8d320>"
      ]
     },
     "execution_count": 11,
     "metadata": {},
     "output_type": "execute_result"
    }
   ],
   "source": [
    "%%capture qfog_params_time\n",
    "%time lnr.learn_all_bnet_pots()"
   ]
  },
  {
   "cell_type": "code",
   "execution_count": 12,
   "metadata": {
    "collapsed": false
   },
   "outputs": [
    {
     "name": "stdout",
     "output_type": "stream",
     "text": [
      "CPU times: user 51.7 ms, sys: 3.98 ms, total: 55.7 ms\n",
      "Wall time: 55.9 ms\n",
      "\n"
     ]
    }
   ],
   "source": [
    "print(qfog_params_time)"
   ]
  },
  {
   "cell_type": "code",
   "execution_count": 13,
   "metadata": {
    "collapsed": false
   },
   "outputs": [
    {
     "name": "stdout",
     "output_type": "stream",
     "text": [
      "\n",
      "node= Bronchitis\n",
      "true:\n",
      "['Smoke', 'Bronchitis']\n",
      "[[ 0.6  0.4]\n",
      " [ 0.3  0.7]]\n",
      "empirical:\n",
      "['Smoke', 'Bronchitis']\n",
      "[[ 0.62461851  0.37538149]\n",
      " [ 0.31366765  0.68633235]]\n",
      "\n",
      "node= Either\n",
      "true:\n",
      "['LungCancer', 'Tuberculosis', 'Either']\n",
      "[[[ 1.  0.]\n",
      "  [ 1.  0.]]\n",
      "\n",
      " [[ 1.  0.]\n",
      "  [ 0.  1.]]]\n",
      "empirical:\n",
      "['LungCancer', 'Tuberculosis', 'Either']\n",
      "[[[ 1.  0.]\n",
      "  [ 1.  0.]]\n",
      "\n",
      " [[ 1.  0.]\n",
      "  [ 0.  1.]]]\n",
      "\n",
      "node= Smoke\n",
      "true:\n",
      "['Smoke']\n",
      "[ 0.5  0.5]\n",
      "empirical:\n",
      "['Smoke']\n",
      "[ 0.4915  0.5085]\n",
      "\n",
      "node= Visited_AsianTBHRA\n",
      "true:\n",
      "['Visited_AsianTBHRA']\n",
      "[ 0.01  0.99]\n",
      "empirical:\n",
      "['Visited_AsianTBHRA']\n",
      "[ 0.004  0.996]\n",
      "\n",
      "node= LungCancer\n",
      "true:\n",
      "['Smoke', 'LungCancer']\n",
      "[[ 0.1   0.9 ]\n",
      " [ 0.01  0.99]]\n",
      "empirical:\n",
      "['Smoke', 'LungCancer']\n",
      "[[ 0.09664293  0.90335707]\n",
      " [ 0.00983284  0.99016716]]\n",
      "\n",
      "node= Tuberculosis\n",
      "true:\n",
      "['Visited_AsianTBHRA', 'Tuberculosis']\n",
      "[[ 0.05  0.95]\n",
      " [ 0.01  0.99]]\n",
      "empirical:\n",
      "['Visited_AsianTBHRA', 'Tuberculosis']\n",
      "[[ 0.          1.        ]\n",
      " [ 0.00953815  0.99046185]]\n",
      "\n",
      "node= Dyspnea\n",
      "true:\n",
      "['Bronchitis', 'Either', 'Dyspnea']\n",
      "[[[ 0.9  0.1]\n",
      "  [ 0.7  0.3]]\n",
      "\n",
      " [[ 0.8  0.2]\n",
      "  [ 0.1  0.9]]]\n",
      "empirical:\n",
      "['Bronchitis', 'Either', 'Dyspnea']\n",
      "[[[ 0.91304348  0.08695652]\n",
      "  [ 0.66319444  0.33680556]]\n",
      "\n",
      " [[ 0.88888889  0.11111111]\n",
      "  [ 0.10266535  0.89733465]]]\n",
      "\n",
      "node= XRay\n",
      "true:\n",
      "['Either', 'XRay']\n",
      "[[ 0.98  0.02]\n",
      " [ 0.05  0.95]]\n",
      "empirical:\n",
      "['Either', 'XRay']\n",
      "[[ 0.99186992  0.00813008]\n",
      " [ 0.04954715  0.95045285]]\n"
     ]
    }
   ],
   "source": [
    "lnr.compare_true_and_emp_pots(bnet, bnet_emp)"
   ]
  },
  {
   "cell_type": "markdown",
   "metadata": {},
   "source": [
    "## bnlearn\n"
   ]
  },
  {
   "cell_type": "code",
   "execution_count": 14,
   "metadata": {
    "collapsed": false
   },
   "outputs": [
    {
     "data": {
      "text/plain": [
       "List of 8\n",
       " $ Visited_AsianTBHRA:List of 4\n",
       "  ..$ node    : chr \"Visited_AsianTBHRA\"\n",
       "  ..$ parents : chr(0) \n",
       "  ..$ children: chr \"Tuberculosis\"\n",
       "  ..$ prob    : table [1:2(1d)] 0.01 0.99\n",
       "  .. ..- attr(*, \"dimnames\")=List of 1\n",
       "  .. .. ..$ : chr [1:2] \"yes\" \"no\"\n",
       "  ..- attr(*, \"class\")= chr \"bn.fit.dnode\"\n",
       " $ Tuberculosis      :List of 4\n",
       "  ..$ node    : chr \"Tuberculosis\"\n",
       "  ..$ parents : chr \"Visited_AsianTBHRA\"\n",
       "  ..$ children: chr \"Either\"\n",
       "  ..$ prob    : table [1:2, 1:2] 0.05 0.95 0.01 0.99\n",
       "  .. ..- attr(*, \"dimnames\")=List of 2\n",
       "  .. .. ..$ Tuberculosis      : chr [1:2] \"yes\" \"no\"\n",
       "  .. .. ..$ Visited_AsianTBHRA: chr [1:2] \"yes\" \"no\"\n",
       "  ..- attr(*, \"class\")= chr \"bn.fit.dnode\"\n",
       " $ Smoke             :List of 4\n",
       "  ..$ node    : chr \"Smoke\"\n",
       "  ..$ parents : chr(0) \n",
       "  ..$ children: chr [1:2] \"LungCancer\" \"Bronchitis\"\n",
       "  ..$ prob    : table [1:2(1d)] 0.5 0.5\n",
       "  .. ..- attr(*, \"dimnames\")=List of 1\n",
       "  .. .. ..$ : chr [1:2] \"yes\" \"no\"\n",
       "  ..- attr(*, \"class\")= chr \"bn.fit.dnode\"\n",
       " $ LungCancer        :List of 4\n",
       "  ..$ node    : chr \"LungCancer\"\n",
       "  ..$ parents : chr \"Smoke\"\n",
       "  ..$ children: chr \"Either\"\n",
       "  ..$ prob    : table [1:2, 1:2] 0.1 0.9 0.01 0.99\n",
       "  .. ..- attr(*, \"dimnames\")=List of 2\n",
       "  .. .. ..$ LungCancer: chr [1:2] \"yes\" \"no\"\n",
       "  .. .. ..$ Smoke     : chr [1:2] \"yes\" \"no\"\n",
       "  ..- attr(*, \"class\")= chr \"bn.fit.dnode\"\n",
       " $ Bronchitis        :List of 4\n",
       "  ..$ node    : chr \"Bronchitis\"\n",
       "  ..$ parents : chr \"Smoke\"\n",
       "  ..$ children: chr \"Dyspnea\"\n",
       "  ..$ prob    : table [1:2, 1:2] 0.6 0.4 0.3 0.7\n",
       "  .. ..- attr(*, \"dimnames\")=List of 2\n",
       "  .. .. ..$ Bronchitis: chr [1:2] \"yes\" \"no\"\n",
       "  .. .. ..$ Smoke     : chr [1:2] \"yes\" \"no\"\n",
       "  ..- attr(*, \"class\")= chr \"bn.fit.dnode\"\n",
       " $ Either            :List of 4\n",
       "  ..$ node    : chr \"Either\"\n",
       "  ..$ parents : chr [1:2] \"LungCancer\" \"Tuberculosis\"\n",
       "  ..$ children: chr [1:2] \"XRay\" \"Dyspnea\"\n",
       "  ..$ prob    : table [1:2, 1:2, 1:2] 1 0 1 0 1 0 0 1\n",
       "  .. ..- attr(*, \"dimnames\")=List of 3\n",
       "  .. .. ..$ Either      : chr [1:2] \"yes\" \"no\"\n",
       "  .. .. ..$ LungCancer  : chr [1:2] \"yes\" \"no\"\n",
       "  .. .. ..$ Tuberculosis: chr [1:2] \"yes\" \"no\"\n",
       "  ..- attr(*, \"class\")= chr \"bn.fit.dnode\"\n",
       " $ XRay              :List of 4\n",
       "  ..$ node    : chr \"XRay\"\n",
       "  ..$ parents : chr \"Either\"\n",
       "  ..$ children: chr(0) \n",
       "  ..$ prob    : table [1:2, 1:2] 0.98 0.02 0.05 0.95\n",
       "  .. ..- attr(*, \"dimnames\")=List of 2\n",
       "  .. .. ..$ XRay  : chr [1:2] \"yes\" \"no\"\n",
       "  .. .. ..$ Either: chr [1:2] \"yes\" \"no\"\n",
       "  ..- attr(*, \"class\")= chr \"bn.fit.dnode\"\n",
       " $ Dyspnea           :List of 4\n",
       "  ..$ node    : chr \"Dyspnea\"\n",
       "  ..$ parents : chr [1:2] \"Bronchitis\" \"Either\"\n",
       "  ..$ children: chr(0) \n",
       "  ..$ prob    : table [1:2, 1:2, 1:2] 0.9 0.1 0.7 0.3 0.8 0.2 0.1 0.9\n",
       "  .. ..- attr(*, \"dimnames\")=List of 3\n",
       "  .. .. ..$ Dyspnea   : chr [1:2] \"yes\" \"no\"\n",
       "  .. .. ..$ Bronchitis: chr [1:2] \"yes\" \"no\"\n",
       "  .. .. ..$ Either    : chr [1:2] \"yes\" \"no\"\n",
       "  ..- attr(*, \"class\")= chr \"bn.fit.dnode\"\n",
       " - attr(*, \"class\")= chr [1:2] \"bn.fit\" \"bn.fit.dnet\"\n"
      ]
     },
     "metadata": {},
     "output_type": "display_data"
    }
   ],
   "source": [
    "%Rpush in_bif\n",
    "%R bn.fit = read.bif(in_bif)\n",
    "%R str(bn.fit)"
   ]
  },
  {
   "cell_type": "code",
   "execution_count": 15,
   "metadata": {
    "collapsed": false
   },
   "outputs": [
    {
     "data": {
      "text/plain": [
       "List of 3\n",
       " $ learning:List of 6\n",
       "  ..$ whitelist: NULL\n",
       "  ..$ blacklist: NULL\n",
       "  ..$ test     : chr \"none\"\n",
       "  ..$ ntests   : num 0\n",
       "  ..$ algo     : chr \"empty\"\n",
       "  ..$ args     : list()\n",
       " $ nodes   :List of 8\n",
       "  ..$ Visited_AsianTBHRA:List of 4\n",
       "  .. ..$ mb      : chr \"Tuberculosis\"\n",
       "  .. ..$ nbr     : chr \"Tuberculosis\"\n",
       "  .. ..$ parents : chr(0) \n",
       "  .. ..$ children: chr \"Tuberculosis\"\n",
       "  ..$ Tuberculosis      :List of 4\n",
       "  .. ..$ mb      : chr [1:3] \"Visited_AsianTBHRA\" \"LungCancer\" \"Either\"\n",
       "  .. ..$ nbr     : chr [1:2] \"Visited_AsianTBHRA\" \"Either\"\n",
       "  .. ..$ parents : chr \"Visited_AsianTBHRA\"\n",
       "  .. ..$ children: chr \"Either\"\n",
       "  ..$ Smoke             :List of 4\n",
       "  .. ..$ mb      : chr [1:2] \"LungCancer\" \"Bronchitis\"\n",
       "  .. ..$ nbr     : chr [1:2] \"LungCancer\" \"Bronchitis\"\n",
       "  .. ..$ parents : chr(0) \n",
       "  .. ..$ children: chr [1:2] \"LungCancer\" \"Bronchitis\"\n",
       "  ..$ LungCancer        :List of 4\n",
       "  .. ..$ mb      : chr [1:3] \"Tuberculosis\" \"Smoke\" \"Either\"\n",
       "  .. ..$ nbr     : chr [1:2] \"Smoke\" \"Either\"\n",
       "  .. ..$ parents : chr \"Smoke\"\n",
       "  .. ..$ children: chr \"Either\"\n",
       "  ..$ Bronchitis        :List of 4\n",
       "  .. ..$ mb      : chr [1:3] \"Smoke\" \"Either\" \"Dyspnea\"\n",
       "  .. ..$ nbr     : chr [1:2] \"Smoke\" \"Dyspnea\"\n",
       "  .. ..$ parents : chr \"Smoke\"\n",
       "  .. ..$ children: chr \"Dyspnea\"\n",
       "  ..$ Either            :List of 4\n",
       "  .. ..$ mb      : chr [1:5] \"Tuberculosis\" \"LungCancer\" \"Bronchitis\" \"XRay\" ...\n",
       "  .. ..$ nbr     : chr [1:4] \"Tuberculosis\" \"LungCancer\" \"XRay\" \"Dyspnea\"\n",
       "  .. ..$ parents : chr [1:2] \"Tuberculosis\" \"LungCancer\"\n",
       "  .. ..$ children: chr [1:2] \"XRay\" \"Dyspnea\"\n",
       "  ..$ XRay              :List of 4\n",
       "  .. ..$ mb      : chr \"Either\"\n",
       "  .. ..$ nbr     : chr \"Either\"\n",
       "  .. ..$ parents : chr \"Either\"\n",
       "  .. ..$ children: chr(0) \n",
       "  ..$ Dyspnea           :List of 4\n",
       "  .. ..$ mb      : chr [1:2] \"Bronchitis\" \"Either\"\n",
       "  .. ..$ nbr     : chr [1:2] \"Bronchitis\" \"Either\"\n",
       "  .. ..$ parents : chr [1:2] \"Bronchitis\" \"Either\"\n",
       "  .. ..$ children: chr(0) \n",
       " $ arcs    : chr [1:8, 1:2] \"Visited_AsianTBHRA\" \"Tuberculosis\" \"Smoke\" \"Smoke\" ...\n",
       "  ..- attr(*, \"dimnames\")=List of 2\n",
       "  .. ..$ : NULL\n",
       "  .. ..$ : chr [1:2] \"from\" \"to\"\n",
       " - attr(*, \"class\")= chr \"bn\"\n"
      ]
     },
     "metadata": {},
     "output_type": "display_data"
    }
   ],
   "source": [
    "%R bn = bn.net(bn.fit)\n",
    "%R str(bn)"
   ]
  },
  {
   "cell_type": "code",
   "execution_count": 16,
   "metadata": {
    "collapsed": true
   },
   "outputs": [],
   "source": [
    "%%capture bnlearn_params_time\n",
    "%time %R rfit = bn.fit(bn, data = states_df);"
   ]
  },
  {
   "cell_type": "code",
   "execution_count": 17,
   "metadata": {
    "collapsed": false
   },
   "outputs": [
    {
     "name": "stdout",
     "output_type": "stream",
     "text": [
      "CPU times: user 20.6 ms, sys: 37 us, total: 20.6 ms\n",
      "Wall time: 21 ms\n",
      "\n"
     ]
    }
   ],
   "source": [
    "print(bnlearn_params_time)"
   ]
  },
  {
   "cell_type": "code",
   "execution_count": 18,
   "metadata": {
    "collapsed": false
   },
   "outputs": [
    {
     "data": {
      "text/plain": [
       "List of 8\n",
       " $ Visited_AsianTBHRA:List of 4\n",
       "  ..$ node    : chr \"Visited_AsianTBHRA\"\n",
       "  ..$ parents : chr(0) \n",
       "  ..$ children: chr \"Tuberculosis\"\n",
       "  ..$ prob    : table [1:2(1d)] 0.004 0.996\n",
       "  .. ..- attr(*, \"dimnames\")=List of 1\n",
       "  .. .. ..$ : chr [1:2] \"0\" \"1\"\n",
       "  ..- attr(*, \"class\")= chr \"bn.fit.dnode\"\n",
       " $ Tuberculosis      :List of 4\n",
       "  ..$ node    : chr \"Tuberculosis\"\n",
       "  ..$ parents : chr \"Visited_AsianTBHRA\"\n",
       "  ..$ children: chr \"Either\"\n",
       "  ..$ prob    : table [1:2, 1:2] 0 1 0.00954 0.99046\n",
       "  .. ..- attr(*, \"dimnames\")=List of 2\n",
       "  .. .. ..$ Tuberculosis      : chr [1:2] \"0\" \"1\"\n",
       "  .. .. ..$ Visited_AsianTBHRA: chr [1:2] \"0\" \"1\"\n",
       "  ..- attr(*, \"class\")= chr \"bn.fit.dnode\"\n",
       " $ Smoke             :List of 4\n",
       "  ..$ node    : chr \"Smoke\"\n",
       "  ..$ parents : chr(0) \n",
       "  ..$ children: chr [1:2] \"LungCancer\" \"Bronchitis\"\n",
       "  ..$ prob    : table [1:2(1d)] 0.491 0.508\n",
       "  .. ..- attr(*, \"dimnames\")=List of 1\n",
       "  .. .. ..$ : chr [1:2] \"0\" \"1\"\n",
       "  ..- attr(*, \"class\")= chr \"bn.fit.dnode\"\n",
       " $ LungCancer        :List of 4\n",
       "  ..$ node    : chr \"LungCancer\"\n",
       "  ..$ parents : chr \"Smoke\"\n",
       "  ..$ children: chr \"Either\"\n",
       "  ..$ prob    : table [1:2, 1:2] 0.09664 0.90336 0.00983 0.99017\n",
       "  .. ..- attr(*, \"dimnames\")=List of 2\n",
       "  .. .. ..$ LungCancer: chr [1:2] \"0\" \"1\"\n",
       "  .. .. ..$ Smoke     : chr [1:2] \"0\" \"1\"\n",
       "  ..- attr(*, \"class\")= chr \"bn.fit.dnode\"\n",
       " $ Bronchitis        :List of 4\n",
       "  ..$ node    : chr \"Bronchitis\"\n",
       "  ..$ parents : chr \"Smoke\"\n",
       "  ..$ children: chr \"Dyspnea\"\n",
       "  ..$ prob    : table [1:2, 1:2] 0.625 0.375 0.314 0.686\n",
       "  .. ..- attr(*, \"dimnames\")=List of 2\n",
       "  .. .. ..$ Bronchitis: chr [1:2] \"0\" \"1\"\n",
       "  .. .. ..$ Smoke     : chr [1:2] \"0\" \"1\"\n",
       "  ..- attr(*, \"class\")= chr \"bn.fit.dnode\"\n",
       " $ Either            :List of 4\n",
       "  ..$ node    : chr \"Either\"\n",
       "  ..$ parents : chr [1:2] \"Tuberculosis\" \"LungCancer\"\n",
       "  ..$ children: chr [1:2] \"XRay\" \"Dyspnea\"\n",
       "  ..$ prob    : table [1:2, 1:2, 1:2] 1 0 1 0 1 0 0 1\n",
       "  .. ..- attr(*, \"dimnames\")=List of 3\n",
       "  .. .. ..$ Either      : chr [1:2] \"0\" \"1\"\n",
       "  .. .. ..$ Tuberculosis: chr [1:2] \"0\" \"1\"\n",
       "  .. .. ..$ LungCancer  : chr [1:2] \"0\" \"1\"\n",
       "  ..- attr(*, \"class\")= chr \"bn.fit.dnode\"\n",
       " $ XRay              :List of 4\n",
       "  ..$ node    : chr \"XRay\"\n",
       "  ..$ parents : chr \"Either\"\n",
       "  ..$ children: chr(0) \n",
       "  ..$ prob    : table [1:2, 1:2] 0.99187 0.00813 0.04955 0.95045\n",
       "  .. ..- attr(*, \"dimnames\")=List of 2\n",
       "  .. .. ..$ XRay  : chr [1:2] \"0\" \"1\"\n",
       "  .. .. ..$ Either: chr [1:2] \"0\" \"1\"\n",
       "  ..- attr(*, \"class\")= chr \"bn.fit.dnode\"\n",
       " $ Dyspnea           :List of 4\n",
       "  ..$ node    : chr \"Dyspnea\"\n",
       "  ..$ parents : chr [1:2] \"Bronchitis\" \"Either\"\n",
       "  ..$ children: chr(0) \n",
       "  ..$ prob    : table [1:2, 1:2, 1:2] 0.913 0.087 0.889 0.111 0.663 ...\n",
       "  .. ..- attr(*, \"dimnames\")=List of 3\n",
       "  .. .. ..$ Dyspnea   : chr [1:2] \"0\" \"1\"\n",
       "  .. .. ..$ Bronchitis: chr [1:2] \"0\" \"1\"\n",
       "  .. .. ..$ Either    : chr [1:2] \"0\" \"1\"\n",
       "  ..- attr(*, \"class\")= chr \"bn.fit.dnode\"\n",
       " - attr(*, \"class\")= chr [1:2] \"bn.fit\" \"bn.fit.dnet\"\n"
      ]
     },
     "metadata": {},
     "output_type": "display_data"
    }
   ],
   "source": [
    "%R str(rfit)"
   ]
  },
  {
   "cell_type": "code",
   "execution_count": 19,
   "metadata": {
    "collapsed": false,
    "scrolled": false
   },
   "outputs": [
    {
     "data": {
      "text/plain": [
       "---------------- Visited_AsianTBHRA \n",
       "true:\n",
       "$Visited_AsianTBHRA\n",
       " yes   no \n",
       "0.01 0.99 \n",
       "\n",
       "empirical:\n",
       "$Visited_AsianTBHRA\n",
       "    0     1 \n",
       "0.004 0.996 \n",
       "\n",
       "---------------- Tuberculosis \n",
       "true:\n",
       "$Tuberculosis\n",
       "            Visited_AsianTBHRA\n",
       "Tuberculosis  yes   no\n",
       "         yes 0.05 0.01\n",
       "         no  0.95 0.99\n",
       "\n",
       "empirical:\n",
       "$Tuberculosis\n",
       "            Visited_AsianTBHRA\n",
       "Tuberculosis           0           1\n",
       "           0 0.000000000 0.009538153\n",
       "           1 1.000000000 0.990461847\n",
       "\n",
       "---------------- Smoke \n",
       "true:\n",
       "$Smoke\n",
       "yes  no \n",
       "0.5 0.5 \n",
       "\n",
       "empirical:\n",
       "$Smoke\n",
       "     0      1 \n",
       "0.4915 0.5085 \n",
       "\n",
       "---------------- LungCancer \n",
       "true:\n",
       "$LungCancer\n",
       "          Smoke\n",
       "LungCancer  yes   no\n",
       "       yes 0.10 0.01\n",
       "       no  0.90 0.99\n",
       "\n",
       "empirical:\n",
       "$LungCancer\n",
       "          Smoke\n",
       "LungCancer           0           1\n",
       "         0 0.096642930 0.009832842\n",
       "         1 0.903357070 0.990167158\n",
       "\n",
       "---------------- Bronchitis \n",
       "true:\n",
       "$Bronchitis\n",
       "          Smoke\n",
       "Bronchitis yes  no\n",
       "       yes 0.6 0.3\n",
       "       no  0.4 0.7\n",
       "\n",
       "empirical:\n",
       "$Bronchitis\n",
       "          Smoke\n",
       "Bronchitis         0         1\n",
       "         0 0.6246185 0.3136676\n",
       "         1 0.3753815 0.6863324\n",
       "\n",
       "---------------- Either \n",
       "true:\n",
       "$Either\n",
       ", , Tuberculosis = yes\n",
       "\n",
       "      LungCancer\n",
       "Either yes no\n",
       "   yes   1  1\n",
       "   no    0  0\n",
       "\n",
       ", , Tuberculosis = no\n",
       "\n",
       "      LungCancer\n",
       "Either yes no\n",
       "   yes   1  0\n",
       "   no    0  1\n",
       "\n",
       "\n",
       "empirical:\n",
       "$Either\n",
       ", , LungCancer = 0\n",
       "\n",
       "      Tuberculosis\n",
       "Either 0 1\n",
       "     0 1 1\n",
       "     1 0 0\n",
       "\n",
       ", , LungCancer = 1\n",
       "\n",
       "      Tuberculosis\n",
       "Either 0 1\n",
       "     0 1 0\n",
       "     1 0 1\n",
       "\n",
       "\n",
       "---------------- XRay \n",
       "true:\n",
       "$XRay\n",
       "     Either\n",
       "XRay   yes   no\n",
       "  yes 0.98 0.05\n",
       "  no  0.02 0.95\n",
       "\n",
       "empirical:\n",
       "$XRay\n",
       "    Either\n",
       "XRay           0           1\n",
       "   0 0.991869919 0.049547150\n",
       "   1 0.008130081 0.950452850\n",
       "\n",
       "---------------- Dyspnea \n",
       "true:\n",
       "$Dyspnea\n",
       ", , Either = yes\n",
       "\n",
       "       Bronchitis\n",
       "Dyspnea yes  no\n",
       "    yes 0.9 0.7\n",
       "    no  0.1 0.3\n",
       "\n",
       ", , Either = no\n",
       "\n",
       "       Bronchitis\n",
       "Dyspnea yes  no\n",
       "    yes 0.8 0.1\n",
       "    no  0.2 0.9\n",
       "\n",
       "\n",
       "empirical:\n",
       "$Dyspnea\n",
       ", , Either = 0\n",
       "\n",
       "       Bronchitis\n",
       "Dyspnea          0          1\n",
       "      0 0.91304348 0.88888889\n",
       "      1 0.08695652 0.11111111\n",
       "\n",
       ", , Either = 1\n",
       "\n",
       "       Bronchitis\n",
       "Dyspnea          0          1\n",
       "      0 0.66319444 0.10266535\n",
       "      1 0.33680556 0.89733465\n",
       "\n",
       "\n"
      ]
     },
     "metadata": {},
     "output_type": "display_data"
    }
   ],
   "source": [
    "%%R\n",
    "j = 0\n",
    "for( nd in nodes(bn.fit)){\n",
    "    j = j + 1\n",
    "    cat('----------------', nd[1], '\\n')\n",
    "    cat('true:\\n')\n",
    "    print(coef(bn.fit)[j])\n",
    "    cat('empirical:\\n')\n",
    "    print(coef(rfit)[j])\n",
    "}"
   ]
  },
  {
   "cell_type": "markdown",
   "metadata": {
    "collapsed": true
   },
   "source": [
    "## Summary of Running Times"
   ]
  },
  {
   "cell_type": "code",
   "execution_count": 20,
   "metadata": {
    "collapsed": false
   },
   "outputs": [
    {
     "name": "stdout",
     "output_type": "stream",
     "text": [
      "QFog:\n",
      " CPU times: user 51.7 ms, sys: 3.98 ms, total: 55.7 ms\n",
      "Wall time: 55.9 ms\n",
      "\n",
      "bnlearn:\n",
      " CPU times: user 20.6 ms, sys: 37 us, total: 20.6 ms\n",
      "Wall time: 21 ms\n",
      "\n"
     ]
    }
   ],
   "source": [
    "print(\"QFog:\\n\", qfog_params_time)\n",
    "print(\"bnlearn:\\n\", bnlearn_params_time)"
   ]
  },
  {
   "cell_type": "code",
   "execution_count": 21,
   "metadata": {
    "collapsed": true
   },
   "outputs": [],
   "source": []
  }
 ],
 "metadata": {
  "anaconda-cloud": {},
  "kernelspec": {
   "display_name": "Python 3",
   "language": "python",
   "name": "python3"
  },
  "language_info": {
   "codemirror_mode": {
    "name": "ipython",
    "version": 3
   },
   "file_extension": ".py",
   "mimetype": "text/x-python",
   "name": "python",
   "nbconvert_exporter": "python",
   "pygments_lexer": "ipython3",
   "version": "3.6.0"
  },
  "toc": {
   "colors": {
    "hover_highlight": "#DAA520",
    "running_highlight": "#FF0000",
    "selected_highlight": "#FFD700"
   },
   "moveMenuLeft": true,
   "nav_menu": {
    "height": "210px",
    "width": "252px"
   },
   "navigate_menu": true,
   "number_sections": true,
   "sideBar": false,
   "threshold": "3",
   "toc_cell": true,
   "toc_position": {
    "height": "283px",
    "left": "1px",
    "right": "20px",
    "top": "107px",
    "width": "212px"
   },
   "toc_section_display": "none",
   "toc_window_display": true
  }
 },
 "nbformat": 4,
 "nbformat_minor": 1
}
