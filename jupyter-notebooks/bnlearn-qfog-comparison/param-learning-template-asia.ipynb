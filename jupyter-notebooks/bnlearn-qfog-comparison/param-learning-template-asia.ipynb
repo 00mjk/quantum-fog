{
 "cells": [
  {
   "cell_type": "markdown",
   "metadata": {},
   "source": [
    "**Executed:** Mon Feb 20 17:44:35 2017\n",
    "\n",
    "**Duration:** 4 seconds."
   ]
  },
  {
   "cell_type": "code",
   "execution_count": 1,
   "metadata": {
    "collapsed": true
   },
   "outputs": [],
   "source": [
    "# default values of file paths, assuming quantum_fog is working dir\n",
    "in_bif = 'examples_cbnets/earthquake.bif'\n",
    "in_dot = 'examples_cbnets/earthquake.dot'\n",
    "in_csv = 'learning/training_data_c/earthquake.csv'"
   ]
  },
  {
   "cell_type": "code",
   "execution_count": 2,
   "metadata": {},
   "outputs": [],
   "source": [
    "# Cell inserted during automated execution.\n",
    "in_bif = 'examples_cbnets/asia.bif'\n",
    "in_dot = 'examples_cbnets/asia.dot'\n",
    "in_csv = 'learning/training_data_c/tempo.csv'"
   ]
  },
  {
   "cell_type": "markdown",
   "metadata": {},
   "source": [
    "**Parameter Learning Template**"
   ]
  },
  {
   "cell_type": "markdown",
   "metadata": {
    "toc": "true"
   },
   "source": [
    "# Table of Contents\n",
    " <p><div class=\"lev1 toc-item\"><a href=\"#Learned-Network-Parameters\" data-toc-modified-id=\"Learned-Network-Parameters-1\"><span class=\"toc-item-num\">1&nbsp;&nbsp;</span>Learned Network Parameters</a></div><div class=\"lev2 toc-item\"><a href=\"#QFog\" data-toc-modified-id=\"QFog-11\"><span class=\"toc-item-num\">1.1&nbsp;&nbsp;</span>QFog</a></div><div class=\"lev2 toc-item\"><a href=\"#bnlearn\" data-toc-modified-id=\"bnlearn-12\"><span class=\"toc-item-num\">1.2&nbsp;&nbsp;</span>bnlearn</a></div><div class=\"lev2 toc-item\"><a href=\"#Summary-of-Running-Times\" data-toc-modified-id=\"Summary-of-Running-Times-13\"><span class=\"toc-item-num\">1.3&nbsp;&nbsp;</span>Summary of Running Times</a></div>"
   ]
  },
  {
   "cell_type": "code",
   "execution_count": 3,
   "metadata": {
    "collapsed": false
   },
   "outputs": [],
   "source": [
    "import pandas as pd\n",
    "import numpy as np\n",
    "from graphviz import Source\n",
    "\n",
    "import warnings\n",
    "warnings.filterwarnings(\"ignore\", module=\"rpy2\")\n",
    "\n",
    "import rpy2\n",
    "%load_ext rpy2.ipython\n",
    "%R library(\"bnlearn\");\n",
    "%R library(\"Rgraphviz\");"
   ]
  },
  {
   "cell_type": "code",
   "execution_count": 4,
   "metadata": {
    "collapsed": true
   },
   "outputs": [],
   "source": [
    "# make this the absolute path of quantum-fog folder\n",
    "qfog_path = '/home/jupyter/Notebooks/quantum-fog'"
   ]
  },
  {
   "cell_type": "code",
   "execution_count": 5,
   "metadata": {
    "collapsed": true
   },
   "outputs": [],
   "source": [
    "import os\n",
    "import sys\n",
    "if qfog_path != os.getcwd():\n",
    "    os.chdir('../../')\n",
    "    sys.path.insert(0,os.getcwd())\n",
    "from learning.NetParamsLner import *"
   ]
  },
  {
   "cell_type": "markdown",
   "metadata": {},
   "source": [
    "Read in_csv, create Pandas Dataframe with it, push dataframe into R"
   ]
  },
  {
   "cell_type": "code",
   "execution_count": 6,
   "metadata": {
    "collapsed": false
   },
   "outputs": [
    {
     "data": {
      "text/html": [
       "<div>\n",
       "<table border=\"1\" class=\"dataframe\">\n",
       "  <thead>\n",
       "    <tr style=\"text-align: right;\">\n",
       "      <th></th>\n",
       "      <th>Smoke</th>\n",
       "      <th>Bronchitis</th>\n",
       "      <th>Lung-Cancer</th>\n",
       "      <th>Visited-Asian-TB-HRA</th>\n",
       "      <th>Tuberculosis</th>\n",
       "      <th>Either</th>\n",
       "      <th>X-Ray</th>\n",
       "      <th>Dyspnea</th>\n",
       "    </tr>\n",
       "  </thead>\n",
       "  <tbody>\n",
       "    <tr>\n",
       "      <th>0</th>\n",
       "      <td>0</td>\n",
       "      <td>0</td>\n",
       "      <td>1</td>\n",
       "      <td>1</td>\n",
       "      <td>1</td>\n",
       "      <td>1</td>\n",
       "      <td>1</td>\n",
       "      <td>0</td>\n",
       "    </tr>\n",
       "    <tr>\n",
       "      <th>1</th>\n",
       "      <td>0</td>\n",
       "      <td>1</td>\n",
       "      <td>1</td>\n",
       "      <td>1</td>\n",
       "      <td>1</td>\n",
       "      <td>1</td>\n",
       "      <td>1</td>\n",
       "      <td>1</td>\n",
       "    </tr>\n",
       "    <tr>\n",
       "      <th>2</th>\n",
       "      <td>1</td>\n",
       "      <td>1</td>\n",
       "      <td>1</td>\n",
       "      <td>1</td>\n",
       "      <td>1</td>\n",
       "      <td>1</td>\n",
       "      <td>1</td>\n",
       "      <td>1</td>\n",
       "    </tr>\n",
       "    <tr>\n",
       "      <th>3</th>\n",
       "      <td>0</td>\n",
       "      <td>0</td>\n",
       "      <td>1</td>\n",
       "      <td>1</td>\n",
       "      <td>1</td>\n",
       "      <td>1</td>\n",
       "      <td>1</td>\n",
       "      <td>0</td>\n",
       "    </tr>\n",
       "    <tr>\n",
       "      <th>4</th>\n",
       "      <td>1</td>\n",
       "      <td>1</td>\n",
       "      <td>1</td>\n",
       "      <td>1</td>\n",
       "      <td>1</td>\n",
       "      <td>1</td>\n",
       "      <td>1</td>\n",
       "      <td>1</td>\n",
       "    </tr>\n",
       "  </tbody>\n",
       "</table>\n",
       "</div>"
      ],
      "text/plain": [
       "   Smoke  Bronchitis  Lung-Cancer  Visited-Asian-TB-HRA  Tuberculosis  Either  \\\n",
       "0      0           0            1                     1             1       1   \n",
       "1      0           1            1                     1             1       1   \n",
       "2      1           1            1                     1             1       1   \n",
       "3      0           0            1                     1             1       1   \n",
       "4      1           1            1                     1             1       1   \n",
       "\n",
       "   X-Ray  Dyspnea  \n",
       "0      1        0  \n",
       "1      1        1  \n",
       "2      1        1  \n",
       "3      1        0  \n",
       "4      1        1  "
      ]
     },
     "execution_count": 6,
     "metadata": {},
     "output_type": "execute_result"
    }
   ],
   "source": [
    "states_df = pd.read_csv(in_csv)\n",
    "states_df.head()"
   ]
  },
  {
   "cell_type": "code",
   "execution_count": 7,
   "metadata": {
    "collapsed": false
   },
   "outputs": [
    {
     "data": {
      "text/html": [
       "<div>\n",
       "<table border=\"1\" class=\"dataframe\">\n",
       "  <thead>\n",
       "    <tr style=\"text-align: right;\">\n",
       "      <th></th>\n",
       "      <th>Smoke</th>\n",
       "      <th>Bronchitis</th>\n",
       "      <th>Lung-Cancer</th>\n",
       "      <th>Visited-Asian-TB-HRA</th>\n",
       "      <th>Tuberculosis</th>\n",
       "      <th>Either</th>\n",
       "      <th>X-Ray</th>\n",
       "      <th>Dyspnea</th>\n",
       "    </tr>\n",
       "  </thead>\n",
       "  <tbody>\n",
       "    <tr>\n",
       "      <th>1995</th>\n",
       "      <td>0</td>\n",
       "      <td>0</td>\n",
       "      <td>1</td>\n",
       "      <td>1</td>\n",
       "      <td>1</td>\n",
       "      <td>1</td>\n",
       "      <td>1</td>\n",
       "      <td>0</td>\n",
       "    </tr>\n",
       "    <tr>\n",
       "      <th>1996</th>\n",
       "      <td>0</td>\n",
       "      <td>0</td>\n",
       "      <td>0</td>\n",
       "      <td>1</td>\n",
       "      <td>1</td>\n",
       "      <td>0</td>\n",
       "      <td>0</td>\n",
       "      <td>0</td>\n",
       "    </tr>\n",
       "    <tr>\n",
       "      <th>1997</th>\n",
       "      <td>0</td>\n",
       "      <td>1</td>\n",
       "      <td>1</td>\n",
       "      <td>1</td>\n",
       "      <td>1</td>\n",
       "      <td>1</td>\n",
       "      <td>0</td>\n",
       "      <td>1</td>\n",
       "    </tr>\n",
       "    <tr>\n",
       "      <th>1998</th>\n",
       "      <td>1</td>\n",
       "      <td>1</td>\n",
       "      <td>1</td>\n",
       "      <td>1</td>\n",
       "      <td>1</td>\n",
       "      <td>1</td>\n",
       "      <td>1</td>\n",
       "      <td>1</td>\n",
       "    </tr>\n",
       "    <tr>\n",
       "      <th>1999</th>\n",
       "      <td>0</td>\n",
       "      <td>1</td>\n",
       "      <td>1</td>\n",
       "      <td>1</td>\n",
       "      <td>1</td>\n",
       "      <td>1</td>\n",
       "      <td>1</td>\n",
       "      <td>1</td>\n",
       "    </tr>\n",
       "  </tbody>\n",
       "</table>\n",
       "</div>"
      ],
      "text/plain": [
       "      Smoke  Bronchitis  Lung-Cancer  Visited-Asian-TB-HRA  Tuberculosis  \\\n",
       "1995      0           0            1                     1             1   \n",
       "1996      0           0            0                     1             1   \n",
       "1997      0           1            1                     1             1   \n",
       "1998      1           1            1                     1             1   \n",
       "1999      0           1            1                     1             1   \n",
       "\n",
       "      Either  X-Ray  Dyspnea  \n",
       "1995       1      1        0  \n",
       "1996       0      0        0  \n",
       "1997       1      0        1  \n",
       "1998       1      1        1  \n",
       "1999       1      1        1  "
      ]
     },
     "execution_count": 7,
     "metadata": {},
     "output_type": "execute_result"
    }
   ],
   "source": [
    "states_df.tail()"
   ]
  },
  {
   "cell_type": "code",
   "execution_count": 8,
   "metadata": {
    "collapsed": false
   },
   "outputs": [
    {
     "data": {
      "text/plain": [
       "'data.frame':\t2000 obs. of  8 variables:\n",
       " $ Smoke               : int  0 0 1 0 1 0 0 0 1 1 ...\n",
       " $ Bronchitis          : int  0 1 1 0 1 0 1 0 0 1 ...\n",
       " $ Lung.Cancer         : int  1 1 1 1 1 1 1 1 1 1 ...\n",
       " $ Visited.Asian.TB.HRA: int  1 1 1 1 1 1 1 1 1 1 ...\n",
       " $ Tuberculosis        : int  1 1 1 1 1 1 1 1 1 1 ...\n",
       " $ Either              : int  1 1 1 1 1 1 1 1 1 1 ...\n",
       " $ X.Ray               : int  1 1 1 1 1 1 1 1 1 1 ...\n",
       " $ Dyspnea             : int  0 1 1 0 1 0 1 0 0 1 ...\n"
      ]
     },
     "metadata": {},
     "output_type": "display_data"
    }
   ],
   "source": [
    "%Rpush states_df\n",
    "%R str(states_df)"
   ]
  },
  {
   "cell_type": "markdown",
   "metadata": {},
   "source": [
    "For bnlearn, data.frame columns cannot be int type, must be changed to factor.\n",
    "data.frame is a list so can use lapply"
   ]
  },
  {
   "cell_type": "code",
   "execution_count": 9,
   "metadata": {
    "collapsed": false
   },
   "outputs": [
    {
     "data": {
      "text/plain": [
       "'data.frame':\t2000 obs. of  8 variables:\n",
       " $ Smoke               : Factor w/ 2 levels \"0\",\"1\": 1 1 2 1 2 1 1 1 2 2 ...\n",
       " $ Bronchitis          : Factor w/ 2 levels \"0\",\"1\": 1 2 2 1 2 1 2 1 1 2 ...\n",
       " $ Lung.Cancer         : Factor w/ 2 levels \"0\",\"1\": 2 2 2 2 2 2 2 2 2 2 ...\n",
       " $ Visited.Asian.TB.HRA: Factor w/ 2 levels \"0\",\"1\": 2 2 2 2 2 2 2 2 2 2 ...\n",
       " $ Tuberculosis        : Factor w/ 2 levels \"0\",\"1\": 2 2 2 2 2 2 2 2 2 2 ...\n",
       " $ Either              : Factor w/ 2 levels \"0\",\"1\": 2 2 2 2 2 2 2 2 2 2 ...\n",
       " $ X.Ray               : Factor w/ 2 levels \"0\",\"1\": 2 2 2 2 2 2 2 2 2 2 ...\n",
       " $ Dyspnea             : Factor w/ 2 levels \"0\",\"1\": 1 2 2 1 2 1 2 1 1 2 ...\n"
      ]
     },
     "metadata": {},
     "output_type": "display_data"
    }
   ],
   "source": [
    "%R states_df[] <- lapply(states_df, factor)\n",
    "%R str(states_df)"
   ]
  },
  {
   "cell_type": "markdown",
   "metadata": {
    "collapsed": true
   },
   "source": [
    "# Learned Network Parameters"
   ]
  },
  {
   "cell_type": "markdown",
   "metadata": {
    "collapsed": true
   },
   "source": [
    "## QFog"
   ]
  },
  {
   "cell_type": "code",
   "execution_count": 10,
   "metadata": {
    "collapsed": false
   },
   "outputs": [],
   "source": [
    "# emp = empirical, learned\n",
    "is_quantum = False\n",
    "bnet = BayesNet.read_bif(in_bif, is_quantum)\n",
    "bnet_emp = BayesNet.read_dot(in_dot)\n",
    "vtx_to_states = bnet.get_vtx_to_state_names()\n",
    "bnet_emp.import_nd_state_names(vtx_to_states)\n",
    "\n",
    "\n",
    "lnr = NetParamsLner(is_quantum, bnet_emp, states_df)"
   ]
  },
  {
   "cell_type": "code",
   "execution_count": 11,
   "metadata": {
    "collapsed": false
   },
   "outputs": [
    {
     "data": {
      "text/plain": [
       "<graphs.BayesNet.BayesNet at 0x7f5dcc22eb70>"
      ]
     },
     "execution_count": 11,
     "metadata": {},
     "output_type": "execute_result"
    }
   ],
   "source": [
    "%%capture qfog_params_time\n",
    "%time lnr.learn_all_bnet_pots()"
   ]
  },
  {
   "cell_type": "code",
   "execution_count": 12,
   "metadata": {
    "collapsed": false
   },
   "outputs": [
    {
     "name": "stdout",
     "output_type": "stream",
     "text": [
      "CPU times: user 55.4 ms, sys: 0 ns, total: 55.4 ms\n",
      "Wall time: 55.6 ms\n",
      "\n"
     ]
    }
   ],
   "source": [
    "print(qfog_params_time)"
   ]
  },
  {
   "cell_type": "code",
   "execution_count": 13,
   "metadata": {
    "collapsed": false
   },
   "outputs": [
    {
     "name": "stdout",
     "output_type": "stream",
     "text": [
      "\n",
      "node= X-Ray\n",
      "true:\n",
      "['Either', 'X-Ray']\n",
      "[[ 0.98  0.02]\n",
      " [ 0.05  0.95]]\n",
      "empirical:\n",
      "['Either', 'X-Ray']\n",
      "[[ 0.98484848  0.01515152]\n",
      " [ 0.05513919  0.94486081]]\n",
      "\n",
      "node= Either\n",
      "true:\n",
      "['Lung-Cancer', 'Tuberculosis', 'Either']\n",
      "[[[ 1.  0.]\n",
      "  [ 1.  0.]]\n",
      "\n",
      " [[ 1.  0.]\n",
      "  [ 0.  1.]]]\n",
      "empirical:\n",
      "['Lung-Cancer', 'Tuberculosis', 'Either']\n",
      "[[[ 1.  0.]\n",
      "  [ 1.  0.]]\n",
      "\n",
      " [[ 1.  0.]\n",
      "  [ 0.  1.]]]\n",
      "\n",
      "node= Dyspnea\n",
      "true:\n",
      "['Bronchitis', 'Either', 'Dyspnea']\n",
      "[[[ 0.9  0.1]\n",
      "  [ 0.7  0.3]]\n",
      "\n",
      " [[ 0.8  0.2]\n",
      "  [ 0.1  0.9]]]\n",
      "empirical:\n",
      "['Bronchitis', 'Either', 'Dyspnea']\n",
      "[[[ 0.94736842  0.05263158]\n",
      "  [ 0.69859515  0.30140485]]\n",
      "\n",
      " [[ 0.80357143  0.19642857]\n",
      "  [ 0.07741935  0.92258065]]]\n",
      "\n",
      "node= Bronchitis\n",
      "true:\n",
      "['Smoke', 'Bronchitis']\n",
      "[[ 0.6  0.4]\n",
      " [ 0.3  0.7]]\n",
      "empirical:\n",
      "['Smoke', 'Bronchitis']\n",
      "[[ 0.58811881  0.41188119]\n",
      " [ 0.26767677  0.73232323]]\n",
      "\n",
      "node= Lung-Cancer\n",
      "true:\n",
      "['Smoke', 'Lung-Cancer']\n",
      "[[ 0.1   0.9 ]\n",
      " [ 0.01  0.99]]\n",
      "empirical:\n",
      "['Smoke', 'Lung-Cancer']\n",
      "[[ 0.1049505   0.8950495 ]\n",
      " [ 0.01111111  0.98888889]]\n",
      "\n",
      "node= Tuberculosis\n",
      "true:\n",
      "['Visited-Asian-TB-HRA', 'Tuberculosis']\n",
      "[[ 0.05  0.95]\n",
      " [ 0.01  0.99]]\n",
      "empirical:\n",
      "['Visited-Asian-TB-HRA', 'Tuberculosis']\n",
      "[[ 0.04545455  0.95454545]\n",
      " [ 0.00758342  0.99241658]]\n",
      "\n",
      "node= Smoke\n",
      "true:\n",
      "['Smoke']\n",
      "[ 0.5  0.5]\n",
      "empirical:\n",
      "['Smoke']\n",
      "[ 0.505  0.495]\n",
      "\n",
      "node= Visited-Asian-TB-HRA\n",
      "true:\n",
      "['Visited-Asian-TB-HRA']\n",
      "[ 0.01  0.99]\n",
      "empirical:\n",
      "['Visited-Asian-TB-HRA']\n",
      "[ 0.011  0.989]\n"
     ]
    }
   ],
   "source": [
    "lnr.compare_true_and_emp_pots(bnet, bnet_emp)"
   ]
  },
  {
   "cell_type": "markdown",
   "metadata": {},
   "source": [
    "## bnlearn\n"
   ]
  },
  {
   "cell_type": "code",
   "execution_count": 14,
   "metadata": {
    "collapsed": false
   },
   "outputs": [
    {
     "name": "stdout",
     "output_type": "stream",
     "text": [
      "\n",
      "Error in FUN(X[[i]], ...) : \n",
      "  dropped mismatched node is the parent of another node.\n"
     ]
    },
    {
     "data": {
      "text/plain": [
       "function (x, data, method = \"mle\", ..., debug = FALSE)  \n"
      ]
     },
     "metadata": {},
     "output_type": "display_data"
    }
   ],
   "source": [
    "%Rpush in_bif\n",
    "%R bn.fit = read.bif(in_bif)\n",
    "%R str(bn.fit)"
   ]
  },
  {
   "cell_type": "code",
   "execution_count": 15,
   "metadata": {
    "collapsed": false
   },
   "outputs": [
    {
     "name": "stdout",
     "output_type": "stream",
     "text": [
      "\n",
      "Error in check.fit(x) : x must be an object of class 'bn.fit'.\n"
     ]
    },
    {
     "name": "stdout",
     "output_type": "stream",
     "text": [
      "\n",
      "Error in str(bn) : object 'bn' not found\n"
     ]
    }
   ],
   "source": [
    "%R bn = bn.net(bn.fit)\n",
    "%R str(bn)"
   ]
  },
  {
   "cell_type": "code",
   "execution_count": 16,
   "metadata": {
    "collapsed": true
   },
   "outputs": [],
   "source": [
    "%%capture bnlearn_params_time\n",
    "%time %R rfit = bn.fit(bn, data = states_df);"
   ]
  },
  {
   "cell_type": "code",
   "execution_count": 17,
   "metadata": {
    "collapsed": false
   },
   "outputs": [
    {
     "name": "stdout",
     "output_type": "stream",
     "text": [
      "\n",
      "Error in match(x, table, nomatch = 0L) : object 'bn' not found\n",
      "CPU times: user 2.51 ms, sys: 124 us, total: 2.63 ms\n",
      "Wall time: 2.75 ms\n",
      "\n"
     ]
    }
   ],
   "source": [
    "print(bnlearn_params_time)"
   ]
  },
  {
   "cell_type": "code",
   "execution_count": 18,
   "metadata": {
    "collapsed": false
   },
   "outputs": [
    {
     "name": "stdout",
     "output_type": "stream",
     "text": [
      "\n",
      "Error in str(rfit) : object 'rfit' not found\n"
     ]
    }
   ],
   "source": [
    "%R str(rfit)"
   ]
  },
  {
   "cell_type": "code",
   "execution_count": 19,
   "metadata": {
    "collapsed": false
   },
   "outputs": [
    {
     "name": "stdout",
     "output_type": "stream",
     "text": [
      "\n",
      "Error in (function (classes, fdef, mtable)  : \n",
      "  unable to find an inherited method for function ‘nodes’ for signature ‘\"function\"’\n"
     ]
    }
   ],
   "source": [
    "%%R\n",
    "j = 0\n",
    "for( nd in nodes(bn.fit)){\n",
    "    j = j + 1\n",
    "    cat('----------------', nd[1], '\\n')\n",
    "    cat('true:\\n')\n",
    "    print(coef(bn.fit)[j])\n",
    "    cat('empirical:\\n')\n",
    "    print(coef(rfit)[j])\n",
    "}"
   ]
  },
  {
   "cell_type": "markdown",
   "metadata": {
    "collapsed": true
   },
   "source": [
    "## Summary of Running Times"
   ]
  },
  {
   "cell_type": "code",
   "execution_count": 20,
   "metadata": {
    "collapsed": false
   },
   "outputs": [
    {
     "name": "stdout",
     "output_type": "stream",
     "text": [
      "QFog:\n",
      " CPU times: user 55.4 ms, sys: 0 ns, total: 55.4 ms\n",
      "Wall time: 55.6 ms\n",
      "\n",
      "bnlearn:\n",
      " \n",
      "Error in match(x, table, nomatch = 0L) : object 'bn' not found\n",
      "CPU times: user 2.51 ms, sys: 124 us, total: 2.63 ms\n",
      "Wall time: 2.75 ms\n",
      "\n"
     ]
    }
   ],
   "source": [
    "print(\"QFog:\\n\", qfog_params_time)\n",
    "print(\"bnlearn:\\n\", bnlearn_params_time)"
   ]
  },
  {
   "cell_type": "code",
   "execution_count": 21,
   "metadata": {
    "collapsed": true
   },
   "outputs": [],
   "source": []
  }
 ],
 "metadata": {
  "anaconda-cloud": {},
  "kernelspec": {
   "display_name": "Python 3",
   "language": "python",
   "name": "python3"
  },
  "language_info": {
   "codemirror_mode": {
    "name": "ipython",
    "version": 3
   },
   "file_extension": ".py",
   "mimetype": "text/x-python",
   "name": "python",
   "nbconvert_exporter": "python",
   "pygments_lexer": "ipython3",
   "version": "3.6.0"
  },
  "toc": {
   "colors": {
    "hover_highlight": "#DAA520",
    "running_highlight": "#FF0000",
    "selected_highlight": "#FFD700"
   },
   "moveMenuLeft": true,
   "nav_menu": {
    "height": "210px",
    "width": "252px"
   },
   "navigate_menu": true,
   "number_sections": true,
   "sideBar": false,
   "threshold": "3",
   "toc_cell": true,
   "toc_position": {
    "height": "283px",
    "left": "1px",
    "right": "20px",
    "top": "107px",
    "width": "212px"
   },
   "toc_section_display": "none",
   "toc_window_display": true
  }
 },
 "nbformat": 4,
 "nbformat_minor": 1
}
