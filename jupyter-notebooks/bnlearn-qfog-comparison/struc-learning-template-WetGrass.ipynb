{
 "cells": [
  {
   "cell_type": "markdown",
   "metadata": {},
   "source": [
    "**Executed:** Fri Feb 17 19:26:12 2017\n",
    "\n",
    "**Duration:** 6 seconds."
   ]
  },
  {
   "cell_type": "code",
   "execution_count": 1,
   "metadata": {
    "collapsed": true
   },
   "outputs": [],
   "source": [
    "# default values of file paths, assuming quantum_fog is working dir\n",
    "in_bif = 'examples_cbnets/earthquake.bif'\n",
    "in_dot = 'examples_cbnets/earthquake.dot'\n",
    "in_csv = 'learning/training_data_c/earthquake.csv'"
   ]
  },
  {
   "cell_type": "code",
   "execution_count": 2,
   "metadata": {},
   "outputs": [],
   "source": [
    "# Cell inserted during automated execution.\n",
    "in_bif = 'examples_cbnets/WetGrass.bif'\n",
    "in_dot = 'examples_cbnets/WetGrass.dot'\n",
    "in_csv = 'learning/training_data_c/tempo.csv'"
   ]
  },
  {
   "cell_type": "code",
   "execution_count": 3,
   "metadata": {
    "collapsed": true
   },
   "outputs": [],
   "source": [
    "learned_dot = 'examples_cbnets/tempo.dot'  # for storing learned network"
   ]
  },
  {
   "cell_type": "markdown",
   "metadata": {},
   "source": [
    "**Structure Learning Template**"
   ]
  },
  {
   "cell_type": "markdown",
   "metadata": {
    "toc": "true"
   },
   "source": [
    "# Table of Contents\n",
    " <p><div class=\"lev1 toc-item\"><a href=\"#True-Network-Structure\" data-toc-modified-id=\"True-Network-Structure-1\"><span class=\"toc-item-num\">1&nbsp;&nbsp;</span>True Network Structure</a></div><div class=\"lev1 toc-item\"><a href=\"#Learned-Network-Structures\" data-toc-modified-id=\"Learned-Network-Structures-2\"><span class=\"toc-item-num\">2&nbsp;&nbsp;</span>Learned Network Structures</a></div><div class=\"lev2 toc-item\"><a href=\"#MB-based-learning\" data-toc-modified-id=\"MB-based-learning-21\"><span class=\"toc-item-num\">2.1&nbsp;&nbsp;</span>MB based learning</a></div><div class=\"lev3 toc-item\"><a href=\"#Grow-Shink\" data-toc-modified-id=\"Grow-Shink-211\"><span class=\"toc-item-num\">2.1.1&nbsp;&nbsp;</span>Grow Shink</a></div><div class=\"lev3 toc-item\"><a href=\"#IAMB\" data-toc-modified-id=\"IAMB-212\"><span class=\"toc-item-num\">2.1.2&nbsp;&nbsp;</span>IAMB</a></div><div class=\"lev2 toc-item\"><a href=\"#Score-based-learning\" data-toc-modified-id=\"Score-based-learning-22\"><span class=\"toc-item-num\">2.2&nbsp;&nbsp;</span>Score based learning</a></div><div class=\"lev3 toc-item\"><a href=\"#Hiil-Climbing-with-BIC-score\" data-toc-modified-id=\"Hiil-Climbing-with-BIC-score-221\"><span class=\"toc-item-num\">2.2.1&nbsp;&nbsp;</span>Hiil Climbing with BIC score</a></div><div class=\"lev2 toc-item\"><a href=\"#Summary-of-Running-Times\" data-toc-modified-id=\"Summary-of-Running-Times-23\"><span class=\"toc-item-num\">2.3&nbsp;&nbsp;</span>Summary of Running Times</a></div>"
   ]
  },
  {
   "cell_type": "code",
   "execution_count": 4,
   "metadata": {
    "collapsed": false
   },
   "outputs": [],
   "source": [
    "import pandas as pd\n",
    "import numpy as np\n",
    "from graphviz import Digraph, Source\n",
    "\n",
    "import warnings\n",
    "warnings.filterwarnings(\"ignore\", module=\"rpy2\")\n",
    "\n",
    "import rpy2\n",
    "%load_ext rpy2.ipython\n",
    "%R library(\"bnlearn\");\n",
    "%R library(\"Rgraphviz\");"
   ]
  },
  {
   "cell_type": "code",
   "execution_count": 5,
   "metadata": {
    "collapsed": true
   },
   "outputs": [],
   "source": [
    "# make this the absolute path of quantum-fog folder\n",
    "qfog_path = '/home/jupyter/Notebooks/quantum-fog'"
   ]
  },
  {
   "cell_type": "code",
   "execution_count": 6,
   "metadata": {
    "collapsed": true
   },
   "outputs": [],
   "source": [
    "import os\n",
    "import sys\n",
    "if qfog_path != os.getcwd():\n",
    "    os.chdir('../../')\n",
    "    sys.path.insert(0,os.getcwd())\n",
    "from learning.NaiveBayesLner import *\n",
    "from learning.MB_GrowShrinkLner import *\n",
    "from learning.MB_IAMB_Lner import *\n",
    "from learning.HillClimbingLner import *"
   ]
  },
  {
   "cell_type": "markdown",
   "metadata": {},
   "source": [
    "Read in_csv, create Pandas Dataframe with it, push dataframe into R"
   ]
  },
  {
   "cell_type": "code",
   "execution_count": 7,
   "metadata": {
    "collapsed": false
   },
   "outputs": [
    {
     "data": {
      "text/html": [
       "<div>\n",
       "<table border=\"1\" class=\"dataframe\">\n",
       "  <thead>\n",
       "    <tr style=\"text-align: right;\">\n",
       "      <th></th>\n",
       "      <th>Cloudy</th>\n",
       "      <th>Sprinkler</th>\n",
       "      <th>Rain</th>\n",
       "      <th>WetGrass</th>\n",
       "    </tr>\n",
       "  </thead>\n",
       "  <tbody>\n",
       "    <tr>\n",
       "      <th>0</th>\n",
       "      <td>1</td>\n",
       "      <td>1</td>\n",
       "      <td>1</td>\n",
       "      <td>1</td>\n",
       "    </tr>\n",
       "    <tr>\n",
       "      <th>1</th>\n",
       "      <td>0</td>\n",
       "      <td>1</td>\n",
       "      <td>0</td>\n",
       "      <td>1</td>\n",
       "    </tr>\n",
       "    <tr>\n",
       "      <th>2</th>\n",
       "      <td>0</td>\n",
       "      <td>1</td>\n",
       "      <td>1</td>\n",
       "      <td>1</td>\n",
       "    </tr>\n",
       "    <tr>\n",
       "      <th>3</th>\n",
       "      <td>0</td>\n",
       "      <td>1</td>\n",
       "      <td>1</td>\n",
       "      <td>1</td>\n",
       "    </tr>\n",
       "    <tr>\n",
       "      <th>4</th>\n",
       "      <td>1</td>\n",
       "      <td>0</td>\n",
       "      <td>1</td>\n",
       "      <td>1</td>\n",
       "    </tr>\n",
       "  </tbody>\n",
       "</table>\n",
       "</div>"
      ],
      "text/plain": [
       "   Cloudy  Sprinkler  Rain  WetGrass\n",
       "0       1          1     1         1\n",
       "1       0          1     0         1\n",
       "2       0          1     1         1\n",
       "3       0          1     1         1\n",
       "4       1          0     1         1"
      ]
     },
     "execution_count": 7,
     "metadata": {},
     "output_type": "execute_result"
    }
   ],
   "source": [
    "states_df = pd.read_csv(in_csv)\n",
    "states_df.head()"
   ]
  },
  {
   "cell_type": "code",
   "execution_count": 8,
   "metadata": {
    "collapsed": false
   },
   "outputs": [
    {
     "data": {
      "text/html": [
       "<div>\n",
       "<table border=\"1\" class=\"dataframe\">\n",
       "  <thead>\n",
       "    <tr style=\"text-align: right;\">\n",
       "      <th></th>\n",
       "      <th>Cloudy</th>\n",
       "      <th>Sprinkler</th>\n",
       "      <th>Rain</th>\n",
       "      <th>WetGrass</th>\n",
       "    </tr>\n",
       "  </thead>\n",
       "  <tbody>\n",
       "    <tr>\n",
       "      <th>1995</th>\n",
       "      <td>0</td>\n",
       "      <td>1</td>\n",
       "      <td>1</td>\n",
       "      <td>1</td>\n",
       "    </tr>\n",
       "    <tr>\n",
       "      <th>1996</th>\n",
       "      <td>1</td>\n",
       "      <td>1</td>\n",
       "      <td>1</td>\n",
       "      <td>1</td>\n",
       "    </tr>\n",
       "    <tr>\n",
       "      <th>1997</th>\n",
       "      <td>0</td>\n",
       "      <td>1</td>\n",
       "      <td>1</td>\n",
       "      <td>1</td>\n",
       "    </tr>\n",
       "    <tr>\n",
       "      <th>1998</th>\n",
       "      <td>0</td>\n",
       "      <td>1</td>\n",
       "      <td>1</td>\n",
       "      <td>1</td>\n",
       "    </tr>\n",
       "    <tr>\n",
       "      <th>1999</th>\n",
       "      <td>1</td>\n",
       "      <td>0</td>\n",
       "      <td>1</td>\n",
       "      <td>1</td>\n",
       "    </tr>\n",
       "  </tbody>\n",
       "</table>\n",
       "</div>"
      ],
      "text/plain": [
       "      Cloudy  Sprinkler  Rain  WetGrass\n",
       "1995       0          1     1         1\n",
       "1996       1          1     1         1\n",
       "1997       0          1     1         1\n",
       "1998       0          1     1         1\n",
       "1999       1          0     1         1"
      ]
     },
     "execution_count": 8,
     "metadata": {},
     "output_type": "execute_result"
    }
   ],
   "source": [
    "states_df.tail()"
   ]
  },
  {
   "cell_type": "code",
   "execution_count": 9,
   "metadata": {
    "collapsed": false
   },
   "outputs": [
    {
     "data": {
      "text/plain": [
       "'data.frame':\t2000 obs. of  4 variables:\n",
       " $ Cloudy   : int  1 0 0 0 1 1 0 1 1 1 ...\n",
       " $ Sprinkler: int  1 1 1 1 0 0 1 1 1 1 ...\n",
       " $ Rain     : int  1 0 1 1 1 1 1 0 0 0 ...\n",
       " $ WetGrass : int  1 1 1 1 1 1 1 1 1 1 ...\n"
      ]
     },
     "metadata": {},
     "output_type": "display_data"
    }
   ],
   "source": [
    "%Rpush states_df\n",
    "%R str(states_df)"
   ]
  },
  {
   "cell_type": "markdown",
   "metadata": {},
   "source": [
    "For bnlearn, data.frame columns cannot be int type, must be changed to factor.\n",
    "data.frame is a list so can use lapply"
   ]
  },
  {
   "cell_type": "code",
   "execution_count": 10,
   "metadata": {
    "collapsed": false
   },
   "outputs": [
    {
     "data": {
      "text/plain": [
       "'data.frame':\t2000 obs. of  4 variables:\n",
       " $ Cloudy   : Factor w/ 2 levels \"0\",\"1\": 2 1 1 1 2 2 1 2 2 2 ...\n",
       " $ Sprinkler: Factor w/ 2 levels \"0\",\"1\": 2 2 2 2 1 1 2 2 2 2 ...\n",
       " $ Rain     : Factor w/ 2 levels \"0\",\"1\": 2 1 2 2 2 2 2 1 1 1 ...\n",
       " $ WetGrass : Factor w/ 2 levels \"0\",\"1\": 2 2 2 2 2 2 2 2 2 2 ...\n"
      ]
     },
     "metadata": {},
     "output_type": "display_data"
    }
   ],
   "source": [
    "%R states_df[] <- lapply(states_df, factor)\n",
    "%R str(states_df)"
   ]
  },
  {
   "cell_type": "markdown",
   "metadata": {},
   "source": [
    "# True Network Structure"
   ]
  },
  {
   "cell_type": "code",
   "execution_count": 11,
   "metadata": {
    "collapsed": false
   },
   "outputs": [
    {
     "data": {
      "image/svg+xml": [
       "<?xml version=\"1.0\" encoding=\"UTF-8\" standalone=\"no\"?>\n",
       "<!DOCTYPE svg PUBLIC \"-//W3C//DTD SVG 1.1//EN\"\n",
       " \"http://www.w3.org/Graphics/SVG/1.1/DTD/svg11.dtd\">\n",
       "<!-- Generated by graphviz version 2.38.0 (20140413.2041)\n",
       " -->\n",
       "<!-- Title: G Pages: 1 -->\n",
       "<svg width=\"168pt\" height=\"188pt\"\n",
       " viewBox=\"0.00 0.00 167.84 188.00\" xmlns=\"http://www.w3.org/2000/svg\" xmlns:xlink=\"http://www.w3.org/1999/xlink\">\n",
       "<g id=\"graph0\" class=\"graph\" transform=\"scale(1 1) rotate(0) translate(4 184)\">\n",
       "<title>G</title>\n",
       "<polygon fill=\"white\" stroke=\"none\" points=\"-4,4 -4,-184 163.844,-184 163.844,4 -4,4\"/>\n",
       "<!-- Rain -->\n",
       "<g id=\"node1\" class=\"node\"><title>Rain</title>\n",
       "<ellipse fill=\"none\" stroke=\"black\" cx=\"27.2976\" cy=\"-90\" rx=\"27.0966\" ry=\"18\"/>\n",
       "<text text-anchor=\"middle\" x=\"27.2976\" y=\"-86.3\" font-family=\"Times,serif\" font-size=\"14.00\">Rain</text>\n",
       "</g>\n",
       "<!-- WetGrass -->\n",
       "<g id=\"node3\" class=\"node\"><title>WetGrass</title>\n",
       "<ellipse fill=\"none\" stroke=\"black\" cx=\"71.2976\" cy=\"-18\" rx=\"46.2923\" ry=\"18\"/>\n",
       "<text text-anchor=\"middle\" x=\"71.2976\" y=\"-14.3\" font-family=\"Times,serif\" font-size=\"14.00\">WetGrass</text>\n",
       "</g>\n",
       "<!-- Rain&#45;&gt;WetGrass -->\n",
       "<g id=\"edge1\" class=\"edge\"><title>Rain&#45;&gt;WetGrass</title>\n",
       "<path fill=\"none\" stroke=\"black\" d=\"M37.2819,-73.1159C42.5851,-64.679 49.232,-54.1044 55.2397,-44.5465\"/>\n",
       "<polygon fill=\"black\" stroke=\"black\" points=\"58.3807,-46.1263 60.7392,-35.7973 52.4543,-42.4011 58.3807,-46.1263\"/>\n",
       "</g>\n",
       "<!-- Sprinkler -->\n",
       "<g id=\"node2\" class=\"node\"><title>Sprinkler</title>\n",
       "<ellipse fill=\"none\" stroke=\"black\" cx=\"116.298\" cy=\"-90\" rx=\"43.5923\" ry=\"18\"/>\n",
       "<text text-anchor=\"middle\" x=\"116.298\" y=\"-86.3\" font-family=\"Times,serif\" font-size=\"14.00\">Sprinkler</text>\n",
       "</g>\n",
       "<!-- Sprinkler&#45;&gt;WetGrass -->\n",
       "<g id=\"edge2\" class=\"edge\"><title>Sprinkler&#45;&gt;WetGrass</title>\n",
       "<path fill=\"none\" stroke=\"black\" d=\"M105.633,-72.411C100.276,-64.0774 93.6672,-53.7972 87.6829,-44.4883\"/>\n",
       "<polygon fill=\"black\" stroke=\"black\" points=\"90.5498,-42.4753 82.198,-35.9562 84.6615,-46.2607 90.5498,-42.4753\"/>\n",
       "</g>\n",
       "<!-- Cloudy -->\n",
       "<g id=\"node4\" class=\"node\"><title>Cloudy</title>\n",
       "<ellipse fill=\"none\" stroke=\"black\" cx=\"71.2976\" cy=\"-162\" rx=\"36.2938\" ry=\"18\"/>\n",
       "<text text-anchor=\"middle\" x=\"71.2976\" y=\"-158.3\" font-family=\"Times,serif\" font-size=\"14.00\">Cloudy</text>\n",
       "</g>\n",
       "<!-- Cloudy&#45;&gt;Rain -->\n",
       "<g id=\"edge3\" class=\"edge\"><title>Cloudy&#45;&gt;Rain</title>\n",
       "<path fill=\"none\" stroke=\"black\" d=\"M60.8702,-144.411C55.4779,-135.832 48.7889,-125.191 42.8041,-115.67\"/>\n",
       "<polygon fill=\"black\" stroke=\"black\" points=\"45.6322,-113.592 37.3472,-106.988 39.7058,-117.317 45.6322,-113.592\"/>\n",
       "</g>\n",
       "<!-- Cloudy&#45;&gt;Sprinkler -->\n",
       "<g id=\"edge4\" class=\"edge\"><title>Cloudy&#45;&gt;Sprinkler</title>\n",
       "<path fill=\"none\" stroke=\"black\" d=\"M81.9619,-144.411C87.398,-135.955 94.1226,-125.494 100.176,-116.078\"/>\n",
       "<polygon fill=\"black\" stroke=\"black\" points=\"103.246,-117.774 105.71,-107.47 97.358,-113.989 103.246,-117.774\"/>\n",
       "</g>\n",
       "</g>\n",
       "</svg>\n"
      ],
      "text/plain": [
       "<graphviz.files.Source at 0x7f43b688ee10>"
      ]
     },
     "execution_count": 11,
     "metadata": {},
     "output_type": "execute_result"
    }
   ],
   "source": [
    "Source(open(in_dot).read())"
   ]
  },
  {
   "cell_type": "markdown",
   "metadata": {},
   "source": [
    "# Learned Network Structures\n",
    "## MB based learning\n",
    "### Grow Shink\n",
    "#### Qfog"
   ]
  },
  {
   "cell_type": "code",
   "execution_count": 12,
   "metadata": {
    "collapsed": false
   },
   "outputs": [],
   "source": [
    "%%capture qfog_gs_time\n",
    "alpha = 8/len(states_df.index)\n",
    "%time lnr = MB_GrowShrinkLner(states_df, alpha, verbose=False)"
   ]
  },
  {
   "cell_type": "code",
   "execution_count": 13,
   "metadata": {
    "collapsed": false
   },
   "outputs": [
    {
     "name": "stdout",
     "output_type": "stream",
     "text": [
      "CPU times: user 289 ms, sys: 194 us, total: 289 ms\n",
      "Wall time: 289 ms\n",
      "\n"
     ]
    }
   ],
   "source": [
    "print(qfog_gs_time)"
   ]
  },
  {
   "cell_type": "code",
   "execution_count": 14,
   "metadata": {
    "collapsed": false
   },
   "outputs": [
    {
     "data": {
      "image/svg+xml": [
       "<?xml version=\"1.0\" encoding=\"UTF-8\" standalone=\"no\"?>\n",
       "<!DOCTYPE svg PUBLIC \"-//W3C//DTD SVG 1.1//EN\"\n",
       " \"http://www.w3.org/Graphics/SVG/1.1/DTD/svg11.dtd\">\n",
       "<!-- Generated by graphviz version 2.38.0 (20140413.2041)\n",
       " -->\n",
       "<!-- Pages: 1 -->\n",
       "<svg width=\"168pt\" height=\"188pt\"\n",
       " viewBox=\"0.00 0.00 167.84 188.00\" xmlns=\"http://www.w3.org/2000/svg\" xmlns:xlink=\"http://www.w3.org/1999/xlink\">\n",
       "<g id=\"graph0\" class=\"graph\" transform=\"scale(1 1) rotate(0) translate(4 184)\">\n",
       "<polygon fill=\"white\" stroke=\"none\" points=\"-4,4 -4,-184 163.844,-184 163.844,4 -4,4\"/>\n",
       "<!-- WetGrass -->\n",
       "<g id=\"node1\" class=\"node\"><title>WetGrass</title>\n",
       "<ellipse fill=\"none\" stroke=\"black\" cx=\"87.5461\" cy=\"-18\" rx=\"46.2923\" ry=\"18\"/>\n",
       "<text text-anchor=\"middle\" x=\"87.5461\" y=\"-14.3\" font-family=\"Times,serif\" font-size=\"14.00\">WetGrass</text>\n",
       "</g>\n",
       "<!-- Sprinkler -->\n",
       "<g id=\"node2\" class=\"node\"><title>Sprinkler</title>\n",
       "<ellipse fill=\"none\" stroke=\"black\" cx=\"43.5461\" cy=\"-90\" rx=\"43.5923\" ry=\"18\"/>\n",
       "<text text-anchor=\"middle\" x=\"43.5461\" y=\"-86.3\" font-family=\"Times,serif\" font-size=\"14.00\">Sprinkler</text>\n",
       "</g>\n",
       "<!-- Sprinkler&#45;&gt;WetGrass -->\n",
       "<g id=\"edge1\" class=\"edge\"><title>Sprinkler&#45;&gt;WetGrass</title>\n",
       "<path fill=\"none\" stroke=\"black\" d=\"M53.9735,-72.411C59.2118,-64.0774 65.6736,-53.7972 71.5249,-44.4883\"/>\n",
       "<polygon fill=\"black\" stroke=\"black\" points=\"74.5294,-46.2852 76.8879,-35.9562 68.603,-42.56 74.5294,-46.2852\"/>\n",
       "</g>\n",
       "<!-- Rain -->\n",
       "<g id=\"node3\" class=\"node\"><title>Rain</title>\n",
       "<ellipse fill=\"none\" stroke=\"black\" cx=\"132.546\" cy=\"-90\" rx=\"27.0966\" ry=\"18\"/>\n",
       "<text text-anchor=\"middle\" x=\"132.546\" y=\"-86.3\" font-family=\"Times,serif\" font-size=\"14.00\">Rain</text>\n",
       "</g>\n",
       "<!-- Rain&#45;&gt;WetGrass -->\n",
       "<g id=\"edge2\" class=\"edge\"><title>Rain&#45;&gt;WetGrass</title>\n",
       "<path fill=\"none\" stroke=\"black\" d=\"M122.335,-73.1159C116.855,-64.592 109.973,-53.8861 103.779,-44.2513\"/>\n",
       "<polygon fill=\"black\" stroke=\"black\" points=\"106.696,-42.3165 98.3444,-35.7973 100.808,-46.1018 106.696,-42.3165\"/>\n",
       "</g>\n",
       "<!-- Cloudy -->\n",
       "<g id=\"node4\" class=\"node\"><title>Cloudy</title>\n",
       "<ellipse fill=\"none\" stroke=\"black\" cx=\"43.5461\" cy=\"-162\" rx=\"36.2938\" ry=\"18\"/>\n",
       "<text text-anchor=\"middle\" x=\"43.5461\" y=\"-158.3\" font-family=\"Times,serif\" font-size=\"14.00\">Cloudy</text>\n",
       "</g>\n",
       "<!-- Cloudy&#45;&gt;Sprinkler -->\n",
       "<g id=\"edge3\" class=\"edge\"><title>Cloudy&#45;&gt;Sprinkler</title>\n",
       "<path fill=\"none\" stroke=\"black\" d=\"M43.5461,-143.697C43.5461,-135.983 43.5461,-126.712 43.5461,-118.112\"/>\n",
       "<polygon fill=\"black\" stroke=\"black\" points=\"47.0462,-118.104 43.5461,-108.104 40.0462,-118.104 47.0462,-118.104\"/>\n",
       "</g>\n",
       "</g>\n",
       "</svg>\n"
      ],
      "text/plain": [
       "<graphviz.files.Source at 0x7f43b65a5438>"
      ]
     },
     "execution_count": 14,
     "metadata": {},
     "output_type": "execute_result"
    }
   ],
   "source": [
    "lnr.bnet.write_dot(learned_dot) # write BNet to .dot file\n",
    "Source(open(learned_dot).read())"
   ]
  },
  {
   "cell_type": "markdown",
   "metadata": {},
   "source": [
    "#### bnlearn"
   ]
  },
  {
   "cell_type": "code",
   "execution_count": 15,
   "metadata": {
    "collapsed": false,
    "scrolled": false
   },
   "outputs": [],
   "source": [
    "%%capture bnlearn_gs_time\n",
    "%time %R bn <- gs(states_df);"
   ]
  },
  {
   "cell_type": "code",
   "execution_count": 16,
   "metadata": {
    "collapsed": false
   },
   "outputs": [
    {
     "name": "stdout",
     "output_type": "stream",
     "text": [
      "CPU times: user 19.7 ms, sys: 0 ns, total: 19.7 ms\n",
      "Wall time: 19.9 ms\n",
      "\n"
     ]
    }
   ],
   "source": [
    "print(bnlearn_gs_time)"
   ]
  },
  {
   "cell_type": "code",
   "execution_count": 17,
   "metadata": {
    "collapsed": false
   },
   "outputs": [
    {
     "data": {
      "image/png": "[encoded data removed]"
     },
     "metadata": {},
     "output_type": "display_data"
    }
   ],
   "source": [
    "%R par(mfrow = c(1,1))\n",
    "%R graphviz.plot(bn, shape = \"ellipse\", main = \"Grow-Shrink (GS)\");"
   ]
  },
  {
   "cell_type": "markdown",
   "metadata": {},
   "source": [
    "### IAMB\n",
    "#### QFog"
   ]
  },
  {
   "cell_type": "code",
   "execution_count": 18,
   "metadata": {
    "collapsed": false,
    "scrolled": false
   },
   "outputs": [],
   "source": [
    "%%capture qfog_iamb_time\n",
    "alpha = 8/len(states_df.index)\n",
    "%time lnr = MB_IAMB_Lner(states_df, alpha, verbose=False)"
   ]
  },
  {
   "cell_type": "code",
   "execution_count": 19,
   "metadata": {
    "collapsed": false
   },
   "outputs": [
    {
     "name": "stdout",
     "output_type": "stream",
     "text": [
      "CPU times: user 320 ms, sys: 142 us, total: 320 ms\n",
      "Wall time: 320 ms\n",
      "\n"
     ]
    }
   ],
   "source": [
    "print(qfog_iamb_time)"
   ]
  },
  {
   "cell_type": "code",
   "execution_count": 20,
   "metadata": {
    "collapsed": false
   },
   "outputs": [
    {
     "data": {
      "image/svg+xml": [
       "<?xml version=\"1.0\" encoding=\"UTF-8\" standalone=\"no\"?>\n",
       "<!DOCTYPE svg PUBLIC \"-//W3C//DTD SVG 1.1//EN\"\n",
       " \"http://www.w3.org/Graphics/SVG/1.1/DTD/svg11.dtd\">\n",
       "<!-- Generated by graphviz version 2.38.0 (20140413.2041)\n",
       " -->\n",
       "<!-- Pages: 1 -->\n",
       "<svg width=\"168pt\" height=\"188pt\"\n",
       " viewBox=\"0.00 0.00 167.84 188.00\" xmlns=\"http://www.w3.org/2000/svg\" xmlns:xlink=\"http://www.w3.org/1999/xlink\">\n",
       "<g id=\"graph0\" class=\"graph\" transform=\"scale(1 1) rotate(0) translate(4 184)\">\n",
       "<polygon fill=\"white\" stroke=\"none\" points=\"-4,4 -4,-184 163.844,-184 163.844,4 -4,4\"/>\n",
       "<!-- WetGrass -->\n",
       "<g id=\"node1\" class=\"node\"><title>WetGrass</title>\n",
       "<ellipse fill=\"none\" stroke=\"black\" cx=\"87.5461\" cy=\"-18\" rx=\"46.2923\" ry=\"18\"/>\n",
       "<text text-anchor=\"middle\" x=\"87.5461\" y=\"-14.3\" font-family=\"Times,serif\" font-size=\"14.00\">WetGrass</text>\n",
       "</g>\n",
       "<!-- Sprinkler -->\n",
       "<g id=\"node2\" class=\"node\"><title>Sprinkler</title>\n",
       "<ellipse fill=\"none\" stroke=\"black\" cx=\"43.5461\" cy=\"-90\" rx=\"43.5923\" ry=\"18\"/>\n",
       "<text text-anchor=\"middle\" x=\"43.5461\" y=\"-86.3\" font-family=\"Times,serif\" font-size=\"14.00\">Sprinkler</text>\n",
       "</g>\n",
       "<!-- Sprinkler&#45;&gt;WetGrass -->\n",
       "<g id=\"edge1\" class=\"edge\"><title>Sprinkler&#45;&gt;WetGrass</title>\n",
       "<path fill=\"none\" stroke=\"black\" d=\"M53.9735,-72.411C59.2118,-64.0774 65.6736,-53.7972 71.5249,-44.4883\"/>\n",
       "<polygon fill=\"black\" stroke=\"black\" points=\"74.5294,-46.2852 76.8879,-35.9562 68.603,-42.56 74.5294,-46.2852\"/>\n",
       "</g>\n",
       "<!-- Rain -->\n",
       "<g id=\"node3\" class=\"node\"><title>Rain</title>\n",
       "<ellipse fill=\"none\" stroke=\"black\" cx=\"132.546\" cy=\"-90\" rx=\"27.0966\" ry=\"18\"/>\n",
       "<text text-anchor=\"middle\" x=\"132.546\" y=\"-86.3\" font-family=\"Times,serif\" font-size=\"14.00\">Rain</text>\n",
       "</g>\n",
       "<!-- Rain&#45;&gt;WetGrass -->\n",
       "<g id=\"edge2\" class=\"edge\"><title>Rain&#45;&gt;WetGrass</title>\n",
       "<path fill=\"none\" stroke=\"black\" d=\"M122.335,-73.1159C116.855,-64.592 109.973,-53.8861 103.779,-44.2513\"/>\n",
       "<polygon fill=\"black\" stroke=\"black\" points=\"106.696,-42.3165 98.3444,-35.7973 100.808,-46.1018 106.696,-42.3165\"/>\n",
       "</g>\n",
       "<!-- Cloudy -->\n",
       "<g id=\"node4\" class=\"node\"><title>Cloudy</title>\n",
       "<ellipse fill=\"none\" stroke=\"black\" cx=\"43.5461\" cy=\"-162\" rx=\"36.2938\" ry=\"18\"/>\n",
       "<text text-anchor=\"middle\" x=\"43.5461\" y=\"-158.3\" font-family=\"Times,serif\" font-size=\"14.00\">Cloudy</text>\n",
       "</g>\n",
       "<!-- Cloudy&#45;&gt;Sprinkler -->\n",
       "<g id=\"edge3\" class=\"edge\"><title>Cloudy&#45;&gt;Sprinkler</title>\n",
       "<path fill=\"none\" stroke=\"black\" d=\"M43.5461,-143.697C43.5461,-135.983 43.5461,-126.712 43.5461,-118.112\"/>\n",
       "<polygon fill=\"black\" stroke=\"black\" points=\"47.0462,-118.104 43.5461,-108.104 40.0462,-118.104 47.0462,-118.104\"/>\n",
       "</g>\n",
       "</g>\n",
       "</svg>\n"
      ],
      "text/plain": [
       "<graphviz.files.Source at 0x7f43b65e3a90>"
      ]
     },
     "execution_count": 20,
     "metadata": {},
     "output_type": "execute_result"
    }
   ],
   "source": [
    "lnr.bnet.write_dot(learned_dot) # write BNet to .dot file\n",
    "Source(open(learned_dot).read())"
   ]
  },
  {
   "cell_type": "markdown",
   "metadata": {},
   "source": [
    "Results are sensitive to \"alpha\""
   ]
  },
  {
   "cell_type": "markdown",
   "metadata": {},
   "source": [
    "#### bnlearn"
   ]
  },
  {
   "cell_type": "code",
   "execution_count": 21,
   "metadata": {
    "collapsed": false
   },
   "outputs": [],
   "source": [
    "%%capture  bnlearn_iamb_time\n",
    "%time %R bn <- iamb(states_df);"
   ]
  },
  {
   "cell_type": "code",
   "execution_count": 22,
   "metadata": {
    "collapsed": false
   },
   "outputs": [
    {
     "name": "stdout",
     "output_type": "stream",
     "text": [
      "CPU times: user 19.3 ms, sys: 0 ns, total: 19.3 ms\n",
      "Wall time: 19.5 ms\n",
      "\n"
     ]
    }
   ],
   "source": [
    "print(bnlearn_iamb_time)"
   ]
  },
  {
   "cell_type": "code",
   "execution_count": 23,
   "metadata": {
    "collapsed": false
   },
   "outputs": [
    {
     "data": {
      "image/png": "[encoded data removed]"
     },
     "metadata": {},
     "output_type": "display_data"
    }
   ],
   "source": [
    "%R par(mfrow = c(1,1))\n",
    "%R graphviz.plot(bn, shape = \"ellipse\", main = \"Incremental Association Markov Blanket(IAMB)\");"
   ]
  },
  {
   "cell_type": "markdown",
   "metadata": {},
   "source": [
    "## Score based learning\n",
    "### Hiil Climbing with BIC score\n",
    "#### QFog"
   ]
  },
  {
   "cell_type": "code",
   "execution_count": 24,
   "metadata": {
    "collapsed": false
   },
   "outputs": [],
   "source": [
    "%%capture qfog_hc_bic_time\n",
    "score_type = 'BIC'\n",
    "max_num_mtries = 30\n",
    "ess = 1.0 \n",
    "%time lnr = HillClimbingLner(states_df, score_type, max_num_mtries, ess)"
   ]
  },
  {
   "cell_type": "code",
   "execution_count": 25,
   "metadata": {
    "collapsed": false
   },
   "outputs": [
    {
     "name": "stdout",
     "output_type": "stream",
     "text": [
      "CPU times: user 1.28 s, sys: 205 us, total: 1.28 s\n",
      "Wall time: 1.29 s\n",
      "\n"
     ]
    }
   ],
   "source": [
    "print(qfog_hc_bic_time)"
   ]
  },
  {
   "cell_type": "code",
   "execution_count": 26,
   "metadata": {
    "collapsed": false
   },
   "outputs": [
    {
     "data": {
      "image/svg+xml": [
       "<?xml version=\"1.0\" encoding=\"UTF-8\" standalone=\"no\"?>\n",
       "<!DOCTYPE svg PUBLIC \"-//W3C//DTD SVG 1.1//EN\"\n",
       " \"http://www.w3.org/Graphics/SVG/1.1/DTD/svg11.dtd\">\n",
       "<!-- Generated by graphviz version 2.38.0 (20140413.2041)\n",
       " -->\n",
       "<!-- Pages: 1 -->\n",
       "<svg width=\"108pt\" height=\"260pt\"\n",
       " viewBox=\"0.00 0.00 108.44 260.00\" xmlns=\"http://www.w3.org/2000/svg\" xmlns:xlink=\"http://www.w3.org/1999/xlink\">\n",
       "<g id=\"graph0\" class=\"graph\" transform=\"scale(1 1) rotate(0) translate(4 256)\">\n",
       "<polygon fill=\"white\" stroke=\"none\" points=\"-4,4 -4,-256 104.443,-256 104.443,4 -4,4\"/>\n",
       "<!-- Rain -->\n",
       "<g id=\"node1\" class=\"node\"><title>Rain</title>\n",
       "<ellipse fill=\"none\" stroke=\"black\" cx=\"27.2976\" cy=\"-162\" rx=\"27.0966\" ry=\"18\"/>\n",
       "<text text-anchor=\"middle\" x=\"27.2976\" y=\"-158.3\" font-family=\"Times,serif\" font-size=\"14.00\">Rain</text>\n",
       "</g>\n",
       "<!-- Sprinkler -->\n",
       "<g id=\"node2\" class=\"node\"><title>Sprinkler</title>\n",
       "<ellipse fill=\"none\" stroke=\"black\" cx=\"54.2976\" cy=\"-90\" rx=\"43.5923\" ry=\"18\"/>\n",
       "<text text-anchor=\"middle\" x=\"54.2976\" y=\"-86.3\" font-family=\"Times,serif\" font-size=\"14.00\">Sprinkler</text>\n",
       "</g>\n",
       "<!-- Rain&#45;&gt;Sprinkler -->\n",
       "<g id=\"edge1\" class=\"edge\"><title>Rain&#45;&gt;Sprinkler</title>\n",
       "<path fill=\"none\" stroke=\"black\" d=\"M33.6962,-144.411C36.8112,-136.335 40.6313,-126.431 44.1322,-117.355\"/>\n",
       "<polygon fill=\"black\" stroke=\"black\" points=\"47.424,-118.546 47.7573,-107.956 40.893,-116.027 47.424,-118.546\"/>\n",
       "</g>\n",
       "<!-- Cloudy -->\n",
       "<g id=\"node3\" class=\"node\"><title>Cloudy</title>\n",
       "<ellipse fill=\"none\" stroke=\"black\" cx=\"54.2976\" cy=\"-18\" rx=\"36.2938\" ry=\"18\"/>\n",
       "<text text-anchor=\"middle\" x=\"54.2976\" y=\"-14.3\" font-family=\"Times,serif\" font-size=\"14.00\">Cloudy</text>\n",
       "</g>\n",
       "<!-- Sprinkler&#45;&gt;Cloudy -->\n",
       "<g id=\"edge2\" class=\"edge\"><title>Sprinkler&#45;&gt;Cloudy</title>\n",
       "<path fill=\"none\" stroke=\"black\" d=\"M54.2976,-71.6966C54.2976,-63.9827 54.2976,-54.7125 54.2976,-46.1124\"/>\n",
       "<polygon fill=\"black\" stroke=\"black\" points=\"57.7977,-46.1043 54.2976,-36.1043 50.7977,-46.1044 57.7977,-46.1043\"/>\n",
       "</g>\n",
       "<!-- WetGrass -->\n",
       "<g id=\"node4\" class=\"node\"><title>WetGrass</title>\n",
       "<ellipse fill=\"none\" stroke=\"black\" cx=\"54.2976\" cy=\"-234\" rx=\"46.2923\" ry=\"18\"/>\n",
       "<text text-anchor=\"middle\" x=\"54.2976\" y=\"-230.3\" font-family=\"Times,serif\" font-size=\"14.00\">WetGrass</text>\n",
       "</g>\n",
       "<!-- WetGrass&#45;&gt;Rain -->\n",
       "<g id=\"edge3\" class=\"edge\"><title>WetGrass&#45;&gt;Rain</title>\n",
       "<path fill=\"none\" stroke=\"black\" d=\"M47.7616,-216.055C44.6773,-208.059 40.9252,-198.331 37.4802,-189.4\"/>\n",
       "<polygon fill=\"black\" stroke=\"black\" points=\"40.6376,-187.859 33.7733,-179.789 34.1066,-190.379 40.6376,-187.859\"/>\n",
       "</g>\n",
       "<!-- WetGrass&#45;&gt;Sprinkler -->\n",
       "<g id=\"edge4\" class=\"edge\"><title>WetGrass&#45;&gt;Sprinkler</title>\n",
       "<path fill=\"none\" stroke=\"black\" d=\"M57.9514,-215.908C59.9734,-205.569 62.2784,-192.09 63.2976,-180 64.6416,-164.057 64.6416,-159.943 63.2976,-144 62.5809,-135.499 61.2287,-126.312 59.786,-118.012\"/>\n",
       "<polygon fill=\"black\" stroke=\"black\" points=\"63.2117,-117.289 57.9514,-108.092 56.3285,-118.562 63.2117,-117.289\"/>\n",
       "</g>\n",
       "</g>\n",
       "</svg>\n"
      ],
      "text/plain": [
       "<graphviz.files.Source at 0x7f43b65dbfd0>"
      ]
     },
     "execution_count": 26,
     "metadata": {},
     "output_type": "execute_result"
    }
   ],
   "source": [
    "lnr.bnet.write_dot(learned_dot) # write BNet to .dot file\n",
    "Source(open(learned_dot).read())"
   ]
  },
  {
   "cell_type": "markdown",
   "metadata": {},
   "source": [
    "#### bnlearn"
   ]
  },
  {
   "cell_type": "markdown",
   "metadata": {},
   "source": [
    "In bnlearn, the default score is **BIC** (Bayesian Information Criterion) for both discrete and continuous data sets"
   ]
  },
  {
   "cell_type": "code",
   "execution_count": 27,
   "metadata": {
    "collapsed": false
   },
   "outputs": [],
   "source": [
    "%%capture bnlearn_hc_bic_time\n",
    "%time %R bn <- hc(states_df);"
   ]
  },
  {
   "cell_type": "code",
   "execution_count": 28,
   "metadata": {
    "collapsed": false
   },
   "outputs": [
    {
     "name": "stdout",
     "output_type": "stream",
     "text": [
      "CPU times: user 14.6 ms, sys: 0 ns, total: 14.6 ms\n",
      "Wall time: 14.7 ms\n",
      "\n"
     ]
    }
   ],
   "source": [
    "print(bnlearn_hc_bic_time)"
   ]
  },
  {
   "cell_type": "code",
   "execution_count": 29,
   "metadata": {
    "collapsed": false
   },
   "outputs": [
    {
     "data": {
      "image/png": "[encoded data removed]"
     },
     "metadata": {},
     "output_type": "display_data"
    }
   ],
   "source": [
    "%R par(mfrow = c(1,1))\n",
    "%R graphviz.plot(bn, shape = \"ellipse\", main = \"Hill-Climbing-BIC\");"
   ]
  },
  {
   "cell_type": "markdown",
   "metadata": {},
   "source": [
    "## Summary of Running Times"
   ]
  },
  {
   "cell_type": "code",
   "execution_count": 30,
   "metadata": {
    "collapsed": false
   },
   "outputs": [
    {
     "name": "stdout",
     "output_type": "stream",
     "text": [
      "-------------Grow-Shrink:\n",
      "QFog: CPU times: user 289 ms, sys: 194 us, total: 289 ms\n",
      "Wall time: 289 ms\n",
      "\n",
      "bnlearn: CPU times: user 19.7 ms, sys: 0 ns, total: 19.7 ms\n",
      "Wall time: 19.9 ms\n",
      "\n",
      "-------------IAMB\n",
      "QFog: CPU times: user 320 ms, sys: 142 us, total: 320 ms\n",
      "Wall time: 320 ms\n",
      "\n",
      "bnlearn: CPU times: user 19.3 ms, sys: 0 ns, total: 19.3 ms\n",
      "Wall time: 19.5 ms\n",
      "\n",
      "-------------Hill Climbing with BIC score:\n",
      "QFog: CPU times: user 1.28 s, sys: 205 us, total: 1.28 s\n",
      "Wall time: 1.29 s\n",
      "\n",
      "bnlearn: CPU times: user 14.6 ms, sys: 0 ns, total: 14.6 ms\n",
      "Wall time: 14.7 ms\n",
      "\n"
     ]
    }
   ],
   "source": [
    "print(\"-------------Grow-Shrink:\")\n",
    "print(\"QFog:\", qfog_gs_time)\n",
    "print(\"bnlearn:\", bnlearn_gs_time)\n",
    "\n",
    "print(\"-------------IAMB\")\n",
    "print(\"QFog:\", qfog_iamb_time)\n",
    "print(\"bnlearn:\", bnlearn_iamb_time)\n",
    "\n",
    "print(\"-------------Hill Climbing with BIC score:\")\n",
    "print(\"QFog:\", qfog_hc_bic_time)\n",
    "print(\"bnlearn:\", bnlearn_hc_bic_time)"
   ]
  },
  {
   "cell_type": "code",
   "execution_count": 31,
   "metadata": {
    "collapsed": true
   },
   "outputs": [],
   "source": []
  }
 ],
 "metadata": {
  "anaconda-cloud": {},
  "kernelspec": {
   "display_name": "Python 3",
   "language": "python",
   "name": "python3"
  },
  "language_info": {
   "codemirror_mode": {
    "name": "ipython",
    "version": 3
   },
   "file_extension": ".py",
   "mimetype": "text/x-python",
   "name": "python",
   "nbconvert_exporter": "python",
   "pygments_lexer": "ipython3",
   "version": "3.6.0"
  },
  "toc": {
   "colors": {
    "hover_highlight": "#DAA520",
    "running_highlight": "#FF0000",
    "selected_highlight": "#FFD700"
   },
   "moveMenuLeft": true,
   "nav_menu": {
    "height": "210px",
    "width": "252px"
   },
   "navigate_menu": true,
   "number_sections": true,
   "sideBar": false,
   "threshold": "3",
   "toc_cell": true,
   "toc_position": {
    "height": "283px",
    "left": "1px",
    "right": "20px",
    "top": "107px",
    "width": "212px"
   },
   "toc_section_display": "none",
   "toc_window_display": true
  }
 },
 "nbformat": 4,
 "nbformat_minor": 1
}
