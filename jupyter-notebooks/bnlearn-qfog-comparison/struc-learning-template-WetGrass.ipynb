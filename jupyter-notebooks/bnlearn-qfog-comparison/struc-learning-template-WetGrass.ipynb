{
 "cells": [
  {
   "cell_type": "markdown",
   "metadata": {},
   "source": [
    "**Executed:** Tue Feb 21 16:16:16 2017\n",
    "\n",
    "**Duration:** 5 seconds."
   ]
  },
  {
   "cell_type": "code",
   "execution_count": 1,
   "metadata": {
    "collapsed": true
   },
   "outputs": [],
   "source": [
    "# default values of file paths, assuming quantum_fog is working dir\n",
    "in_bif = 'examples_cbnets/earthquake.bif'\n",
    "in_dot = 'examples_cbnets/earthquake.dot'\n",
    "in_csv = 'learning/training_data_c/earthquake.csv'"
   ]
  },
  {
   "cell_type": "code",
   "execution_count": 2,
   "metadata": {},
   "outputs": [],
   "source": [
    "# Cell inserted during automated execution.\n",
    "in_bif = 'examples_cbnets/WetGrass.bif'\n",
    "in_dot = 'examples_cbnets/WetGrass.dot'\n",
    "in_csv = 'learning/training_data_c/WetGrass.csv'"
   ]
  },
  {
   "cell_type": "code",
   "execution_count": 3,
   "metadata": {
    "collapsed": true
   },
   "outputs": [],
   "source": [
    "learned_dot = 'examples_cbnets/tempo.dot'  # for storing learned network"
   ]
  },
  {
   "cell_type": "markdown",
   "metadata": {},
   "source": [
    "**Structure Learning Template**"
   ]
  },
  {
   "cell_type": "markdown",
   "metadata": {
    "toc": "true"
   },
   "source": [
    "# Table of Contents\n",
    " <p><div class=\"lev1 toc-item\"><a href=\"#True-Network-Structure\" data-toc-modified-id=\"True-Network-Structure-1\"><span class=\"toc-item-num\">1&nbsp;&nbsp;</span>True Network Structure</a></div><div class=\"lev1 toc-item\"><a href=\"#Learned-Network-Structures\" data-toc-modified-id=\"Learned-Network-Structures-2\"><span class=\"toc-item-num\">2&nbsp;&nbsp;</span>Learned Network Structures</a></div><div class=\"lev2 toc-item\"><a href=\"#MB-based-learning\" data-toc-modified-id=\"MB-based-learning-21\"><span class=\"toc-item-num\">2.1&nbsp;&nbsp;</span>MB based learning</a></div><div class=\"lev3 toc-item\"><a href=\"#Grow-Shink\" data-toc-modified-id=\"Grow-Shink-211\"><span class=\"toc-item-num\">2.1.1&nbsp;&nbsp;</span>Grow Shink</a></div><div class=\"lev3 toc-item\"><a href=\"#IAMB\" data-toc-modified-id=\"IAMB-212\"><span class=\"toc-item-num\">2.1.2&nbsp;&nbsp;</span>IAMB</a></div><div class=\"lev2 toc-item\"><a href=\"#Score-based-learning\" data-toc-modified-id=\"Score-based-learning-22\"><span class=\"toc-item-num\">2.2&nbsp;&nbsp;</span>Score based learning</a></div><div class=\"lev3 toc-item\"><a href=\"#Hiil-Climbing-with-BIC-score\" data-toc-modified-id=\"Hiil-Climbing-with-BIC-score-221\"><span class=\"toc-item-num\">2.2.1&nbsp;&nbsp;</span>Hiil Climbing with BIC score</a></div><div class=\"lev2 toc-item\"><a href=\"#Summary-of-Running-Times\" data-toc-modified-id=\"Summary-of-Running-Times-23\"><span class=\"toc-item-num\">2.3&nbsp;&nbsp;</span>Summary of Running Times</a></div>"
   ]
  },
  {
   "cell_type": "code",
   "execution_count": 4,
   "metadata": {
    "collapsed": false
   },
   "outputs": [],
   "source": [
    "import pandas as pd\n",
    "import numpy as np\n",
    "from graphviz import Source\n",
    "\n",
    "import warnings\n",
    "warnings.filterwarnings(\"ignore\", module=\"rpy2\")\n",
    "\n",
    "import rpy2\n",
    "%load_ext rpy2.ipython\n",
    "%R library(\"bnlearn\");\n",
    "%R library(\"Rgraphviz\");"
   ]
  },
  {
   "cell_type": "code",
   "execution_count": 5,
   "metadata": {
    "collapsed": true
   },
   "outputs": [],
   "source": [
    "# make this the absolute path of quantum-fog folder\n",
    "qfog_path = '/home/jupyter/Notebooks/quantum-fog'"
   ]
  },
  {
   "cell_type": "code",
   "execution_count": 6,
   "metadata": {
    "collapsed": true
   },
   "outputs": [],
   "source": [
    "import os\n",
    "import sys\n",
    "if qfog_path != os.getcwd():\n",
    "    os.chdir('../../')\n",
    "    sys.path.insert(0,os.getcwd())\n",
    "from learning.NaiveBayesLner import *\n",
    "from learning.MB_GrowShrinkLner import *\n",
    "from learning.MB_IAMB_Lner import *\n",
    "from learning.HillClimbingLner import *"
   ]
  },
  {
   "cell_type": "markdown",
   "metadata": {},
   "source": [
    "Read in_csv, create Pandas Dataframe with it, push dataframe into R"
   ]
  },
  {
   "cell_type": "code",
   "execution_count": 7,
   "metadata": {
    "collapsed": false
   },
   "outputs": [
    {
     "data": {
      "text/html": [
       "<div>\n",
       "<table border=\"1\" class=\"dataframe\">\n",
       "  <thead>\n",
       "    <tr style=\"text-align: right;\">\n",
       "      <th></th>\n",
       "      <th>Cloudy</th>\n",
       "      <th>Sprinkler</th>\n",
       "      <th>Rain</th>\n",
       "      <th>WetGrass</th>\n",
       "    </tr>\n",
       "  </thead>\n",
       "  <tbody>\n",
       "    <tr>\n",
       "      <th>0</th>\n",
       "      <td>1</td>\n",
       "      <td>0</td>\n",
       "      <td>1</td>\n",
       "      <td>1</td>\n",
       "    </tr>\n",
       "    <tr>\n",
       "      <th>1</th>\n",
       "      <td>1</td>\n",
       "      <td>0</td>\n",
       "      <td>1</td>\n",
       "      <td>1</td>\n",
       "    </tr>\n",
       "    <tr>\n",
       "      <th>2</th>\n",
       "      <td>0</td>\n",
       "      <td>0</td>\n",
       "      <td>1</td>\n",
       "      <td>1</td>\n",
       "    </tr>\n",
       "    <tr>\n",
       "      <th>3</th>\n",
       "      <td>1</td>\n",
       "      <td>0</td>\n",
       "      <td>1</td>\n",
       "      <td>1</td>\n",
       "    </tr>\n",
       "    <tr>\n",
       "      <th>4</th>\n",
       "      <td>0</td>\n",
       "      <td>1</td>\n",
       "      <td>0</td>\n",
       "      <td>1</td>\n",
       "    </tr>\n",
       "  </tbody>\n",
       "</table>\n",
       "</div>"
      ],
      "text/plain": [
       "   Cloudy  Sprinkler  Rain  WetGrass\n",
       "0       1          0     1         1\n",
       "1       1          0     1         1\n",
       "2       0          0     1         1\n",
       "3       1          0     1         1\n",
       "4       0          1     0         1"
      ]
     },
     "execution_count": 7,
     "metadata": {},
     "output_type": "execute_result"
    }
   ],
   "source": [
    "states_df = pd.read_csv(in_csv)\n",
    "states_df.head()"
   ]
  },
  {
   "cell_type": "code",
   "execution_count": 8,
   "metadata": {
    "collapsed": false
   },
   "outputs": [
    {
     "data": {
      "text/html": [
       "<div>\n",
       "<table border=\"1\" class=\"dataframe\">\n",
       "  <thead>\n",
       "    <tr style=\"text-align: right;\">\n",
       "      <th></th>\n",
       "      <th>Cloudy</th>\n",
       "      <th>Sprinkler</th>\n",
       "      <th>Rain</th>\n",
       "      <th>WetGrass</th>\n",
       "    </tr>\n",
       "  </thead>\n",
       "  <tbody>\n",
       "    <tr>\n",
       "      <th>1995</th>\n",
       "      <td>0</td>\n",
       "      <td>1</td>\n",
       "      <td>0</td>\n",
       "      <td>1</td>\n",
       "    </tr>\n",
       "    <tr>\n",
       "      <th>1996</th>\n",
       "      <td>1</td>\n",
       "      <td>1</td>\n",
       "      <td>1</td>\n",
       "      <td>1</td>\n",
       "    </tr>\n",
       "    <tr>\n",
       "      <th>1997</th>\n",
       "      <td>1</td>\n",
       "      <td>0</td>\n",
       "      <td>0</td>\n",
       "      <td>0</td>\n",
       "    </tr>\n",
       "    <tr>\n",
       "      <th>1998</th>\n",
       "      <td>0</td>\n",
       "      <td>1</td>\n",
       "      <td>1</td>\n",
       "      <td>1</td>\n",
       "    </tr>\n",
       "    <tr>\n",
       "      <th>1999</th>\n",
       "      <td>1</td>\n",
       "      <td>1</td>\n",
       "      <td>1</td>\n",
       "      <td>1</td>\n",
       "    </tr>\n",
       "  </tbody>\n",
       "</table>\n",
       "</div>"
      ],
      "text/plain": [
       "      Cloudy  Sprinkler  Rain  WetGrass\n",
       "1995       0          1     0         1\n",
       "1996       1          1     1         1\n",
       "1997       1          0     0         0\n",
       "1998       0          1     1         1\n",
       "1999       1          1     1         1"
      ]
     },
     "execution_count": 8,
     "metadata": {},
     "output_type": "execute_result"
    }
   ],
   "source": [
    "states_df.tail()"
   ]
  },
  {
   "cell_type": "code",
   "execution_count": 9,
   "metadata": {
    "collapsed": false
   },
   "outputs": [
    {
     "data": {
      "text/plain": [
       "'data.frame':\t2000 obs. of  4 variables:\n",
       " $ Cloudy   : int  1 1 0 1 0 1 0 1 1 1 ...\n",
       " $ Sprinkler: int  0 0 0 0 1 1 0 0 1 0 ...\n",
       " $ Rain     : int  1 1 1 1 0 1 1 0 0 0 ...\n",
       " $ WetGrass : int  1 1 1 1 1 1 1 0 1 0 ...\n"
      ]
     },
     "metadata": {},
     "output_type": "display_data"
    }
   ],
   "source": [
    "%Rpush states_df\n",
    "%R str(states_df)"
   ]
  },
  {
   "cell_type": "markdown",
   "metadata": {},
   "source": [
    "For bnlearn, data.frame columns cannot be int type, must be changed to factor.\n",
    "data.frame is a list so can use lapply"
   ]
  },
  {
   "cell_type": "code",
   "execution_count": 10,
   "metadata": {
    "collapsed": false
   },
   "outputs": [
    {
     "data": {
      "text/plain": [
       "'data.frame':\t2000 obs. of  4 variables:\n",
       " $ Cloudy   : Factor w/ 2 levels \"0\",\"1\": 2 2 1 2 1 2 1 2 2 2 ...\n",
       " $ Sprinkler: Factor w/ 2 levels \"0\",\"1\": 1 1 1 1 2 2 1 1 2 1 ...\n",
       " $ Rain     : Factor w/ 2 levels \"0\",\"1\": 2 2 2 2 1 2 2 1 1 1 ...\n",
       " $ WetGrass : Factor w/ 2 levels \"0\",\"1\": 2 2 2 2 2 2 2 1 2 1 ...\n"
      ]
     },
     "metadata": {},
     "output_type": "display_data"
    }
   ],
   "source": [
    "%R states_df[] <- lapply(states_df, factor)\n",
    "%R str(states_df)"
   ]
  },
  {
   "cell_type": "markdown",
   "metadata": {},
   "source": [
    "# True Network Structure"
   ]
  },
  {
   "cell_type": "code",
   "execution_count": 11,
   "metadata": {
    "collapsed": true
   },
   "outputs": [],
   "source": [
    "from IPython.display import Image, display, DisplayObject\n",
    "def show_dot(dotfile):\n",
    "    Source(open(dotfile).read(),format ='png').render(view=False);\n",
    "    display(Image(filename='Source.gv.png'))"
   ]
  },
  {
   "cell_type": "code",
   "execution_count": 12,
   "metadata": {
    "collapsed": false
   },
   "outputs": [
    {
     "data": {
      "image/png": "[encoded data removed]",
      "text/plain": [
       "<IPython.core.display.Image object>"
      ]
     },
     "metadata": {},
     "output_type": "display_data"
    }
   ],
   "source": [
    "show_dot(in_dot)"
   ]
  },
  {
   "cell_type": "markdown",
   "metadata": {},
   "source": [
    "# Learned Network Structures\n",
    "## MB based learning\n",
    "### Grow Shink\n",
    "#### Qfog"
   ]
  },
  {
   "cell_type": "code",
   "execution_count": 13,
   "metadata": {
    "collapsed": false
   },
   "outputs": [],
   "source": [
    "%%capture qfog_gs_time\n",
    "alpha = 8/len(states_df.index)\n",
    "%time lnr = MB_GrowShrinkLner(states_df, alpha, verbose=False)"
   ]
  },
  {
   "cell_type": "code",
   "execution_count": 14,
   "metadata": {
    "collapsed": false
   },
   "outputs": [
    {
     "name": "stdout",
     "output_type": "stream",
     "text": [
      "CPU times: user 357 ms, sys: 97 us, total: 357 ms\n",
      "Wall time: 358 ms\n",
      "\n"
     ]
    }
   ],
   "source": [
    "print(qfog_gs_time)"
   ]
  },
  {
   "cell_type": "code",
   "execution_count": 15,
   "metadata": {
    "collapsed": true
   },
   "outputs": [],
   "source": [
    "lnr.bnet.write_dot(learned_dot) # write BNet to .dot file"
   ]
  },
  {
   "cell_type": "code",
   "execution_count": 16,
   "metadata": {
    "collapsed": false
   },
   "outputs": [
    {
     "data": {
      "image/png": "[encoded data removed]",
      "text/plain": [
       "<IPython.core.display.Image object>"
      ]
     },
     "metadata": {},
     "output_type": "display_data"
    }
   ],
   "source": [
    "show_dot(learned_dot)"
   ]
  },
  {
   "cell_type": "markdown",
   "metadata": {},
   "source": [
    "#### bnlearn"
   ]
  },
  {
   "cell_type": "code",
   "execution_count": 17,
   "metadata": {
    "collapsed": false,
    "scrolled": false
   },
   "outputs": [],
   "source": [
    "%%capture bnlearn_gs_time\n",
    "%time %R bn <- gs(states_df);"
   ]
  },
  {
   "cell_type": "code",
   "execution_count": 18,
   "metadata": {
    "collapsed": false
   },
   "outputs": [
    {
     "name": "stdout",
     "output_type": "stream",
     "text": [
      "CPU times: user 15.7 ms, sys: 3.7 ms, total: 19.4 ms\n",
      "Wall time: 19.8 ms\n",
      "\n"
     ]
    }
   ],
   "source": [
    "print(bnlearn_gs_time)"
   ]
  },
  {
   "cell_type": "code",
   "execution_count": 19,
   "metadata": {
    "collapsed": false
   },
   "outputs": [
    {
     "data": {
      "image/png": "[encoded data removed]"
     },
     "metadata": {},
     "output_type": "display_data"
    }
   ],
   "source": [
    "%R par(mfrow = c(1,1))\n",
    "%R graphviz.plot(bn, shape = \"ellipse\", main = \"Grow-Shrink (GS)\");"
   ]
  },
  {
   "cell_type": "markdown",
   "metadata": {},
   "source": [
    "### IAMB\n",
    "#### QFog"
   ]
  },
  {
   "cell_type": "code",
   "execution_count": 20,
   "metadata": {
    "collapsed": false,
    "scrolled": false
   },
   "outputs": [],
   "source": [
    "%%capture qfog_iamb_time\n",
    "alpha = 8/len(states_df.index)\n",
    "%time lnr = MB_IAMB_Lner(states_df, alpha, verbose=False)"
   ]
  },
  {
   "cell_type": "code",
   "execution_count": 21,
   "metadata": {
    "collapsed": false
   },
   "outputs": [
    {
     "name": "stdout",
     "output_type": "stream",
     "text": [
      "CPU times: user 393 ms, sys: 4.12 ms, total: 397 ms\n",
      "Wall time: 397 ms\n",
      "\n"
     ]
    }
   ],
   "source": [
    "print(qfog_iamb_time)"
   ]
  },
  {
   "cell_type": "code",
   "execution_count": 22,
   "metadata": {
    "collapsed": true
   },
   "outputs": [],
   "source": [
    "lnr.bnet.write_dot(learned_dot) # write BNet to .dot file"
   ]
  },
  {
   "cell_type": "code",
   "execution_count": 23,
   "metadata": {
    "collapsed": false
   },
   "outputs": [
    {
     "data": {
      "image/png": "[encoded data removed]",
      "text/plain": [
       "<IPython.core.display.Image object>"
      ]
     },
     "metadata": {},
     "output_type": "display_data"
    }
   ],
   "source": [
    "show_dot(learned_dot)"
   ]
  },
  {
   "cell_type": "markdown",
   "metadata": {},
   "source": [
    "Results are sensitive to \"alpha\""
   ]
  },
  {
   "cell_type": "markdown",
   "metadata": {},
   "source": [
    "#### bnlearn"
   ]
  },
  {
   "cell_type": "code",
   "execution_count": 24,
   "metadata": {
    "collapsed": false
   },
   "outputs": [],
   "source": [
    "%%capture  bnlearn_iamb_time\n",
    "%time %R bn <- iamb(states_df);"
   ]
  },
  {
   "cell_type": "code",
   "execution_count": 25,
   "metadata": {
    "collapsed": false
   },
   "outputs": [
    {
     "name": "stdout",
     "output_type": "stream",
     "text": [
      "CPU times: user 19.1 ms, sys: 0 ns, total: 19.1 ms\n",
      "Wall time: 19.2 ms\n",
      "\n"
     ]
    }
   ],
   "source": [
    "print(bnlearn_iamb_time)"
   ]
  },
  {
   "cell_type": "code",
   "execution_count": 26,
   "metadata": {
    "collapsed": false
   },
   "outputs": [
    {
     "data": {
      "image/png": "[encoded data removed]"
     },
     "metadata": {},
     "output_type": "display_data"
    }
   ],
   "source": [
    "%R par(mfrow = c(1,1))\n",
    "%R graphviz.plot(bn, shape = \"ellipse\", main = \"Incremental Association Markov Blanket(IAMB)\");"
   ]
  },
  {
   "cell_type": "markdown",
   "metadata": {},
   "source": [
    "## Score based learning\n",
    "### Hiil Climbing with BIC score\n",
    "#### QFog"
   ]
  },
  {
   "cell_type": "code",
   "execution_count": 27,
   "metadata": {
    "collapsed": false
   },
   "outputs": [],
   "source": [
    "%%capture qfog_hc_bic_time\n",
    "score_type = 'BIC'\n",
    "max_num_mtries = 30\n",
    "ess = 1.0 \n",
    "%time lnr = HillClimbingLner(states_df, score_type, max_num_mtries, ess)"
   ]
  },
  {
   "cell_type": "code",
   "execution_count": 28,
   "metadata": {
    "collapsed": false
   },
   "outputs": [
    {
     "name": "stdout",
     "output_type": "stream",
     "text": [
      "CPU times: user 243 ms, sys: 164 us, total: 243 ms\n",
      "Wall time: 243 ms\n",
      "\n"
     ]
    }
   ],
   "source": [
    "print(qfog_hc_bic_time)"
   ]
  },
  {
   "cell_type": "code",
   "execution_count": 29,
   "metadata": {
    "collapsed": true
   },
   "outputs": [],
   "source": [
    "lnr.bnet.write_dot(learned_dot) # write BNet to .dot file"
   ]
  },
  {
   "cell_type": "code",
   "execution_count": 30,
   "metadata": {
    "collapsed": false
   },
   "outputs": [
    {
     "data": {
      "image/png": "[encoded data removed]",
      "text/plain": [
       "<IPython.core.display.Image object>"
      ]
     },
     "metadata": {},
     "output_type": "display_data"
    }
   ],
   "source": [
    "show_dot(learned_dot)"
   ]
  },
  {
   "cell_type": "markdown",
   "metadata": {},
   "source": [
    "#### bnlearn"
   ]
  },
  {
   "cell_type": "markdown",
   "metadata": {},
   "source": [
    "In bnlearn, the default score is **BIC** (Bayesian Information Criterion) for both discrete and continuous data sets"
   ]
  },
  {
   "cell_type": "code",
   "execution_count": 31,
   "metadata": {
    "collapsed": false
   },
   "outputs": [],
   "source": [
    "%%capture bnlearn_hc_bic_time\n",
    "%time %R bn <- hc(states_df);"
   ]
  },
  {
   "cell_type": "code",
   "execution_count": 32,
   "metadata": {
    "collapsed": false
   },
   "outputs": [
    {
     "name": "stdout",
     "output_type": "stream",
     "text": [
      "CPU times: user 10.9 ms, sys: 3.94 ms, total: 14.8 ms\n",
      "Wall time: 15 ms\n",
      "\n"
     ]
    }
   ],
   "source": [
    "print(bnlearn_hc_bic_time)"
   ]
  },
  {
   "cell_type": "code",
   "execution_count": 33,
   "metadata": {
    "collapsed": false
   },
   "outputs": [
    {
     "data": {
      "image/png": "[encoded data removed]"
     },
     "metadata": {},
     "output_type": "display_data"
    }
   ],
   "source": [
    "%R par(mfrow = c(1,1))\n",
    "%R graphviz.plot(bn, shape = \"ellipse\", main = \"Hill-Climbing-BIC\");"
   ]
  },
  {
   "cell_type": "markdown",
   "metadata": {},
   "source": [
    "## Summary of Running Times"
   ]
  },
  {
   "cell_type": "code",
   "execution_count": 34,
   "metadata": {
    "collapsed": false
   },
   "outputs": [],
   "source": [
    "%%bash\n",
    "rm -f examples_cbnets/tempo.dot Source.gv Source.gv.png"
   ]
  },
  {
   "cell_type": "code",
   "execution_count": 35,
   "metadata": {
    "collapsed": false,
    "scrolled": false
   },
   "outputs": [
    {
     "name": "stdout",
     "output_type": "stream",
     "text": [
      "-------------Grow-Shrink:\n",
      "QFog: CPU times: user 357 ms, sys: 97 us, total: 357 ms\n",
      "Wall time: 358 ms\n",
      "\n",
      "bnlearn: CPU times: user 15.7 ms, sys: 3.7 ms, total: 19.4 ms\n",
      "Wall time: 19.8 ms\n",
      "\n",
      "-------------IAMB\n",
      "QFog: CPU times: user 393 ms, sys: 4.12 ms, total: 397 ms\n",
      "Wall time: 397 ms\n",
      "\n",
      "bnlearn: CPU times: user 19.1 ms, sys: 0 ns, total: 19.1 ms\n",
      "Wall time: 19.2 ms\n",
      "\n",
      "-------------Hill Climbing with BIC score:\n",
      "QFog: CPU times: user 243 ms, sys: 164 us, total: 243 ms\n",
      "Wall time: 243 ms\n",
      "\n",
      "bnlearn: CPU times: user 10.9 ms, sys: 3.94 ms, total: 14.8 ms\n",
      "Wall time: 15 ms\n",
      "\n"
     ]
    }
   ],
   "source": [
    "print(\"-------------Grow-Shrink:\")\n",
    "print(\"QFog:\", qfog_gs_time)\n",
    "print(\"bnlearn:\", bnlearn_gs_time)\n",
    "\n",
    "print(\"-------------IAMB\")\n",
    "print(\"QFog:\", qfog_iamb_time)\n",
    "print(\"bnlearn:\", bnlearn_iamb_time)\n",
    "\n",
    "print(\"-------------Hill Climbing with BIC score:\")\n",
    "print(\"QFog:\", qfog_hc_bic_time)\n",
    "print(\"bnlearn:\", bnlearn_hc_bic_time)"
   ]
  }
 ],
 "metadata": {
  "anaconda-cloud": {},
  "kernelspec": {
   "display_name": "Python 3",
   "language": "python",
   "name": "python3"
  },
  "language_info": {
   "codemirror_mode": {
    "name": "ipython",
    "version": 3
   },
   "file_extension": ".py",
   "mimetype": "text/x-python",
   "name": "python",
   "nbconvert_exporter": "python",
   "pygments_lexer": "ipython3",
   "version": "3.6.0"
  },
  "toc": {
   "colors": {
    "hover_highlight": "#DAA520",
    "running_highlight": "#FF0000",
    "selected_highlight": "#FFD700"
   },
   "moveMenuLeft": true,
   "nav_menu": {
    "height": "210px",
    "width": "252px"
   },
   "navigate_menu": true,
   "number_sections": true,
   "sideBar": false,
   "threshold": "3",
   "toc_cell": true,
   "toc_position": {
    "height": "283px",
    "left": "1px",
    "right": "20px",
    "top": "107px",
    "width": "212px"
   },
   "toc_section_display": "none",
   "toc_window_display": true
  }
 },
 "nbformat": 4,
 "nbformat_minor": 1
}
