{
 "cells": [
  {
   "cell_type": "markdown",
   "metadata": {},
   "source": [
    "**Executed:** Fri Feb 17 19:26:18 2017\n",
    "\n",
    "**Duration:** 11 seconds."
   ]
  },
  {
   "cell_type": "code",
   "execution_count": 1,
   "metadata": {
    "collapsed": true
   },
   "outputs": [],
   "source": [
    "# default values of file paths, assuming quantum_fog is working dir\n",
    "in_bif = 'examples_cbnets/earthquake.bif'\n",
    "in_dot = 'examples_cbnets/earthquake.dot'\n",
    "in_csv = 'learning/training_data_c/earthquake.csv'"
   ]
  },
  {
   "cell_type": "code",
   "execution_count": 2,
   "metadata": {},
   "outputs": [],
   "source": [
    "# Cell inserted during automated execution.\n",
    "in_bif = 'examples_cbnets/asia.bif'\n",
    "in_dot = 'examples_cbnets/asia.dot'\n",
    "in_csv = 'learning/training_data_c/tempo.csv'"
   ]
  },
  {
   "cell_type": "code",
   "execution_count": 3,
   "metadata": {
    "collapsed": true
   },
   "outputs": [],
   "source": [
    "learned_dot = 'examples_cbnets/tempo.dot'  # for storing learned network"
   ]
  },
  {
   "cell_type": "markdown",
   "metadata": {},
   "source": [
    "**Structure Learning Template**"
   ]
  },
  {
   "cell_type": "markdown",
   "metadata": {
    "toc": "true"
   },
   "source": [
    "# Table of Contents\n",
    " <p><div class=\"lev1 toc-item\"><a href=\"#True-Network-Structure\" data-toc-modified-id=\"True-Network-Structure-1\"><span class=\"toc-item-num\">1&nbsp;&nbsp;</span>True Network Structure</a></div><div class=\"lev1 toc-item\"><a href=\"#Learned-Network-Structures\" data-toc-modified-id=\"Learned-Network-Structures-2\"><span class=\"toc-item-num\">2&nbsp;&nbsp;</span>Learned Network Structures</a></div><div class=\"lev2 toc-item\"><a href=\"#MB-based-learning\" data-toc-modified-id=\"MB-based-learning-21\"><span class=\"toc-item-num\">2.1&nbsp;&nbsp;</span>MB based learning</a></div><div class=\"lev3 toc-item\"><a href=\"#Grow-Shink\" data-toc-modified-id=\"Grow-Shink-211\"><span class=\"toc-item-num\">2.1.1&nbsp;&nbsp;</span>Grow Shink</a></div><div class=\"lev3 toc-item\"><a href=\"#IAMB\" data-toc-modified-id=\"IAMB-212\"><span class=\"toc-item-num\">2.1.2&nbsp;&nbsp;</span>IAMB</a></div><div class=\"lev2 toc-item\"><a href=\"#Score-based-learning\" data-toc-modified-id=\"Score-based-learning-22\"><span class=\"toc-item-num\">2.2&nbsp;&nbsp;</span>Score based learning</a></div><div class=\"lev3 toc-item\"><a href=\"#Hiil-Climbing-with-BIC-score\" data-toc-modified-id=\"Hiil-Climbing-with-BIC-score-221\"><span class=\"toc-item-num\">2.2.1&nbsp;&nbsp;</span>Hiil Climbing with BIC score</a></div><div class=\"lev2 toc-item\"><a href=\"#Summary-of-Running-Times\" data-toc-modified-id=\"Summary-of-Running-Times-23\"><span class=\"toc-item-num\">2.3&nbsp;&nbsp;</span>Summary of Running Times</a></div>"
   ]
  },
  {
   "cell_type": "code",
   "execution_count": 4,
   "metadata": {
    "collapsed": false
   },
   "outputs": [],
   "source": [
    "import pandas as pd\n",
    "import numpy as np\n",
    "from graphviz import Digraph, Source\n",
    "\n",
    "import warnings\n",
    "warnings.filterwarnings(\"ignore\", module=\"rpy2\")\n",
    "\n",
    "import rpy2\n",
    "%load_ext rpy2.ipython\n",
    "%R library(\"bnlearn\");\n",
    "%R library(\"Rgraphviz\");"
   ]
  },
  {
   "cell_type": "code",
   "execution_count": 5,
   "metadata": {
    "collapsed": true
   },
   "outputs": [],
   "source": [
    "# make this the absolute path of quantum-fog folder\n",
    "qfog_path = '/home/jupyter/Notebooks/quantum-fog'"
   ]
  },
  {
   "cell_type": "code",
   "execution_count": 6,
   "metadata": {
    "collapsed": true
   },
   "outputs": [],
   "source": [
    "import os\n",
    "import sys\n",
    "if qfog_path != os.getcwd():\n",
    "    os.chdir('../../')\n",
    "    sys.path.insert(0,os.getcwd())\n",
    "from learning.NaiveBayesLner import *\n",
    "from learning.MB_GrowShrinkLner import *\n",
    "from learning.MB_IAMB_Lner import *\n",
    "from learning.HillClimbingLner import *"
   ]
  },
  {
   "cell_type": "markdown",
   "metadata": {},
   "source": [
    "Read in_csv, create Pandas Dataframe with it, push dataframe into R"
   ]
  },
  {
   "cell_type": "code",
   "execution_count": 7,
   "metadata": {
    "collapsed": false
   },
   "outputs": [
    {
     "data": {
      "text/html": [
       "<div>\n",
       "<table border=\"1\" class=\"dataframe\">\n",
       "  <thead>\n",
       "    <tr style=\"text-align: right;\">\n",
       "      <th></th>\n",
       "      <th>Smoke</th>\n",
       "      <th>Lung-Cancer</th>\n",
       "      <th>Bronchitis</th>\n",
       "      <th>Visited-Asian-TB-HRA</th>\n",
       "      <th>Tuberculosis</th>\n",
       "      <th>Either</th>\n",
       "      <th>X-Ray</th>\n",
       "      <th>Dyspnea</th>\n",
       "    </tr>\n",
       "  </thead>\n",
       "  <tbody>\n",
       "    <tr>\n",
       "      <th>0</th>\n",
       "      <td>0</td>\n",
       "      <td>1</td>\n",
       "      <td>0</td>\n",
       "      <td>1</td>\n",
       "      <td>1</td>\n",
       "      <td>1</td>\n",
       "      <td>1</td>\n",
       "      <td>0</td>\n",
       "    </tr>\n",
       "    <tr>\n",
       "      <th>1</th>\n",
       "      <td>1</td>\n",
       "      <td>1</td>\n",
       "      <td>1</td>\n",
       "      <td>1</td>\n",
       "      <td>1</td>\n",
       "      <td>1</td>\n",
       "      <td>1</td>\n",
       "      <td>1</td>\n",
       "    </tr>\n",
       "    <tr>\n",
       "      <th>2</th>\n",
       "      <td>0</td>\n",
       "      <td>1</td>\n",
       "      <td>0</td>\n",
       "      <td>1</td>\n",
       "      <td>1</td>\n",
       "      <td>1</td>\n",
       "      <td>1</td>\n",
       "      <td>1</td>\n",
       "    </tr>\n",
       "    <tr>\n",
       "      <th>3</th>\n",
       "      <td>0</td>\n",
       "      <td>1</td>\n",
       "      <td>1</td>\n",
       "      <td>1</td>\n",
       "      <td>1</td>\n",
       "      <td>1</td>\n",
       "      <td>1</td>\n",
       "      <td>0</td>\n",
       "    </tr>\n",
       "    <tr>\n",
       "      <th>4</th>\n",
       "      <td>0</td>\n",
       "      <td>1</td>\n",
       "      <td>1</td>\n",
       "      <td>1</td>\n",
       "      <td>1</td>\n",
       "      <td>1</td>\n",
       "      <td>1</td>\n",
       "      <td>1</td>\n",
       "    </tr>\n",
       "  </tbody>\n",
       "</table>\n",
       "</div>"
      ],
      "text/plain": [
       "   Smoke  Lung-Cancer  Bronchitis  Visited-Asian-TB-HRA  Tuberculosis  Either  \\\n",
       "0      0            1           0                     1             1       1   \n",
       "1      1            1           1                     1             1       1   \n",
       "2      0            1           0                     1             1       1   \n",
       "3      0            1           1                     1             1       1   \n",
       "4      0            1           1                     1             1       1   \n",
       "\n",
       "   X-Ray  Dyspnea  \n",
       "0      1        0  \n",
       "1      1        1  \n",
       "2      1        1  \n",
       "3      1        0  \n",
       "4      1        1  "
      ]
     },
     "execution_count": 7,
     "metadata": {},
     "output_type": "execute_result"
    }
   ],
   "source": [
    "states_df = pd.read_csv(in_csv)\n",
    "states_df.head()"
   ]
  },
  {
   "cell_type": "code",
   "execution_count": 8,
   "metadata": {
    "collapsed": false
   },
   "outputs": [
    {
     "data": {
      "text/html": [
       "<div>\n",
       "<table border=\"1\" class=\"dataframe\">\n",
       "  <thead>\n",
       "    <tr style=\"text-align: right;\">\n",
       "      <th></th>\n",
       "      <th>Smoke</th>\n",
       "      <th>Lung-Cancer</th>\n",
       "      <th>Bronchitis</th>\n",
       "      <th>Visited-Asian-TB-HRA</th>\n",
       "      <th>Tuberculosis</th>\n",
       "      <th>Either</th>\n",
       "      <th>X-Ray</th>\n",
       "      <th>Dyspnea</th>\n",
       "    </tr>\n",
       "  </thead>\n",
       "  <tbody>\n",
       "    <tr>\n",
       "      <th>195</th>\n",
       "      <td>0</td>\n",
       "      <td>1</td>\n",
       "      <td>0</td>\n",
       "      <td>1</td>\n",
       "      <td>1</td>\n",
       "      <td>1</td>\n",
       "      <td>1</td>\n",
       "      <td>0</td>\n",
       "    </tr>\n",
       "    <tr>\n",
       "      <th>196</th>\n",
       "      <td>0</td>\n",
       "      <td>1</td>\n",
       "      <td>1</td>\n",
       "      <td>1</td>\n",
       "      <td>1</td>\n",
       "      <td>1</td>\n",
       "      <td>1</td>\n",
       "      <td>1</td>\n",
       "    </tr>\n",
       "    <tr>\n",
       "      <th>197</th>\n",
       "      <td>1</td>\n",
       "      <td>1</td>\n",
       "      <td>1</td>\n",
       "      <td>1</td>\n",
       "      <td>1</td>\n",
       "      <td>1</td>\n",
       "      <td>1</td>\n",
       "      <td>1</td>\n",
       "    </tr>\n",
       "    <tr>\n",
       "      <th>198</th>\n",
       "      <td>0</td>\n",
       "      <td>1</td>\n",
       "      <td>0</td>\n",
       "      <td>1</td>\n",
       "      <td>1</td>\n",
       "      <td>1</td>\n",
       "      <td>1</td>\n",
       "      <td>0</td>\n",
       "    </tr>\n",
       "    <tr>\n",
       "      <th>199</th>\n",
       "      <td>1</td>\n",
       "      <td>1</td>\n",
       "      <td>1</td>\n",
       "      <td>1</td>\n",
       "      <td>1</td>\n",
       "      <td>1</td>\n",
       "      <td>1</td>\n",
       "      <td>1</td>\n",
       "    </tr>\n",
       "  </tbody>\n",
       "</table>\n",
       "</div>"
      ],
      "text/plain": [
       "     Smoke  Lung-Cancer  Bronchitis  Visited-Asian-TB-HRA  Tuberculosis  \\\n",
       "195      0            1           0                     1             1   \n",
       "196      0            1           1                     1             1   \n",
       "197      1            1           1                     1             1   \n",
       "198      0            1           0                     1             1   \n",
       "199      1            1           1                     1             1   \n",
       "\n",
       "     Either  X-Ray  Dyspnea  \n",
       "195       1      1        0  \n",
       "196       1      1        1  \n",
       "197       1      1        1  \n",
       "198       1      1        0  \n",
       "199       1      1        1  "
      ]
     },
     "execution_count": 8,
     "metadata": {},
     "output_type": "execute_result"
    }
   ],
   "source": [
    "states_df.tail()"
   ]
  },
  {
   "cell_type": "code",
   "execution_count": 9,
   "metadata": {
    "collapsed": false
   },
   "outputs": [
    {
     "data": {
      "text/plain": [
       "'data.frame':\t200 obs. of  8 variables:\n",
       " $ Smoke               : int  0 1 0 0 0 1 1 0 0 0 ...\n",
       " $ Lung.Cancer         : int  1 1 1 1 1 1 1 1 1 1 ...\n",
       " $ Bronchitis          : int  0 1 0 1 1 1 1 0 1 1 ...\n",
       " $ Visited.Asian.TB.HRA: int  1 1 1 1 1 1 1 1 1 1 ...\n",
       " $ Tuberculosis        : int  1 1 1 1 1 1 1 1 1 1 ...\n",
       " $ Either              : int  1 1 1 1 1 1 1 1 1 1 ...\n",
       " $ X.Ray               : int  1 1 1 1 1 1 1 1 1 1 ...\n",
       " $ Dyspnea             : int  0 1 1 0 1 1 1 0 1 1 ...\n"
      ]
     },
     "metadata": {},
     "output_type": "display_data"
    }
   ],
   "source": [
    "%Rpush states_df\n",
    "%R str(states_df)"
   ]
  },
  {
   "cell_type": "markdown",
   "metadata": {},
   "source": [
    "For bnlearn, data.frame columns cannot be int type, must be changed to factor.\n",
    "data.frame is a list so can use lapply"
   ]
  },
  {
   "cell_type": "code",
   "execution_count": 10,
   "metadata": {
    "collapsed": false
   },
   "outputs": [
    {
     "data": {
      "text/plain": [
       "'data.frame':\t200 obs. of  8 variables:\n",
       " $ Smoke               : Factor w/ 2 levels \"0\",\"1\": 1 2 1 1 1 2 2 1 1 1 ...\n",
       " $ Lung.Cancer         : Factor w/ 2 levels \"0\",\"1\": 2 2 2 2 2 2 2 2 2 2 ...\n",
       " $ Bronchitis          : Factor w/ 2 levels \"0\",\"1\": 1 2 1 2 2 2 2 1 2 2 ...\n",
       " $ Visited.Asian.TB.HRA: Factor w/ 1 level \"1\": 1 1 1 1 1 1 1 1 1 1 ...\n",
       " $ Tuberculosis        : Factor w/ 1 level \"1\": 1 1 1 1 1 1 1 1 1 1 ...\n",
       " $ Either              : Factor w/ 2 levels \"0\",\"1\": 2 2 2 2 2 2 2 2 2 2 ...\n",
       " $ X.Ray               : Factor w/ 2 levels \"0\",\"1\": 2 2 2 2 2 2 2 2 2 2 ...\n",
       " $ Dyspnea             : Factor w/ 2 levels \"0\",\"1\": 1 2 2 1 2 2 2 1 2 2 ...\n"
      ]
     },
     "metadata": {},
     "output_type": "display_data"
    }
   ],
   "source": [
    "%R states_df[] <- lapply(states_df, factor)\n",
    "%R str(states_df)"
   ]
  },
  {
   "cell_type": "markdown",
   "metadata": {},
   "source": [
    "# True Network Structure"
   ]
  },
  {
   "cell_type": "code",
   "execution_count": 11,
   "metadata": {
    "collapsed": false
   },
   "outputs": [
    {
     "data": {
      "image/svg+xml": [
       "<?xml version=\"1.0\" encoding=\"UTF-8\" standalone=\"no\"?>\n",
       "<!DOCTYPE svg PUBLIC \"-//W3C//DTD SVG 1.1//EN\"\n",
       " \"http://www.w3.org/Graphics/SVG/1.1/DTD/svg11.dtd\">\n",
       "<!-- Generated by graphviz version 2.38.0 (20140413.2041)\n",
       " -->\n",
       "<!-- Pages: 1 -->\n",
       "<svg width=\"366pt\" height=\"260pt\"\n",
       " viewBox=\"0.00 0.00 366.34 260.00\" xmlns=\"http://www.w3.org/2000/svg\" xmlns:xlink=\"http://www.w3.org/1999/xlink\">\n",
       "<g id=\"graph0\" class=\"graph\" transform=\"scale(1 1) rotate(0) translate(4 256)\">\n",
       "<polygon fill=\"white\" stroke=\"none\" points=\"-4,4 -4,-256 362.337,-256 362.337,4 -4,4\"/>\n",
       "<!-- Visited&#45;Asian&#45;TB&#45;HRA -->\n",
       "<g id=\"node1\" class=\"node\"><title>Visited&#45;Asian&#45;TB&#45;HRA</title>\n",
       "<ellipse fill=\"none\" stroke=\"black\" cx=\"94.8916\" cy=\"-234\" rx=\"94.7833\" ry=\"18\"/>\n",
       "<text text-anchor=\"middle\" x=\"94.8916\" y=\"-230.3\" font-family=\"Times,serif\" font-size=\"14.00\">Visited&#45;Asian&#45;TB&#45;HRA</text>\n",
       "</g>\n",
       "<!-- Tuberculosis -->\n",
       "<g id=\"node6\" class=\"node\"><title>Tuberculosis</title>\n",
       "<ellipse fill=\"none\" stroke=\"black\" cx=\"94.8916\" cy=\"-162\" rx=\"55.7903\" ry=\"18\"/>\n",
       "<text text-anchor=\"middle\" x=\"94.8916\" y=\"-158.3\" font-family=\"Times,serif\" font-size=\"14.00\">Tuberculosis</text>\n",
       "</g>\n",
       "<!-- Visited&#45;Asian&#45;TB&#45;HRA&#45;&gt;Tuberculosis -->\n",
       "<g id=\"edge1\" class=\"edge\"><title>Visited&#45;Asian&#45;TB&#45;HRA&#45;&gt;Tuberculosis</title>\n",
       "<path fill=\"none\" stroke=\"black\" d=\"M94.8916,-215.697C94.8916,-207.983 94.8916,-198.712 94.8916,-190.112\"/>\n",
       "<polygon fill=\"black\" stroke=\"black\" points=\"98.3917,-190.104 94.8916,-180.104 91.3917,-190.104 98.3917,-190.104\"/>\n",
       "</g>\n",
       "<!-- Smoke -->\n",
       "<g id=\"node2\" class=\"node\"><title>Smoke</title>\n",
       "<ellipse fill=\"none\" stroke=\"black\" cx=\"276.892\" cy=\"-234\" rx=\"35.9954\" ry=\"18\"/>\n",
       "<text text-anchor=\"middle\" x=\"276.892\" y=\"-230.3\" font-family=\"Times,serif\" font-size=\"14.00\">Smoke</text>\n",
       "</g>\n",
       "<!-- Bronchitis -->\n",
       "<g id=\"node4\" class=\"node\"><title>Bronchitis</title>\n",
       "<ellipse fill=\"none\" stroke=\"black\" cx=\"310.892\" cy=\"-90\" rx=\"47.3916\" ry=\"18\"/>\n",
       "<text text-anchor=\"middle\" x=\"310.892\" y=\"-86.3\" font-family=\"Times,serif\" font-size=\"14.00\">Bronchitis</text>\n",
       "</g>\n",
       "<!-- Smoke&#45;&gt;Bronchitis -->\n",
       "<g id=\"edge3\" class=\"edge\"><title>Smoke&#45;&gt;Bronchitis</title>\n",
       "<path fill=\"none\" stroke=\"black\" d=\"M282.041,-215.89C285.078,-205.545 288.9,-192.066 291.892,-180 296.993,-159.427 301.966,-135.975 305.543,-118.311\"/>\n",
       "<polygon fill=\"black\" stroke=\"black\" points=\"309.049,-118.631 307.579,-108.138 302.185,-117.257 309.049,-118.631\"/>\n",
       "</g>\n",
       "<!-- Lung&#45;Cancer -->\n",
       "<g id=\"node5\" class=\"node\"><title>Lung&#45;Cancer</title>\n",
       "<ellipse fill=\"none\" stroke=\"black\" cx=\"225.892\" cy=\"-162\" rx=\"57.3905\" ry=\"18\"/>\n",
       "<text text-anchor=\"middle\" x=\"225.892\" y=\"-158.3\" font-family=\"Times,serif\" font-size=\"14.00\">Lung&#45;Cancer</text>\n",
       "</g>\n",
       "<!-- Smoke&#45;&gt;Lung&#45;Cancer -->\n",
       "<g id=\"edge2\" class=\"edge\"><title>Smoke&#45;&gt;Lung&#45;Cancer</title>\n",
       "<path fill=\"none\" stroke=\"black\" d=\"M265.063,-216.765C258.782,-208.143 250.929,-197.365 243.907,-187.727\"/>\n",
       "<polygon fill=\"black\" stroke=\"black\" points=\"246.728,-185.655 238.01,-179.633 241.07,-189.777 246.728,-185.655\"/>\n",
       "</g>\n",
       "<!-- Dyspnea -->\n",
       "<g id=\"node3\" class=\"node\"><title>Dyspnea</title>\n",
       "<ellipse fill=\"none\" stroke=\"black\" cx=\"308.892\" cy=\"-18\" rx=\"41.6928\" ry=\"18\"/>\n",
       "<text text-anchor=\"middle\" x=\"308.892\" y=\"-14.3\" font-family=\"Times,serif\" font-size=\"14.00\">Dyspnea</text>\n",
       "</g>\n",
       "<!-- Bronchitis&#45;&gt;Dyspnea -->\n",
       "<g id=\"edge4\" class=\"edge\"><title>Bronchitis&#45;&gt;Dyspnea</title>\n",
       "<path fill=\"none\" stroke=\"black\" d=\"M310.397,-71.6966C310.177,-63.9827 309.912,-54.7125 309.666,-46.1124\"/>\n",
       "<polygon fill=\"black\" stroke=\"black\" points=\"313.165,-46.0003 309.38,-36.1043 306.167,-46.2002 313.165,-46.0003\"/>\n",
       "</g>\n",
       "<!-- Either -->\n",
       "<g id=\"node7\" class=\"node\"><title>Either</title>\n",
       "<ellipse fill=\"none\" stroke=\"black\" cx=\"212.892\" cy=\"-90\" rx=\"32.4942\" ry=\"18\"/>\n",
       "<text text-anchor=\"middle\" x=\"212.892\" y=\"-86.3\" font-family=\"Times,serif\" font-size=\"14.00\">Either</text>\n",
       "</g>\n",
       "<!-- Lung&#45;Cancer&#45;&gt;Either -->\n",
       "<g id=\"edge5\" class=\"edge\"><title>Lung&#45;Cancer&#45;&gt;Either</title>\n",
       "<path fill=\"none\" stroke=\"black\" d=\"M222.678,-143.697C221.246,-135.983 219.524,-126.712 217.927,-118.112\"/>\n",
       "<polygon fill=\"black\" stroke=\"black\" points=\"221.335,-117.297 216.068,-108.104 214.453,-118.575 221.335,-117.297\"/>\n",
       "</g>\n",
       "<!-- Tuberculosis&#45;&gt;Either -->\n",
       "<g id=\"edge6\" class=\"edge\"><title>Tuberculosis&#45;&gt;Either</title>\n",
       "<path fill=\"none\" stroke=\"black\" d=\"M120.496,-145.811C138.753,-134.981 163.371,-120.377 182.605,-108.967\"/>\n",
       "<polygon fill=\"black\" stroke=\"black\" points=\"184.477,-111.926 191.291,-103.814 180.905,-105.905 184.477,-111.926\"/>\n",
       "</g>\n",
       "<!-- Either&#45;&gt;Dyspnea -->\n",
       "<g id=\"edge7\" class=\"edge\"><title>Either&#45;&gt;Dyspnea</title>\n",
       "<path fill=\"none\" stroke=\"black\" d=\"M231.858,-75.1703C245.69,-65.0847 264.673,-51.2425 280.334,-39.8232\"/>\n",
       "<polygon fill=\"black\" stroke=\"black\" points=\"282.621,-42.4875 288.639,-33.7677 278.497,-36.8314 282.621,-42.4875\"/>\n",
       "</g>\n",
       "<!-- X&#45;Ray -->\n",
       "<g id=\"node8\" class=\"node\"><title>X&#45;Ray</title>\n",
       "<ellipse fill=\"none\" stroke=\"black\" cx=\"212.892\" cy=\"-18\" rx=\"34.394\" ry=\"18\"/>\n",
       "<text text-anchor=\"middle\" x=\"212.892\" y=\"-14.3\" font-family=\"Times,serif\" font-size=\"14.00\">X&#45;Ray</text>\n",
       "</g>\n",
       "<!-- Either&#45;&gt;X&#45;Ray -->\n",
       "<g id=\"edge8\" class=\"edge\"><title>Either&#45;&gt;X&#45;Ray</title>\n",
       "<path fill=\"none\" stroke=\"black\" d=\"M212.892,-71.6966C212.892,-63.9827 212.892,-54.7125 212.892,-46.1124\"/>\n",
       "<polygon fill=\"black\" stroke=\"black\" points=\"216.392,-46.1043 212.892,-36.1043 209.392,-46.1044 216.392,-46.1043\"/>\n",
       "</g>\n",
       "</g>\n",
       "</svg>\n"
      ],
      "text/plain": [
       "<graphviz.files.Source at 0x7f1dcc5f06a0>"
      ]
     },
     "execution_count": 11,
     "metadata": {},
     "output_type": "execute_result"
    }
   ],
   "source": [
    "Source(open(in_dot).read())"
   ]
  },
  {
   "cell_type": "markdown",
   "metadata": {},
   "source": [
    "# Learned Network Structures\n",
    "## MB based learning\n",
    "### Grow Shink\n",
    "#### Qfog"
   ]
  },
  {
   "cell_type": "code",
   "execution_count": 12,
   "metadata": {
    "collapsed": false
   },
   "outputs": [],
   "source": [
    "%%capture qfog_gs_time\n",
    "alpha = 8/len(states_df.index)\n",
    "%time lnr = MB_GrowShrinkLner(states_df, alpha, verbose=False)"
   ]
  },
  {
   "cell_type": "code",
   "execution_count": 13,
   "metadata": {
    "collapsed": false
   },
   "outputs": [
    {
     "name": "stdout",
     "output_type": "stream",
     "text": [
      "CPU times: user 711 ms, sys: 119 us, total: 711 ms\n",
      "Wall time: 711 ms\n",
      "\n"
     ]
    }
   ],
   "source": [
    "print(qfog_gs_time)"
   ]
  },
  {
   "cell_type": "code",
   "execution_count": 14,
   "metadata": {
    "collapsed": false
   },
   "outputs": [
    {
     "data": {
      "image/svg+xml": [
       "<?xml version=\"1.0\" encoding=\"UTF-8\" standalone=\"no\"?>\n",
       "<!DOCTYPE svg PUBLIC \"-//W3C//DTD SVG 1.1//EN\"\n",
       " \"http://www.w3.org/Graphics/SVG/1.1/DTD/svg11.dtd\">\n",
       "<!-- Generated by graphviz version 2.38.0 (20140413.2041)\n",
       " -->\n",
       "<!-- Pages: 1 -->\n",
       "<svg width=\"561pt\" height=\"188pt\"\n",
       " viewBox=\"0.00 0.00 561.34 188.00\" xmlns=\"http://www.w3.org/2000/svg\" xmlns:xlink=\"http://www.w3.org/1999/xlink\">\n",
       "<g id=\"graph0\" class=\"graph\" transform=\"scale(1 1) rotate(0) translate(4 184)\">\n",
       "<polygon fill=\"white\" stroke=\"none\" points=\"-4,4 -4,-184 557.337,-184 557.337,4 -4,4\"/>\n",
       "<!-- Visited&#45;Asian&#45;TB&#45;HRA -->\n",
       "<g id=\"node1\" class=\"node\"><title>Visited&#45;Asian&#45;TB&#45;HRA</title>\n",
       "<ellipse fill=\"none\" stroke=\"black\" cx=\"94.8916\" cy=\"-162\" rx=\"94.7833\" ry=\"18\"/>\n",
       "<text text-anchor=\"middle\" x=\"94.8916\" y=\"-158.3\" font-family=\"Times,serif\" font-size=\"14.00\">Visited&#45;Asian&#45;TB&#45;HRA</text>\n",
       "</g>\n",
       "<!-- Tuberculosis -->\n",
       "<g id=\"node2\" class=\"node\"><title>Tuberculosis</title>\n",
       "<ellipse fill=\"none\" stroke=\"black\" cx=\"263.892\" cy=\"-162\" rx=\"55.7903\" ry=\"18\"/>\n",
       "<text text-anchor=\"middle\" x=\"263.892\" y=\"-158.3\" font-family=\"Times,serif\" font-size=\"14.00\">Tuberculosis</text>\n",
       "</g>\n",
       "<!-- Either -->\n",
       "<g id=\"node3\" class=\"node\"><title>Either</title>\n",
       "<ellipse fill=\"none\" stroke=\"black\" cx=\"314.892\" cy=\"-90\" rx=\"32.4942\" ry=\"18\"/>\n",
       "<text text-anchor=\"middle\" x=\"314.892\" y=\"-86.3\" font-family=\"Times,serif\" font-size=\"14.00\">Either</text>\n",
       "</g>\n",
       "<!-- X&#45;Ray -->\n",
       "<g id=\"node4\" class=\"node\"><title>X&#45;Ray</title>\n",
       "<ellipse fill=\"none\" stroke=\"black\" cx=\"399.892\" cy=\"-90\" rx=\"34.394\" ry=\"18\"/>\n",
       "<text text-anchor=\"middle\" x=\"399.892\" y=\"-86.3\" font-family=\"Times,serif\" font-size=\"14.00\">X&#45;Ray</text>\n",
       "</g>\n",
       "<!-- Dyspnea -->\n",
       "<g id=\"node5\" class=\"node\"><title>Dyspnea</title>\n",
       "<ellipse fill=\"none\" stroke=\"black\" cx=\"505.892\" cy=\"-18\" rx=\"41.6928\" ry=\"18\"/>\n",
       "<text text-anchor=\"middle\" x=\"505.892\" y=\"-14.3\" font-family=\"Times,serif\" font-size=\"14.00\">Dyspnea</text>\n",
       "</g>\n",
       "<!-- Smoke -->\n",
       "<g id=\"node6\" class=\"node\"><title>Smoke</title>\n",
       "<ellipse fill=\"none\" stroke=\"black\" cx=\"505.892\" cy=\"-162\" rx=\"35.9954\" ry=\"18\"/>\n",
       "<text text-anchor=\"middle\" x=\"505.892\" y=\"-158.3\" font-family=\"Times,serif\" font-size=\"14.00\">Smoke</text>\n",
       "</g>\n",
       "<!-- Bronchitis -->\n",
       "<g id=\"node7\" class=\"node\"><title>Bronchitis</title>\n",
       "<ellipse fill=\"none\" stroke=\"black\" cx=\"505.892\" cy=\"-90\" rx=\"47.3916\" ry=\"18\"/>\n",
       "<text text-anchor=\"middle\" x=\"505.892\" y=\"-86.3\" font-family=\"Times,serif\" font-size=\"14.00\">Bronchitis</text>\n",
       "</g>\n",
       "<!-- Smoke&#45;&gt;Bronchitis -->\n",
       "<g id=\"edge1\" class=\"edge\"><title>Smoke&#45;&gt;Bronchitis</title>\n",
       "<path fill=\"none\" stroke=\"black\" d=\"M505.892,-143.697C505.892,-135.983 505.892,-126.712 505.892,-118.112\"/>\n",
       "<polygon fill=\"black\" stroke=\"black\" points=\"509.392,-118.104 505.892,-108.104 502.392,-118.104 509.392,-118.104\"/>\n",
       "</g>\n",
       "<!-- Bronchitis&#45;&gt;Dyspnea -->\n",
       "<g id=\"edge2\" class=\"edge\"><title>Bronchitis&#45;&gt;Dyspnea</title>\n",
       "<path fill=\"none\" stroke=\"black\" d=\"M505.892,-71.6966C505.892,-63.9827 505.892,-54.7125 505.892,-46.1124\"/>\n",
       "<polygon fill=\"black\" stroke=\"black\" points=\"509.392,-46.1043 505.892,-36.1043 502.392,-46.1044 509.392,-46.1043\"/>\n",
       "</g>\n",
       "<!-- Lung&#45;Cancer -->\n",
       "<g id=\"node8\" class=\"node\"><title>Lung&#45;Cancer</title>\n",
       "<ellipse fill=\"none\" stroke=\"black\" cx=\"394.892\" cy=\"-162\" rx=\"57.3905\" ry=\"18\"/>\n",
       "<text text-anchor=\"middle\" x=\"394.892\" y=\"-158.3\" font-family=\"Times,serif\" font-size=\"14.00\">Lung&#45;Cancer</text>\n",
       "</g>\n",
       "<!-- Lung&#45;Cancer&#45;&gt;Either -->\n",
       "<g id=\"edge3\" class=\"edge\"><title>Lung&#45;Cancer&#45;&gt;Either</title>\n",
       "<path fill=\"none\" stroke=\"black\" d=\"M376.337,-144.765C365.386,-135.183 351.39,-122.936 339.523,-112.553\"/>\n",
       "<polygon fill=\"black\" stroke=\"black\" points=\"341.542,-109.668 331.711,-105.717 336.932,-114.936 341.542,-109.668\"/>\n",
       "</g>\n",
       "<!-- Lung&#45;Cancer&#45;&gt;X&#45;Ray -->\n",
       "<g id=\"edge4\" class=\"edge\"><title>Lung&#45;Cancer&#45;&gt;X&#45;Ray</title>\n",
       "<path fill=\"none\" stroke=\"black\" d=\"M396.128,-143.697C396.679,-135.983 397.341,-126.712 397.955,-118.112\"/>\n",
       "<polygon fill=\"black\" stroke=\"black\" points=\"401.448,-118.328 398.67,-108.104 394.466,-117.83 401.448,-118.328\"/>\n",
       "</g>\n",
       "</g>\n",
       "</svg>\n"
      ],
      "text/plain": [
       "<graphviz.files.Source at 0x7f1dcc31c630>"
      ]
     },
     "execution_count": 14,
     "metadata": {},
     "output_type": "execute_result"
    }
   ],
   "source": [
    "lnr.bnet.write_dot(learned_dot) # write BNet to .dot file\n",
    "Source(open(learned_dot).read())"
   ]
  },
  {
   "cell_type": "markdown",
   "metadata": {},
   "source": [
    "#### bnlearn"
   ]
  },
  {
   "cell_type": "code",
   "execution_count": 15,
   "metadata": {
    "collapsed": false,
    "scrolled": false
   },
   "outputs": [],
   "source": [
    "%%capture bnlearn_gs_time\n",
    "%time %R bn <- gs(states_df);"
   ]
  },
  {
   "cell_type": "code",
   "execution_count": 16,
   "metadata": {
    "collapsed": false
   },
   "outputs": [
    {
     "name": "stdout",
     "output_type": "stream",
     "text": [
      "\n",
      "Error in check.data(x) : \n",
      "  variable Visited.Asian.TB.HRA must have at least two levels.\n",
      "CPU times: user 6.05 ms, sys: 0 ns, total: 6.05 ms\n",
      "Wall time: 6.04 ms\n",
      "\n"
     ]
    }
   ],
   "source": [
    "print(bnlearn_gs_time)"
   ]
  },
  {
   "cell_type": "code",
   "execution_count": 17,
   "metadata": {
    "collapsed": false
   },
   "outputs": [
    {
     "name": "stdout",
     "output_type": "stream",
     "text": [
      "\n",
      "Error in match(x, table, nomatch = 0L) : object 'bn' not found\n"
     ]
    }
   ],
   "source": [
    "%R par(mfrow = c(1,1))\n",
    "%R graphviz.plot(bn, shape = \"ellipse\", main = \"Grow-Shrink (GS)\");"
   ]
  },
  {
   "cell_type": "markdown",
   "metadata": {},
   "source": [
    "### IAMB\n",
    "#### QFog"
   ]
  },
  {
   "cell_type": "code",
   "execution_count": 18,
   "metadata": {
    "collapsed": false,
    "scrolled": false
   },
   "outputs": [],
   "source": [
    "%%capture qfog_iamb_time\n",
    "alpha = 8/len(states_df.index)\n",
    "%time lnr = MB_IAMB_Lner(states_df, alpha, verbose=False)"
   ]
  },
  {
   "cell_type": "code",
   "execution_count": 19,
   "metadata": {
    "collapsed": false
   },
   "outputs": [
    {
     "name": "stdout",
     "output_type": "stream",
     "text": [
      "CPU times: user 616 ms, sys: 123 us, total: 617 ms\n",
      "Wall time: 618 ms\n",
      "\n"
     ]
    }
   ],
   "source": [
    "print(qfog_iamb_time)"
   ]
  },
  {
   "cell_type": "code",
   "execution_count": 20,
   "metadata": {
    "collapsed": false
   },
   "outputs": [
    {
     "data": {
      "image/svg+xml": [
       "<?xml version=\"1.0\" encoding=\"UTF-8\" standalone=\"no\"?>\n",
       "<!DOCTYPE svg PUBLIC \"-//W3C//DTD SVG 1.1//EN\"\n",
       " \"http://www.w3.org/Graphics/SVG/1.1/DTD/svg11.dtd\">\n",
       "<!-- Generated by graphviz version 2.38.0 (20140413.2041)\n",
       " -->\n",
       "<!-- Pages: 1 -->\n",
       "<svg width=\"599pt\" height=\"188pt\"\n",
       " viewBox=\"0.00 0.00 599.34 188.00\" xmlns=\"http://www.w3.org/2000/svg\" xmlns:xlink=\"http://www.w3.org/1999/xlink\">\n",
       "<g id=\"graph0\" class=\"graph\" transform=\"scale(1 1) rotate(0) translate(4 184)\">\n",
       "<polygon fill=\"white\" stroke=\"none\" points=\"-4,4 -4,-184 595.342,-184 595.342,4 -4,4\"/>\n",
       "<!-- X&#45;Ray -->\n",
       "<g id=\"node1\" class=\"node\"><title>X&#45;Ray</title>\n",
       "<ellipse fill=\"none\" stroke=\"black\" cx=\"34.4469\" cy=\"-90\" rx=\"34.394\" ry=\"18\"/>\n",
       "<text text-anchor=\"middle\" x=\"34.4469\" y=\"-86.3\" font-family=\"Times,serif\" font-size=\"14.00\">X&#45;Ray</text>\n",
       "</g>\n",
       "<!-- Dyspnea -->\n",
       "<g id=\"node2\" class=\"node\"><title>Dyspnea</title>\n",
       "<ellipse fill=\"none\" stroke=\"black\" cx=\"217.447\" cy=\"-18\" rx=\"41.6928\" ry=\"18\"/>\n",
       "<text text-anchor=\"middle\" x=\"217.447\" y=\"-14.3\" font-family=\"Times,serif\" font-size=\"14.00\">Dyspnea</text>\n",
       "</g>\n",
       "<!-- Smoke -->\n",
       "<g id=\"node3\" class=\"node\"><title>Smoke</title>\n",
       "<ellipse fill=\"none\" stroke=\"black\" cx=\"217.447\" cy=\"-162\" rx=\"35.9954\" ry=\"18\"/>\n",
       "<text text-anchor=\"middle\" x=\"217.447\" y=\"-158.3\" font-family=\"Times,serif\" font-size=\"14.00\">Smoke</text>\n",
       "</g>\n",
       "<!-- Bronchitis -->\n",
       "<g id=\"node4\" class=\"node\"><title>Bronchitis</title>\n",
       "<ellipse fill=\"none\" stroke=\"black\" cx=\"217.447\" cy=\"-90\" rx=\"47.3916\" ry=\"18\"/>\n",
       "<text text-anchor=\"middle\" x=\"217.447\" y=\"-86.3\" font-family=\"Times,serif\" font-size=\"14.00\">Bronchitis</text>\n",
       "</g>\n",
       "<!-- Smoke&#45;&gt;Bronchitis -->\n",
       "<g id=\"edge1\" class=\"edge\"><title>Smoke&#45;&gt;Bronchitis</title>\n",
       "<path fill=\"none\" stroke=\"black\" d=\"M217.447,-143.697C217.447,-135.983 217.447,-126.712 217.447,-118.112\"/>\n",
       "<polygon fill=\"black\" stroke=\"black\" points=\"220.947,-118.104 217.447,-108.104 213.947,-118.104 220.947,-118.104\"/>\n",
       "</g>\n",
       "<!-- Bronchitis&#45;&gt;Dyspnea -->\n",
       "<g id=\"edge2\" class=\"edge\"><title>Bronchitis&#45;&gt;Dyspnea</title>\n",
       "<path fill=\"none\" stroke=\"black\" d=\"M217.447,-71.6966C217.447,-63.9827 217.447,-54.7125 217.447,-46.1124\"/>\n",
       "<polygon fill=\"black\" stroke=\"black\" points=\"220.947,-46.1043 217.447,-36.1043 213.947,-46.1044 220.947,-46.1043\"/>\n",
       "</g>\n",
       "<!-- Lung&#45;Cancer -->\n",
       "<g id=\"node5\" class=\"node\"><title>Lung&#45;Cancer</title>\n",
       "<ellipse fill=\"none\" stroke=\"black\" cx=\"70.4469\" cy=\"-162\" rx=\"57.3905\" ry=\"18\"/>\n",
       "<text text-anchor=\"middle\" x=\"70.4469\" y=\"-158.3\" font-family=\"Times,serif\" font-size=\"14.00\">Lung&#45;Cancer</text>\n",
       "</g>\n",
       "<!-- Lung&#45;Cancer&#45;&gt;X&#45;Ray -->\n",
       "<g id=\"edge3\" class=\"edge\"><title>Lung&#45;Cancer&#45;&gt;X&#45;Ray</title>\n",
       "<path fill=\"none\" stroke=\"black\" d=\"M61.7323,-144.055C57.5315,-135.887 52.4015,-125.912 47.7281,-116.824\"/>\n",
       "<polygon fill=\"black\" stroke=\"black\" points=\"50.7673,-115.081 43.0813,-107.789 44.5423,-118.283 50.7673,-115.081\"/>\n",
       "</g>\n",
       "<!-- Either -->\n",
       "<g id=\"node6\" class=\"node\"><title>Either</title>\n",
       "<ellipse fill=\"none\" stroke=\"black\" cx=\"119.447\" cy=\"-90\" rx=\"32.4942\" ry=\"18\"/>\n",
       "<text text-anchor=\"middle\" x=\"119.447\" y=\"-86.3\" font-family=\"Times,serif\" font-size=\"14.00\">Either</text>\n",
       "</g>\n",
       "<!-- Lung&#45;Cancer&#45;&gt;Either -->\n",
       "<g id=\"edge4\" class=\"edge\"><title>Lung&#45;Cancer&#45;&gt;Either</title>\n",
       "<path fill=\"none\" stroke=\"black\" d=\"M82.3085,-144.055C88.2936,-135.505 95.6645,-124.975 102.258,-115.556\"/>\n",
       "<polygon fill=\"black\" stroke=\"black\" points=\"105.165,-117.506 108.032,-107.307 99.4301,-113.492 105.165,-117.506\"/>\n",
       "</g>\n",
       "<!-- Visited&#45;Asian&#45;TB&#45;HRA -->\n",
       "<g id=\"node7\" class=\"node\"><title>Visited&#45;Asian&#45;TB&#45;HRA</title>\n",
       "<ellipse fill=\"none\" stroke=\"black\" cx=\"366.447\" cy=\"-162\" rx=\"94.7833\" ry=\"18\"/>\n",
       "<text text-anchor=\"middle\" x=\"366.447\" y=\"-158.3\" font-family=\"Times,serif\" font-size=\"14.00\">Visited&#45;Asian&#45;TB&#45;HRA</text>\n",
       "</g>\n",
       "<!-- Tuberculosis -->\n",
       "<g id=\"node8\" class=\"node\"><title>Tuberculosis</title>\n",
       "<ellipse fill=\"none\" stroke=\"black\" cx=\"535.447\" cy=\"-162\" rx=\"55.7903\" ry=\"18\"/>\n",
       "<text text-anchor=\"middle\" x=\"535.447\" y=\"-158.3\" font-family=\"Times,serif\" font-size=\"14.00\">Tuberculosis</text>\n",
       "</g>\n",
       "</g>\n",
       "</svg>\n"
      ],
      "text/plain": [
       "<graphviz.files.Source at 0x7f1dcc2ba5f8>"
      ]
     },
     "execution_count": 20,
     "metadata": {},
     "output_type": "execute_result"
    }
   ],
   "source": [
    "lnr.bnet.write_dot(learned_dot) # write BNet to .dot file\n",
    "Source(open(learned_dot).read())"
   ]
  },
  {
   "cell_type": "markdown",
   "metadata": {},
   "source": [
    "Results are sensitive to \"alpha\""
   ]
  },
  {
   "cell_type": "markdown",
   "metadata": {},
   "source": [
    "#### bnlearn"
   ]
  },
  {
   "cell_type": "code",
   "execution_count": 21,
   "metadata": {
    "collapsed": false
   },
   "outputs": [],
   "source": [
    "%%capture  bnlearn_iamb_time\n",
    "%time %R bn <- iamb(states_df);"
   ]
  },
  {
   "cell_type": "code",
   "execution_count": 22,
   "metadata": {
    "collapsed": false
   },
   "outputs": [
    {
     "name": "stdout",
     "output_type": "stream",
     "text": [
      "\n",
      "Error in check.data(x) : \n",
      "  variable Visited.Asian.TB.HRA must have at least two levels.\n",
      "CPU times: user 5.26 ms, sys: 42 us, total: 5.3 ms\n",
      "Wall time: 5.42 ms\n",
      "\n"
     ]
    }
   ],
   "source": [
    "print(bnlearn_iamb_time)"
   ]
  },
  {
   "cell_type": "code",
   "execution_count": 23,
   "metadata": {
    "collapsed": false
   },
   "outputs": [
    {
     "name": "stdout",
     "output_type": "stream",
     "text": [
      "\n",
      "Error in match(x, table, nomatch = 0L) : object 'bn' not found\n"
     ]
    }
   ],
   "source": [
    "%R par(mfrow = c(1,1))\n",
    "%R graphviz.plot(bn, shape = \"ellipse\", main = \"Incremental Association Markov Blanket(IAMB)\");"
   ]
  },
  {
   "cell_type": "markdown",
   "metadata": {},
   "source": [
    "## Score based learning\n",
    "### Hiil Climbing with BIC score\n",
    "#### QFog"
   ]
  },
  {
   "cell_type": "code",
   "execution_count": 24,
   "metadata": {
    "collapsed": false
   },
   "outputs": [],
   "source": [
    "%%capture qfog_hc_bic_time\n",
    "score_type = 'BIC'\n",
    "max_num_mtries = 30\n",
    "ess = 1.0 \n",
    "%time lnr = HillClimbingLner(states_df, score_type, max_num_mtries, ess)"
   ]
  },
  {
   "cell_type": "code",
   "execution_count": 25,
   "metadata": {
    "collapsed": false
   },
   "outputs": [
    {
     "name": "stdout",
     "output_type": "stream",
     "text": [
      "CPU times: user 6.08 s, sys: 279 us, total: 6.08 s\n",
      "Wall time: 6.08 s\n",
      "\n"
     ]
    }
   ],
   "source": [
    "print(qfog_hc_bic_time)"
   ]
  },
  {
   "cell_type": "code",
   "execution_count": 26,
   "metadata": {
    "collapsed": false
   },
   "outputs": [
    {
     "data": {
      "image/svg+xml": [
       "<?xml version=\"1.0\" encoding=\"UTF-8\" standalone=\"no\"?>\n",
       "<!DOCTYPE svg PUBLIC \"-//W3C//DTD SVG 1.1//EN\"\n",
       " \"http://www.w3.org/Graphics/SVG/1.1/DTD/svg11.dtd\">\n",
       "<!-- Generated by graphviz version 2.38.0 (20140413.2041)\n",
       " -->\n",
       "<!-- Pages: 1 -->\n",
       "<svg width=\"410pt\" height=\"404pt\"\n",
       " viewBox=\"0.00 0.00 409.79 404.00\" xmlns=\"http://www.w3.org/2000/svg\" xmlns:xlink=\"http://www.w3.org/1999/xlink\">\n",
       "<g id=\"graph0\" class=\"graph\" transform=\"scale(1 1) rotate(0) translate(4 400)\">\n",
       "<polygon fill=\"white\" stroke=\"none\" points=\"-4,4 -4,-400 405.787,-400 405.787,4 -4,4\"/>\n",
       "<!-- Smoke -->\n",
       "<g id=\"node1\" class=\"node\"><title>Smoke</title>\n",
       "<ellipse fill=\"none\" stroke=\"black\" cx=\"344.892\" cy=\"-18\" rx=\"35.9954\" ry=\"18\"/>\n",
       "<text text-anchor=\"middle\" x=\"344.892\" y=\"-14.3\" font-family=\"Times,serif\" font-size=\"14.00\">Smoke</text>\n",
       "</g>\n",
       "<!-- Lung&#45;Cancer -->\n",
       "<g id=\"node2\" class=\"node\"><title>Lung&#45;Cancer</title>\n",
       "<ellipse fill=\"none\" stroke=\"black\" cx=\"221.892\" cy=\"-234\" rx=\"57.3905\" ry=\"18\"/>\n",
       "<text text-anchor=\"middle\" x=\"221.892\" y=\"-230.3\" font-family=\"Times,serif\" font-size=\"14.00\">Lung&#45;Cancer</text>\n",
       "</g>\n",
       "<!-- Dyspnea -->\n",
       "<g id=\"node3\" class=\"node\"><title>Dyspnea</title>\n",
       "<ellipse fill=\"none\" stroke=\"black\" cx=\"248.892\" cy=\"-162\" rx=\"41.6928\" ry=\"18\"/>\n",
       "<text text-anchor=\"middle\" x=\"248.892\" y=\"-158.3\" font-family=\"Times,serif\" font-size=\"14.00\">Dyspnea</text>\n",
       "</g>\n",
       "<!-- Lung&#45;Cancer&#45;&gt;Dyspnea -->\n",
       "<g id=\"edge1\" class=\"edge\"><title>Lung&#45;Cancer&#45;&gt;Dyspnea</title>\n",
       "<path fill=\"none\" stroke=\"black\" d=\"M228.428,-216.055C231.512,-208.059 235.264,-198.331 238.709,-189.4\"/>\n",
       "<polygon fill=\"black\" stroke=\"black\" points=\"242.083,-190.379 242.416,-179.789 235.552,-187.859 242.083,-190.379\"/>\n",
       "</g>\n",
       "<!-- Bronchitis -->\n",
       "<g id=\"node4\" class=\"node\"><title>Bronchitis</title>\n",
       "<ellipse fill=\"none\" stroke=\"black\" cx=\"277.892\" cy=\"-90\" rx=\"47.3916\" ry=\"18\"/>\n",
       "<text text-anchor=\"middle\" x=\"277.892\" y=\"-86.3\" font-family=\"Times,serif\" font-size=\"14.00\">Bronchitis</text>\n",
       "</g>\n",
       "<!-- Dyspnea&#45;&gt;Bronchitis -->\n",
       "<g id=\"edge2\" class=\"edge\"><title>Dyspnea&#45;&gt;Bronchitis</title>\n",
       "<path fill=\"none\" stroke=\"black\" d=\"M255.912,-144.055C259.176,-136.176 263.136,-126.617 266.791,-117.794\"/>\n",
       "<polygon fill=\"black\" stroke=\"black\" points=\"270.141,-118.853 270.735,-108.275 263.674,-116.174 270.141,-118.853\"/>\n",
       "</g>\n",
       "<!-- Bronchitis&#45;&gt;Smoke -->\n",
       "<g id=\"edge3\" class=\"edge\"><title>Bronchitis&#45;&gt;Smoke</title>\n",
       "<path fill=\"none\" stroke=\"black\" d=\"M293.431,-72.7646C302.18,-63.6243 313.249,-52.0599 322.877,-42.0001\"/>\n",
       "<polygon fill=\"black\" stroke=\"black\" points=\"325.511,-44.3101 329.897,-34.6658 320.454,-39.4699 325.511,-44.3101\"/>\n",
       "</g>\n",
       "<!-- Visited&#45;Asian&#45;TB&#45;HRA -->\n",
       "<g id=\"node5\" class=\"node\"><title>Visited&#45;Asian&#45;TB&#45;HRA</title>\n",
       "<ellipse fill=\"none\" stroke=\"black\" cx=\"94.8916\" cy=\"-306\" rx=\"94.7833\" ry=\"18\"/>\n",
       "<text text-anchor=\"middle\" x=\"94.8916\" y=\"-302.3\" font-family=\"Times,serif\" font-size=\"14.00\">Visited&#45;Asian&#45;TB&#45;HRA</text>\n",
       "</g>\n",
       "<!-- Visited&#45;Asian&#45;TB&#45;HRA&#45;&gt;Lung&#45;Cancer -->\n",
       "<g id=\"edge6\" class=\"edge\"><title>Visited&#45;Asian&#45;TB&#45;HRA&#45;&gt;Lung&#45;Cancer</title>\n",
       "<path fill=\"none\" stroke=\"black\" d=\"M124.347,-288.765C142.692,-278.653 166.418,-265.576 185.878,-254.85\"/>\n",
       "<polygon fill=\"black\" stroke=\"black\" points=\"187.695,-257.845 194.764,-249.952 184.316,-251.714 187.695,-257.845\"/>\n",
       "</g>\n",
       "<!-- Visited&#45;Asian&#45;TB&#45;HRA&#45;&gt;Dyspnea -->\n",
       "<g id=\"edge5\" class=\"edge\"><title>Visited&#45;Asian&#45;TB&#45;HRA&#45;&gt;Dyspnea</title>\n",
       "<path fill=\"none\" stroke=\"black\" d=\"M103.537,-287.89C113.928,-268.604 132.874,-237.185 155.892,-216 172.077,-201.103 193.177,-188.652 211.187,-179.568\"/>\n",
       "<polygon fill=\"black\" stroke=\"black\" points=\"212.829,-182.662 220.281,-175.131 209.759,-176.371 212.829,-182.662\"/>\n",
       "</g>\n",
       "<!-- Visited&#45;Asian&#45;TB&#45;HRA&#45;&gt;Bronchitis -->\n",
       "<g id=\"edge4\" class=\"edge\"><title>Visited&#45;Asian&#45;TB&#45;HRA&#45;&gt;Bronchitis</title>\n",
       "<path fill=\"none\" stroke=\"black\" d=\"M97.3923,-287.849C100.719,-269.085 107.887,-238.664 121.892,-216 151.407,-168.234 205.923,-130.917 242.051,-109.92\"/>\n",
       "<polygon fill=\"black\" stroke=\"black\" points=\"243.851,-112.923 250.814,-104.937 240.391,-106.838 243.851,-112.923\"/>\n",
       "</g>\n",
       "<!-- Tuberculosis -->\n",
       "<g id=\"node6\" class=\"node\"><title>Tuberculosis</title>\n",
       "<ellipse fill=\"none\" stroke=\"black\" cx=\"345.892\" cy=\"-306\" rx=\"55.7903\" ry=\"18\"/>\n",
       "<text text-anchor=\"middle\" x=\"345.892\" y=\"-302.3\" font-family=\"Times,serif\" font-size=\"14.00\">Tuberculosis</text>\n",
       "</g>\n",
       "<!-- Tuberculosis&#45;&gt;Smoke -->\n",
       "<g id=\"edge8\" class=\"edge\"><title>Tuberculosis&#45;&gt;Smoke</title>\n",
       "<path fill=\"none\" stroke=\"black\" d=\"M345.832,-287.966C345.665,-240.291 345.193,-105.185 344.988,-46.63\"/>\n",
       "<polygon fill=\"black\" stroke=\"black\" points=\"348.487,-46.2941 344.952,-36.3065 341.487,-46.3187 348.487,-46.2941\"/>\n",
       "</g>\n",
       "<!-- Tuberculosis&#45;&gt;Lung&#45;Cancer -->\n",
       "<g id=\"edge10\" class=\"edge\"><title>Tuberculosis&#45;&gt;Lung&#45;Cancer</title>\n",
       "<path fill=\"none\" stroke=\"black\" d=\"M319.29,-289.983C301.147,-279.741 276.922,-266.066 257.171,-254.916\"/>\n",
       "<polygon fill=\"black\" stroke=\"black\" points=\"258.878,-251.86 248.449,-249.992 255.436,-257.956 258.878,-251.86\"/>\n",
       "</g>\n",
       "<!-- Tuberculosis&#45;&gt;Dyspnea -->\n",
       "<g id=\"edge9\" class=\"edge\"><title>Tuberculosis&#45;&gt;Dyspnea</title>\n",
       "<path fill=\"none\" stroke=\"black\" d=\"M335.269,-288.08C323.846,-270.034 305.014,-240.709 287.892,-216 281.383,-206.607 274.006,-196.462 267.433,-187.588\"/>\n",
       "<polygon fill=\"black\" stroke=\"black\" points=\"270.214,-185.462 261.432,-179.534 264.601,-189.644 270.214,-185.462\"/>\n",
       "</g>\n",
       "<!-- Tuberculosis&#45;&gt;Bronchitis -->\n",
       "<g id=\"edge7\" class=\"edge\"><title>Tuberculosis&#45;&gt;Bronchitis</title>\n",
       "<path fill=\"none\" stroke=\"black\" d=\"M341.692,-287.878C334.269,-258.24 317.904,-195.598 299.892,-144 296.823,-135.211 293.064,-125.778 289.527,-117.341\"/>\n",
       "<polygon fill=\"black\" stroke=\"black\" points=\"292.68,-115.812 285.532,-107.993 286.243,-118.563 292.68,-115.812\"/>\n",
       "</g>\n",
       "<!-- Either -->\n",
       "<g id=\"node7\" class=\"node\"><title>Either</title>\n",
       "<ellipse fill=\"none\" stroke=\"black\" cx=\"239.892\" cy=\"-306\" rx=\"32.4942\" ry=\"18\"/>\n",
       "<text text-anchor=\"middle\" x=\"239.892\" y=\"-302.3\" font-family=\"Times,serif\" font-size=\"14.00\">Either</text>\n",
       "</g>\n",
       "<!-- Either&#45;&gt;Lung&#45;Cancer -->\n",
       "<g id=\"edge11\" class=\"edge\"><title>Either&#45;&gt;Lung&#45;Cancer</title>\n",
       "<path fill=\"none\" stroke=\"black\" d=\"M235.534,-288.055C233.53,-280.261 231.103,-270.822 228.855,-262.079\"/>\n",
       "<polygon fill=\"black\" stroke=\"black\" points=\"232.214,-261.089 226.334,-252.275 225.435,-262.832 232.214,-261.089\"/>\n",
       "</g>\n",
       "<!-- X&#45;Ray -->\n",
       "<g id=\"node8\" class=\"node\"><title>X&#45;Ray</title>\n",
       "<ellipse fill=\"none\" stroke=\"black\" cx=\"239.892\" cy=\"-378\" rx=\"34.394\" ry=\"18\"/>\n",
       "<text text-anchor=\"middle\" x=\"239.892\" y=\"-374.3\" font-family=\"Times,serif\" font-size=\"14.00\">X&#45;Ray</text>\n",
       "</g>\n",
       "<!-- X&#45;Ray&#45;&gt;Either -->\n",
       "<g id=\"edge12\" class=\"edge\"><title>X&#45;Ray&#45;&gt;Either</title>\n",
       "<path fill=\"none\" stroke=\"black\" d=\"M239.892,-359.697C239.892,-351.983 239.892,-342.712 239.892,-334.112\"/>\n",
       "<polygon fill=\"black\" stroke=\"black\" points=\"243.392,-334.104 239.892,-324.104 236.392,-334.104 243.392,-334.104\"/>\n",
       "</g>\n",
       "</g>\n",
       "</svg>\n"
      ],
      "text/plain": [
       "<graphviz.files.Source at 0x7f1dcc34d438>"
      ]
     },
     "execution_count": 26,
     "metadata": {},
     "output_type": "execute_result"
    }
   ],
   "source": [
    "lnr.bnet.write_dot(learned_dot) # write BNet to .dot file\n",
    "Source(open(learned_dot).read())"
   ]
  },
  {
   "cell_type": "markdown",
   "metadata": {},
   "source": [
    "#### bnlearn"
   ]
  },
  {
   "cell_type": "markdown",
   "metadata": {},
   "source": [
    "In bnlearn, the default score is **BIC** (Bayesian Information Criterion) for both discrete and continuous data sets"
   ]
  },
  {
   "cell_type": "code",
   "execution_count": 27,
   "metadata": {
    "collapsed": false
   },
   "outputs": [],
   "source": [
    "%%capture bnlearn_hc_bic_time\n",
    "%time %R bn <- hc(states_df);"
   ]
  },
  {
   "cell_type": "code",
   "execution_count": 28,
   "metadata": {
    "collapsed": false
   },
   "outputs": [
    {
     "name": "stdout",
     "output_type": "stream",
     "text": [
      "\n",
      "Error in check.data(x) : \n",
      "  variable Visited.Asian.TB.HRA must have at least two levels.\n",
      "CPU times: user 5.31 ms, sys: 17 us, total: 5.33 ms\n",
      "Wall time: 5.44 ms\n",
      "\n"
     ]
    }
   ],
   "source": [
    "print(bnlearn_hc_bic_time)"
   ]
  },
  {
   "cell_type": "code",
   "execution_count": 29,
   "metadata": {
    "collapsed": false
   },
   "outputs": [
    {
     "name": "stdout",
     "output_type": "stream",
     "text": [
      "\n",
      "Error in match(x, table, nomatch = 0L) : object 'bn' not found\n"
     ]
    }
   ],
   "source": [
    "%R par(mfrow = c(1,1))\n",
    "%R graphviz.plot(bn, shape = \"ellipse\", main = \"Hill-Climbing-BIC\");"
   ]
  },
  {
   "cell_type": "markdown",
   "metadata": {},
   "source": [
    "## Summary of Running Times"
   ]
  },
  {
   "cell_type": "code",
   "execution_count": 30,
   "metadata": {
    "collapsed": false
   },
   "outputs": [
    {
     "name": "stdout",
     "output_type": "stream",
     "text": [
      "-------------Grow-Shrink:\n",
      "QFog: CPU times: user 711 ms, sys: 119 us, total: 711 ms\n",
      "Wall time: 711 ms\n",
      "\n",
      "bnlearn: \n",
      "Error in check.data(x) : \n",
      "  variable Visited.Asian.TB.HRA must have at least two levels.\n",
      "CPU times: user 6.05 ms, sys: 0 ns, total: 6.05 ms\n",
      "Wall time: 6.04 ms\n",
      "\n",
      "-------------IAMB\n",
      "QFog: CPU times: user 616 ms, sys: 123 us, total: 617 ms\n",
      "Wall time: 618 ms\n",
      "\n",
      "bnlearn: \n",
      "Error in check.data(x) : \n",
      "  variable Visited.Asian.TB.HRA must have at least two levels.\n",
      "CPU times: user 5.26 ms, sys: 42 us, total: 5.3 ms\n",
      "Wall time: 5.42 ms\n",
      "\n",
      "-------------Hill Climbing with BIC score:\n",
      "QFog: CPU times: user 6.08 s, sys: 279 us, total: 6.08 s\n",
      "Wall time: 6.08 s\n",
      "\n",
      "bnlearn: \n",
      "Error in check.data(x) : \n",
      "  variable Visited.Asian.TB.HRA must have at least two levels.\n",
      "CPU times: user 5.31 ms, sys: 17 us, total: 5.33 ms\n",
      "Wall time: 5.44 ms\n",
      "\n"
     ]
    }
   ],
   "source": [
    "print(\"-------------Grow-Shrink:\")\n",
    "print(\"QFog:\", qfog_gs_time)\n",
    "print(\"bnlearn:\", bnlearn_gs_time)\n",
    "\n",
    "print(\"-------------IAMB\")\n",
    "print(\"QFog:\", qfog_iamb_time)\n",
    "print(\"bnlearn:\", bnlearn_iamb_time)\n",
    "\n",
    "print(\"-------------Hill Climbing with BIC score:\")\n",
    "print(\"QFog:\", qfog_hc_bic_time)\n",
    "print(\"bnlearn:\", bnlearn_hc_bic_time)"
   ]
  },
  {
   "cell_type": "code",
   "execution_count": 31,
   "metadata": {
    "collapsed": true
   },
   "outputs": [],
   "source": []
  }
 ],
 "metadata": {
  "anaconda-cloud": {},
  "kernelspec": {
   "display_name": "Python 3",
   "language": "python",
   "name": "python3"
  },
  "language_info": {
   "codemirror_mode": {
    "name": "ipython",
    "version": 3
   },
   "file_extension": ".py",
   "mimetype": "text/x-python",
   "name": "python",
   "nbconvert_exporter": "python",
   "pygments_lexer": "ipython3",
   "version": "3.6.0"
  },
  "toc": {
   "colors": {
    "hover_highlight": "#DAA520",
    "running_highlight": "#FF0000",
    "selected_highlight": "#FFD700"
   },
   "moveMenuLeft": true,
   "nav_menu": {
    "height": "210px",
    "width": "252px"
   },
   "navigate_menu": true,
   "number_sections": true,
   "sideBar": false,
   "threshold": "3",
   "toc_cell": true,
   "toc_position": {
    "height": "283px",
    "left": "1px",
    "right": "20px",
    "top": "107px",
    "width": "212px"
   },
   "toc_section_display": "none",
   "toc_window_display": true
  }
 },
 "nbformat": 4,
 "nbformat_minor": 1
}
