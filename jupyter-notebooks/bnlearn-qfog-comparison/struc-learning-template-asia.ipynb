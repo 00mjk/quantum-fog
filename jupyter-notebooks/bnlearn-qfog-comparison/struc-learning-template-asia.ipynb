{
 "cells": [
  {
   "cell_type": "markdown",
   "metadata": {},
   "source": [
    "**Executed:** Mon Feb 20 17:44:27 2017\n",
    "\n",
    "**Duration:** 8 seconds."
   ]
  },
  {
   "cell_type": "code",
   "execution_count": 1,
   "metadata": {
    "collapsed": true
   },
   "outputs": [],
   "source": [
    "# default values of file paths, assuming quantum_fog is working dir\n",
    "in_bif = 'examples_cbnets/earthquake.bif'\n",
    "in_dot = 'examples_cbnets/earthquake.dot'\n",
    "in_csv = 'learning/training_data_c/earthquake.csv'"
   ]
  },
  {
   "cell_type": "code",
   "execution_count": 2,
   "metadata": {},
   "outputs": [],
   "source": [
    "# Cell inserted during automated execution.\n",
    "in_bif = 'examples_cbnets/asia.bif'\n",
    "in_dot = 'examples_cbnets/asia.dot'\n",
    "in_csv = 'learning/training_data_c/tempo.csv'"
   ]
  },
  {
   "cell_type": "code",
   "execution_count": 3,
   "metadata": {
    "collapsed": true
   },
   "outputs": [],
   "source": [
    "learned_dot = 'examples_cbnets/tempo.dot'  # for storing learned network"
   ]
  },
  {
   "cell_type": "markdown",
   "metadata": {},
   "source": [
    "**Structure Learning Template**"
   ]
  },
  {
   "cell_type": "markdown",
   "metadata": {
    "toc": "true"
   },
   "source": [
    "# Table of Contents\n",
    " <p><div class=\"lev1 toc-item\"><a href=\"#True-Network-Structure\" data-toc-modified-id=\"True-Network-Structure-1\"><span class=\"toc-item-num\">1&nbsp;&nbsp;</span>True Network Structure</a></div><div class=\"lev1 toc-item\"><a href=\"#Learned-Network-Structures\" data-toc-modified-id=\"Learned-Network-Structures-2\"><span class=\"toc-item-num\">2&nbsp;&nbsp;</span>Learned Network Structures</a></div><div class=\"lev2 toc-item\"><a href=\"#MB-based-learning\" data-toc-modified-id=\"MB-based-learning-21\"><span class=\"toc-item-num\">2.1&nbsp;&nbsp;</span>MB based learning</a></div><div class=\"lev3 toc-item\"><a href=\"#Grow-Shink\" data-toc-modified-id=\"Grow-Shink-211\"><span class=\"toc-item-num\">2.1.1&nbsp;&nbsp;</span>Grow Shink</a></div><div class=\"lev3 toc-item\"><a href=\"#IAMB\" data-toc-modified-id=\"IAMB-212\"><span class=\"toc-item-num\">2.1.2&nbsp;&nbsp;</span>IAMB</a></div><div class=\"lev2 toc-item\"><a href=\"#Score-based-learning\" data-toc-modified-id=\"Score-based-learning-22\"><span class=\"toc-item-num\">2.2&nbsp;&nbsp;</span>Score based learning</a></div><div class=\"lev3 toc-item\"><a href=\"#Hiil-Climbing-with-BIC-score\" data-toc-modified-id=\"Hiil-Climbing-with-BIC-score-221\"><span class=\"toc-item-num\">2.2.1&nbsp;&nbsp;</span>Hiil Climbing with BIC score</a></div><div class=\"lev2 toc-item\"><a href=\"#Summary-of-Running-Times\" data-toc-modified-id=\"Summary-of-Running-Times-23\"><span class=\"toc-item-num\">2.3&nbsp;&nbsp;</span>Summary of Running Times</a></div>"
   ]
  },
  {
   "cell_type": "code",
   "execution_count": 4,
   "metadata": {
    "collapsed": false
   },
   "outputs": [],
   "source": [
    "import pandas as pd\n",
    "import numpy as np\n",
    "from graphviz import Source\n",
    "\n",
    "import warnings\n",
    "warnings.filterwarnings(\"ignore\", module=\"rpy2\")\n",
    "\n",
    "import rpy2\n",
    "%load_ext rpy2.ipython\n",
    "%R library(\"bnlearn\");\n",
    "%R library(\"Rgraphviz\");"
   ]
  },
  {
   "cell_type": "code",
   "execution_count": 5,
   "metadata": {
    "collapsed": true
   },
   "outputs": [],
   "source": [
    "# make this the absolute path of quantum-fog folder\n",
    "qfog_path = '/home/jupyter/Notebooks/quantum-fog'"
   ]
  },
  {
   "cell_type": "code",
   "execution_count": 6,
   "metadata": {
    "collapsed": true
   },
   "outputs": [],
   "source": [
    "import os\n",
    "import sys\n",
    "if qfog_path != os.getcwd():\n",
    "    os.chdir('../../')\n",
    "    sys.path.insert(0,os.getcwd())\n",
    "from learning.NaiveBayesLner import *\n",
    "from learning.MB_GrowShrinkLner import *\n",
    "from learning.MB_IAMB_Lner import *\n",
    "from learning.HillClimbingLner import *"
   ]
  },
  {
   "cell_type": "markdown",
   "metadata": {},
   "source": [
    "Read in_csv, create Pandas Dataframe with it, push dataframe into R"
   ]
  },
  {
   "cell_type": "code",
   "execution_count": 7,
   "metadata": {
    "collapsed": false
   },
   "outputs": [
    {
     "data": {
      "text/html": [
       "<div>\n",
       "<table border=\"1\" class=\"dataframe\">\n",
       "  <thead>\n",
       "    <tr style=\"text-align: right;\">\n",
       "      <th></th>\n",
       "      <th>Smoke</th>\n",
       "      <th>Bronchitis</th>\n",
       "      <th>Lung-Cancer</th>\n",
       "      <th>Visited-Asian-TB-HRA</th>\n",
       "      <th>Tuberculosis</th>\n",
       "      <th>Either</th>\n",
       "      <th>X-Ray</th>\n",
       "      <th>Dyspnea</th>\n",
       "    </tr>\n",
       "  </thead>\n",
       "  <tbody>\n",
       "    <tr>\n",
       "      <th>0</th>\n",
       "      <td>0</td>\n",
       "      <td>0</td>\n",
       "      <td>1</td>\n",
       "      <td>1</td>\n",
       "      <td>1</td>\n",
       "      <td>1</td>\n",
       "      <td>1</td>\n",
       "      <td>0</td>\n",
       "    </tr>\n",
       "    <tr>\n",
       "      <th>1</th>\n",
       "      <td>0</td>\n",
       "      <td>1</td>\n",
       "      <td>1</td>\n",
       "      <td>1</td>\n",
       "      <td>1</td>\n",
       "      <td>1</td>\n",
       "      <td>1</td>\n",
       "      <td>1</td>\n",
       "    </tr>\n",
       "    <tr>\n",
       "      <th>2</th>\n",
       "      <td>1</td>\n",
       "      <td>1</td>\n",
       "      <td>1</td>\n",
       "      <td>1</td>\n",
       "      <td>1</td>\n",
       "      <td>1</td>\n",
       "      <td>1</td>\n",
       "      <td>1</td>\n",
       "    </tr>\n",
       "    <tr>\n",
       "      <th>3</th>\n",
       "      <td>0</td>\n",
       "      <td>0</td>\n",
       "      <td>1</td>\n",
       "      <td>1</td>\n",
       "      <td>1</td>\n",
       "      <td>1</td>\n",
       "      <td>1</td>\n",
       "      <td>0</td>\n",
       "    </tr>\n",
       "    <tr>\n",
       "      <th>4</th>\n",
       "      <td>1</td>\n",
       "      <td>1</td>\n",
       "      <td>1</td>\n",
       "      <td>1</td>\n",
       "      <td>1</td>\n",
       "      <td>1</td>\n",
       "      <td>1</td>\n",
       "      <td>1</td>\n",
       "    </tr>\n",
       "  </tbody>\n",
       "</table>\n",
       "</div>"
      ],
      "text/plain": [
       "   Smoke  Bronchitis  Lung-Cancer  Visited-Asian-TB-HRA  Tuberculosis  Either  \\\n",
       "0      0           0            1                     1             1       1   \n",
       "1      0           1            1                     1             1       1   \n",
       "2      1           1            1                     1             1       1   \n",
       "3      0           0            1                     1             1       1   \n",
       "4      1           1            1                     1             1       1   \n",
       "\n",
       "   X-Ray  Dyspnea  \n",
       "0      1        0  \n",
       "1      1        1  \n",
       "2      1        1  \n",
       "3      1        0  \n",
       "4      1        1  "
      ]
     },
     "execution_count": 7,
     "metadata": {},
     "output_type": "execute_result"
    }
   ],
   "source": [
    "states_df = pd.read_csv(in_csv)\n",
    "states_df.head()"
   ]
  },
  {
   "cell_type": "code",
   "execution_count": 8,
   "metadata": {
    "collapsed": false
   },
   "outputs": [
    {
     "data": {
      "text/html": [
       "<div>\n",
       "<table border=\"1\" class=\"dataframe\">\n",
       "  <thead>\n",
       "    <tr style=\"text-align: right;\">\n",
       "      <th></th>\n",
       "      <th>Smoke</th>\n",
       "      <th>Bronchitis</th>\n",
       "      <th>Lung-Cancer</th>\n",
       "      <th>Visited-Asian-TB-HRA</th>\n",
       "      <th>Tuberculosis</th>\n",
       "      <th>Either</th>\n",
       "      <th>X-Ray</th>\n",
       "      <th>Dyspnea</th>\n",
       "    </tr>\n",
       "  </thead>\n",
       "  <tbody>\n",
       "    <tr>\n",
       "      <th>1995</th>\n",
       "      <td>0</td>\n",
       "      <td>0</td>\n",
       "      <td>1</td>\n",
       "      <td>1</td>\n",
       "      <td>1</td>\n",
       "      <td>1</td>\n",
       "      <td>1</td>\n",
       "      <td>0</td>\n",
       "    </tr>\n",
       "    <tr>\n",
       "      <th>1996</th>\n",
       "      <td>0</td>\n",
       "      <td>0</td>\n",
       "      <td>0</td>\n",
       "      <td>1</td>\n",
       "      <td>1</td>\n",
       "      <td>0</td>\n",
       "      <td>0</td>\n",
       "      <td>0</td>\n",
       "    </tr>\n",
       "    <tr>\n",
       "      <th>1997</th>\n",
       "      <td>0</td>\n",
       "      <td>1</td>\n",
       "      <td>1</td>\n",
       "      <td>1</td>\n",
       "      <td>1</td>\n",
       "      <td>1</td>\n",
       "      <td>0</td>\n",
       "      <td>1</td>\n",
       "    </tr>\n",
       "    <tr>\n",
       "      <th>1998</th>\n",
       "      <td>1</td>\n",
       "      <td>1</td>\n",
       "      <td>1</td>\n",
       "      <td>1</td>\n",
       "      <td>1</td>\n",
       "      <td>1</td>\n",
       "      <td>1</td>\n",
       "      <td>1</td>\n",
       "    </tr>\n",
       "    <tr>\n",
       "      <th>1999</th>\n",
       "      <td>0</td>\n",
       "      <td>1</td>\n",
       "      <td>1</td>\n",
       "      <td>1</td>\n",
       "      <td>1</td>\n",
       "      <td>1</td>\n",
       "      <td>1</td>\n",
       "      <td>1</td>\n",
       "    </tr>\n",
       "  </tbody>\n",
       "</table>\n",
       "</div>"
      ],
      "text/plain": [
       "      Smoke  Bronchitis  Lung-Cancer  Visited-Asian-TB-HRA  Tuberculosis  \\\n",
       "1995      0           0            1                     1             1   \n",
       "1996      0           0            0                     1             1   \n",
       "1997      0           1            1                     1             1   \n",
       "1998      1           1            1                     1             1   \n",
       "1999      0           1            1                     1             1   \n",
       "\n",
       "      Either  X-Ray  Dyspnea  \n",
       "1995       1      1        0  \n",
       "1996       0      0        0  \n",
       "1997       1      0        1  \n",
       "1998       1      1        1  \n",
       "1999       1      1        1  "
      ]
     },
     "execution_count": 8,
     "metadata": {},
     "output_type": "execute_result"
    }
   ],
   "source": [
    "states_df.tail()"
   ]
  },
  {
   "cell_type": "code",
   "execution_count": 9,
   "metadata": {
    "collapsed": false
   },
   "outputs": [
    {
     "data": {
      "text/plain": [
       "'data.frame':\t2000 obs. of  8 variables:\n",
       " $ Smoke               : int  0 0 1 0 1 0 0 0 1 1 ...\n",
       " $ Bronchitis          : int  0 1 1 0 1 0 1 0 0 1 ...\n",
       " $ Lung.Cancer         : int  1 1 1 1 1 1 1 1 1 1 ...\n",
       " $ Visited.Asian.TB.HRA: int  1 1 1 1 1 1 1 1 1 1 ...\n",
       " $ Tuberculosis        : int  1 1 1 1 1 1 1 1 1 1 ...\n",
       " $ Either              : int  1 1 1 1 1 1 1 1 1 1 ...\n",
       " $ X.Ray               : int  1 1 1 1 1 1 1 1 1 1 ...\n",
       " $ Dyspnea             : int  0 1 1 0 1 0 1 0 0 1 ...\n"
      ]
     },
     "metadata": {},
     "output_type": "display_data"
    }
   ],
   "source": [
    "%Rpush states_df\n",
    "%R str(states_df)"
   ]
  },
  {
   "cell_type": "markdown",
   "metadata": {},
   "source": [
    "For bnlearn, data.frame columns cannot be int type, must be changed to factor.\n",
    "data.frame is a list so can use lapply"
   ]
  },
  {
   "cell_type": "code",
   "execution_count": 10,
   "metadata": {
    "collapsed": false
   },
   "outputs": [
    {
     "data": {
      "text/plain": [
       "'data.frame':\t2000 obs. of  8 variables:\n",
       " $ Smoke               : Factor w/ 2 levels \"0\",\"1\": 1 1 2 1 2 1 1 1 2 2 ...\n",
       " $ Bronchitis          : Factor w/ 2 levels \"0\",\"1\": 1 2 2 1 2 1 2 1 1 2 ...\n",
       " $ Lung.Cancer         : Factor w/ 2 levels \"0\",\"1\": 2 2 2 2 2 2 2 2 2 2 ...\n",
       " $ Visited.Asian.TB.HRA: Factor w/ 2 levels \"0\",\"1\": 2 2 2 2 2 2 2 2 2 2 ...\n",
       " $ Tuberculosis        : Factor w/ 2 levels \"0\",\"1\": 2 2 2 2 2 2 2 2 2 2 ...\n",
       " $ Either              : Factor w/ 2 levels \"0\",\"1\": 2 2 2 2 2 2 2 2 2 2 ...\n",
       " $ X.Ray               : Factor w/ 2 levels \"0\",\"1\": 2 2 2 2 2 2 2 2 2 2 ...\n",
       " $ Dyspnea             : Factor w/ 2 levels \"0\",\"1\": 1 2 2 1 2 1 2 1 1 2 ...\n"
      ]
     },
     "metadata": {},
     "output_type": "display_data"
    }
   ],
   "source": [
    "%R states_df[] <- lapply(states_df, factor)\n",
    "%R str(states_df)"
   ]
  },
  {
   "cell_type": "markdown",
   "metadata": {},
   "source": [
    "# True Network Structure"
   ]
  },
  {
   "cell_type": "code",
   "execution_count": 11,
   "metadata": {
    "collapsed": false
   },
   "outputs": [
    {
     "data": {
      "image/svg+xml": [
       "<?xml version=\"1.0\" encoding=\"UTF-8\" standalone=\"no\"?>\n",
       "<!DOCTYPE svg PUBLIC \"-//W3C//DTD SVG 1.1//EN\"\n",
       " \"http://www.w3.org/Graphics/SVG/1.1/DTD/svg11.dtd\">\n",
       "<!-- Generated by graphviz version 2.38.0 (20140413.2041)\n",
       " -->\n",
       "<!-- Pages: 1 -->\n",
       "<svg width=\"366pt\" height=\"260pt\"\n",
       " viewBox=\"0.00 0.00 366.34 260.00\" xmlns=\"http://www.w3.org/2000/svg\" xmlns:xlink=\"http://www.w3.org/1999/xlink\">\n",
       "<g id=\"graph0\" class=\"graph\" transform=\"scale(1 1) rotate(0) translate(4 256)\">\n",
       "<polygon fill=\"white\" stroke=\"none\" points=\"-4,4 -4,-256 362.337,-256 362.337,4 -4,4\"/>\n",
       "<!-- Visited&#45;Asian&#45;TB&#45;HRA -->\n",
       "<g id=\"node1\" class=\"node\"><title>Visited&#45;Asian&#45;TB&#45;HRA</title>\n",
       "<ellipse fill=\"none\" stroke=\"black\" cx=\"94.8916\" cy=\"-234\" rx=\"94.7833\" ry=\"18\"/>\n",
       "<text text-anchor=\"middle\" x=\"94.8916\" y=\"-230.3\" font-family=\"Times,serif\" font-size=\"14.00\">Visited&#45;Asian&#45;TB&#45;HRA</text>\n",
       "</g>\n",
       "<!-- Tuberculosis -->\n",
       "<g id=\"node6\" class=\"node\"><title>Tuberculosis</title>\n",
       "<ellipse fill=\"none\" stroke=\"black\" cx=\"94.8916\" cy=\"-162\" rx=\"55.7903\" ry=\"18\"/>\n",
       "<text text-anchor=\"middle\" x=\"94.8916\" y=\"-158.3\" font-family=\"Times,serif\" font-size=\"14.00\">Tuberculosis</text>\n",
       "</g>\n",
       "<!-- Visited&#45;Asian&#45;TB&#45;HRA&#45;&gt;Tuberculosis -->\n",
       "<g id=\"edge1\" class=\"edge\"><title>Visited&#45;Asian&#45;TB&#45;HRA&#45;&gt;Tuberculosis</title>\n",
       "<path fill=\"none\" stroke=\"black\" d=\"M94.8916,-215.697C94.8916,-207.983 94.8916,-198.712 94.8916,-190.112\"/>\n",
       "<polygon fill=\"black\" stroke=\"black\" points=\"98.3917,-190.104 94.8916,-180.104 91.3917,-190.104 98.3917,-190.104\"/>\n",
       "</g>\n",
       "<!-- Smoke -->\n",
       "<g id=\"node2\" class=\"node\"><title>Smoke</title>\n",
       "<ellipse fill=\"none\" stroke=\"black\" cx=\"276.892\" cy=\"-234\" rx=\"35.9954\" ry=\"18\"/>\n",
       "<text text-anchor=\"middle\" x=\"276.892\" y=\"-230.3\" font-family=\"Times,serif\" font-size=\"14.00\">Smoke</text>\n",
       "</g>\n",
       "<!-- Bronchitis -->\n",
       "<g id=\"node4\" class=\"node\"><title>Bronchitis</title>\n",
       "<ellipse fill=\"none\" stroke=\"black\" cx=\"310.892\" cy=\"-90\" rx=\"47.3916\" ry=\"18\"/>\n",
       "<text text-anchor=\"middle\" x=\"310.892\" y=\"-86.3\" font-family=\"Times,serif\" font-size=\"14.00\">Bronchitis</text>\n",
       "</g>\n",
       "<!-- Smoke&#45;&gt;Bronchitis -->\n",
       "<g id=\"edge3\" class=\"edge\"><title>Smoke&#45;&gt;Bronchitis</title>\n",
       "<path fill=\"none\" stroke=\"black\" d=\"M282.041,-215.89C285.078,-205.545 288.9,-192.066 291.892,-180 296.993,-159.427 301.966,-135.975 305.543,-118.311\"/>\n",
       "<polygon fill=\"black\" stroke=\"black\" points=\"309.049,-118.631 307.579,-108.138 302.185,-117.257 309.049,-118.631\"/>\n",
       "</g>\n",
       "<!-- Lung&#45;Cancer -->\n",
       "<g id=\"node5\" class=\"node\"><title>Lung&#45;Cancer</title>\n",
       "<ellipse fill=\"none\" stroke=\"black\" cx=\"225.892\" cy=\"-162\" rx=\"57.3905\" ry=\"18\"/>\n",
       "<text text-anchor=\"middle\" x=\"225.892\" y=\"-158.3\" font-family=\"Times,serif\" font-size=\"14.00\">Lung&#45;Cancer</text>\n",
       "</g>\n",
       "<!-- Smoke&#45;&gt;Lung&#45;Cancer -->\n",
       "<g id=\"edge2\" class=\"edge\"><title>Smoke&#45;&gt;Lung&#45;Cancer</title>\n",
       "<path fill=\"none\" stroke=\"black\" d=\"M265.063,-216.765C258.782,-208.143 250.929,-197.365 243.907,-187.727\"/>\n",
       "<polygon fill=\"black\" stroke=\"black\" points=\"246.728,-185.655 238.01,-179.633 241.07,-189.777 246.728,-185.655\"/>\n",
       "</g>\n",
       "<!-- Dyspnea -->\n",
       "<g id=\"node3\" class=\"node\"><title>Dyspnea</title>\n",
       "<ellipse fill=\"none\" stroke=\"black\" cx=\"308.892\" cy=\"-18\" rx=\"41.6928\" ry=\"18\"/>\n",
       "<text text-anchor=\"middle\" x=\"308.892\" y=\"-14.3\" font-family=\"Times,serif\" font-size=\"14.00\">Dyspnea</text>\n",
       "</g>\n",
       "<!-- Bronchitis&#45;&gt;Dyspnea -->\n",
       "<g id=\"edge4\" class=\"edge\"><title>Bronchitis&#45;&gt;Dyspnea</title>\n",
       "<path fill=\"none\" stroke=\"black\" d=\"M310.397,-71.6966C310.177,-63.9827 309.912,-54.7125 309.666,-46.1124\"/>\n",
       "<polygon fill=\"black\" stroke=\"black\" points=\"313.165,-46.0003 309.38,-36.1043 306.167,-46.2002 313.165,-46.0003\"/>\n",
       "</g>\n",
       "<!-- Either -->\n",
       "<g id=\"node7\" class=\"node\"><title>Either</title>\n",
       "<ellipse fill=\"none\" stroke=\"black\" cx=\"212.892\" cy=\"-90\" rx=\"32.4942\" ry=\"18\"/>\n",
       "<text text-anchor=\"middle\" x=\"212.892\" y=\"-86.3\" font-family=\"Times,serif\" font-size=\"14.00\">Either</text>\n",
       "</g>\n",
       "<!-- Lung&#45;Cancer&#45;&gt;Either -->\n",
       "<g id=\"edge5\" class=\"edge\"><title>Lung&#45;Cancer&#45;&gt;Either</title>\n",
       "<path fill=\"none\" stroke=\"black\" d=\"M222.678,-143.697C221.246,-135.983 219.524,-126.712 217.927,-118.112\"/>\n",
       "<polygon fill=\"black\" stroke=\"black\" points=\"221.335,-117.297 216.068,-108.104 214.453,-118.575 221.335,-117.297\"/>\n",
       "</g>\n",
       "<!-- Tuberculosis&#45;&gt;Either -->\n",
       "<g id=\"edge6\" class=\"edge\"><title>Tuberculosis&#45;&gt;Either</title>\n",
       "<path fill=\"none\" stroke=\"black\" d=\"M120.496,-145.811C138.753,-134.981 163.371,-120.377 182.605,-108.967\"/>\n",
       "<polygon fill=\"black\" stroke=\"black\" points=\"184.477,-111.926 191.291,-103.814 180.905,-105.905 184.477,-111.926\"/>\n",
       "</g>\n",
       "<!-- Either&#45;&gt;Dyspnea -->\n",
       "<g id=\"edge7\" class=\"edge\"><title>Either&#45;&gt;Dyspnea</title>\n",
       "<path fill=\"none\" stroke=\"black\" d=\"M231.858,-75.1703C245.69,-65.0847 264.673,-51.2425 280.334,-39.8232\"/>\n",
       "<polygon fill=\"black\" stroke=\"black\" points=\"282.621,-42.4875 288.639,-33.7677 278.497,-36.8314 282.621,-42.4875\"/>\n",
       "</g>\n",
       "<!-- X&#45;Ray -->\n",
       "<g id=\"node8\" class=\"node\"><title>X&#45;Ray</title>\n",
       "<ellipse fill=\"none\" stroke=\"black\" cx=\"212.892\" cy=\"-18\" rx=\"34.394\" ry=\"18\"/>\n",
       "<text text-anchor=\"middle\" x=\"212.892\" y=\"-14.3\" font-family=\"Times,serif\" font-size=\"14.00\">X&#45;Ray</text>\n",
       "</g>\n",
       "<!-- Either&#45;&gt;X&#45;Ray -->\n",
       "<g id=\"edge8\" class=\"edge\"><title>Either&#45;&gt;X&#45;Ray</title>\n",
       "<path fill=\"none\" stroke=\"black\" d=\"M212.892,-71.6966C212.892,-63.9827 212.892,-54.7125 212.892,-46.1124\"/>\n",
       "<polygon fill=\"black\" stroke=\"black\" points=\"216.392,-46.1043 212.892,-36.1043 209.392,-46.1044 216.392,-46.1043\"/>\n",
       "</g>\n",
       "</g>\n",
       "</svg>\n"
      ],
      "text/plain": [
       "<graphviz.files.Source at 0x7f19d5fe6f60>"
      ]
     },
     "execution_count": 11,
     "metadata": {},
     "output_type": "execute_result"
    }
   ],
   "source": [
    "Source(open(in_dot).read())"
   ]
  },
  {
   "cell_type": "markdown",
   "metadata": {},
   "source": [
    "# Learned Network Structures\n",
    "## MB based learning\n",
    "### Grow Shink\n",
    "#### Qfog"
   ]
  },
  {
   "cell_type": "code",
   "execution_count": 12,
   "metadata": {
    "collapsed": false
   },
   "outputs": [],
   "source": [
    "%%capture qfog_gs_time\n",
    "alpha = 8/len(states_df.index)\n",
    "%time lnr = MB_GrowShrinkLner(states_df, alpha, verbose=False)"
   ]
  },
  {
   "cell_type": "code",
   "execution_count": 13,
   "metadata": {
    "collapsed": false
   },
   "outputs": [
    {
     "name": "stdout",
     "output_type": "stream",
     "text": [
      "CPU times: user 1.44 s, sys: 12.3 ms, total: 1.45 s\n",
      "Wall time: 1.45 s\n",
      "\n"
     ]
    }
   ],
   "source": [
    "print(qfog_gs_time)"
   ]
  },
  {
   "cell_type": "code",
   "execution_count": 14,
   "metadata": {
    "collapsed": true
   },
   "outputs": [],
   "source": [
    "lnr.bnet.write_dot(learned_dot) # write BNet to .dot file"
   ]
  },
  {
   "cell_type": "code",
   "execution_count": 15,
   "metadata": {
    "collapsed": false
   },
   "outputs": [
    {
     "data": {
      "image/svg+xml": [
       "<?xml version=\"1.0\" encoding=\"UTF-8\" standalone=\"no\"?>\n",
       "<!DOCTYPE svg PUBLIC \"-//W3C//DTD SVG 1.1//EN\"\n",
       " \"http://www.w3.org/Graphics/SVG/1.1/DTD/svg11.dtd\">\n",
       "<!-- Generated by graphviz version 2.38.0 (20140413.2041)\n",
       " -->\n",
       "<!-- Pages: 1 -->\n",
       "<svg width=\"435pt\" height=\"188pt\"\n",
       " viewBox=\"0.00 0.00 435.09 188.00\" xmlns=\"http://www.w3.org/2000/svg\" xmlns:xlink=\"http://www.w3.org/1999/xlink\">\n",
       "<g id=\"graph0\" class=\"graph\" transform=\"scale(1 1) rotate(0) translate(4 184)\">\n",
       "<polygon fill=\"white\" stroke=\"none\" points=\"-4,4 -4,-184 431.087,-184 431.087,4 -4,4\"/>\n",
       "<!-- Bronchitis -->\n",
       "<g id=\"node1\" class=\"node\"><title>Bronchitis</title>\n",
       "<ellipse fill=\"none\" stroke=\"black\" cx=\"309.195\" cy=\"-90\" rx=\"47.3916\" ry=\"18\"/>\n",
       "<text text-anchor=\"middle\" x=\"309.195\" y=\"-86.3\" font-family=\"Times,serif\" font-size=\"14.00\">Bronchitis</text>\n",
       "</g>\n",
       "<!-- Dyspnea -->\n",
       "<g id=\"node2\" class=\"node\"><title>Dyspnea</title>\n",
       "<ellipse fill=\"none\" stroke=\"black\" cx=\"309.195\" cy=\"-18\" rx=\"41.6928\" ry=\"18\"/>\n",
       "<text text-anchor=\"middle\" x=\"309.195\" y=\"-14.3\" font-family=\"Times,serif\" font-size=\"14.00\">Dyspnea</text>\n",
       "</g>\n",
       "<!-- Bronchitis&#45;&gt;Dyspnea -->\n",
       "<g id=\"edge1\" class=\"edge\"><title>Bronchitis&#45;&gt;Dyspnea</title>\n",
       "<path fill=\"none\" stroke=\"black\" d=\"M309.195,-71.6966C309.195,-63.9827 309.195,-54.7125 309.195,-46.1124\"/>\n",
       "<polygon fill=\"black\" stroke=\"black\" points=\"312.695,-46.1043 309.195,-36.1043 305.695,-46.1044 312.695,-46.1043\"/>\n",
       "</g>\n",
       "<!-- Smoke -->\n",
       "<g id=\"node3\" class=\"node\"><title>Smoke</title>\n",
       "<ellipse fill=\"none\" stroke=\"black\" cx=\"183.195\" cy=\"-162\" rx=\"35.9954\" ry=\"18\"/>\n",
       "<text text-anchor=\"middle\" x=\"183.195\" y=\"-158.3\" font-family=\"Times,serif\" font-size=\"14.00\">Smoke</text>\n",
       "</g>\n",
       "<!-- Smoke&#45;&gt;Bronchitis -->\n",
       "<g id=\"edge3\" class=\"edge\"><title>Smoke&#45;&gt;Bronchitis</title>\n",
       "<path fill=\"none\" stroke=\"black\" d=\"M206.305,-148.161C225.452,-137.524 252.949,-122.248 274.701,-110.163\"/>\n",
       "<polygon fill=\"black\" stroke=\"black\" points=\"276.589,-113.118 283.631,-105.202 273.189,-106.999 276.589,-113.118\"/>\n",
       "</g>\n",
       "<!-- Lung&#45;Cancer -->\n",
       "<g id=\"node4\" class=\"node\"><title>Lung&#45;Cancer</title>\n",
       "<ellipse fill=\"none\" stroke=\"black\" cx=\"57.1949\" cy=\"-90\" rx=\"57.3905\" ry=\"18\"/>\n",
       "<text text-anchor=\"middle\" x=\"57.1949\" y=\"-86.3\" font-family=\"Times,serif\" font-size=\"14.00\">Lung&#45;Cancer</text>\n",
       "</g>\n",
       "<!-- Smoke&#45;&gt;Lung&#45;Cancer -->\n",
       "<g id=\"edge2\" class=\"edge\"><title>Smoke&#45;&gt;Lung&#45;Cancer</title>\n",
       "<path fill=\"none\" stroke=\"black\" d=\"M160.085,-148.161C141.311,-137.731 114.509,-122.841 92.9664,-110.873\"/>\n",
       "<polygon fill=\"black\" stroke=\"black\" points=\"94.536,-107.741 84.0947,-105.944 91.1365,-113.86 94.536,-107.741\"/>\n",
       "</g>\n",
       "<!-- Either -->\n",
       "<g id=\"node6\" class=\"node\"><title>Either</title>\n",
       "<ellipse fill=\"none\" stroke=\"black\" cx=\"68.1949\" cy=\"-18\" rx=\"32.4942\" ry=\"18\"/>\n",
       "<text text-anchor=\"middle\" x=\"68.1949\" y=\"-14.3\" font-family=\"Times,serif\" font-size=\"14.00\">Either</text>\n",
       "</g>\n",
       "<!-- Lung&#45;Cancer&#45;&gt;Either -->\n",
       "<g id=\"edge4\" class=\"edge\"><title>Lung&#45;Cancer&#45;&gt;Either</title>\n",
       "<path fill=\"none\" stroke=\"black\" d=\"M59.914,-71.6966C61.1262,-63.9827 62.583,-54.7125 63.9344,-46.1124\"/>\n",
       "<polygon fill=\"black\" stroke=\"black\" points=\"67.4122,-46.5265 65.5071,-36.1043 60.4971,-45.4397 67.4122,-46.5265\"/>\n",
       "</g>\n",
       "<!-- X&#45;Ray -->\n",
       "<g id=\"node7\" class=\"node\"><title>X&#45;Ray</title>\n",
       "<ellipse fill=\"none\" stroke=\"black\" cx=\"176.195\" cy=\"-18\" rx=\"34.394\" ry=\"18\"/>\n",
       "<text text-anchor=\"middle\" x=\"176.195\" y=\"-14.3\" font-family=\"Times,serif\" font-size=\"14.00\">X&#45;Ray</text>\n",
       "</g>\n",
       "<!-- Lung&#45;Cancer&#45;&gt;X&#45;Ray -->\n",
       "<g id=\"edge5\" class=\"edge\"><title>Lung&#45;Cancer&#45;&gt;X&#45;Ray</title>\n",
       "<path fill=\"none\" stroke=\"black\" d=\"M83.0162,-73.811C101.31,-63.0501 125.936,-48.5638 145.278,-37.1865\"/>\n",
       "<polygon fill=\"black\" stroke=\"black\" points=\"147.179,-40.1291 154.023,-32.0421 143.629,-34.0956 147.179,-40.1291\"/>\n",
       "</g>\n",
       "<!-- Visited&#45;Asian&#45;TB&#45;HRA -->\n",
       "<g id=\"node5\" class=\"node\"><title>Visited&#45;Asian&#45;TB&#45;HRA</title>\n",
       "<ellipse fill=\"none\" stroke=\"black\" cx=\"332.195\" cy=\"-162\" rx=\"94.7833\" ry=\"18\"/>\n",
       "<text text-anchor=\"middle\" x=\"332.195\" y=\"-158.3\" font-family=\"Times,serif\" font-size=\"14.00\">Visited&#45;Asian&#45;TB&#45;HRA</text>\n",
       "</g>\n",
       "<!-- Tuberculosis -->\n",
       "<g id=\"node8\" class=\"node\"><title>Tuberculosis</title>\n",
       "<ellipse fill=\"none\" stroke=\"black\" cx=\"188.195\" cy=\"-90\" rx=\"55.7903\" ry=\"18\"/>\n",
       "<text text-anchor=\"middle\" x=\"188.195\" y=\"-86.3\" font-family=\"Times,serif\" font-size=\"14.00\">Tuberculosis</text>\n",
       "</g>\n",
       "<!-- Tuberculosis&#45;&gt;Either -->\n",
       "<g id=\"edge6\" class=\"edge\"><title>Tuberculosis&#45;&gt;Either</title>\n",
       "<path fill=\"none\" stroke=\"black\" d=\"M162.452,-73.9832C143.784,-63.0937 118.463,-48.3229 98.7657,-36.8329\"/>\n",
       "<polygon fill=\"black\" stroke=\"black\" points=\"100.281,-33.6648 89.8793,-31.6492 96.7536,-39.7112 100.281,-33.6648\"/>\n",
       "</g>\n",
       "<!-- Tuberculosis&#45;&gt;X&#45;Ray -->\n",
       "<g id=\"edge7\" class=\"edge\"><title>Tuberculosis&#45;&gt;X&#45;Ray</title>\n",
       "<path fill=\"none\" stroke=\"black\" d=\"M185.229,-71.6966C183.906,-63.9827 182.317,-54.7125 180.843,-46.1124\"/>\n",
       "<polygon fill=\"black\" stroke=\"black\" points=\"184.266,-45.3692 179.127,-36.1043 177.367,-46.552 184.266,-45.3692\"/>\n",
       "</g>\n",
       "</g>\n",
       "</svg>\n"
      ],
      "text/plain": [
       "<graphviz.files.Source at 0x7f199d5b27f0>"
      ]
     },
     "execution_count": 15,
     "metadata": {},
     "output_type": "execute_result"
    }
   ],
   "source": [
    "Source(open(learned_dot).read())"
   ]
  },
  {
   "cell_type": "markdown",
   "metadata": {},
   "source": [
    "#### bnlearn"
   ]
  },
  {
   "cell_type": "code",
   "execution_count": 16,
   "metadata": {
    "collapsed": false,
    "scrolled": false
   },
   "outputs": [],
   "source": [
    "%%capture bnlearn_gs_time\n",
    "%time %R bn <- gs(states_df);"
   ]
  },
  {
   "cell_type": "code",
   "execution_count": 17,
   "metadata": {
    "collapsed": false
   },
   "outputs": [
    {
     "name": "stdout",
     "output_type": "stream",
     "text": [
      "CPU times: user 29.3 ms, sys: 8.03 ms, total: 37.3 ms\n",
      "Wall time: 37.5 ms\n",
      "\n"
     ]
    }
   ],
   "source": [
    "print(bnlearn_gs_time)"
   ]
  },
  {
   "cell_type": "code",
   "execution_count": 18,
   "metadata": {
    "collapsed": false
   },
   "outputs": [
    {
     "data": {
      "image/png": "[encoded data removed]"
     },
     "metadata": {},
     "output_type": "display_data"
    }
   ],
   "source": [
    "%R par(mfrow = c(1,1))\n",
    "%R graphviz.plot(bn, shape = \"ellipse\", main = \"Grow-Shrink (GS)\");"
   ]
  },
  {
   "cell_type": "markdown",
   "metadata": {},
   "source": [
    "### IAMB\n",
    "#### QFog"
   ]
  },
  {
   "cell_type": "code",
   "execution_count": 19,
   "metadata": {
    "collapsed": false,
    "scrolled": false
   },
   "outputs": [],
   "source": [
    "%%capture qfog_iamb_time\n",
    "alpha = 8/len(states_df.index)\n",
    "%time lnr = MB_IAMB_Lner(states_df, alpha, verbose=False)"
   ]
  },
  {
   "cell_type": "code",
   "execution_count": 20,
   "metadata": {
    "collapsed": false
   },
   "outputs": [
    {
     "name": "stdout",
     "output_type": "stream",
     "text": [
      "CPU times: user 1.31 s, sys: 12 us, total: 1.31 s\n",
      "Wall time: 1.31 s\n",
      "\n"
     ]
    }
   ],
   "source": [
    "print(qfog_iamb_time)"
   ]
  },
  {
   "cell_type": "code",
   "execution_count": 21,
   "metadata": {
    "collapsed": true
   },
   "outputs": [],
   "source": [
    "lnr.bnet.write_dot(learned_dot) # write BNet to .dot file"
   ]
  },
  {
   "cell_type": "code",
   "execution_count": 22,
   "metadata": {
    "collapsed": false
   },
   "outputs": [
    {
     "data": {
      "image/svg+xml": [
       "<?xml version=\"1.0\" encoding=\"UTF-8\" standalone=\"no\"?>\n",
       "<!DOCTYPE svg PUBLIC \"-//W3C//DTD SVG 1.1//EN\"\n",
       " \"http://www.w3.org/Graphics/SVG/1.1/DTD/svg11.dtd\">\n",
       "<!-- Generated by graphviz version 2.38.0 (20140413.2041)\n",
       " -->\n",
       "<!-- Pages: 1 -->\n",
       "<svg width=\"416pt\" height=\"260pt\"\n",
       " viewBox=\"0.00 0.00 416.09 260.00\" xmlns=\"http://www.w3.org/2000/svg\" xmlns:xlink=\"http://www.w3.org/1999/xlink\">\n",
       "<g id=\"graph0\" class=\"graph\" transform=\"scale(1 1) rotate(0) translate(4 256)\">\n",
       "<polygon fill=\"white\" stroke=\"none\" points=\"-4,4 -4,-256 412.087,-256 412.087,4 -4,4\"/>\n",
       "<!-- Lung&#45;Cancer -->\n",
       "<g id=\"node1\" class=\"node\"><title>Lung&#45;Cancer</title>\n",
       "<ellipse fill=\"none\" stroke=\"black\" cx=\"57.1949\" cy=\"-162\" rx=\"57.3905\" ry=\"18\"/>\n",
       "<text text-anchor=\"middle\" x=\"57.1949\" y=\"-158.3\" font-family=\"Times,serif\" font-size=\"14.00\">Lung&#45;Cancer</text>\n",
       "</g>\n",
       "<!-- Either -->\n",
       "<g id=\"node2\" class=\"node\"><title>Either</title>\n",
       "<ellipse fill=\"none\" stroke=\"black\" cx=\"174.195\" cy=\"-90\" rx=\"32.4942\" ry=\"18\"/>\n",
       "<text text-anchor=\"middle\" x=\"174.195\" y=\"-86.3\" font-family=\"Times,serif\" font-size=\"14.00\">Either</text>\n",
       "</g>\n",
       "<!-- Lung&#45;Cancer&#45;&gt;Either -->\n",
       "<g id=\"edge1\" class=\"edge\"><title>Lung&#45;Cancer&#45;&gt;Either</title>\n",
       "<path fill=\"none\" stroke=\"black\" d=\"M82.5822,-145.811C100.684,-134.981 125.094,-120.377 144.165,-108.967\"/>\n",
       "<polygon fill=\"black\" stroke=\"black\" points=\"145.993,-111.951 152.778,-103.814 142.399,-105.944 145.993,-111.951\"/>\n",
       "</g>\n",
       "<!-- Dyspnea -->\n",
       "<g id=\"node3\" class=\"node\"><title>Dyspnea</title>\n",
       "<ellipse fill=\"none\" stroke=\"black\" cx=\"270.195\" cy=\"-18\" rx=\"41.6928\" ry=\"18\"/>\n",
       "<text text-anchor=\"middle\" x=\"270.195\" y=\"-14.3\" font-family=\"Times,serif\" font-size=\"14.00\">Dyspnea</text>\n",
       "</g>\n",
       "<!-- Either&#45;&gt;Dyspnea -->\n",
       "<g id=\"edge2\" class=\"edge\"><title>Either&#45;&gt;Dyspnea</title>\n",
       "<path fill=\"none\" stroke=\"black\" d=\"M193.161,-75.1703C206.993,-65.0847 225.977,-51.2425 241.637,-39.8232\"/>\n",
       "<polygon fill=\"black\" stroke=\"black\" points=\"243.924,-42.4875 249.942,-33.7677 239.8,-36.8314 243.924,-42.4875\"/>\n",
       "</g>\n",
       "<!-- X&#45;Ray -->\n",
       "<g id=\"node4\" class=\"node\"><title>X&#45;Ray</title>\n",
       "<ellipse fill=\"none\" stroke=\"black\" cx=\"174.195\" cy=\"-18\" rx=\"34.394\" ry=\"18\"/>\n",
       "<text text-anchor=\"middle\" x=\"174.195\" y=\"-14.3\" font-family=\"Times,serif\" font-size=\"14.00\">X&#45;Ray</text>\n",
       "</g>\n",
       "<!-- Either&#45;&gt;X&#45;Ray -->\n",
       "<g id=\"edge3\" class=\"edge\"><title>Either&#45;&gt;X&#45;Ray</title>\n",
       "<path fill=\"none\" stroke=\"black\" d=\"M174.195,-71.6966C174.195,-63.9827 174.195,-54.7125 174.195,-46.1124\"/>\n",
       "<polygon fill=\"black\" stroke=\"black\" points=\"177.695,-46.1043 174.195,-36.1043 170.695,-46.1044 177.695,-46.1043\"/>\n",
       "</g>\n",
       "<!-- Bronchitis -->\n",
       "<g id=\"node5\" class=\"node\"><title>Bronchitis</title>\n",
       "<ellipse fill=\"none\" stroke=\"black\" cx=\"272.195\" cy=\"-90\" rx=\"47.3916\" ry=\"18\"/>\n",
       "<text text-anchor=\"middle\" x=\"272.195\" y=\"-86.3\" font-family=\"Times,serif\" font-size=\"14.00\">Bronchitis</text>\n",
       "</g>\n",
       "<!-- Bronchitis&#45;&gt;Dyspnea -->\n",
       "<g id=\"edge4\" class=\"edge\"><title>Bronchitis&#45;&gt;Dyspnea</title>\n",
       "<path fill=\"none\" stroke=\"black\" d=\"M271.701,-71.6966C271.48,-63.9827 271.215,-54.7125 270.97,-46.1124\"/>\n",
       "<polygon fill=\"black\" stroke=\"black\" points=\"274.468,-46.0003 270.684,-36.1043 267.471,-46.2002 274.468,-46.0003\"/>\n",
       "</g>\n",
       "<!-- Tuberculosis -->\n",
       "<g id=\"node6\" class=\"node\"><title>Tuberculosis</title>\n",
       "<ellipse fill=\"none\" stroke=\"black\" cx=\"188.195\" cy=\"-162\" rx=\"55.7903\" ry=\"18\"/>\n",
       "<text text-anchor=\"middle\" x=\"188.195\" y=\"-158.3\" font-family=\"Times,serif\" font-size=\"14.00\">Tuberculosis</text>\n",
       "</g>\n",
       "<!-- Tuberculosis&#45;&gt;Either -->\n",
       "<g id=\"edge5\" class=\"edge\"><title>Tuberculosis&#45;&gt;Either</title>\n",
       "<path fill=\"none\" stroke=\"black\" d=\"M184.734,-143.697C183.191,-135.983 181.337,-126.712 179.617,-118.112\"/>\n",
       "<polygon fill=\"black\" stroke=\"black\" points=\"183.009,-117.224 177.616,-108.104 176.145,-118.597 183.009,-117.224\"/>\n",
       "</g>\n",
       "<!-- Smoke -->\n",
       "<g id=\"node7\" class=\"node\"><title>Smoke</title>\n",
       "<ellipse fill=\"none\" stroke=\"black\" cx=\"164.195\" cy=\"-234\" rx=\"35.9954\" ry=\"18\"/>\n",
       "<text text-anchor=\"middle\" x=\"164.195\" y=\"-230.3\" font-family=\"Times,serif\" font-size=\"14.00\">Smoke</text>\n",
       "</g>\n",
       "<!-- Smoke&#45;&gt;Lung&#45;Cancer -->\n",
       "<g id=\"edge6\" class=\"edge\"><title>Smoke&#45;&gt;Lung&#45;Cancer</title>\n",
       "<path fill=\"none\" stroke=\"black\" d=\"M143.31,-219.337C128.084,-209.376 107.158,-195.686 89.7468,-184.296\"/>\n",
       "<polygon fill=\"black\" stroke=\"black\" points=\"91.2957,-181.127 81.0112,-178.581 87.4635,-186.984 91.2957,-181.127\"/>\n",
       "</g>\n",
       "<!-- Smoke&#45;&gt;Bronchitis -->\n",
       "<g id=\"edge7\" class=\"edge\"><title>Smoke&#45;&gt;Bronchitis</title>\n",
       "<path fill=\"none\" stroke=\"black\" d=\"M192.994,-222.999C212.922,-214.593 238.42,-200.608 253.195,-180 266.107,-161.991 270.573,-137.001 271.973,-118.085\"/>\n",
       "<polygon fill=\"black\" stroke=\"black\" points=\"275.473,-118.178 272.477,-108.016 268.482,-117.829 275.473,-118.178\"/>\n",
       "</g>\n",
       "<!-- Visited&#45;Asian&#45;TB&#45;HRA -->\n",
       "<g id=\"node8\" class=\"node\"><title>Visited&#45;Asian&#45;TB&#45;HRA</title>\n",
       "<ellipse fill=\"none\" stroke=\"black\" cx=\"313.195\" cy=\"-234\" rx=\"94.7833\" ry=\"18\"/>\n",
       "<text text-anchor=\"middle\" x=\"313.195\" y=\"-230.3\" font-family=\"Times,serif\" font-size=\"14.00\">Visited&#45;Asian&#45;TB&#45;HRA</text>\n",
       "</g>\n",
       "</g>\n",
       "</svg>\n"
      ],
      "text/plain": [
       "<graphviz.files.Source at 0x7f199d53e358>"
      ]
     },
     "execution_count": 22,
     "metadata": {},
     "output_type": "execute_result"
    }
   ],
   "source": [
    "Source(open(learned_dot).read())"
   ]
  },
  {
   "cell_type": "markdown",
   "metadata": {},
   "source": [
    "Results are sensitive to \"alpha\""
   ]
  },
  {
   "cell_type": "markdown",
   "metadata": {},
   "source": [
    "#### bnlearn"
   ]
  },
  {
   "cell_type": "code",
   "execution_count": 23,
   "metadata": {
    "collapsed": false
   },
   "outputs": [],
   "source": [
    "%%capture  bnlearn_iamb_time\n",
    "%time %R bn <- iamb(states_df);"
   ]
  },
  {
   "cell_type": "code",
   "execution_count": 24,
   "metadata": {
    "collapsed": false
   },
   "outputs": [
    {
     "name": "stdout",
     "output_type": "stream",
     "text": [
      "CPU times: user 22.3 ms, sys: 0 ns, total: 22.3 ms\n",
      "Wall time: 22.8 ms\n",
      "\n"
     ]
    }
   ],
   "source": [
    "print(bnlearn_iamb_time)"
   ]
  },
  {
   "cell_type": "code",
   "execution_count": 25,
   "metadata": {
    "collapsed": false
   },
   "outputs": [
    {
     "data": {
      "image/png": "[encoded data removed]"
     },
     "metadata": {},
     "output_type": "display_data"
    }
   ],
   "source": [
    "%R par(mfrow = c(1,1))\n",
    "%R graphviz.plot(bn, shape = \"ellipse\", main = \"Incremental Association Markov Blanket(IAMB)\");"
   ]
  },
  {
   "cell_type": "markdown",
   "metadata": {},
   "source": [
    "## Score based learning\n",
    "### Hiil Climbing with BIC score\n",
    "#### QFog"
   ]
  },
  {
   "cell_type": "code",
   "execution_count": 26,
   "metadata": {
    "collapsed": false
   },
   "outputs": [],
   "source": [
    "%%capture qfog_hc_bic_time\n",
    "score_type = 'BIC'\n",
    "max_num_mtries = 30\n",
    "ess = 1.0 \n",
    "%time lnr = HillClimbingLner(states_df, score_type, max_num_mtries, ess)"
   ]
  },
  {
   "cell_type": "code",
   "execution_count": 27,
   "metadata": {
    "collapsed": false
   },
   "outputs": [
    {
     "name": "stdout",
     "output_type": "stream",
     "text": [
      "CPU times: user 1.77 s, sys: 236 us, total: 1.77 s\n",
      "Wall time: 1.77 s\n",
      "\n"
     ]
    }
   ],
   "source": [
    "print(qfog_hc_bic_time)"
   ]
  },
  {
   "cell_type": "code",
   "execution_count": 28,
   "metadata": {
    "collapsed": true
   },
   "outputs": [],
   "source": [
    "lnr.bnet.write_dot(learned_dot) # write BNet to .dot file"
   ]
  },
  {
   "cell_type": "code",
   "execution_count": 29,
   "metadata": {
    "collapsed": false
   },
   "outputs": [
    {
     "data": {
      "image/svg+xml": [
       "<?xml version=\"1.0\" encoding=\"UTF-8\" standalone=\"no\"?>\n",
       "<!DOCTYPE svg PUBLIC \"-//W3C//DTD SVG 1.1//EN\"\n",
       " \"http://www.w3.org/Graphics/SVG/1.1/DTD/svg11.dtd\">\n",
       "<!-- Generated by graphviz version 2.38.0 (20140413.2041)\n",
       " -->\n",
       "<!-- Pages: 1 -->\n",
       "<svg width=\"465pt\" height=\"332pt\"\n",
       " viewBox=\"0.00 0.00 465.09 332.00\" xmlns=\"http://www.w3.org/2000/svg\" xmlns:xlink=\"http://www.w3.org/1999/xlink\">\n",
       "<g id=\"graph0\" class=\"graph\" transform=\"scale(1 1) rotate(0) translate(4 328)\">\n",
       "<polygon fill=\"white\" stroke=\"none\" points=\"-4,4 -4,-328 461.087,-328 461.087,4 -4,4\"/>\n",
       "<!-- X&#45;Ray -->\n",
       "<g id=\"node1\" class=\"node\"><title>X&#45;Ray</title>\n",
       "<ellipse fill=\"none\" stroke=\"black\" cx=\"178.195\" cy=\"-18\" rx=\"34.394\" ry=\"18\"/>\n",
       "<text text-anchor=\"middle\" x=\"178.195\" y=\"-14.3\" font-family=\"Times,serif\" font-size=\"14.00\">X&#45;Ray</text>\n",
       "</g>\n",
       "<!-- Visited&#45;Asian&#45;TB&#45;HRA -->\n",
       "<g id=\"node2\" class=\"node\"><title>Visited&#45;Asian&#45;TB&#45;HRA</title>\n",
       "<ellipse fill=\"none\" stroke=\"black\" cx=\"362.195\" cy=\"-306\" rx=\"94.7833\" ry=\"18\"/>\n",
       "<text text-anchor=\"middle\" x=\"362.195\" y=\"-302.3\" font-family=\"Times,serif\" font-size=\"14.00\">Visited&#45;Asian&#45;TB&#45;HRA</text>\n",
       "</g>\n",
       "<!-- Smoke -->\n",
       "<g id=\"node3\" class=\"node\"><title>Smoke</title>\n",
       "<ellipse fill=\"none\" stroke=\"black\" cx=\"133.195\" cy=\"-234\" rx=\"35.9954\" ry=\"18\"/>\n",
       "<text text-anchor=\"middle\" x=\"133.195\" y=\"-230.3\" font-family=\"Times,serif\" font-size=\"14.00\">Smoke</text>\n",
       "</g>\n",
       "<!-- Lung&#45;Cancer -->\n",
       "<g id=\"node4\" class=\"node\"><title>Lung&#45;Cancer</title>\n",
       "<ellipse fill=\"none\" stroke=\"black\" cx=\"57.1949\" cy=\"-162\" rx=\"57.3905\" ry=\"18\"/>\n",
       "<text text-anchor=\"middle\" x=\"57.1949\" y=\"-158.3\" font-family=\"Times,serif\" font-size=\"14.00\">Lung&#45;Cancer</text>\n",
       "</g>\n",
       "<!-- Smoke&#45;&gt;Lung&#45;Cancer -->\n",
       "<g id=\"edge1\" class=\"edge\"><title>Smoke&#45;&gt;Lung&#45;Cancer</title>\n",
       "<path fill=\"none\" stroke=\"black\" d=\"M116.704,-217.811C106.701,-208.598 93.7335,-196.654 82.4578,-186.268\"/>\n",
       "<polygon fill=\"black\" stroke=\"black\" points=\"84.7057,-183.58 74.9791,-179.38 79.9634,-188.729 84.7057,-183.58\"/>\n",
       "</g>\n",
       "<!-- Either -->\n",
       "<g id=\"node6\" class=\"node\"><title>Either</title>\n",
       "<ellipse fill=\"none\" stroke=\"black\" cx=\"183.195\" cy=\"-90\" rx=\"32.4942\" ry=\"18\"/>\n",
       "<text text-anchor=\"middle\" x=\"183.195\" y=\"-86.3\" font-family=\"Times,serif\" font-size=\"14.00\">Either</text>\n",
       "</g>\n",
       "<!-- Lung&#45;Cancer&#45;&gt;Either -->\n",
       "<g id=\"edge2\" class=\"edge\"><title>Lung&#45;Cancer&#45;&gt;Either</title>\n",
       "<path fill=\"none\" stroke=\"black\" d=\"M84.2251,-145.983C104.13,-134.925 131.238,-119.865 152.052,-108.302\"/>\n",
       "<polygon fill=\"black\" stroke=\"black\" points=\"153.792,-111.339 160.834,-103.423 150.393,-105.22 153.792,-111.339\"/>\n",
       "</g>\n",
       "<!-- Tuberculosis -->\n",
       "<g id=\"node5\" class=\"node\"><title>Tuberculosis</title>\n",
       "<ellipse fill=\"none\" stroke=\"black\" cx=\"188.195\" cy=\"-162\" rx=\"55.7903\" ry=\"18\"/>\n",
       "<text text-anchor=\"middle\" x=\"188.195\" y=\"-158.3\" font-family=\"Times,serif\" font-size=\"14.00\">Tuberculosis</text>\n",
       "</g>\n",
       "<!-- Tuberculosis&#45;&gt;Either -->\n",
       "<g id=\"edge3\" class=\"edge\"><title>Tuberculosis&#45;&gt;Either</title>\n",
       "<path fill=\"none\" stroke=\"black\" d=\"M186.959,-143.697C186.408,-135.983 185.746,-126.712 185.132,-118.112\"/>\n",
       "<polygon fill=\"black\" stroke=\"black\" points=\"188.62,-117.83 184.417,-108.104 181.638,-118.328 188.62,-117.83\"/>\n",
       "</g>\n",
       "<!-- Either&#45;&gt;X&#45;Ray -->\n",
       "<g id=\"edge5\" class=\"edge\"><title>Either&#45;&gt;X&#45;Ray</title>\n",
       "<path fill=\"none\" stroke=\"black\" d=\"M181.959,-71.6966C181.408,-63.9827 180.746,-54.7125 180.132,-46.1124\"/>\n",
       "<polygon fill=\"black\" stroke=\"black\" points=\"183.62,-45.8295 179.417,-36.1043 176.638,-46.3283 183.62,-45.8295\"/>\n",
       "</g>\n",
       "<!-- Dyspnea -->\n",
       "<g id=\"node8\" class=\"node\"><title>Dyspnea</title>\n",
       "<ellipse fill=\"none\" stroke=\"black\" cx=\"272.195\" cy=\"-18\" rx=\"41.6928\" ry=\"18\"/>\n",
       "<text text-anchor=\"middle\" x=\"272.195\" y=\"-14.3\" font-family=\"Times,serif\" font-size=\"14.00\">Dyspnea</text>\n",
       "</g>\n",
       "<!-- Either&#45;&gt;Dyspnea -->\n",
       "<g id=\"edge4\" class=\"edge\"><title>Either&#45;&gt;Dyspnea</title>\n",
       "<path fill=\"none\" stroke=\"black\" d=\"M201.205,-74.8345C213.774,-64.9494 230.774,-51.5783 244.987,-40.3993\"/>\n",
       "<polygon fill=\"black\" stroke=\"black\" points=\"247.283,-43.0467 252.979,-34.1135 242.955,-37.5446 247.283,-43.0467\"/>\n",
       "</g>\n",
       "<!-- Bronchitis -->\n",
       "<g id=\"node7\" class=\"node\"><title>Bronchitis</title>\n",
       "<ellipse fill=\"none\" stroke=\"black\" cx=\"202.195\" cy=\"-306\" rx=\"47.3916\" ry=\"18\"/>\n",
       "<text text-anchor=\"middle\" x=\"202.195\" y=\"-302.3\" font-family=\"Times,serif\" font-size=\"14.00\">Bronchitis</text>\n",
       "</g>\n",
       "<!-- Bronchitis&#45;&gt;Smoke -->\n",
       "<g id=\"edge7\" class=\"edge\"><title>Bronchitis&#45;&gt;Smoke</title>\n",
       "<path fill=\"none\" stroke=\"black\" d=\"M186.192,-288.765C177.182,-279.624 165.783,-268.06 155.866,-258\"/>\n",
       "<polygon fill=\"black\" stroke=\"black\" points=\"158.15,-255.331 148.637,-250.666 153.164,-260.245 158.15,-255.331\"/>\n",
       "</g>\n",
       "<!-- Bronchitis&#45;&gt;Dyspnea -->\n",
       "<g id=\"edge6\" class=\"edge\"><title>Bronchitis&#45;&gt;Dyspnea</title>\n",
       "<path fill=\"none\" stroke=\"black\" d=\"M210.808,-288.112C222.42,-264.548 242.834,-220.171 253.195,-180 265.068,-133.967 269.545,-78.5914 271.217,-46.2406\"/>\n",
       "<polygon fill=\"black\" stroke=\"black\" points=\"274.715,-46.3504 271.683,-36.1989 267.723,-46.0258 274.715,-46.3504\"/>\n",
       "</g>\n",
       "</g>\n",
       "</svg>\n"
      ],
      "text/plain": [
       "<graphviz.files.Source at 0x7f199d4afd30>"
      ]
     },
     "execution_count": 29,
     "metadata": {},
     "output_type": "execute_result"
    }
   ],
   "source": [
    "Source(open(learned_dot).read())"
   ]
  },
  {
   "cell_type": "markdown",
   "metadata": {},
   "source": [
    "#### bnlearn"
   ]
  },
  {
   "cell_type": "markdown",
   "metadata": {},
   "source": [
    "In bnlearn, the default score is **BIC** (Bayesian Information Criterion) for both discrete and continuous data sets"
   ]
  },
  {
   "cell_type": "code",
   "execution_count": 30,
   "metadata": {
    "collapsed": false
   },
   "outputs": [],
   "source": [
    "%%capture bnlearn_hc_bic_time\n",
    "%time %R bn <- hc(states_df);"
   ]
  },
  {
   "cell_type": "code",
   "execution_count": 31,
   "metadata": {
    "collapsed": false
   },
   "outputs": [
    {
     "name": "stdout",
     "output_type": "stream",
     "text": [
      "CPU times: user 23.3 ms, sys: 0 ns, total: 23.3 ms\n",
      "Wall time: 23.5 ms\n",
      "\n"
     ]
    }
   ],
   "source": [
    "print(bnlearn_hc_bic_time)"
   ]
  },
  {
   "cell_type": "code",
   "execution_count": 32,
   "metadata": {
    "collapsed": false
   },
   "outputs": [
    {
     "data": {
      "image/png": "[encoded data removed]"
     },
     "metadata": {},
     "output_type": "display_data"
    }
   ],
   "source": [
    "%R par(mfrow = c(1,1))\n",
    "%R graphviz.plot(bn, shape = \"ellipse\", main = \"Hill-Climbing-BIC\");"
   ]
  },
  {
   "cell_type": "markdown",
   "metadata": {},
   "source": [
    "## Summary of Running Times"
   ]
  },
  {
   "cell_type": "code",
   "execution_count": 33,
   "metadata": {
    "collapsed": false
   },
   "outputs": [],
   "source": [
    "%%bash\n",
    "rm -f examples_cbnets/tempo.dot"
   ]
  },
  {
   "cell_type": "code",
   "execution_count": 34,
   "metadata": {
    "collapsed": false,
    "scrolled": false
   },
   "outputs": [
    {
     "name": "stdout",
     "output_type": "stream",
     "text": [
      "-------------Grow-Shrink:\n",
      "QFog: CPU times: user 1.44 s, sys: 12.3 ms, total: 1.45 s\n",
      "Wall time: 1.45 s\n",
      "\n",
      "bnlearn: CPU times: user 29.3 ms, sys: 8.03 ms, total: 37.3 ms\n",
      "Wall time: 37.5 ms\n",
      "\n",
      "-------------IAMB"
     ]
    },
    {
     "name": "stdout",
     "output_type": "stream",
     "text": [
      "\n",
      "QFog: CPU times: user 1.31 s, sys: 12 us, total: 1.31 s\n",
      "Wall time: 1.31 s\n",
      "\n",
      "bnlearn: CPU times: user 22.3 ms, sys: 0 ns, total: 22.3 ms\n",
      "Wall time: 22.8 ms\n",
      "\n",
      "-------------Hill Climbing with BIC score:\n",
      "QFog: CPU times: user 1.77 s, sys: 236 us, total: 1.77 s\n",
      "Wall time: 1.77 s\n",
      "\n",
      "bnlearn: CPU times: user 23.3 ms, sys: 0 ns, total: 23.3 ms\n",
      "Wall time: 23.5 ms\n",
      "\n"
     ]
    }
   ],
   "source": [
    "print(\"-------------Grow-Shrink:\")\n",
    "print(\"QFog:\", qfog_gs_time)\n",
    "print(\"bnlearn:\", bnlearn_gs_time)\n",
    "\n",
    "print(\"-------------IAMB\")\n",
    "print(\"QFog:\", qfog_iamb_time)\n",
    "print(\"bnlearn:\", bnlearn_iamb_time)\n",
    "\n",
    "print(\"-------------Hill Climbing with BIC score:\")\n",
    "print(\"QFog:\", qfog_hc_bic_time)\n",
    "print(\"bnlearn:\", bnlearn_hc_bic_time)"
   ]
  }
 ],
 "metadata": {
  "anaconda-cloud": {},
  "kernelspec": {
   "display_name": "Python 3",
   "language": "python",
   "name": "python3"
  },
  "language_info": {
   "codemirror_mode": {
    "name": "ipython",
    "version": 3
   },
   "file_extension": ".py",
   "mimetype": "text/x-python",
   "name": "python",
   "nbconvert_exporter": "python",
   "pygments_lexer": "ipython3",
   "version": "3.6.0"
  },
  "toc": {
   "colors": {
    "hover_highlight": "#DAA520",
    "running_highlight": "#FF0000",
    "selected_highlight": "#FFD700"
   },
   "moveMenuLeft": true,
   "nav_menu": {
    "height": "210px",
    "width": "252px"
   },
   "navigate_menu": true,
   "number_sections": true,
   "sideBar": false,
   "threshold": "3",
   "toc_cell": true,
   "toc_position": {
    "height": "283px",
    "left": "1px",
    "right": "20px",
    "top": "107px",
    "width": "212px"
   },
   "toc_section_display": "none",
   "toc_window_display": true
  }
 },
 "nbformat": 4,
 "nbformat_minor": 1
}
