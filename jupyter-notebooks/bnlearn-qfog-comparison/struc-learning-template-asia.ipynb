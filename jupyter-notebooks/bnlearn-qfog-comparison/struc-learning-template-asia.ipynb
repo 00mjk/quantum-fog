{
 "cells": [
  {
   "cell_type": "markdown",
   "metadata": {},
   "source": [
    "**Executed:** Mon Feb 20 14:15:26 2017\n",
    "\n",
    "**Duration:** 9 seconds."
   ]
  },
  {
   "cell_type": "code",
   "execution_count": 1,
   "metadata": {
    "collapsed": true
   },
   "outputs": [],
   "source": [
    "# default values of file paths, assuming quantum_fog is working dir\n",
    "in_bif = 'examples_cbnets/earthquake.bif'\n",
    "in_dot = 'examples_cbnets/earthquake.dot'\n",
    "in_csv = 'learning/training_data_c/earthquake.csv'"
   ]
  },
  {
   "cell_type": "code",
   "execution_count": 2,
   "metadata": {},
   "outputs": [],
   "source": [
    "# Cell inserted during automated execution.\n",
    "in_bif = 'examples_cbnets/asia.bif'\n",
    "in_dot = 'examples_cbnets/asia.dot'\n",
    "in_csv = 'learning/training_data_c/tempo.csv'"
   ]
  },
  {
   "cell_type": "code",
   "execution_count": 3,
   "metadata": {
    "collapsed": true
   },
   "outputs": [],
   "source": [
    "learned_dot = 'examples_cbnets/tempo.dot'  # for storing learned network"
   ]
  },
  {
   "cell_type": "markdown",
   "metadata": {},
   "source": [
    "**Structure Learning Template**"
   ]
  },
  {
   "cell_type": "markdown",
   "metadata": {
    "toc": "true"
   },
   "source": [
    "# Table of Contents\n",
    " <p><div class=\"lev1 toc-item\"><a href=\"#True-Network-Structure\" data-toc-modified-id=\"True-Network-Structure-1\"><span class=\"toc-item-num\">1&nbsp;&nbsp;</span>True Network Structure</a></div><div class=\"lev1 toc-item\"><a href=\"#Learned-Network-Structures\" data-toc-modified-id=\"Learned-Network-Structures-2\"><span class=\"toc-item-num\">2&nbsp;&nbsp;</span>Learned Network Structures</a></div><div class=\"lev2 toc-item\"><a href=\"#MB-based-learning\" data-toc-modified-id=\"MB-based-learning-21\"><span class=\"toc-item-num\">2.1&nbsp;&nbsp;</span>MB based learning</a></div><div class=\"lev3 toc-item\"><a href=\"#Grow-Shink\" data-toc-modified-id=\"Grow-Shink-211\"><span class=\"toc-item-num\">2.1.1&nbsp;&nbsp;</span>Grow Shink</a></div><div class=\"lev3 toc-item\"><a href=\"#IAMB\" data-toc-modified-id=\"IAMB-212\"><span class=\"toc-item-num\">2.1.2&nbsp;&nbsp;</span>IAMB</a></div><div class=\"lev2 toc-item\"><a href=\"#Score-based-learning\" data-toc-modified-id=\"Score-based-learning-22\"><span class=\"toc-item-num\">2.2&nbsp;&nbsp;</span>Score based learning</a></div><div class=\"lev3 toc-item\"><a href=\"#Hiil-Climbing-with-BIC-score\" data-toc-modified-id=\"Hiil-Climbing-with-BIC-score-221\"><span class=\"toc-item-num\">2.2.1&nbsp;&nbsp;</span>Hiil Climbing with BIC score</a></div><div class=\"lev2 toc-item\"><a href=\"#Summary-of-Running-Times\" data-toc-modified-id=\"Summary-of-Running-Times-23\"><span class=\"toc-item-num\">2.3&nbsp;&nbsp;</span>Summary of Running Times</a></div>"
   ]
  },
  {
   "cell_type": "code",
   "execution_count": 4,
   "metadata": {
    "collapsed": false
   },
   "outputs": [],
   "source": [
    "import pandas as pd\n",
    "import numpy as np\n",
    "from graphviz import Source\n",
    "\n",
    "import warnings\n",
    "warnings.filterwarnings(\"ignore\", module=\"rpy2\")\n",
    "\n",
    "import rpy2\n",
    "%load_ext rpy2.ipython\n",
    "%R library(\"bnlearn\");\n",
    "%R library(\"Rgraphviz\");"
   ]
  },
  {
   "cell_type": "code",
   "execution_count": 5,
   "metadata": {
    "collapsed": true
   },
   "outputs": [],
   "source": [
    "# make this the absolute path of quantum-fog folder\n",
    "qfog_path = '/home/jupyter/Notebooks/quantum-fog'"
   ]
  },
  {
   "cell_type": "code",
   "execution_count": 6,
   "metadata": {
    "collapsed": true
   },
   "outputs": [],
   "source": [
    "import os\n",
    "import sys\n",
    "if qfog_path != os.getcwd():\n",
    "    os.chdir('../../')\n",
    "    sys.path.insert(0,os.getcwd())\n",
    "from learning.NaiveBayesLner import *\n",
    "from learning.MB_GrowShrinkLner import *\n",
    "from learning.MB_IAMB_Lner import *\n",
    "from learning.HillClimbingLner import *"
   ]
  },
  {
   "cell_type": "markdown",
   "metadata": {},
   "source": [
    "Read in_csv, create Pandas Dataframe with it, push dataframe into R"
   ]
  },
  {
   "cell_type": "code",
   "execution_count": 7,
   "metadata": {
    "collapsed": false
   },
   "outputs": [
    {
     "data": {
      "text/html": [
       "<div>\n",
       "<table border=\"1\" class=\"dataframe\">\n",
       "  <thead>\n",
       "    <tr style=\"text-align: right;\">\n",
       "      <th></th>\n",
       "      <th>Smoke</th>\n",
       "      <th>Lung-Cancer</th>\n",
       "      <th>Bronchitis</th>\n",
       "      <th>Visited-Asian-TB-HRA</th>\n",
       "      <th>Tuberculosis</th>\n",
       "      <th>Either</th>\n",
       "      <th>X-Ray</th>\n",
       "      <th>Dyspnea</th>\n",
       "    </tr>\n",
       "  </thead>\n",
       "  <tbody>\n",
       "    <tr>\n",
       "      <th>0</th>\n",
       "      <td>0</td>\n",
       "      <td>1</td>\n",
       "      <td>1</td>\n",
       "      <td>1</td>\n",
       "      <td>1</td>\n",
       "      <td>1</td>\n",
       "      <td>1</td>\n",
       "      <td>1</td>\n",
       "    </tr>\n",
       "    <tr>\n",
       "      <th>1</th>\n",
       "      <td>1</td>\n",
       "      <td>1</td>\n",
       "      <td>1</td>\n",
       "      <td>1</td>\n",
       "      <td>1</td>\n",
       "      <td>1</td>\n",
       "      <td>1</td>\n",
       "      <td>1</td>\n",
       "    </tr>\n",
       "    <tr>\n",
       "      <th>2</th>\n",
       "      <td>1</td>\n",
       "      <td>1</td>\n",
       "      <td>1</td>\n",
       "      <td>1</td>\n",
       "      <td>1</td>\n",
       "      <td>1</td>\n",
       "      <td>1</td>\n",
       "      <td>1</td>\n",
       "    </tr>\n",
       "    <tr>\n",
       "      <th>3</th>\n",
       "      <td>1</td>\n",
       "      <td>1</td>\n",
       "      <td>1</td>\n",
       "      <td>1</td>\n",
       "      <td>1</td>\n",
       "      <td>1</td>\n",
       "      <td>1</td>\n",
       "      <td>1</td>\n",
       "    </tr>\n",
       "    <tr>\n",
       "      <th>4</th>\n",
       "      <td>1</td>\n",
       "      <td>1</td>\n",
       "      <td>0</td>\n",
       "      <td>1</td>\n",
       "      <td>1</td>\n",
       "      <td>1</td>\n",
       "      <td>1</td>\n",
       "      <td>1</td>\n",
       "    </tr>\n",
       "  </tbody>\n",
       "</table>\n",
       "</div>"
      ],
      "text/plain": [
       "   Smoke  Lung-Cancer  Bronchitis  Visited-Asian-TB-HRA  Tuberculosis  Either  \\\n",
       "0      0            1           1                     1             1       1   \n",
       "1      1            1           1                     1             1       1   \n",
       "2      1            1           1                     1             1       1   \n",
       "3      1            1           1                     1             1       1   \n",
       "4      1            1           0                     1             1       1   \n",
       "\n",
       "   X-Ray  Dyspnea  \n",
       "0      1        1  \n",
       "1      1        1  \n",
       "2      1        1  \n",
       "3      1        1  \n",
       "4      1        1  "
      ]
     },
     "execution_count": 7,
     "metadata": {},
     "output_type": "execute_result"
    }
   ],
   "source": [
    "states_df = pd.read_csv(in_csv)\n",
    "states_df.head()"
   ]
  },
  {
   "cell_type": "code",
   "execution_count": 8,
   "metadata": {
    "collapsed": false
   },
   "outputs": [
    {
     "data": {
      "text/html": [
       "<div>\n",
       "<table border=\"1\" class=\"dataframe\">\n",
       "  <thead>\n",
       "    <tr style=\"text-align: right;\">\n",
       "      <th></th>\n",
       "      <th>Smoke</th>\n",
       "      <th>Lung-Cancer</th>\n",
       "      <th>Bronchitis</th>\n",
       "      <th>Visited-Asian-TB-HRA</th>\n",
       "      <th>Tuberculosis</th>\n",
       "      <th>Either</th>\n",
       "      <th>X-Ray</th>\n",
       "      <th>Dyspnea</th>\n",
       "    </tr>\n",
       "  </thead>\n",
       "  <tbody>\n",
       "    <tr>\n",
       "      <th>1995</th>\n",
       "      <td>1</td>\n",
       "      <td>1</td>\n",
       "      <td>0</td>\n",
       "      <td>1</td>\n",
       "      <td>1</td>\n",
       "      <td>1</td>\n",
       "      <td>1</td>\n",
       "      <td>0</td>\n",
       "    </tr>\n",
       "    <tr>\n",
       "      <th>1996</th>\n",
       "      <td>0</td>\n",
       "      <td>1</td>\n",
       "      <td>0</td>\n",
       "      <td>0</td>\n",
       "      <td>1</td>\n",
       "      <td>1</td>\n",
       "      <td>1</td>\n",
       "      <td>0</td>\n",
       "    </tr>\n",
       "    <tr>\n",
       "      <th>1997</th>\n",
       "      <td>1</td>\n",
       "      <td>1</td>\n",
       "      <td>1</td>\n",
       "      <td>1</td>\n",
       "      <td>1</td>\n",
       "      <td>1</td>\n",
       "      <td>1</td>\n",
       "      <td>1</td>\n",
       "    </tr>\n",
       "    <tr>\n",
       "      <th>1998</th>\n",
       "      <td>1</td>\n",
       "      <td>1</td>\n",
       "      <td>1</td>\n",
       "      <td>1</td>\n",
       "      <td>1</td>\n",
       "      <td>1</td>\n",
       "      <td>1</td>\n",
       "      <td>1</td>\n",
       "    </tr>\n",
       "    <tr>\n",
       "      <th>1999</th>\n",
       "      <td>0</td>\n",
       "      <td>1</td>\n",
       "      <td>0</td>\n",
       "      <td>1</td>\n",
       "      <td>1</td>\n",
       "      <td>1</td>\n",
       "      <td>1</td>\n",
       "      <td>0</td>\n",
       "    </tr>\n",
       "  </tbody>\n",
       "</table>\n",
       "</div>"
      ],
      "text/plain": [
       "      Smoke  Lung-Cancer  Bronchitis  Visited-Asian-TB-HRA  Tuberculosis  \\\n",
       "1995      1            1           0                     1             1   \n",
       "1996      0            1           0                     0             1   \n",
       "1997      1            1           1                     1             1   \n",
       "1998      1            1           1                     1             1   \n",
       "1999      0            1           0                     1             1   \n",
       "\n",
       "      Either  X-Ray  Dyspnea  \n",
       "1995       1      1        0  \n",
       "1996       1      1        0  \n",
       "1997       1      1        1  \n",
       "1998       1      1        1  \n",
       "1999       1      1        0  "
      ]
     },
     "execution_count": 8,
     "metadata": {},
     "output_type": "execute_result"
    }
   ],
   "source": [
    "states_df.tail()"
   ]
  },
  {
   "cell_type": "code",
   "execution_count": 9,
   "metadata": {
    "collapsed": false
   },
   "outputs": [
    {
     "data": {
      "text/plain": [
       "'data.frame':\t2000 obs. of  8 variables:\n",
       " $ Smoke               : int  0 1 1 1 1 1 0 0 0 0 ...\n",
       " $ Lung.Cancer         : int  1 1 1 1 1 1 1 0 1 1 ...\n",
       " $ Bronchitis          : int  1 1 1 1 0 1 1 0 0 1 ...\n",
       " $ Visited.Asian.TB.HRA: int  1 1 1 1 1 1 1 1 1 1 ...\n",
       " $ Tuberculosis        : int  1 1 1 1 1 1 1 1 1 1 ...\n",
       " $ Either              : int  1 1 1 1 1 1 1 0 1 1 ...\n",
       " $ X.Ray               : int  1 1 1 1 1 1 1 0 1 1 ...\n",
       " $ Dyspnea             : int  1 1 1 1 1 1 1 0 0 1 ...\n"
      ]
     },
     "metadata": {},
     "output_type": "display_data"
    }
   ],
   "source": [
    "%Rpush states_df\n",
    "%R str(states_df)"
   ]
  },
  {
   "cell_type": "markdown",
   "metadata": {},
   "source": [
    "For bnlearn, data.frame columns cannot be int type, must be changed to factor.\n",
    "data.frame is a list so can use lapply"
   ]
  },
  {
   "cell_type": "code",
   "execution_count": 10,
   "metadata": {
    "collapsed": false
   },
   "outputs": [
    {
     "data": {
      "text/plain": [
       "'data.frame':\t2000 obs. of  8 variables:\n",
       " $ Smoke               : Factor w/ 2 levels \"0\",\"1\": 1 2 2 2 2 2 1 1 1 1 ...\n",
       " $ Lung.Cancer         : Factor w/ 2 levels \"0\",\"1\": 2 2 2 2 2 2 2 1 2 2 ...\n",
       " $ Bronchitis          : Factor w/ 2 levels \"0\",\"1\": 2 2 2 2 1 2 2 1 1 2 ...\n",
       " $ Visited.Asian.TB.HRA: Factor w/ 2 levels \"0\",\"1\": 2 2 2 2 2 2 2 2 2 2 ...\n",
       " $ Tuberculosis        : Factor w/ 2 levels \"0\",\"1\": 2 2 2 2 2 2 2 2 2 2 ...\n",
       " $ Either              : Factor w/ 2 levels \"0\",\"1\": 2 2 2 2 2 2 2 1 2 2 ...\n",
       " $ X.Ray               : Factor w/ 2 levels \"0\",\"1\": 2 2 2 2 2 2 2 1 2 2 ...\n",
       " $ Dyspnea             : Factor w/ 2 levels \"0\",\"1\": 2 2 2 2 2 2 2 1 1 2 ...\n"
      ]
     },
     "metadata": {},
     "output_type": "display_data"
    }
   ],
   "source": [
    "%R states_df[] <- lapply(states_df, factor)\n",
    "%R str(states_df)"
   ]
  },
  {
   "cell_type": "markdown",
   "metadata": {},
   "source": [
    "# True Network Structure"
   ]
  },
  {
   "cell_type": "code",
   "execution_count": 11,
   "metadata": {
    "collapsed": false
   },
   "outputs": [
    {
     "data": {
      "image/svg+xml": [
       "<?xml version=\"1.0\" encoding=\"UTF-8\" standalone=\"no\"?>\n",
       "<!DOCTYPE svg PUBLIC \"-//W3C//DTD SVG 1.1//EN\"\n",
       " \"http://www.w3.org/Graphics/SVG/1.1/DTD/svg11.dtd\">\n",
       "<!-- Generated by graphviz version 2.38.0 (20140413.2041)\n",
       " -->\n",
       "<!-- Pages: 1 -->\n",
       "<svg width=\"366pt\" height=\"260pt\"\n",
       " viewBox=\"0.00 0.00 366.34 260.00\" xmlns=\"http://www.w3.org/2000/svg\" xmlns:xlink=\"http://www.w3.org/1999/xlink\">\n",
       "<g id=\"graph0\" class=\"graph\" transform=\"scale(1 1) rotate(0) translate(4 256)\">\n",
       "<polygon fill=\"white\" stroke=\"none\" points=\"-4,4 -4,-256 362.337,-256 362.337,4 -4,4\"/>\n",
       "<!-- Visited&#45;Asian&#45;TB&#45;HRA -->\n",
       "<g id=\"node1\" class=\"node\"><title>Visited&#45;Asian&#45;TB&#45;HRA</title>\n",
       "<ellipse fill=\"none\" stroke=\"black\" cx=\"94.8916\" cy=\"-234\" rx=\"94.7833\" ry=\"18\"/>\n",
       "<text text-anchor=\"middle\" x=\"94.8916\" y=\"-230.3\" font-family=\"Times,serif\" font-size=\"14.00\">Visited&#45;Asian&#45;TB&#45;HRA</text>\n",
       "</g>\n",
       "<!-- Tuberculosis -->\n",
       "<g id=\"node6\" class=\"node\"><title>Tuberculosis</title>\n",
       "<ellipse fill=\"none\" stroke=\"black\" cx=\"94.8916\" cy=\"-162\" rx=\"55.7903\" ry=\"18\"/>\n",
       "<text text-anchor=\"middle\" x=\"94.8916\" y=\"-158.3\" font-family=\"Times,serif\" font-size=\"14.00\">Tuberculosis</text>\n",
       "</g>\n",
       "<!-- Visited&#45;Asian&#45;TB&#45;HRA&#45;&gt;Tuberculosis -->\n",
       "<g id=\"edge1\" class=\"edge\"><title>Visited&#45;Asian&#45;TB&#45;HRA&#45;&gt;Tuberculosis</title>\n",
       "<path fill=\"none\" stroke=\"black\" d=\"M94.8916,-215.697C94.8916,-207.983 94.8916,-198.712 94.8916,-190.112\"/>\n",
       "<polygon fill=\"black\" stroke=\"black\" points=\"98.3917,-190.104 94.8916,-180.104 91.3917,-190.104 98.3917,-190.104\"/>\n",
       "</g>\n",
       "<!-- Smoke -->\n",
       "<g id=\"node2\" class=\"node\"><title>Smoke</title>\n",
       "<ellipse fill=\"none\" stroke=\"black\" cx=\"276.892\" cy=\"-234\" rx=\"35.9954\" ry=\"18\"/>\n",
       "<text text-anchor=\"middle\" x=\"276.892\" y=\"-230.3\" font-family=\"Times,serif\" font-size=\"14.00\">Smoke</text>\n",
       "</g>\n",
       "<!-- Bronchitis -->\n",
       "<g id=\"node4\" class=\"node\"><title>Bronchitis</title>\n",
       "<ellipse fill=\"none\" stroke=\"black\" cx=\"310.892\" cy=\"-90\" rx=\"47.3916\" ry=\"18\"/>\n",
       "<text text-anchor=\"middle\" x=\"310.892\" y=\"-86.3\" font-family=\"Times,serif\" font-size=\"14.00\">Bronchitis</text>\n",
       "</g>\n",
       "<!-- Smoke&#45;&gt;Bronchitis -->\n",
       "<g id=\"edge3\" class=\"edge\"><title>Smoke&#45;&gt;Bronchitis</title>\n",
       "<path fill=\"none\" stroke=\"black\" d=\"M282.041,-215.89C285.078,-205.545 288.9,-192.066 291.892,-180 296.993,-159.427 301.966,-135.975 305.543,-118.311\"/>\n",
       "<polygon fill=\"black\" stroke=\"black\" points=\"309.049,-118.631 307.579,-108.138 302.185,-117.257 309.049,-118.631\"/>\n",
       "</g>\n",
       "<!-- Lung&#45;Cancer -->\n",
       "<g id=\"node5\" class=\"node\"><title>Lung&#45;Cancer</title>\n",
       "<ellipse fill=\"none\" stroke=\"black\" cx=\"225.892\" cy=\"-162\" rx=\"57.3905\" ry=\"18\"/>\n",
       "<text text-anchor=\"middle\" x=\"225.892\" y=\"-158.3\" font-family=\"Times,serif\" font-size=\"14.00\">Lung&#45;Cancer</text>\n",
       "</g>\n",
       "<!-- Smoke&#45;&gt;Lung&#45;Cancer -->\n",
       "<g id=\"edge2\" class=\"edge\"><title>Smoke&#45;&gt;Lung&#45;Cancer</title>\n",
       "<path fill=\"none\" stroke=\"black\" d=\"M265.063,-216.765C258.782,-208.143 250.929,-197.365 243.907,-187.727\"/>\n",
       "<polygon fill=\"black\" stroke=\"black\" points=\"246.728,-185.655 238.01,-179.633 241.07,-189.777 246.728,-185.655\"/>\n",
       "</g>\n",
       "<!-- Dyspnea -->\n",
       "<g id=\"node3\" class=\"node\"><title>Dyspnea</title>\n",
       "<ellipse fill=\"none\" stroke=\"black\" cx=\"308.892\" cy=\"-18\" rx=\"41.6928\" ry=\"18\"/>\n",
       "<text text-anchor=\"middle\" x=\"308.892\" y=\"-14.3\" font-family=\"Times,serif\" font-size=\"14.00\">Dyspnea</text>\n",
       "</g>\n",
       "<!-- Bronchitis&#45;&gt;Dyspnea -->\n",
       "<g id=\"edge4\" class=\"edge\"><title>Bronchitis&#45;&gt;Dyspnea</title>\n",
       "<path fill=\"none\" stroke=\"black\" d=\"M310.397,-71.6966C310.177,-63.9827 309.912,-54.7125 309.666,-46.1124\"/>\n",
       "<polygon fill=\"black\" stroke=\"black\" points=\"313.165,-46.0003 309.38,-36.1043 306.167,-46.2002 313.165,-46.0003\"/>\n",
       "</g>\n",
       "<!-- Either -->\n",
       "<g id=\"node7\" class=\"node\"><title>Either</title>\n",
       "<ellipse fill=\"none\" stroke=\"black\" cx=\"212.892\" cy=\"-90\" rx=\"32.4942\" ry=\"18\"/>\n",
       "<text text-anchor=\"middle\" x=\"212.892\" y=\"-86.3\" font-family=\"Times,serif\" font-size=\"14.00\">Either</text>\n",
       "</g>\n",
       "<!-- Lung&#45;Cancer&#45;&gt;Either -->\n",
       "<g id=\"edge5\" class=\"edge\"><title>Lung&#45;Cancer&#45;&gt;Either</title>\n",
       "<path fill=\"none\" stroke=\"black\" d=\"M222.678,-143.697C221.246,-135.983 219.524,-126.712 217.927,-118.112\"/>\n",
       "<polygon fill=\"black\" stroke=\"black\" points=\"221.335,-117.297 216.068,-108.104 214.453,-118.575 221.335,-117.297\"/>\n",
       "</g>\n",
       "<!-- Tuberculosis&#45;&gt;Either -->\n",
       "<g id=\"edge6\" class=\"edge\"><title>Tuberculosis&#45;&gt;Either</title>\n",
       "<path fill=\"none\" stroke=\"black\" d=\"M120.496,-145.811C138.753,-134.981 163.371,-120.377 182.605,-108.967\"/>\n",
       "<polygon fill=\"black\" stroke=\"black\" points=\"184.477,-111.926 191.291,-103.814 180.905,-105.905 184.477,-111.926\"/>\n",
       "</g>\n",
       "<!-- Either&#45;&gt;Dyspnea -->\n",
       "<g id=\"edge7\" class=\"edge\"><title>Either&#45;&gt;Dyspnea</title>\n",
       "<path fill=\"none\" stroke=\"black\" d=\"M231.858,-75.1703C245.69,-65.0847 264.673,-51.2425 280.334,-39.8232\"/>\n",
       "<polygon fill=\"black\" stroke=\"black\" points=\"282.621,-42.4875 288.639,-33.7677 278.497,-36.8314 282.621,-42.4875\"/>\n",
       "</g>\n",
       "<!-- X&#45;Ray -->\n",
       "<g id=\"node8\" class=\"node\"><title>X&#45;Ray</title>\n",
       "<ellipse fill=\"none\" stroke=\"black\" cx=\"212.892\" cy=\"-18\" rx=\"34.394\" ry=\"18\"/>\n",
       "<text text-anchor=\"middle\" x=\"212.892\" y=\"-14.3\" font-family=\"Times,serif\" font-size=\"14.00\">X&#45;Ray</text>\n",
       "</g>\n",
       "<!-- Either&#45;&gt;X&#45;Ray -->\n",
       "<g id=\"edge8\" class=\"edge\"><title>Either&#45;&gt;X&#45;Ray</title>\n",
       "<path fill=\"none\" stroke=\"black\" d=\"M212.892,-71.6966C212.892,-63.9827 212.892,-54.7125 212.892,-46.1124\"/>\n",
       "<polygon fill=\"black\" stroke=\"black\" points=\"216.392,-46.1043 212.892,-36.1043 209.392,-46.1044 216.392,-46.1043\"/>\n",
       "</g>\n",
       "</g>\n",
       "</svg>\n"
      ],
      "text/plain": [
       "<graphviz.files.Source at 0x7ff44b883ba8>"
      ]
     },
     "execution_count": 11,
     "metadata": {},
     "output_type": "execute_result"
    }
   ],
   "source": [
    "Source(open(in_dot).read())"
   ]
  },
  {
   "cell_type": "markdown",
   "metadata": {},
   "source": [
    "# Learned Network Structures\n",
    "## MB based learning\n",
    "### Grow Shink\n",
    "#### Qfog"
   ]
  },
  {
   "cell_type": "code",
   "execution_count": 12,
   "metadata": {
    "collapsed": false
   },
   "outputs": [],
   "source": [
    "%%capture qfog_gs_time\n",
    "alpha = 8/len(states_df.index)\n",
    "%time lnr = MB_GrowShrinkLner(states_df, alpha, verbose=False)"
   ]
  },
  {
   "cell_type": "code",
   "execution_count": 13,
   "metadata": {
    "collapsed": false
   },
   "outputs": [
    {
     "name": "stdout",
     "output_type": "stream",
     "text": [
      "CPU times: user 1.42 s, sys: 4.19 ms, total: 1.43 s\n",
      "Wall time: 1.43 s\n",
      "\n"
     ]
    }
   ],
   "source": [
    "print(qfog_gs_time)"
   ]
  },
  {
   "cell_type": "code",
   "execution_count": 14,
   "metadata": {
    "collapsed": true
   },
   "outputs": [],
   "source": [
    "lnr.bnet.write_dot(learned_dot) # write BNet to .dot file"
   ]
  },
  {
   "cell_type": "code",
   "execution_count": 15,
   "metadata": {
    "collapsed": false
   },
   "outputs": [
    {
     "data": {
      "image/svg+xml": [
       "<?xml version=\"1.0\" encoding=\"UTF-8\" standalone=\"no\"?>\n",
       "<!DOCTYPE svg PUBLIC \"-//W3C//DTD SVG 1.1//EN\"\n",
       " \"http://www.w3.org/Graphics/SVG/1.1/DTD/svg11.dtd\">\n",
       "<!-- Generated by graphviz version 2.38.0 (20140413.2041)\n",
       " -->\n",
       "<!-- Pages: 1 -->\n",
       "<svg width=\"500pt\" height=\"188pt\"\n",
       " viewBox=\"0.00 0.00 499.79 188.00\" xmlns=\"http://www.w3.org/2000/svg\" xmlns:xlink=\"http://www.w3.org/1999/xlink\">\n",
       "<g id=\"graph0\" class=\"graph\" transform=\"scale(1 1) rotate(0) translate(4 184)\">\n",
       "<polygon fill=\"white\" stroke=\"none\" points=\"-4,4 -4,-184 495.787,-184 495.787,4 -4,4\"/>\n",
       "<!-- Either -->\n",
       "<g id=\"node1\" class=\"node\"><title>Either</title>\n",
       "<ellipse fill=\"none\" stroke=\"black\" cx=\"174.895\" cy=\"-18\" rx=\"32.4942\" ry=\"18\"/>\n",
       "<text text-anchor=\"middle\" x=\"174.895\" y=\"-14.3\" font-family=\"Times,serif\" font-size=\"14.00\">Either</text>\n",
       "</g>\n",
       "<!-- Smoke -->\n",
       "<g id=\"node2\" class=\"node\"><title>Smoke</title>\n",
       "<ellipse fill=\"none\" stroke=\"black\" cx=\"247.895\" cy=\"-162\" rx=\"35.9954\" ry=\"18\"/>\n",
       "<text text-anchor=\"middle\" x=\"247.895\" y=\"-158.3\" font-family=\"Times,serif\" font-size=\"14.00\">Smoke</text>\n",
       "</g>\n",
       "<!-- Bronchitis -->\n",
       "<g id=\"node3\" class=\"node\"><title>Bronchitis</title>\n",
       "<ellipse fill=\"none\" stroke=\"black\" cx=\"309.895\" cy=\"-90\" rx=\"47.3916\" ry=\"18\"/>\n",
       "<text text-anchor=\"middle\" x=\"309.895\" y=\"-86.3\" font-family=\"Times,serif\" font-size=\"14.00\">Bronchitis</text>\n",
       "</g>\n",
       "<!-- Smoke&#45;&gt;Bronchitis -->\n",
       "<g id=\"edge1\" class=\"edge\"><title>Smoke&#45;&gt;Bronchitis</title>\n",
       "<path fill=\"none\" stroke=\"black\" d=\"M261.964,-145.116C269.857,-136.204 279.864,-124.906 288.69,-114.942\"/>\n",
       "<polygon fill=\"black\" stroke=\"black\" points=\"291.441,-117.114 295.452,-107.307 286.201,-112.472 291.441,-117.114\"/>\n",
       "</g>\n",
       "<!-- Lung&#45;Cancer -->\n",
       "<g id=\"node4\" class=\"node\"><title>Lung&#45;Cancer</title>\n",
       "<ellipse fill=\"none\" stroke=\"black\" cx=\"186.895\" cy=\"-90\" rx=\"57.3905\" ry=\"18\"/>\n",
       "<text text-anchor=\"middle\" x=\"186.895\" y=\"-86.3\" font-family=\"Times,serif\" font-size=\"14.00\">Lung&#45;Cancer</text>\n",
       "</g>\n",
       "<!-- Smoke&#45;&gt;Lung&#45;Cancer -->\n",
       "<g id=\"edge2\" class=\"edge\"><title>Smoke&#45;&gt;Lung&#45;Cancer</title>\n",
       "<path fill=\"none\" stroke=\"black\" d=\"M234.053,-145.116C226.398,-136.331 216.723,-125.229 208.131,-115.37\"/>\n",
       "<polygon fill=\"black\" stroke=\"black\" points=\"210.741,-113.037 201.533,-107.797 205.464,-117.636 210.741,-113.037\"/>\n",
       "</g>\n",
       "<!-- Dyspnea -->\n",
       "<g id=\"node8\" class=\"node\"><title>Dyspnea</title>\n",
       "<ellipse fill=\"none\" stroke=\"black\" cx=\"309.895\" cy=\"-18\" rx=\"41.6928\" ry=\"18\"/>\n",
       "<text text-anchor=\"middle\" x=\"309.895\" y=\"-14.3\" font-family=\"Times,serif\" font-size=\"14.00\">Dyspnea</text>\n",
       "</g>\n",
       "<!-- Bronchitis&#45;&gt;Dyspnea -->\n",
       "<g id=\"edge3\" class=\"edge\"><title>Bronchitis&#45;&gt;Dyspnea</title>\n",
       "<path fill=\"none\" stroke=\"black\" d=\"M309.895,-71.6966C309.895,-63.9827 309.895,-54.7125 309.895,-46.1124\"/>\n",
       "<polygon fill=\"black\" stroke=\"black\" points=\"313.395,-46.1043 309.895,-36.1043 306.395,-46.1044 313.395,-46.1043\"/>\n",
       "</g>\n",
       "<!-- Lung&#45;Cancer&#45;&gt;Either -->\n",
       "<g id=\"edge4\" class=\"edge\"><title>Lung&#45;Cancer&#45;&gt;Either</title>\n",
       "<path fill=\"none\" stroke=\"black\" d=\"M183.929,-71.6966C182.606,-63.9827 181.017,-54.7125 179.543,-46.1124\"/>\n",
       "<polygon fill=\"black\" stroke=\"black\" points=\"182.967,-45.3692 177.827,-36.1043 176.067,-46.552 182.967,-45.3692\"/>\n",
       "</g>\n",
       "<!-- X&#45;Ray -->\n",
       "<g id=\"node6\" class=\"node\"><title>X&#45;Ray</title>\n",
       "<ellipse fill=\"none\" stroke=\"black\" cx=\"66.895\" cy=\"-18\" rx=\"34.394\" ry=\"18\"/>\n",
       "<text text-anchor=\"middle\" x=\"66.895\" y=\"-14.3\" font-family=\"Times,serif\" font-size=\"14.00\">X&#45;Ray</text>\n",
       "</g>\n",
       "<!-- Lung&#45;Cancer&#45;&gt;X&#45;Ray -->\n",
       "<g id=\"edge5\" class=\"edge\"><title>Lung&#45;Cancer&#45;&gt;X&#45;Ray</title>\n",
       "<path fill=\"none\" stroke=\"black\" d=\"M160.857,-73.811C142.41,-63.0501 117.576,-48.5638 98.0719,-37.1865\"/>\n",
       "<polygon fill=\"black\" stroke=\"black\" points=\"99.6543,-34.0576 89.2529,-32.0421 96.1271,-40.1041 99.6543,-34.0576\"/>\n",
       "</g>\n",
       "<!-- Visited&#45;Asian&#45;TB&#45;HRA -->\n",
       "<g id=\"node5\" class=\"node\"><title>Visited&#45;Asian&#45;TB&#45;HRA</title>\n",
       "<ellipse fill=\"none\" stroke=\"black\" cx=\"396.895\" cy=\"-162\" rx=\"94.7833\" ry=\"18\"/>\n",
       "<text text-anchor=\"middle\" x=\"396.895\" y=\"-158.3\" font-family=\"Times,serif\" font-size=\"14.00\">Visited&#45;Asian&#45;TB&#45;HRA</text>\n",
       "</g>\n",
       "<!-- Tuberculosis -->\n",
       "<g id=\"node7\" class=\"node\"><title>Tuberculosis</title>\n",
       "<ellipse fill=\"none\" stroke=\"black\" cx=\"55.895\" cy=\"-90\" rx=\"55.7903\" ry=\"18\"/>\n",
       "<text text-anchor=\"middle\" x=\"55.895\" y=\"-86.3\" font-family=\"Times,serif\" font-size=\"14.00\">Tuberculosis</text>\n",
       "</g>\n",
       "<!-- Tuberculosis&#45;&gt;Either -->\n",
       "<g id=\"edge6\" class=\"edge\"><title>Tuberculosis&#45;&gt;Either</title>\n",
       "<path fill=\"none\" stroke=\"black\" d=\"M81.4235,-73.9832C99.9358,-63.0937 125.046,-48.3229 144.579,-36.8329\"/>\n",
       "<polygon fill=\"black\" stroke=\"black\" points=\"146.547,-39.7363 153.391,-31.6492 142.997,-33.7027 146.547,-39.7363\"/>\n",
       "</g>\n",
       "<!-- Tuberculosis&#45;&gt;X&#45;Ray -->\n",
       "<g id=\"edge7\" class=\"edge\"><title>Tuberculosis&#45;&gt;X&#45;Ray</title>\n",
       "<path fill=\"none\" stroke=\"black\" d=\"M58.6141,-71.6966C59.8263,-63.9827 61.2831,-54.7125 62.6345,-46.1124\"/>\n",
       "<polygon fill=\"black\" stroke=\"black\" points=\"66.1123,-46.5265 64.2072,-36.1043 59.1972,-45.4397 66.1123,-46.5265\"/>\n",
       "</g>\n",
       "</g>\n",
       "</svg>\n"
      ],
      "text/plain": [
       "<graphviz.files.Source at 0x7ff44b860128>"
      ]
     },
     "execution_count": 15,
     "metadata": {},
     "output_type": "execute_result"
    }
   ],
   "source": [
    "Source(open(learned_dot).read())"
   ]
  },
  {
   "cell_type": "markdown",
   "metadata": {},
   "source": [
    "#### bnlearn"
   ]
  },
  {
   "cell_type": "code",
   "execution_count": 16,
   "metadata": {
    "collapsed": false,
    "scrolled": false
   },
   "outputs": [],
   "source": [
    "%%capture bnlearn_gs_time\n",
    "%time %R bn <- gs(states_df);"
   ]
  },
  {
   "cell_type": "code",
   "execution_count": 17,
   "metadata": {
    "collapsed": false
   },
   "outputs": [
    {
     "name": "stdout",
     "output_type": "stream",
     "text": [
      "CPU times: user 37 ms, sys: 47 us, total: 37 ms\n",
      "Wall time: 37.2 ms\n",
      "\n"
     ]
    }
   ],
   "source": [
    "print(bnlearn_gs_time)"
   ]
  },
  {
   "cell_type": "code",
   "execution_count": 18,
   "metadata": {
    "collapsed": false
   },
   "outputs": [
    {
     "data": {
      "image/png": "[encoded data removed]"
     },
     "metadata": {},
     "output_type": "display_data"
    }
   ],
   "source": [
    "%R par(mfrow = c(1,1))\n",
    "%R graphviz.plot(bn, shape = \"ellipse\", main = \"Grow-Shrink (GS)\");"
   ]
  },
  {
   "cell_type": "markdown",
   "metadata": {},
   "source": [
    "### IAMB\n",
    "#### QFog"
   ]
  },
  {
   "cell_type": "code",
   "execution_count": 19,
   "metadata": {
    "collapsed": false,
    "scrolled": false
   },
   "outputs": [],
   "source": [
    "%%capture qfog_iamb_time\n",
    "alpha = 8/len(states_df.index)\n",
    "%time lnr = MB_IAMB_Lner(states_df, alpha, verbose=False)"
   ]
  },
  {
   "cell_type": "code",
   "execution_count": 20,
   "metadata": {
    "collapsed": false
   },
   "outputs": [
    {
     "name": "stdout",
     "output_type": "stream",
     "text": [
      "CPU times: user 1.29 s, sys: 207 us, total: 1.29 s\n",
      "Wall time: 1.29 s\n",
      "\n"
     ]
    }
   ],
   "source": [
    "print(qfog_iamb_time)"
   ]
  },
  {
   "cell_type": "code",
   "execution_count": 21,
   "metadata": {
    "collapsed": true
   },
   "outputs": [],
   "source": [
    "lnr.bnet.write_dot(learned_dot) # write BNet to .dot file"
   ]
  },
  {
   "cell_type": "code",
   "execution_count": 22,
   "metadata": {
    "collapsed": false
   },
   "outputs": [
    {
     "data": {
      "image/svg+xml": [
       "<?xml version=\"1.0\" encoding=\"UTF-8\" standalone=\"no\"?>\n",
       "<!DOCTYPE svg PUBLIC \"-//W3C//DTD SVG 1.1//EN\"\n",
       " \"http://www.w3.org/Graphics/SVG/1.1/DTD/svg11.dtd\">\n",
       "<!-- Generated by graphviz version 2.38.0 (20140413.2041)\n",
       " -->\n",
       "<!-- Pages: 1 -->\n",
       "<svg width=\"341pt\" height=\"260pt\"\n",
       " viewBox=\"0.00 0.00 341.34 260.00\" xmlns=\"http://www.w3.org/2000/svg\" xmlns:xlink=\"http://www.w3.org/1999/xlink\">\n",
       "<g id=\"graph0\" class=\"graph\" transform=\"scale(1 1) rotate(0) translate(4 256)\">\n",
       "<polygon fill=\"white\" stroke=\"none\" points=\"-4,4 -4,-256 337.337,-256 337.337,4 -4,4\"/>\n",
       "<!-- Either -->\n",
       "<g id=\"node1\" class=\"node\"><title>Either</title>\n",
       "<ellipse fill=\"none\" stroke=\"black\" cx=\"145.446\" cy=\"-90\" rx=\"32.4942\" ry=\"18\"/>\n",
       "<text text-anchor=\"middle\" x=\"145.446\" y=\"-86.3\" font-family=\"Times,serif\" font-size=\"14.00\">Either</text>\n",
       "</g>\n",
       "<!-- X&#45;Ray -->\n",
       "<g id=\"node2\" class=\"node\"><title>X&#45;Ray</title>\n",
       "<ellipse fill=\"none\" stroke=\"black\" cx=\"145.446\" cy=\"-18\" rx=\"34.394\" ry=\"18\"/>\n",
       "<text text-anchor=\"middle\" x=\"145.446\" y=\"-14.3\" font-family=\"Times,serif\" font-size=\"14.00\">X&#45;Ray</text>\n",
       "</g>\n",
       "<!-- Either&#45;&gt;X&#45;Ray -->\n",
       "<g id=\"edge1\" class=\"edge\"><title>Either&#45;&gt;X&#45;Ray</title>\n",
       "<path fill=\"none\" stroke=\"black\" d=\"M145.446,-71.6966C145.446,-63.9827 145.446,-54.7125 145.446,-46.1124\"/>\n",
       "<polygon fill=\"black\" stroke=\"black\" points=\"148.946,-46.1043 145.446,-36.1043 141.946,-46.1044 148.946,-46.1043\"/>\n",
       "</g>\n",
       "<!-- Dyspnea -->\n",
       "<g id=\"node3\" class=\"node\"><title>Dyspnea</title>\n",
       "<ellipse fill=\"none\" stroke=\"black\" cx=\"49.4458\" cy=\"-18\" rx=\"41.6928\" ry=\"18\"/>\n",
       "<text text-anchor=\"middle\" x=\"49.4458\" y=\"-14.3\" font-family=\"Times,serif\" font-size=\"14.00\">Dyspnea</text>\n",
       "</g>\n",
       "<!-- Either&#45;&gt;Dyspnea -->\n",
       "<g id=\"edge2\" class=\"edge\"><title>Either&#45;&gt;Dyspnea</title>\n",
       "<path fill=\"none\" stroke=\"black\" d=\"M126.479,-75.1703C112.648,-65.0847 93.6641,-51.2425 78.0034,-39.8232\"/>\n",
       "<polygon fill=\"black\" stroke=\"black\" points=\"79.8408,-36.8314 69.6986,-33.7677 75.7166,-42.4875 79.8408,-36.8314\"/>\n",
       "</g>\n",
       "<!-- Bronchitis -->\n",
       "<g id=\"node4\" class=\"node\"><title>Bronchitis</title>\n",
       "<ellipse fill=\"none\" stroke=\"black\" cx=\"47.4458\" cy=\"-90\" rx=\"47.3916\" ry=\"18\"/>\n",
       "<text text-anchor=\"middle\" x=\"47.4458\" y=\"-86.3\" font-family=\"Times,serif\" font-size=\"14.00\">Bronchitis</text>\n",
       "</g>\n",
       "<!-- Bronchitis&#45;&gt;Dyspnea -->\n",
       "<g id=\"edge3\" class=\"edge\"><title>Bronchitis&#45;&gt;Dyspnea</title>\n",
       "<path fill=\"none\" stroke=\"black\" d=\"M47.9402,-71.6966C48.1606,-63.9827 48.4254,-54.7125 48.6711,-46.1124\"/>\n",
       "<polygon fill=\"black\" stroke=\"black\" points=\"52.17,-46.2002 48.9571,-36.1043 45.1728,-46.0003 52.17,-46.2002\"/>\n",
       "</g>\n",
       "<!-- Tuberculosis -->\n",
       "<g id=\"node5\" class=\"node\"><title>Tuberculosis</title>\n",
       "<ellipse fill=\"none\" stroke=\"black\" cx=\"263.446\" cy=\"-162\" rx=\"55.7903\" ry=\"18\"/>\n",
       "<text text-anchor=\"middle\" x=\"263.446\" y=\"-158.3\" font-family=\"Times,serif\" font-size=\"14.00\">Tuberculosis</text>\n",
       "</g>\n",
       "<!-- Tuberculosis&#45;&gt;Either -->\n",
       "<g id=\"edge4\" class=\"edge\"><title>Tuberculosis&#45;&gt;Either</title>\n",
       "<path fill=\"none\" stroke=\"black\" d=\"M237.842,-145.811C219.585,-134.981 194.967,-120.377 175.733,-108.967\"/>\n",
       "<polygon fill=\"black\" stroke=\"black\" points=\"177.432,-105.905 167.046,-103.814 173.861,-111.926 177.432,-105.905\"/>\n",
       "</g>\n",
       "<!-- Lung&#45;Cancer -->\n",
       "<g id=\"node6\" class=\"node\"><title>Lung&#45;Cancer</title>\n",
       "<ellipse fill=\"none\" stroke=\"black\" cx=\"132.446\" cy=\"-162\" rx=\"57.3905\" ry=\"18\"/>\n",
       "<text text-anchor=\"middle\" x=\"132.446\" y=\"-158.3\" font-family=\"Times,serif\" font-size=\"14.00\">Lung&#45;Cancer</text>\n",
       "</g>\n",
       "<!-- Lung&#45;Cancer&#45;&gt;Either -->\n",
       "<g id=\"edge5\" class=\"edge\"><title>Lung&#45;Cancer&#45;&gt;Either</title>\n",
       "<path fill=\"none\" stroke=\"black\" d=\"M135.659,-143.697C137.092,-135.983 138.813,-126.712 140.411,-118.112\"/>\n",
       "<polygon fill=\"black\" stroke=\"black\" points=\"143.884,-118.575 142.269,-108.104 137.002,-117.297 143.884,-118.575\"/>\n",
       "</g>\n",
       "<!-- Smoke -->\n",
       "<g id=\"node7\" class=\"node\"><title>Smoke</title>\n",
       "<ellipse fill=\"none\" stroke=\"black\" cx=\"89.4458\" cy=\"-234\" rx=\"35.9954\" ry=\"18\"/>\n",
       "<text text-anchor=\"middle\" x=\"89.4458\" y=\"-230.3\" font-family=\"Times,serif\" font-size=\"14.00\">Smoke</text>\n",
       "</g>\n",
       "<!-- Smoke&#45;&gt;Bronchitis -->\n",
       "<g id=\"edge6\" class=\"edge\"><title>Smoke&#45;&gt;Bronchitis</title>\n",
       "<path fill=\"none\" stroke=\"black\" d=\"M81.1051,-216.146C76.2911,-205.892 70.4222,-192.419 66.4458,-180 59.9116,-159.593 54.9681,-135.83 51.7639,-117.993\"/>\n",
       "<polygon fill=\"black\" stroke=\"black\" points=\"55.1876,-117.251 50.0371,-107.992 48.2896,-118.442 55.1876,-117.251\"/>\n",
       "</g>\n",
       "<!-- Smoke&#45;&gt;Lung&#45;Cancer -->\n",
       "<g id=\"edge7\" class=\"edge\"><title>Smoke&#45;&gt;Lung&#45;Cancer</title>\n",
       "<path fill=\"none\" stroke=\"black\" d=\"M99.6362,-216.411C104.755,-208.077 111.07,-197.797 116.789,-188.488\"/>\n",
       "<polygon fill=\"black\" stroke=\"black\" points=\"119.778,-190.309 122.03,-179.956 113.813,-186.645 119.778,-190.309\"/>\n",
       "</g>\n",
       "<!-- Visited&#45;Asian&#45;TB&#45;HRA -->\n",
       "<g id=\"node8\" class=\"node\"><title>Visited&#45;Asian&#45;TB&#45;HRA</title>\n",
       "<ellipse fill=\"none\" stroke=\"black\" cx=\"238.446\" cy=\"-234\" rx=\"94.7833\" ry=\"18\"/>\n",
       "<text text-anchor=\"middle\" x=\"238.446\" y=\"-230.3\" font-family=\"Times,serif\" font-size=\"14.00\">Visited&#45;Asian&#45;TB&#45;HRA</text>\n",
       "</g>\n",
       "</g>\n",
       "</svg>\n"
      ],
      "text/plain": [
       "<graphviz.files.Source at 0x7ff44b82b5c0>"
      ]
     },
     "execution_count": 22,
     "metadata": {},
     "output_type": "execute_result"
    }
   ],
   "source": [
    "Source(open(learned_dot).read())"
   ]
  },
  {
   "cell_type": "markdown",
   "metadata": {},
   "source": [
    "Results are sensitive to \"alpha\""
   ]
  },
  {
   "cell_type": "markdown",
   "metadata": {},
   "source": [
    "#### bnlearn"
   ]
  },
  {
   "cell_type": "code",
   "execution_count": 23,
   "metadata": {
    "collapsed": false
   },
   "outputs": [],
   "source": [
    "%%capture  bnlearn_iamb_time\n",
    "%time %R bn <- iamb(states_df);"
   ]
  },
  {
   "cell_type": "code",
   "execution_count": 24,
   "metadata": {
    "collapsed": false
   },
   "outputs": [
    {
     "name": "stdout",
     "output_type": "stream",
     "text": [
      "CPU times: user 10.9 ms, sys: 11.8 ms, total: 22.7 ms\n",
      "Wall time: 24.2 ms\n",
      "\n"
     ]
    }
   ],
   "source": [
    "print(bnlearn_iamb_time)"
   ]
  },
  {
   "cell_type": "code",
   "execution_count": 25,
   "metadata": {
    "collapsed": false
   },
   "outputs": [
    {
     "data": {
      "image/png": "[encoded data removed]"
     },
     "metadata": {},
     "output_type": "display_data"
    }
   ],
   "source": [
    "%R par(mfrow = c(1,1))\n",
    "%R graphviz.plot(bn, shape = \"ellipse\", main = \"Incremental Association Markov Blanket(IAMB)\");"
   ]
  },
  {
   "cell_type": "markdown",
   "metadata": {},
   "source": [
    "## Score based learning\n",
    "### Hiil Climbing with BIC score\n",
    "#### QFog"
   ]
  },
  {
   "cell_type": "code",
   "execution_count": 26,
   "metadata": {
    "collapsed": false
   },
   "outputs": [],
   "source": [
    "%%capture qfog_hc_bic_time\n",
    "score_type = 'BIC'\n",
    "max_num_mtries = 30\n",
    "ess = 1.0 \n",
    "%time lnr = HillClimbingLner(states_df, score_type, max_num_mtries, ess)"
   ]
  },
  {
   "cell_type": "code",
   "execution_count": 27,
   "metadata": {
    "collapsed": false
   },
   "outputs": [
    {
     "name": "stdout",
     "output_type": "stream",
     "text": [
      "CPU times: user 2.6 s, sys: 189 us, total: 2.6 s\n",
      "Wall time: 2.61 s\n",
      "\n"
     ]
    }
   ],
   "source": [
    "print(qfog_hc_bic_time)"
   ]
  },
  {
   "cell_type": "code",
   "execution_count": 28,
   "metadata": {
    "collapsed": true
   },
   "outputs": [],
   "source": [
    "lnr.bnet.write_dot(learned_dot) # write BNet to .dot file"
   ]
  },
  {
   "cell_type": "code",
   "execution_count": 29,
   "metadata": {
    "collapsed": false
   },
   "outputs": [
    {
     "data": {
      "image/svg+xml": [
       "<?xml version=\"1.0\" encoding=\"UTF-8\" standalone=\"no\"?>\n",
       "<!DOCTYPE svg PUBLIC \"-//W3C//DTD SVG 1.1//EN\"\n",
       " \"http://www.w3.org/Graphics/SVG/1.1/DTD/svg11.dtd\">\n",
       "<!-- Generated by graphviz version 2.38.0 (20140413.2041)\n",
       " -->\n",
       "<!-- Pages: 1 -->\n",
       "<svg width=\"460pt\" height=\"260pt\"\n",
       " viewBox=\"0.00 0.00 460.09 260.00\" xmlns=\"http://www.w3.org/2000/svg\" xmlns:xlink=\"http://www.w3.org/1999/xlink\">\n",
       "<g id=\"graph0\" class=\"graph\" transform=\"scale(1 1) rotate(0) translate(4 256)\">\n",
       "<polygon fill=\"white\" stroke=\"none\" points=\"-4,4 -4,-256 456.087,-256 456.087,4 -4,4\"/>\n",
       "<!-- X&#45;Ray -->\n",
       "<g id=\"node1\" class=\"node\"><title>X&#45;Ray</title>\n",
       "<ellipse fill=\"none\" stroke=\"black\" cx=\"157.195\" cy=\"-90\" rx=\"34.394\" ry=\"18\"/>\n",
       "<text text-anchor=\"middle\" x=\"157.195\" y=\"-86.3\" font-family=\"Times,serif\" font-size=\"14.00\">X&#45;Ray</text>\n",
       "</g>\n",
       "<!-- Visited&#45;Asian&#45;TB&#45;HRA -->\n",
       "<g id=\"node2\" class=\"node\"><title>Visited&#45;Asian&#45;TB&#45;HRA</title>\n",
       "<ellipse fill=\"none\" stroke=\"black\" cx=\"357.195\" cy=\"-234\" rx=\"94.7833\" ry=\"18\"/>\n",
       "<text text-anchor=\"middle\" x=\"357.195\" y=\"-230.3\" font-family=\"Times,serif\" font-size=\"14.00\">Visited&#45;Asian&#45;TB&#45;HRA</text>\n",
       "</g>\n",
       "<!-- Smoke -->\n",
       "<g id=\"node3\" class=\"node\"><title>Smoke</title>\n",
       "<ellipse fill=\"none\" stroke=\"black\" cx=\"57.1949\" cy=\"-162\" rx=\"35.9954\" ry=\"18\"/>\n",
       "<text text-anchor=\"middle\" x=\"57.1949\" y=\"-158.3\" font-family=\"Times,serif\" font-size=\"14.00\">Smoke</text>\n",
       "</g>\n",
       "<!-- Bronchitis -->\n",
       "<g id=\"node4\" class=\"node\"><title>Bronchitis</title>\n",
       "<ellipse fill=\"none\" stroke=\"black\" cx=\"57.1949\" cy=\"-90\" rx=\"47.3916\" ry=\"18\"/>\n",
       "<text text-anchor=\"middle\" x=\"57.1949\" y=\"-86.3\" font-family=\"Times,serif\" font-size=\"14.00\">Bronchitis</text>\n",
       "</g>\n",
       "<!-- Smoke&#45;&gt;Bronchitis -->\n",
       "<g id=\"edge1\" class=\"edge\"><title>Smoke&#45;&gt;Bronchitis</title>\n",
       "<path fill=\"none\" stroke=\"black\" d=\"M57.1949,-143.697C57.1949,-135.983 57.1949,-126.712 57.1949,-118.112\"/>\n",
       "<polygon fill=\"black\" stroke=\"black\" points=\"60.695,-118.104 57.1949,-108.104 53.695,-118.104 60.695,-118.104\"/>\n",
       "</g>\n",
       "<!-- Dyspnea -->\n",
       "<g id=\"node8\" class=\"node\"><title>Dyspnea</title>\n",
       "<ellipse fill=\"none\" stroke=\"black\" cx=\"138.195\" cy=\"-18\" rx=\"41.6928\" ry=\"18\"/>\n",
       "<text text-anchor=\"middle\" x=\"138.195\" y=\"-14.3\" font-family=\"Times,serif\" font-size=\"14.00\">Dyspnea</text>\n",
       "</g>\n",
       "<!-- Bronchitis&#45;&gt;Dyspnea -->\n",
       "<g id=\"edge2\" class=\"edge\"><title>Bronchitis&#45;&gt;Dyspnea</title>\n",
       "<path fill=\"none\" stroke=\"black\" d=\"M75.5751,-73.1159C86.6024,-63.5861 100.786,-51.3289 112.865,-40.8903\"/>\n",
       "<polygon fill=\"black\" stroke=\"black\" points=\"115.167,-43.527 120.444,-34.3402 110.589,-38.2307 115.167,-43.527\"/>\n",
       "</g>\n",
       "<!-- Tuberculosis -->\n",
       "<g id=\"node5\" class=\"node\"><title>Tuberculosis</title>\n",
       "<ellipse fill=\"none\" stroke=\"black\" cx=\"188.195\" cy=\"-234\" rx=\"55.7903\" ry=\"18\"/>\n",
       "<text text-anchor=\"middle\" x=\"188.195\" y=\"-230.3\" font-family=\"Times,serif\" font-size=\"14.00\">Tuberculosis</text>\n",
       "</g>\n",
       "<!-- Either -->\n",
       "<g id=\"node6\" class=\"node\"><title>Either</title>\n",
       "<ellipse fill=\"none\" stroke=\"black\" cx=\"172.195\" cy=\"-162\" rx=\"32.4942\" ry=\"18\"/>\n",
       "<text text-anchor=\"middle\" x=\"172.195\" y=\"-158.3\" font-family=\"Times,serif\" font-size=\"14.00\">Either</text>\n",
       "</g>\n",
       "<!-- Tuberculosis&#45;&gt;Either -->\n",
       "<g id=\"edge3\" class=\"edge\"><title>Tuberculosis&#45;&gt;Either</title>\n",
       "<path fill=\"none\" stroke=\"black\" d=\"M184.24,-215.697C182.477,-207.983 180.358,-198.712 178.392,-190.112\"/>\n",
       "<polygon fill=\"black\" stroke=\"black\" points=\"181.745,-189.073 176.104,-180.104 174.921,-190.633 181.745,-189.073\"/>\n",
       "</g>\n",
       "<!-- Either&#45;&gt;X&#45;Ray -->\n",
       "<g id=\"edge4\" class=\"edge\"><title>Either&#45;&gt;X&#45;Ray</title>\n",
       "<path fill=\"none\" stroke=\"black\" d=\"M168.564,-144.055C166.894,-136.261 164.871,-126.822 162.998,-118.079\"/>\n",
       "<polygon fill=\"black\" stroke=\"black\" points=\"166.414,-117.32 160.897,-108.275 159.57,-118.787 166.414,-117.32\"/>\n",
       "</g>\n",
       "<!-- Either&#45;&gt;Dyspnea -->\n",
       "<g id=\"edge5\" class=\"edge\"><title>Either&#45;&gt;Dyspnea</title>\n",
       "<path fill=\"none\" stroke=\"black\" d=\"M184.099,-145.117C196.15,-126.957 211.515,-96.5684 200.195,-72 193.996,-58.5459 182.511,-47.2374 171.094,-38.5676\"/>\n",
       "<polygon fill=\"black\" stroke=\"black\" points=\"173.05,-35.6638 162.87,-32.728 168.997,-41.3713 173.05,-35.6638\"/>\n",
       "</g>\n",
       "<!-- Lung&#45;Cancer -->\n",
       "<g id=\"node7\" class=\"node\"><title>Lung&#45;Cancer</title>\n",
       "<ellipse fill=\"none\" stroke=\"black\" cx=\"57.1949\" cy=\"-234\" rx=\"57.3905\" ry=\"18\"/>\n",
       "<text text-anchor=\"middle\" x=\"57.1949\" y=\"-230.3\" font-family=\"Times,serif\" font-size=\"14.00\">Lung&#45;Cancer</text>\n",
       "</g>\n",
       "<!-- Lung&#45;Cancer&#45;&gt;Smoke -->\n",
       "<g id=\"edge7\" class=\"edge\"><title>Lung&#45;Cancer&#45;&gt;Smoke</title>\n",
       "<path fill=\"none\" stroke=\"black\" d=\"M57.1949,-215.697C57.1949,-207.983 57.1949,-198.712 57.1949,-190.112\"/>\n",
       "<polygon fill=\"black\" stroke=\"black\" points=\"60.695,-190.104 57.1949,-180.104 53.695,-190.104 60.695,-190.104\"/>\n",
       "</g>\n",
       "<!-- Lung&#45;Cancer&#45;&gt;Either -->\n",
       "<g id=\"edge6\" class=\"edge\"><title>Lung&#45;Cancer&#45;&gt;Either</title>\n",
       "<path fill=\"none\" stroke=\"black\" d=\"M82.4322,-217.638C100.046,-206.917 123.632,-192.56 142.207,-181.253\"/>\n",
       "<polygon fill=\"black\" stroke=\"black\" points=\"144.153,-184.167 150.875,-175.977 140.513,-178.187 144.153,-184.167\"/>\n",
       "</g>\n",
       "</g>\n",
       "</svg>\n"
      ],
      "text/plain": [
       "<graphviz.files.Source at 0x7ff44b7eaac8>"
      ]
     },
     "execution_count": 29,
     "metadata": {},
     "output_type": "execute_result"
    }
   ],
   "source": [
    "Source(open(learned_dot).read())"
   ]
  },
  {
   "cell_type": "markdown",
   "metadata": {},
   "source": [
    "#### bnlearn"
   ]
  },
  {
   "cell_type": "markdown",
   "metadata": {},
   "source": [
    "In bnlearn, the default score is **BIC** (Bayesian Information Criterion) for both discrete and continuous data sets"
   ]
  },
  {
   "cell_type": "code",
   "execution_count": 30,
   "metadata": {
    "collapsed": false
   },
   "outputs": [],
   "source": [
    "%%capture bnlearn_hc_bic_time\n",
    "%time %R bn <- hc(states_df);"
   ]
  },
  {
   "cell_type": "code",
   "execution_count": 31,
   "metadata": {
    "collapsed": false
   },
   "outputs": [
    {
     "name": "stdout",
     "output_type": "stream",
     "text": [
      "CPU times: user 18.9 ms, sys: 4.06 ms, total: 23 ms\n",
      "Wall time: 23.2 ms\n",
      "\n"
     ]
    }
   ],
   "source": [
    "print(bnlearn_hc_bic_time)"
   ]
  },
  {
   "cell_type": "code",
   "execution_count": 32,
   "metadata": {
    "collapsed": false
   },
   "outputs": [
    {
     "data": {
      "image/png": "[encoded data removed]"
     },
     "metadata": {},
     "output_type": "display_data"
    }
   ],
   "source": [
    "%R par(mfrow = c(1,1))\n",
    "%R graphviz.plot(bn, shape = \"ellipse\", main = \"Hill-Climbing-BIC\");"
   ]
  },
  {
   "cell_type": "markdown",
   "metadata": {},
   "source": [
    "## Summary of Running Times"
   ]
  },
  {
   "cell_type": "code",
   "execution_count": 33,
   "metadata": {
    "collapsed": false
   },
   "outputs": [],
   "source": [
    "%%bash\n",
    "rm -f examples_cbnets/tempo.dot"
   ]
  },
  {
   "cell_type": "code",
   "execution_count": 34,
   "metadata": {
    "collapsed": false,
    "scrolled": false
   },
   "outputs": [
    {
     "name": "stdout",
     "output_type": "stream",
     "text": [
      "-------------Grow-Shrink:\n",
      "QFog: CPU times: user 1.42 s, sys: 4.19 ms, total: 1.43 s\n",
      "Wall time: 1.43 s\n",
      "\n",
      "bnlearn: CPU times: user 37 ms, sys: 47 us, total: 37 ms\n",
      "Wall time: 37.2 ms\n",
      "\n",
      "-------------IAMB\n",
      "QFog: "
     ]
    },
    {
     "name": "stdout",
     "output_type": "stream",
     "text": [
      "CPU times: user 1.29 s, sys: 207 us, total: 1.29 s\n",
      "Wall time: 1.29 s\n",
      "\n",
      "bnlearn: CPU times: user 10.9 ms, sys: 11.8 ms, total: 22.7 ms\n",
      "Wall time: 24.2 ms\n",
      "\n",
      "-------------Hill Climbing with BIC score:\n",
      "QFog: CPU times: user 2.6 s, sys: 189 us, total: 2.6 s\n",
      "Wall time: 2.61 s\n",
      "\n",
      "bnlearn: CPU times: user 18.9 ms, sys: 4.06 ms, total: 23 ms\n",
      "Wall time: 23.2 ms\n",
      "\n"
     ]
    }
   ],
   "source": [
    "print(\"-------------Grow-Shrink:\")\n",
    "print(\"QFog:\", qfog_gs_time)\n",
    "print(\"bnlearn:\", bnlearn_gs_time)\n",
    "\n",
    "print(\"-------------IAMB\")\n",
    "print(\"QFog:\", qfog_iamb_time)\n",
    "print(\"bnlearn:\", bnlearn_iamb_time)\n",
    "\n",
    "print(\"-------------Hill Climbing with BIC score:\")\n",
    "print(\"QFog:\", qfog_hc_bic_time)\n",
    "print(\"bnlearn:\", bnlearn_hc_bic_time)"
   ]
  }
 ],
 "metadata": {
  "anaconda-cloud": {},
  "kernelspec": {
   "display_name": "Python 3",
   "language": "python",
   "name": "python3"
  },
  "language_info": {
   "codemirror_mode": {
    "name": "ipython",
    "version": 3
   },
   "file_extension": ".py",
   "mimetype": "text/x-python",
   "name": "python",
   "nbconvert_exporter": "python",
   "pygments_lexer": "ipython3",
   "version": "3.6.0"
  },
  "toc": {
   "colors": {
    "hover_highlight": "#DAA520",
    "running_highlight": "#FF0000",
    "selected_highlight": "#FFD700"
   },
   "moveMenuLeft": true,
   "nav_menu": {
    "height": "210px",
    "width": "252px"
   },
   "navigate_menu": true,
   "number_sections": true,
   "sideBar": false,
   "threshold": "3",
   "toc_cell": true,
   "toc_position": {
    "height": "283px",
    "left": "1px",
    "right": "20px",
    "top": "107px",
    "width": "212px"
   },
   "toc_section_display": "none",
   "toc_window_display": true
  }
 },
 "nbformat": 4,
 "nbformat_minor": 1
}
